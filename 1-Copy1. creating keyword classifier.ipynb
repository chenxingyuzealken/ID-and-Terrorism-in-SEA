{
 "cells": [
  {
   "cell_type": "markdown",
   "metadata": {},
   "source": [
    "We are going to do the following\n",
    "\n",
    "Check the scores for keywords"
   ]
  },
  {
   "cell_type": "code",
   "execution_count": 24,
   "metadata": {},
   "outputs": [],
   "source": [
    "import pandas as pd\n",
    "from IPython.display import display\n",
    "from nltk.corpus import stopwords\n",
    "from nltk.stem.porter import PorterStemmer\n",
    "porter_stemmer = PorterStemmer()\n",
    "from nltk import word_tokenize\n",
    "\n",
    "import re\n",
    "stop = stopwords.words('english')\n",
    "\n",
    "\n",
    "#keywords\n",
    "keywords = ['false','misleading','allegation','hoax','rumour','rumor','denied','inaccurate','dispute','claimed']\n",
    "mis_dis_kw = list(map(porter_stemmer.stem,keywords))\n",
    "\n",
    "si_kw = ['retaliate','fear','hate','tension','burn','forc','threat','protest','terrorist']\n",
    "si_kw = list(map(porter_stemmer.stem,si_kw))\n",
    "\n",
    "ct_keywords = ['plot','conspiracy']\n",
    "ct_kw = list(map(porter_stemmer.stem,ct_keywords))\n",
    "\n",
    "r_keywords = ['hoax','rumour','rumor']\n",
    "r_kw = list(map(porter_stemmer.stem,r_keywords))\n",
    "\n",
    "def keyword_score(p,kw):\n",
    "    kwa_score = 0\n",
    "    for i in kw:\n",
    "        kwa_score += len(re.findall(i,p))\n",
    "    return kwa_score"
   ]
  },
  {
   "cell_type": "code",
   "execution_count": 25,
   "metadata": {},
   "outputs": [
    {
     "name": "stdout",
     "output_type": "stream",
     "text": [
      "['plot', 'conspiraci']\n",
      "['hoax', 'rumour', 'rumor']\n"
     ]
    }
   ],
   "source": [
    "print(ct_kw)\n",
    "print(r_kw)"
   ]
  },
  {
   "cell_type": "markdown",
   "metadata": {},
   "source": [
    "split to 3 sets change to lower case, remove punctuation and remove stopwords"
   ]
  },
  {
   "cell_type": "code",
   "execution_count": 26,
   "metadata": {},
   "outputs": [],
   "source": [
    "import glob\n",
    "\n",
    "path = r'****\2.Datasets\\h5 files'\n",
    "\n",
    "all_files = glob.glob(path + \"/*.h5\")\n",
    "\n",
    "li = []\n",
    "\n",
    "for filename in all_files:\n",
    "    li.append(filename)"
   ]
  },
  {
   "cell_type": "code",
   "execution_count": 27,
   "metadata": {},
   "outputs": [
    {
     "data": {
      "text/plain": [
       "0    https://www.news.com.au/world/breaking-news/tw...\n",
       "1                                         201501010014\n",
       "2    [Skip to:Main ContentSite NavigationSite foote...\n",
       "Name: 4, dtype: object"
      ]
     },
     "execution_count": 27,
     "metadata": {},
     "output_type": "execute_result"
    }
   ],
   "source": [
    "pd.read_pickle(li[0])#.drop('headline',axis=1).head()"
   ]
  },
  {
   "cell_type": "code",
   "execution_count": 28,
   "metadata": {},
   "outputs": [],
   "source": [
    "from nltk.stem.porter import PorterStemmer\n",
    "\n",
    "stop = stopwords.words('english')\n",
    "porter_stemmer = PorterStemmer()\n",
    "\n",
    "def mapstem(lst):\n",
    "    return [porter_stemmer.stem(i) for i in lst]\n",
    "\n",
    "#takes a series and processes the text\n",
    "def txt_preprocess(series):\n",
    "    #convert to df\n",
    "    df = series.to_frame().transpose()\n",
    "    df.columns=['gtd_id','link','txts']\n",
    "    #melting list\n",
    "    df = df.txts.apply(pd.Series)\\\n",
    "    .merge(df, right_index = True, left_index = True)\\\n",
    "    .drop([\"txts\"], axis = 1)\\\n",
    "    .melt(id_vars = ['link','gtd_id'], value_name = \"txt\") \\\n",
    "    .drop(\"variable\", axis = 1) \\\n",
    "    .drop_duplicates()\\\n",
    "    .dropna()\n",
    "    #display(df.tail())\n",
    "    #display(type(df['txt'][0]))\n",
    "    \n",
    "    col = 'txt'\n",
    "    #lower case\n",
    "    df[col] = df[col].apply(lambda x: \" \".join(x.lower() for x in x.split()))\n",
    "    #remove \"\\n\"\n",
    "    df = df.replace('\\n',' ', regex=True)\n",
    "    #remove punctuation\n",
    "    df[col] = df[col].str.replace('[^\\w\\s]','')\n",
    "    #remove stopwords\n",
    "    df[col] = df[col].apply(lambda x: \" \".join(x for x in x.split() if x not in stop))\n",
    "    \n",
    "    #tokenize words\n",
    "    df[col] = df[col].apply(word_tokenize)\n",
    "    #stem words\n",
    "    df[col] = df[col].apply(lambda x: mapstem(x))\n",
    "    #stitching\n",
    "    df[col] = df[col].apply(lambda x: ' '.join(x))\n",
    "    \n",
    "    return df\n",
    "\n",
    "#this method quite computationally expensive cos you are running things at o(n^2)\n",
    "def label_h5(h5):\n",
    "    #if data exists as a series\n",
    "    series=pd.read_pickle(h5)#.drop('headline',axis=1)\n",
    "    frame = txt_preprocess(series)\n",
    "    \n",
    "    #if data exists as a dataframe\n",
    "\n",
    "    df2 = pd.DataFrame()\n",
    "    for i in range(len(frame)):\n",
    "        txt= frame['txt'].iloc[i]\n",
    "        #print('score: '+ str(keyword_score(txt,mis_dis_kw)))\n",
    "        df2a = pd.DataFrame([keyword_score(txt,ct_kw)])\n",
    "        df2a.columns=['ct_score']\n",
    "        \n",
    "        df2= pd.concat([df2,df2a], sort=True) #sort=True to silence warnings\n",
    "    df2 = df2.reset_index(drop=True)\n",
    "    \n",
    "    df3 = pd.DataFrame()\n",
    "    for i in range(len(frame)):\n",
    "        txt= frame['txt'].iloc[i]\n",
    "        df3a= pd.DataFrame([keyword_score(txt,r_kw)])\n",
    "        df3a.columns=['r_score']\n",
    "        df3= pd.concat([df3,df3a], sort=True)\n",
    "    df3 = df3.reset_index(drop=True)\n",
    "\n",
    "    \n",
    "    frame=pd.concat([df2,df3, frame], axis=1, sort=True)\n",
    "    frame = frame.dropna()\n",
    "    \n",
    "    return frame"
   ]
  },
  {
   "cell_type": "code",
   "execution_count": 31,
   "metadata": {},
   "outputs": [
    {
     "data": {
      "text/plain": [
       "13594"
      ]
     },
     "execution_count": 31,
     "metadata": {},
     "output_type": "execute_result"
    }
   ],
   "source": [
    "len(li)"
   ]
  },
  {
   "cell_type": "code",
   "execution_count": 42,
   "metadata": {},
   "outputs": [
    {
     "name": "stdout",
     "output_type": "stream",
     "text": [
      "13593nly use .str accessor with string values, which use np.object_ dtype in pandas\r"
     ]
    }
   ],
   "source": [
    "def maxcol(col,frame):\n",
    "    val = pd.DataFrame([frame[col].max()])\n",
    "    val.columns=[col]\n",
    "    #print(val)\n",
    "    #print('id: '+ str(frame[col].idxmax()))\n",
    "    txt = pd.DataFrame([frame['txt'].iloc[frame[col].idxmax()]])\n",
    "    txt.columns=[col+' text']\n",
    "    #print(txt)\n",
    "    maximum_col = pd.concat([val,txt],axis=1)\n",
    "    return maximum_col\n",
    "\n",
    "for i in range(5000,13594):\n",
    "    try:\n",
    "        print(i,end=\"\\r\")\n",
    "        d=label_h5(li[i])\n",
    "        ndf = pd.DataFrame([d['ct_score'].max(),\n",
    "                            d['r_score'].max(),\n",
    "                            d['link'][0],d['gtd_id'][0]]).transpose()\n",
    "        ndf = pd.concat([maxcol('ct_score',d),maxcol('r_score',d),ndf],axis=1)\n",
    "        #ndf.columns=['ct_score', 'r_score', 'link', 'gtd_id']\n",
    "\n",
    "        ndf.to_csv('keyword_score_2.csv',mode='a',header=None)\n",
    "    except Exception as e:\n",
    "        print(e,end='\\r')\n",
    "        continue"
   ]
  },
  {
   "cell_type": "code",
   "execution_count": null,
   "metadata": {},
   "outputs": [],
   "source": []
  }
 ],
 "metadata": {
  "kernelspec": {
   "display_name": "Python 3",
   "language": "python",
   "name": "python3"
  },
  "language_info": {
   "codemirror_mode": {
    "name": "ipython",
    "version": 3
   },
   "file_extension": ".py",
   "mimetype": "text/x-python",
   "name": "python",
   "nbconvert_exporter": "python",
   "pygments_lexer": "ipython3",
   "version": "3.8.5"
  }
 },
 "nbformat": 4,
 "nbformat_minor": 2
}
