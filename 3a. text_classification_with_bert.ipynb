{
 "cells": [
  {
   "cell_type": "markdown",
   "metadata": {
    "id": "PGnlRWvkY-2c"
   },
   "source": [
    "# MultiClass Text Classification with BERT"
   ]
  },
  {
   "cell_type": "markdown",
   "metadata": {
    "id": "wmj22-TcZMef"
   },
   "source": [
    "## Setup\n",
    "\n",
    "We'll need [the Transformers library](https://huggingface.co/transformers/) by Hugging Face:"
   ]
  },
  {
   "cell_type": "code",
   "execution_count": 1,
   "metadata": {
    "colab": {
     "base_uri": "https://localhost:8080/"
    },
    "id": "83iQi9KXiMaR",
    "outputId": "1c089f1d-0078-4499-e5e4-3697f95aa30e"
   },
   "outputs": [],
   "source": [
    "#from google.colab import drive\n",
    "#drive.mount(\"/content/gdrive\")"
   ]
  },
  {
   "cell_type": "code",
   "execution_count": 2,
   "metadata": {
    "id": "Jjsbi1u3QFEM"
   },
   "outputs": [],
   "source": [
    "#!pip install -qq transformers\n",
    "#!pip install torch===1.7.1 torchvision===0.8.2 torchaudio===0.7.2 -f https://download.pytorch.org/whl/torch_stable.html\n"
   ]
  },
  {
   "cell_type": "code",
   "execution_count": 3,
   "metadata": {
    "colab": {
     "base_uri": "https://localhost:8080/"
    },
    "id": "w68CZpOwFoly",
    "outputId": "505dba27-4f0b-4d77-b1c2-27ea8b677dbd"
   },
   "outputs": [],
   "source": [
    "#@title Setup & Config\n",
    "\n",
    "\n",
    "import numpy as np\n",
    "import pandas as pd\n",
    "import seaborn as sns\n",
    "from pylab import rcParams\n",
    "import matplotlib.pyplot as plt\n",
    "from matplotlib import rc\n",
    "from sklearn.model_selection import train_test_split\n",
    "from sklearn.metrics import confusion_matrix, classification_report\n",
    "from collections import defaultdict\n",
    "from textwrap import wrap\n",
    "\n",
    "from torch import nn, optim\n",
    "from torch.utils.data import Dataset, DataLoader\n",
    "import torch.nn.functional as F\n",
    "\n",
    "from tqdm import tqdm\n",
    "\n",
    "\n"
   ]
  },
  {
   "cell_type": "code",
   "execution_count": 4,
   "metadata": {},
   "outputs": [],
   "source": [
    "import transformers\n",
    "from transformers import BertModel, BertForSequenceClassification, BertTokenizer, AdamW, get_linear_schedule_with_warmup\n",
    "import torch"
   ]
  },
  {
   "cell_type": "code",
   "execution_count": 5,
   "metadata": {},
   "outputs": [
    {
     "data": {
      "text/plain": [
       "device(type='cuda', index=0)"
      ]
     },
     "execution_count": 5,
     "metadata": {},
     "output_type": "execute_result"
    }
   ],
   "source": [
    "%matplotlib inline\n",
    "%config InlineBackend.figure_format='retina'\n",
    "\n",
    "sns.set(style='whitegrid', palette='muted', font_scale=1.2)\n",
    "\n",
    "HAPPY_COLORS_PALETTE = [\"#01BEFE\", \"#FFDD00\", \"#FF7D00\", \"#FF006D\", \"#ADFF02\", \"#8F00FF\"]\n",
    "\n",
    "sns.set_palette(sns.color_palette(HAPPY_COLORS_PALETTE))\n",
    "\n",
    "rcParams['figure.figsize'] = 12, 8\n",
    "\n",
    "RANDOM_SEED = 42\n",
    "np.random.seed(RANDOM_SEED)\n",
    "torch.manual_seed(RANDOM_SEED)\n",
    "\n",
    "#clearing cuda cache\n",
    "torch.cuda.empty_cache()\n",
    "\n",
    "\n",
    "device = torch.device(\"cuda:0\" if torch.cuda.is_available() else \"cpu\") #gpu not good enough\n",
    "#device = torch.device(\"cpu\") #change runtime type to GPU to be fast\n",
    "\n",
    "device"
   ]
  },
  {
   "cell_type": "markdown",
   "metadata": {
    "id": "ufzPdoTtNikq"
   },
   "source": [
    "## Data Exploration\n",
    "\n",
    "We'll load the reviews dataset:"
   ]
  },
  {
   "cell_type": "code",
   "execution_count": 6,
   "metadata": {},
   "outputs": [],
   "source": [
    "#df4.to_excel('manualtopiclabels_absa.xlsx')"
   ]
  },
  {
   "cell_type": "code",
   "execution_count": 7,
   "metadata": {},
   "outputs": [],
   "source": [
    "df = pd.read_excel('08052019_coded_cases_training_data.xlsx')"
   ]
  },
  {
   "cell_type": "code",
   "execution_count": 8,
   "metadata": {},
   "outputs": [],
   "source": [
    "df.drop_duplicates().reset_index()\n",
    "df = df.dropna(subset=['Mis_Dis text'])"
   ]
  },
  {
   "cell_type": "code",
   "execution_count": 9,
   "metadata": {},
   "outputs": [],
   "source": [
    "d = {'Conspiracy Theory':'ID', 'Rumour':'ID', 'Smear':'ID', 'other':'non ID'}\n",
    "df['ID'] = df.Mis_Dis.replace(d)"
   ]
  },
  {
   "cell_type": "code",
   "execution_count": 10,
   "metadata": {
    "id": "Vh7rM4GPj18Y"
   },
   "outputs": [],
   "source": [
    "df['rating'] = df.ID.factorize()[0]"
   ]
  },
  {
   "cell_type": "code",
   "execution_count": 11,
   "metadata": {
    "colab": {
     "base_uri": "https://localhost:8080/",
     "height": 402
    },
    "id": "HgDHDLkDQ1J4",
    "outputId": "d4232bc2-70b8-425f-80b4-0df249b2a492"
   },
   "outputs": [
    {
     "data": {
      "text/html": [
       "<div>\n",
       "<style scoped>\n",
       "    .dataframe tbody tr th:only-of-type {\n",
       "        vertical-align: middle;\n",
       "    }\n",
       "\n",
       "    .dataframe tbody tr th {\n",
       "        vertical-align: top;\n",
       "    }\n",
       "\n",
       "    .dataframe thead th {\n",
       "        text-align: right;\n",
       "    }\n",
       "</style>\n",
       "<table border=\"1\" class=\"dataframe\">\n",
       "  <thead>\n",
       "    <tr style=\"text-align: right;\">\n",
       "      <th></th>\n",
       "      <th>case</th>\n",
       "      <th>link</th>\n",
       "      <th>Mis_Dis</th>\n",
       "      <th>Mis_Dis text</th>\n",
       "      <th>Social_Impact</th>\n",
       "      <th>Social_Impact text</th>\n",
       "      <th>observed behaviours</th>\n",
       "      <th>observed behaviours text</th>\n",
       "      <th>note</th>\n",
       "      <th>ID</th>\n",
       "      <th>rating</th>\n",
       "    </tr>\n",
       "  </thead>\n",
       "  <tbody>\n",
       "    <tr>\n",
       "      <th>0</th>\n",
       "      <td>10</td>\n",
       "      <td>https://www.radionz.co.nz/international/pacifi...</td>\n",
       "      <td>Smear</td>\n",
       "      <td>Police said a group linked to the Free Papua M...</td>\n",
       "      <td>NaN</td>\n",
       "      <td>NaN</td>\n",
       "      <td>NaN</td>\n",
       "      <td>NaN</td>\n",
       "      <td>NaN</td>\n",
       "      <td>ID</td>\n",
       "      <td>0</td>\n",
       "    </tr>\n",
       "    <tr>\n",
       "      <th>1</th>\n",
       "      <td>10</td>\n",
       "      <td>https://www.radionz.co.nz/international/pacifi...</td>\n",
       "      <td>Smear</td>\n",
       "      <td>A resident from one of the villages, Banti, sa...</td>\n",
       "      <td>NaN</td>\n",
       "      <td>NaN</td>\n",
       "      <td>NaN</td>\n",
       "      <td>NaN</td>\n",
       "      <td>NaN</td>\n",
       "      <td>ID</td>\n",
       "      <td>0</td>\n",
       "    </tr>\n",
       "    <tr>\n",
       "      <th>2</th>\n",
       "      <td>10</td>\n",
       "      <td>http://www.humanrightspapua.org/news/23-2017/2...</td>\n",
       "      <td>Smear</td>\n",
       "      <td>The Indonesian military general Gatot Nurmanty...</td>\n",
       "      <td>Erode trust in authorities</td>\n",
       "      <td>Laurensius Kadepa, a member of the Papuan Prov...</td>\n",
       "      <td>NaN</td>\n",
       "      <td>NaN</td>\n",
       "      <td>Aggravation of the situation</td>\n",
       "      <td>ID</td>\n",
       "      <td>0</td>\n",
       "    </tr>\n",
       "    <tr>\n",
       "      <th>3</th>\n",
       "      <td>10</td>\n",
       "      <td>https://www.abc.net.au/news/2017-11-10/papua-s...</td>\n",
       "      <td>Smear</td>\n",
       "      <td>Hendrik Wanmang, who described himself as a co...</td>\n",
       "      <td>NaN</td>\n",
       "      <td>NaN</td>\n",
       "      <td>NaN</td>\n",
       "      <td>NaN</td>\n",
       "      <td>NaN</td>\n",
       "      <td>ID</td>\n",
       "      <td>0</td>\n",
       "    </tr>\n",
       "    <tr>\n",
       "      <th>4</th>\n",
       "      <td>3</td>\n",
       "      <td>https://news.mb.com.ph/2018/08/03/pnp-warns-pu...</td>\n",
       "      <td>Rumour</td>\n",
       "      <td>Following the series of bombing incidents, a c...</td>\n",
       "      <td>Inciting fear and panic</td>\n",
       "      <td>He urged the public to remain calm but vigilan...</td>\n",
       "      <td>NaN</td>\n",
       "      <td>NaN</td>\n",
       "      <td>NaN</td>\n",
       "      <td>ID</td>\n",
       "      <td>0</td>\n",
       "    </tr>\n",
       "    <tr>\n",
       "      <th>...</th>\n",
       "      <td>...</td>\n",
       "      <td>...</td>\n",
       "      <td>...</td>\n",
       "      <td>...</td>\n",
       "      <td>...</td>\n",
       "      <td>...</td>\n",
       "      <td>...</td>\n",
       "      <td>...</td>\n",
       "      <td>...</td>\n",
       "      <td>...</td>\n",
       "      <td>...</td>\n",
       "    </tr>\n",
       "    <tr>\n",
       "      <th>199</th>\n",
       "      <td>NaN</td>\n",
       "      <td>NaN</td>\n",
       "      <td>other</td>\n",
       "      <td>Mohd Firdaus Kamal Intdzam, who worked as a cl...</td>\n",
       "      <td>NaN</td>\n",
       "      <td>NaN</td>\n",
       "      <td>NaN</td>\n",
       "      <td>NaN</td>\n",
       "      <td>NaN</td>\n",
       "      <td>non ID</td>\n",
       "      <td>1</td>\n",
       "    </tr>\n",
       "    <tr>\n",
       "      <th>200</th>\n",
       "      <td>NaN</td>\n",
       "      <td>NaN</td>\n",
       "      <td>other</td>\n",
       "      <td>The Abu Sayyaf Group (ASG), based in the Phili...</td>\n",
       "      <td>NaN</td>\n",
       "      <td>NaN</td>\n",
       "      <td>NaN</td>\n",
       "      <td>NaN</td>\n",
       "      <td>NaN</td>\n",
       "      <td>non ID</td>\n",
       "      <td>1</td>\n",
       "    </tr>\n",
       "    <tr>\n",
       "      <th>201</th>\n",
       "      <td>NaN</td>\n",
       "      <td>NaN</td>\n",
       "      <td>other</td>\n",
       "      <td>Understanding money laundering and terrorist f...</td>\n",
       "      <td>NaN</td>\n",
       "      <td>NaN</td>\n",
       "      <td>NaN</td>\n",
       "      <td>NaN</td>\n",
       "      <td>NaN</td>\n",
       "      <td>non ID</td>\n",
       "      <td>1</td>\n",
       "    </tr>\n",
       "    <tr>\n",
       "      <th>202</th>\n",
       "      <td>NaN</td>\n",
       "      <td>NaN</td>\n",
       "      <td>other</td>\n",
       "      <td>Malaysia is not isolated from the threats pose...</td>\n",
       "      <td>NaN</td>\n",
       "      <td>NaN</td>\n",
       "      <td>NaN</td>\n",
       "      <td>NaN</td>\n",
       "      <td>NaN</td>\n",
       "      <td>non ID</td>\n",
       "      <td>1</td>\n",
       "    </tr>\n",
       "    <tr>\n",
       "      <th>203</th>\n",
       "      <td>NaN</td>\n",
       "      <td>NaN</td>\n",
       "      <td>other</td>\n",
       "      <td>At the international level, the Royal Malaysia...</td>\n",
       "      <td>NaN</td>\n",
       "      <td>NaN</td>\n",
       "      <td>NaN</td>\n",
       "      <td>NaN</td>\n",
       "      <td>NaN</td>\n",
       "      <td>non ID</td>\n",
       "      <td>1</td>\n",
       "    </tr>\n",
       "  </tbody>\n",
       "</table>\n",
       "<p>194 rows × 11 columns</p>\n",
       "</div>"
      ],
      "text/plain": [
       "    case                                               link Mis_Dis  \\\n",
       "0     10  https://www.radionz.co.nz/international/pacifi...   Smear   \n",
       "1     10  https://www.radionz.co.nz/international/pacifi...   Smear   \n",
       "2     10  http://www.humanrightspapua.org/news/23-2017/2...   Smear   \n",
       "3     10  https://www.abc.net.au/news/2017-11-10/papua-s...   Smear   \n",
       "4      3  https://news.mb.com.ph/2018/08/03/pnp-warns-pu...  Rumour   \n",
       "..   ...                                                ...     ...   \n",
       "199  NaN                                                NaN   other   \n",
       "200  NaN                                                NaN   other   \n",
       "201  NaN                                                NaN   other   \n",
       "202  NaN                                                NaN   other   \n",
       "203  NaN                                                NaN   other   \n",
       "\n",
       "                                          Mis_Dis text  \\\n",
       "0    Police said a group linked to the Free Papua M...   \n",
       "1    A resident from one of the villages, Banti, sa...   \n",
       "2    The Indonesian military general Gatot Nurmanty...   \n",
       "3    Hendrik Wanmang, who described himself as a co...   \n",
       "4    Following the series of bombing incidents, a c...   \n",
       "..                                                 ...   \n",
       "199  Mohd Firdaus Kamal Intdzam, who worked as a cl...   \n",
       "200  The Abu Sayyaf Group (ASG), based in the Phili...   \n",
       "201  Understanding money laundering and terrorist f...   \n",
       "202  Malaysia is not isolated from the threats pose...   \n",
       "203  At the international level, the Royal Malaysia...   \n",
       "\n",
       "                  Social_Impact  \\\n",
       "0                           NaN   \n",
       "1                           NaN   \n",
       "2    Erode trust in authorities   \n",
       "3                           NaN   \n",
       "4       Inciting fear and panic   \n",
       "..                          ...   \n",
       "199                         NaN   \n",
       "200                         NaN   \n",
       "201                         NaN   \n",
       "202                         NaN   \n",
       "203                         NaN   \n",
       "\n",
       "                                    Social_Impact text observed behaviours  \\\n",
       "0                                                  NaN                 NaN   \n",
       "1                                                  NaN                 NaN   \n",
       "2    Laurensius Kadepa, a member of the Papuan Prov...                 NaN   \n",
       "3                                                  NaN                 NaN   \n",
       "4    He urged the public to remain calm but vigilan...                 NaN   \n",
       "..                                                 ...                 ...   \n",
       "199                                                NaN                 NaN   \n",
       "200                                                NaN                 NaN   \n",
       "201                                                NaN                 NaN   \n",
       "202                                                NaN                 NaN   \n",
       "203                                                NaN                 NaN   \n",
       "\n",
       "    observed behaviours text                          note      ID  rating  \n",
       "0                        NaN                           NaN      ID       0  \n",
       "1                        NaN                           NaN      ID       0  \n",
       "2                        NaN  Aggravation of the situation      ID       0  \n",
       "3                        NaN                           NaN      ID       0  \n",
       "4                        NaN                           NaN      ID       0  \n",
       "..                       ...                           ...     ...     ...  \n",
       "199                      NaN                           NaN  non ID       1  \n",
       "200                      NaN                           NaN  non ID       1  \n",
       "201                      NaN                           NaN  non ID       1  \n",
       "202                      NaN                           NaN  non ID       1  \n",
       "203                      NaN                           NaN  non ID       1  \n",
       "\n",
       "[194 rows x 11 columns]"
      ]
     },
     "execution_count": 11,
     "metadata": {},
     "output_type": "execute_result"
    }
   ],
   "source": [
    "df"
   ]
  },
  {
   "cell_type": "code",
   "execution_count": 12,
   "metadata": {
    "colab": {
     "base_uri": "https://localhost:8080/"
    },
    "id": "S-54vhABhm9j",
    "outputId": "c7b513bf-66f5-4a29-b2a1-a3ceccc346a4"
   },
   "outputs": [
    {
     "data": {
      "text/plain": [
       "1    97\n",
       "0    97\n",
       "Name: rating, dtype: int64"
      ]
     },
     "execution_count": 12,
     "metadata": {},
     "output_type": "execute_result"
    }
   ],
   "source": [
    "df.rating.value_counts()"
   ]
  },
  {
   "cell_type": "code",
   "execution_count": 13,
   "metadata": {},
   "outputs": [],
   "source": [
    "df['sentence'] = df['Mis_Dis text'].apply(lambda x: x.strip())"
   ]
  },
  {
   "cell_type": "code",
   "execution_count": 14,
   "metadata": {
    "id": "V-155O-SFSqE"
   },
   "outputs": [],
   "source": [
    "#class_names = ['negative', 'positive']\n",
    "class_names = [i for i in df.ID.value_counts().sort_index().index.tolist()]"
   ]
  },
  {
   "cell_type": "code",
   "execution_count": 15,
   "metadata": {
    "colab": {
     "base_uri": "https://localhost:8080/"
    },
    "id": "EV6rqvB2jaAR",
    "outputId": "cfa44bde-12f8-4f91-88b6-5f3c3c6f90c6"
   },
   "outputs": [
    {
     "data": {
      "text/plain": [
       "['ID', 'non ID']"
      ]
     },
     "execution_count": 15,
     "metadata": {},
     "output_type": "execute_result"
    }
   ],
   "source": [
    "class_names"
   ]
  },
  {
   "cell_type": "code",
   "execution_count": 16,
   "metadata": {},
   "outputs": [
    {
     "data": {
      "text/plain": [
       "2"
      ]
     },
     "execution_count": 16,
     "metadata": {},
     "output_type": "execute_result"
    }
   ],
   "source": [
    "len(class_names)"
   ]
  },
  {
   "cell_type": "code",
   "execution_count": 17,
   "metadata": {
    "colab": {
     "base_uri": "https://localhost:8080/",
     "height": 402
    },
    "id": "1mJe1xtAlCZd",
    "outputId": "fe3023dd-1d1e-446c-8872-584c7341e590"
   },
   "outputs": [
    {
     "data": {
      "text/html": [
       "<div>\n",
       "<style scoped>\n",
       "    .dataframe tbody tr th:only-of-type {\n",
       "        vertical-align: middle;\n",
       "    }\n",
       "\n",
       "    .dataframe tbody tr th {\n",
       "        vertical-align: top;\n",
       "    }\n",
       "\n",
       "    .dataframe thead th {\n",
       "        text-align: right;\n",
       "    }\n",
       "</style>\n",
       "<table border=\"1\" class=\"dataframe\">\n",
       "  <thead>\n",
       "    <tr style=\"text-align: right;\">\n",
       "      <th></th>\n",
       "      <th>case</th>\n",
       "      <th>link</th>\n",
       "      <th>Mis_Dis</th>\n",
       "      <th>Mis_Dis text</th>\n",
       "      <th>Social_Impact</th>\n",
       "      <th>Social_Impact text</th>\n",
       "      <th>observed behaviours</th>\n",
       "      <th>observed behaviours text</th>\n",
       "      <th>note</th>\n",
       "      <th>ID</th>\n",
       "      <th>rating</th>\n",
       "      <th>sentence</th>\n",
       "    </tr>\n",
       "  </thead>\n",
       "  <tbody>\n",
       "    <tr>\n",
       "      <th>0</th>\n",
       "      <td>10</td>\n",
       "      <td>https://www.radionz.co.nz/international/pacifi...</td>\n",
       "      <td>Smear</td>\n",
       "      <td>Police said a group linked to the Free Papua M...</td>\n",
       "      <td>NaN</td>\n",
       "      <td>NaN</td>\n",
       "      <td>NaN</td>\n",
       "      <td>NaN</td>\n",
       "      <td>NaN</td>\n",
       "      <td>ID</td>\n",
       "      <td>0</td>\n",
       "      <td>Police said a group linked to the Free Papua M...</td>\n",
       "    </tr>\n",
       "    <tr>\n",
       "      <th>1</th>\n",
       "      <td>10</td>\n",
       "      <td>https://www.radionz.co.nz/international/pacifi...</td>\n",
       "      <td>Smear</td>\n",
       "      <td>A resident from one of the villages, Banti, sa...</td>\n",
       "      <td>NaN</td>\n",
       "      <td>NaN</td>\n",
       "      <td>NaN</td>\n",
       "      <td>NaN</td>\n",
       "      <td>NaN</td>\n",
       "      <td>ID</td>\n",
       "      <td>0</td>\n",
       "      <td>A resident from one of the villages, Banti, sa...</td>\n",
       "    </tr>\n",
       "    <tr>\n",
       "      <th>2</th>\n",
       "      <td>10</td>\n",
       "      <td>http://www.humanrightspapua.org/news/23-2017/2...</td>\n",
       "      <td>Smear</td>\n",
       "      <td>The Indonesian military general Gatot Nurmanty...</td>\n",
       "      <td>Erode trust in authorities</td>\n",
       "      <td>Laurensius Kadepa, a member of the Papuan Prov...</td>\n",
       "      <td>NaN</td>\n",
       "      <td>NaN</td>\n",
       "      <td>Aggravation of the situation</td>\n",
       "      <td>ID</td>\n",
       "      <td>0</td>\n",
       "      <td>The Indonesian military general Gatot Nurmanty...</td>\n",
       "    </tr>\n",
       "    <tr>\n",
       "      <th>3</th>\n",
       "      <td>10</td>\n",
       "      <td>https://www.abc.net.au/news/2017-11-10/papua-s...</td>\n",
       "      <td>Smear</td>\n",
       "      <td>Hendrik Wanmang, who described himself as a co...</td>\n",
       "      <td>NaN</td>\n",
       "      <td>NaN</td>\n",
       "      <td>NaN</td>\n",
       "      <td>NaN</td>\n",
       "      <td>NaN</td>\n",
       "      <td>ID</td>\n",
       "      <td>0</td>\n",
       "      <td>Hendrik Wanmang, who described himself as a co...</td>\n",
       "    </tr>\n",
       "    <tr>\n",
       "      <th>4</th>\n",
       "      <td>3</td>\n",
       "      <td>https://news.mb.com.ph/2018/08/03/pnp-warns-pu...</td>\n",
       "      <td>Rumour</td>\n",
       "      <td>Following the series of bombing incidents, a c...</td>\n",
       "      <td>Inciting fear and panic</td>\n",
       "      <td>He urged the public to remain calm but vigilan...</td>\n",
       "      <td>NaN</td>\n",
       "      <td>NaN</td>\n",
       "      <td>NaN</td>\n",
       "      <td>ID</td>\n",
       "      <td>0</td>\n",
       "      <td>Following the series of bombing incidents, a c...</td>\n",
       "    </tr>\n",
       "    <tr>\n",
       "      <th>...</th>\n",
       "      <td>...</td>\n",
       "      <td>...</td>\n",
       "      <td>...</td>\n",
       "      <td>...</td>\n",
       "      <td>...</td>\n",
       "      <td>...</td>\n",
       "      <td>...</td>\n",
       "      <td>...</td>\n",
       "      <td>...</td>\n",
       "      <td>...</td>\n",
       "      <td>...</td>\n",
       "      <td>...</td>\n",
       "    </tr>\n",
       "    <tr>\n",
       "      <th>199</th>\n",
       "      <td>NaN</td>\n",
       "      <td>NaN</td>\n",
       "      <td>other</td>\n",
       "      <td>Mohd Firdaus Kamal Intdzam, who worked as a cl...</td>\n",
       "      <td>NaN</td>\n",
       "      <td>NaN</td>\n",
       "      <td>NaN</td>\n",
       "      <td>NaN</td>\n",
       "      <td>NaN</td>\n",
       "      <td>non ID</td>\n",
       "      <td>1</td>\n",
       "      <td>Mohd Firdaus Kamal Intdzam, who worked as a cl...</td>\n",
       "    </tr>\n",
       "    <tr>\n",
       "      <th>200</th>\n",
       "      <td>NaN</td>\n",
       "      <td>NaN</td>\n",
       "      <td>other</td>\n",
       "      <td>The Abu Sayyaf Group (ASG), based in the Phili...</td>\n",
       "      <td>NaN</td>\n",
       "      <td>NaN</td>\n",
       "      <td>NaN</td>\n",
       "      <td>NaN</td>\n",
       "      <td>NaN</td>\n",
       "      <td>non ID</td>\n",
       "      <td>1</td>\n",
       "      <td>The Abu Sayyaf Group (ASG), based in the Phili...</td>\n",
       "    </tr>\n",
       "    <tr>\n",
       "      <th>201</th>\n",
       "      <td>NaN</td>\n",
       "      <td>NaN</td>\n",
       "      <td>other</td>\n",
       "      <td>Understanding money laundering and terrorist f...</td>\n",
       "      <td>NaN</td>\n",
       "      <td>NaN</td>\n",
       "      <td>NaN</td>\n",
       "      <td>NaN</td>\n",
       "      <td>NaN</td>\n",
       "      <td>non ID</td>\n",
       "      <td>1</td>\n",
       "      <td>Understanding money laundering and terrorist f...</td>\n",
       "    </tr>\n",
       "    <tr>\n",
       "      <th>202</th>\n",
       "      <td>NaN</td>\n",
       "      <td>NaN</td>\n",
       "      <td>other</td>\n",
       "      <td>Malaysia is not isolated from the threats pose...</td>\n",
       "      <td>NaN</td>\n",
       "      <td>NaN</td>\n",
       "      <td>NaN</td>\n",
       "      <td>NaN</td>\n",
       "      <td>NaN</td>\n",
       "      <td>non ID</td>\n",
       "      <td>1</td>\n",
       "      <td>Malaysia is not isolated from the threats pose...</td>\n",
       "    </tr>\n",
       "    <tr>\n",
       "      <th>203</th>\n",
       "      <td>NaN</td>\n",
       "      <td>NaN</td>\n",
       "      <td>other</td>\n",
       "      <td>At the international level, the Royal Malaysia...</td>\n",
       "      <td>NaN</td>\n",
       "      <td>NaN</td>\n",
       "      <td>NaN</td>\n",
       "      <td>NaN</td>\n",
       "      <td>NaN</td>\n",
       "      <td>non ID</td>\n",
       "      <td>1</td>\n",
       "      <td>At the international level, the Royal Malaysia...</td>\n",
       "    </tr>\n",
       "  </tbody>\n",
       "</table>\n",
       "<p>194 rows × 12 columns</p>\n",
       "</div>"
      ],
      "text/plain": [
       "    case                                               link Mis_Dis  \\\n",
       "0     10  https://www.radionz.co.nz/international/pacifi...   Smear   \n",
       "1     10  https://www.radionz.co.nz/international/pacifi...   Smear   \n",
       "2     10  http://www.humanrightspapua.org/news/23-2017/2...   Smear   \n",
       "3     10  https://www.abc.net.au/news/2017-11-10/papua-s...   Smear   \n",
       "4      3  https://news.mb.com.ph/2018/08/03/pnp-warns-pu...  Rumour   \n",
       "..   ...                                                ...     ...   \n",
       "199  NaN                                                NaN   other   \n",
       "200  NaN                                                NaN   other   \n",
       "201  NaN                                                NaN   other   \n",
       "202  NaN                                                NaN   other   \n",
       "203  NaN                                                NaN   other   \n",
       "\n",
       "                                          Mis_Dis text  \\\n",
       "0    Police said a group linked to the Free Papua M...   \n",
       "1    A resident from one of the villages, Banti, sa...   \n",
       "2    The Indonesian military general Gatot Nurmanty...   \n",
       "3    Hendrik Wanmang, who described himself as a co...   \n",
       "4    Following the series of bombing incidents, a c...   \n",
       "..                                                 ...   \n",
       "199  Mohd Firdaus Kamal Intdzam, who worked as a cl...   \n",
       "200  The Abu Sayyaf Group (ASG), based in the Phili...   \n",
       "201  Understanding money laundering and terrorist f...   \n",
       "202  Malaysia is not isolated from the threats pose...   \n",
       "203  At the international level, the Royal Malaysia...   \n",
       "\n",
       "                  Social_Impact  \\\n",
       "0                           NaN   \n",
       "1                           NaN   \n",
       "2    Erode trust in authorities   \n",
       "3                           NaN   \n",
       "4       Inciting fear and panic   \n",
       "..                          ...   \n",
       "199                         NaN   \n",
       "200                         NaN   \n",
       "201                         NaN   \n",
       "202                         NaN   \n",
       "203                         NaN   \n",
       "\n",
       "                                    Social_Impact text observed behaviours  \\\n",
       "0                                                  NaN                 NaN   \n",
       "1                                                  NaN                 NaN   \n",
       "2    Laurensius Kadepa, a member of the Papuan Prov...                 NaN   \n",
       "3                                                  NaN                 NaN   \n",
       "4    He urged the public to remain calm but vigilan...                 NaN   \n",
       "..                                                 ...                 ...   \n",
       "199                                                NaN                 NaN   \n",
       "200                                                NaN                 NaN   \n",
       "201                                                NaN                 NaN   \n",
       "202                                                NaN                 NaN   \n",
       "203                                                NaN                 NaN   \n",
       "\n",
       "    observed behaviours text                          note      ID  rating  \\\n",
       "0                        NaN                           NaN      ID       0   \n",
       "1                        NaN                           NaN      ID       0   \n",
       "2                        NaN  Aggravation of the situation      ID       0   \n",
       "3                        NaN                           NaN      ID       0   \n",
       "4                        NaN                           NaN      ID       0   \n",
       "..                       ...                           ...     ...     ...   \n",
       "199                      NaN                           NaN  non ID       1   \n",
       "200                      NaN                           NaN  non ID       1   \n",
       "201                      NaN                           NaN  non ID       1   \n",
       "202                      NaN                           NaN  non ID       1   \n",
       "203                      NaN                           NaN  non ID       1   \n",
       "\n",
       "                                              sentence  \n",
       "0    Police said a group linked to the Free Papua M...  \n",
       "1    A resident from one of the villages, Banti, sa...  \n",
       "2    The Indonesian military general Gatot Nurmanty...  \n",
       "3    Hendrik Wanmang, who described himself as a co...  \n",
       "4    Following the series of bombing incidents, a c...  \n",
       "..                                                 ...  \n",
       "199  Mohd Firdaus Kamal Intdzam, who worked as a cl...  \n",
       "200  The Abu Sayyaf Group (ASG), based in the Phili...  \n",
       "201  Understanding money laundering and terrorist f...  \n",
       "202  Malaysia is not isolated from the threats pose...  \n",
       "203  At the international level, the Royal Malaysia...  \n",
       "\n",
       "[194 rows x 12 columns]"
      ]
     },
     "execution_count": 17,
     "metadata": {},
     "output_type": "execute_result"
    }
   ],
   "source": [
    "df"
   ]
  },
  {
   "cell_type": "code",
   "execution_count": 18,
   "metadata": {},
   "outputs": [
    {
     "data": {
      "text/html": [
       "<div>\n",
       "<style scoped>\n",
       "    .dataframe tbody tr th:only-of-type {\n",
       "        vertical-align: middle;\n",
       "    }\n",
       "\n",
       "    .dataframe tbody tr th {\n",
       "        vertical-align: top;\n",
       "    }\n",
       "\n",
       "    .dataframe thead th {\n",
       "        text-align: right;\n",
       "    }\n",
       "</style>\n",
       "<table border=\"1\" class=\"dataframe\">\n",
       "  <thead>\n",
       "    <tr style=\"text-align: right;\">\n",
       "      <th></th>\n",
       "      <th>Mis_Dis</th>\n",
       "    </tr>\n",
       "  </thead>\n",
       "  <tbody>\n",
       "    <tr>\n",
       "      <th>other</th>\n",
       "      <td>97</td>\n",
       "    </tr>\n",
       "    <tr>\n",
       "      <th>Rumour</th>\n",
       "      <td>47</td>\n",
       "    </tr>\n",
       "    <tr>\n",
       "      <th>Smear</th>\n",
       "      <td>29</td>\n",
       "    </tr>\n",
       "    <tr>\n",
       "      <th>Conspiracy Theory</th>\n",
       "      <td>21</td>\n",
       "    </tr>\n",
       "  </tbody>\n",
       "</table>\n",
       "</div>"
      ],
      "text/plain": [
       "                   Mis_Dis\n",
       "other                   97\n",
       "Rumour                  47\n",
       "Smear                   29\n",
       "Conspiracy Theory       21"
      ]
     },
     "execution_count": 18,
     "metadata": {},
     "output_type": "execute_result"
    }
   ],
   "source": [
    "pd.set_option('display.max_rows', 100)\n",
    "\n",
    "df.Mis_Dis.value_counts().to_frame()\n"
   ]
  },
  {
   "cell_type": "markdown",
   "metadata": {
    "id": "9aHyGuTFgyPO"
   },
   "source": [
    "## Data Preprocessing\n",
    "\n",
    "You might already know that Machine Learning models don't work with raw text. You need to convert text to numbers (of some sort). BERT requires even more attention (good one, right?). Here are the requirements: \n",
    "\n",
    "- Add special tokens to separate sentences and do classification\n",
    "- Pass sequences of constant length (introduce padding)\n",
    "- Create array of 0s (pad token) and 1s (real token) called *attention mask*\n",
    "\n",
    "The Transformers library provides (you've guessed it) a wide variety of Transformer models (including BERT). It works with TensorFlow and PyTorch! It also includes prebuild tokenizers that do the heavy lifting for us!\n"
   ]
  },
  {
   "cell_type": "code",
   "execution_count": 19,
   "metadata": {
    "id": "E7Mj-0ne--5t"
   },
   "outputs": [],
   "source": [
    "PRE_TRAINED_MODEL_NAME = 'bert-base-cased'"
   ]
  },
  {
   "cell_type": "markdown",
   "metadata": {
    "id": "fMSr7C-F_sey"
   },
   "source": [
    "> You can use a cased and uncased version of BERT and tokenizer. I've experimented with both. The cased version works better. Intuitively, that makes sense, since \"BAD\" might convey more sentiment than \"bad\"."
   ]
  },
  {
   "cell_type": "markdown",
   "metadata": {
    "id": "NiLb-ltM-ZRz"
   },
   "source": [
    "Let's load a pre-trained [BertTokenizer](https://huggingface.co/transformers/model_doc/bert.html#berttokenizer):"
   ]
  },
  {
   "cell_type": "code",
   "execution_count": 20,
   "metadata": {
    "id": "H3AfJSZ8NNLF"
   },
   "outputs": [],
   "source": [
    "tokenizer = BertTokenizer.from_pretrained(PRE_TRAINED_MODEL_NAME)"
   ]
  },
  {
   "cell_type": "markdown",
   "metadata": {
    "id": "CfrSbwTQ-wi_"
   },
   "source": [
    "We'll use this text to understand the tokenization process:"
   ]
  },
  {
   "cell_type": "markdown",
   "metadata": {
    "id": "waKjYxTDuaWt"
   },
   "source": [
    "### Choosing Sequence Length\n",
    "\n",
    "BERT works with fixed-length sequences. We'll use a simple strategy to choose the max length. Let's store the token length of each review:"
   ]
  },
  {
   "cell_type": "code",
   "execution_count": 21,
   "metadata": {
    "id": "BUnE5CT9hbeZ"
   },
   "outputs": [],
   "source": [
    "token_lens = []\n",
    "\n",
    "for txt in df.sentence:\n",
    "    tokens = tokenizer.encode(txt, max_length=512, truncation=True)\n",
    "    token_lens.append(len(tokens))"
   ]
  },
  {
   "cell_type": "markdown",
   "metadata": {
    "id": "tI4goUrHf6da"
   },
   "source": [
    "and plot the distribution:"
   ]
  },
  {
   "cell_type": "code",
   "execution_count": 22,
   "metadata": {
    "colab": {
     "base_uri": "https://localhost:8080/",
     "height": 560
    },
    "id": "SzE1j4jxmUtd",
    "outputId": "a3d9e83c-c49a-4cd3-b90c-06392d867a8a"
   },
   "outputs": [
    {
     "name": "stderr",
     "output_type": "stream",
     "text": [
      "C:\\Users\\User\\anaconda3\\lib\\site-packages\\seaborn\\distributions.py:2551: FutureWarning: `distplot` is a deprecated function and will be removed in a future version. Please adapt your code to use either `displot` (a figure-level function with similar flexibility) or `histplot` (an axes-level function for histograms).\n",
      "  warnings.warn(msg, FutureWarning)\n"
     ]
    },
    {
     "data": {
      "image/png": "[encoded data removed]",
      "text/plain": [
       "<Figure size 864x576 with 1 Axes>"
      ]
     },
     "metadata": {
      "image/png": {
       "height": 487,
       "width": 743
      }
     },
     "output_type": "display_data"
    }
   ],
   "source": [
    "sns.distplot(token_lens)\n",
    "plt.xlim([0, 256]);\n",
    "plt.xlabel('Token count');"
   ]
  },
  {
   "cell_type": "markdown",
   "metadata": {
    "id": "oW6ajl30t6du"
   },
   "source": [
    "Most of the reviews seem to contain less than 70 tokens, but we'll be on the safe side and choose a maximum length of 80."
   ]
  },
  {
   "cell_type": "code",
   "execution_count": 23,
   "metadata": {
    "colab": {
     "base_uri": "https://localhost:8080/"
    },
    "id": "t7xSmJtLuoxW",
    "outputId": "91aacf40-5cfc-4fbd-daca-91d2d63b5d31"
   },
   "outputs": [
    {
     "name": "stdout",
     "output_type": "stream",
     "text": [
      "285\n"
     ]
    }
   ],
   "source": [
    "print(max(token_lens))\n",
    "MAX_LEN = 100"
   ]
  },
  {
   "cell_type": "markdown",
   "metadata": {
    "id": "XvvcoU6nurHy"
   },
   "source": [
    "We have all building blocks required to create a PyTorch dataset. Let's do it:"
   ]
  },
  {
   "cell_type": "code",
   "execution_count": 24,
   "metadata": {
    "id": "E2BPgRJ7YBK0"
   },
   "outputs": [],
   "source": [
    "class GPReviewDataset(Dataset):\n",
    "\n",
    "  def __init__(self, reviews, targets, tokenizer, max_len):\n",
    "    self.reviews = reviews\n",
    "    self.targets = targets\n",
    "    self.tokenizer = tokenizer\n",
    "    self.max_len = max_len\n",
    "  \n",
    "  def __len__(self):\n",
    "    return len(self.reviews)\n",
    "  \n",
    "  def __getitem__(self, item):\n",
    "    review = str(self.reviews[item])\n",
    "    target = self.targets[item]\n",
    "\n",
    "    '''\n",
    "    if target == 'negative':\n",
    "       target = 0\n",
    "    else:\n",
    "       target = 1\n",
    "    '''\n",
    "\n",
    "    encoding = self.tokenizer.encode_plus(\n",
    "      review,\n",
    "      add_special_tokens=True,\n",
    "      truncation=True,\n",
    "      max_length=self.max_len,\n",
    "      return_token_type_ids=False,\n",
    "      #pad_to_max_length=True,\n",
    "      padding='max_length',\n",
    "      return_attention_mask=True,\n",
    "      return_tensors='pt',\n",
    "    )\n",
    "\n",
    "    return {\n",
    "      'review_text': review,\n",
    "      'input_ids': encoding['input_ids'].flatten(),\n",
    "      'attention_mask': encoding['attention_mask'].flatten(),\n",
    "      'targets': torch.tensor(target, dtype=torch.long)\n",
    "    }"
   ]
  },
  {
   "cell_type": "markdown",
   "metadata": {
    "id": "x2uwsvCYqDJK"
   },
   "source": [
    "The tokenizer is doing most of the heavy lifting for us. We also return the review texts, so it'll be easier to evaluate the predictions from our model. Let's split the data:"
   ]
  },
  {
   "cell_type": "code",
   "execution_count": 25,
   "metadata": {
    "colab": {
     "base_uri": "https://localhost:8080/"
    },
    "id": "wy4c3SWaiJhq",
    "outputId": "3d2d7d49-f7cc-4a66-bbe6-62e8a6bcacc6"
   },
   "outputs": [
    {
     "data": {
      "text/plain": [
       "((155, 12), (39, 12), (39, 12))"
      ]
     },
     "execution_count": 25,
     "metadata": {},
     "output_type": "execute_result"
    }
   ],
   "source": [
    "#df_train = df[df.split==\"train\"]\n",
    "#df_val = df[df.split==\"val\"]\n",
    "#df_test = df[df.split==\"test\"]\n",
    "\n",
    "df_train, df_test = train_test_split(df, stratify=df.rating, test_size=0.2, random_state=RANDOM_SEED)\n",
    "#df_val, df_test = train_test_split(df_test, test_size=0.5, random_state=RANDOM_SEED)\n",
    "df_val = df_test\n",
    "df_train.shape, df_val.shape, df_test.shape\n"
   ]
  },
  {
   "cell_type": "code",
   "execution_count": 26,
   "metadata": {
    "colab": {
     "base_uri": "https://localhost:8080/"
    },
    "id": "xz3ZOQXVPCwh",
    "outputId": "062bbf54-772b-4847-fbb9-3189617c64f6"
   },
   "outputs": [],
   "source": [
    "#df_train.shape, df_val.shape, df_test.shape"
   ]
  },
  {
   "cell_type": "code",
   "execution_count": 27,
   "metadata": {},
   "outputs": [
    {
     "data": {
      "text/plain": [
       "2"
      ]
     },
     "execution_count": 27,
     "metadata": {},
     "output_type": "execute_result"
    }
   ],
   "source": [
    "len(df_test.rating.value_counts())"
   ]
  },
  {
   "cell_type": "markdown",
   "metadata": {
    "id": "J4tQ1x-vqNab"
   },
   "source": [
    "We also need to create a couple of data loaders. Here's a helper function to do it:\n",
    "- Truncation: Truncate to a maximum length specified with the argument max_length or to the maximum acceptable input length for the model if that argument is not provided. "
   ]
  },
  {
   "cell_type": "code",
   "execution_count": 28,
   "metadata": {
    "id": "KEGqcvkuOuTX"
   },
   "outputs": [],
   "source": [
    "def create_data_loader(df, tokenizer, max_len, batch_size):\n",
    "  ds = GPReviewDataset(\n",
    "    reviews=df.sentence.to_numpy(),\n",
    "    targets=df.rating.to_numpy(),\n",
    "    tokenizer=tokenizer,\n",
    "    max_len=max_len,\n",
    "  )\n",
    "\n",
    "  return DataLoader(\n",
    "    ds,\n",
    "    batch_size=batch_size,\n",
    "    #num_workers=4 #  process hangs with num_workers=4\n",
    "    num_workers=0,  #  num_workers: how many subprocesses to use for data loading. 0 means that the data will be \n",
    "                   #  loaded in the main process. (default: 0)\n",
    "    shuffle=True   # , drop_last=True\n",
    "  )"
   ]
  },
  {
   "cell_type": "markdown",
   "metadata": {
    "id": "ucIFNKs2iJhq"
   },
   "source": [
    "# check"
   ]
  },
  {
   "cell_type": "code",
   "execution_count": 29,
   "metadata": {
    "id": "vODDxMKsPHqI"
   },
   "outputs": [],
   "source": [
    "BATCH_SIZE = 5\n",
    "\n",
    "train_data_loader = create_data_loader(df_train, tokenizer, MAX_LEN, BATCH_SIZE)\n",
    "val_data_loader = create_data_loader(df_val, tokenizer, MAX_LEN, BATCH_SIZE)\n",
    "test_data_loader = create_data_loader(df_test, tokenizer, MAX_LEN, BATCH_SIZE)"
   ]
  },
  {
   "cell_type": "code",
   "execution_count": 30,
   "metadata": {
    "colab": {
     "base_uri": "https://localhost:8080/"
    },
    "id": "0USOA04jF005",
    "outputId": "43b0c49e-742a-41f2-b6fd-f4c6c52786db"
   },
   "outputs": [
    {
     "data": {
      "text/plain": [
       "dict_keys(['review_text', 'input_ids', 'attention_mask', 'targets'])"
      ]
     },
     "execution_count": 30,
     "metadata": {},
     "output_type": "execute_result"
    }
   ],
   "source": [
    "data = next(iter(train_data_loader))\n",
    "data.keys()"
   ]
  },
  {
   "cell_type": "code",
   "execution_count": 31,
   "metadata": {
    "colab": {
     "base_uri": "https://localhost:8080/"
    },
    "id": "QR7-nim3F7o5",
    "outputId": "d6d294a9-6320-4be4-eebe-4082f2cccaeb"
   },
   "outputs": [
    {
     "name": "stdout",
     "output_type": "stream",
     "text": [
      "torch.Size([5, 100])\n",
      "torch.Size([5, 100])\n",
      "torch.Size([5])\n"
     ]
    }
   ],
   "source": [
    "print(data['input_ids'].shape)\n",
    "print(data['attention_mask'].shape)\n",
    "print(data['targets'].shape)"
   ]
  },
  {
   "cell_type": "code",
   "execution_count": 32,
   "metadata": {
    "colab": {
     "base_uri": "https://localhost:8080/"
    },
    "id": "NlrpojHIIIeI",
    "outputId": "3c6cd528-39ca-4ac0-f441-f2e2eff8ccf2"
   },
   "outputs": [
    {
     "data": {
      "text/plain": [
       "['[CLS]',\n",
       " 'she',\n",
       " 'alleged',\n",
       " 'military',\n",
       " 'and',\n",
       " 'police',\n",
       " 'personnel',\n",
       " 'placed',\n",
       " 'her',\n",
       " 'under',\n",
       " 'surveillance',\n",
       " 'and',\n",
       " 'ha',\n",
       " '##rassed',\n",
       " 'her',\n",
       " 'on',\n",
       " 'several',\n",
       " 'occasions',\n",
       " 'in',\n",
       " 'March',\n",
       " 'last',\n",
       " 'year',\n",
       " 'after',\n",
       " 'she',\n",
       " 'handled',\n",
       " 'the',\n",
       " 'cases',\n",
       " 'of',\n",
       " 'several',\n",
       " 'persons',\n",
       " 'accused',\n",
       " 'of',\n",
       " 'being',\n",
       " 'New',\n",
       " 'People',\n",
       " '’',\n",
       " 's',\n",
       " 'Army',\n",
       " 'members',\n",
       " '.',\n",
       " '[SEP]',\n",
       " '[PAD]',\n",
       " '[PAD]',\n",
       " '[PAD]',\n",
       " '[PAD]',\n",
       " '[PAD]',\n",
       " '[PAD]',\n",
       " '[PAD]',\n",
       " '[PAD]',\n",
       " '[PAD]',\n",
       " '[PAD]',\n",
       " '[PAD]',\n",
       " '[PAD]',\n",
       " '[PAD]',\n",
       " '[PAD]',\n",
       " '[PAD]',\n",
       " '[PAD]',\n",
       " '[PAD]',\n",
       " '[PAD]',\n",
       " '[PAD]',\n",
       " '[PAD]',\n",
       " '[PAD]',\n",
       " '[PAD]',\n",
       " '[PAD]',\n",
       " '[PAD]',\n",
       " '[PAD]',\n",
       " '[PAD]',\n",
       " '[PAD]',\n",
       " '[PAD]',\n",
       " '[PAD]',\n",
       " '[PAD]',\n",
       " '[PAD]',\n",
       " '[PAD]',\n",
       " '[PAD]',\n",
       " '[PAD]',\n",
       " '[PAD]',\n",
       " '[PAD]',\n",
       " '[PAD]',\n",
       " '[PAD]',\n",
       " '[PAD]',\n",
       " '[PAD]',\n",
       " '[PAD]',\n",
       " '[PAD]',\n",
       " '[PAD]',\n",
       " '[PAD]',\n",
       " '[PAD]',\n",
       " '[PAD]',\n",
       " '[PAD]',\n",
       " '[PAD]',\n",
       " '[PAD]',\n",
       " '[PAD]',\n",
       " '[PAD]',\n",
       " '[PAD]',\n",
       " '[PAD]',\n",
       " '[PAD]',\n",
       " '[PAD]',\n",
       " '[PAD]',\n",
       " '[PAD]',\n",
       " '[PAD]',\n",
       " '[PAD]']"
      ]
     },
     "execution_count": 32,
     "metadata": {},
     "output_type": "execute_result"
    }
   ],
   "source": [
    "tokenizer.convert_ids_to_tokens(data['input_ids'][0])\n"
   ]
  },
  {
   "cell_type": "code",
   "execution_count": 33,
   "metadata": {
    "id": "0P41FayISNRI"
   },
   "outputs": [],
   "source": [
    "bert_model = BertModel.from_pretrained(PRE_TRAINED_MODEL_NAME)"
   ]
  },
  {
   "cell_type": "code",
   "execution_count": 34,
   "metadata": {
    "colab": {
     "base_uri": "https://localhost:8080/"
    },
    "id": "XubsABH9Ikyt",
    "outputId": "6396357d-683d-49bf-edea-636c32629300"
   },
   "outputs": [
    {
     "name": "stdout",
     "output_type": "stream",
     "text": [
      "torch.Size([5, 100, 768]) torch.Size([5, 768])\n"
     ]
    }
   ],
   "source": [
    "#Testing\n",
    "\n",
    "input_ids = data['input_ids']\n",
    "attention_mask = data['attention_mask']\n",
    "outputs = bert_model(input_ids=input_ids, \n",
    "                     attention_mask=attention_mask)\n",
    "print(outputs[0].shape,outputs[1].shape)"
   ]
  },
  {
   "cell_type": "markdown",
   "metadata": {
    "id": "H63Y-TjyRC7S"
   },
   "source": [
    "## Multiclass Classification with BERT and Hugging Face"
   ]
  },
  {
   "cell_type": "code",
   "execution_count": 35,
   "metadata": {
    "id": "m_mRflxPl32F"
   },
   "outputs": [],
   "source": [
    "class SentimentClassifier(nn.Module):\n",
    "\n",
    "  def __init__(self, n_classes):\n",
    "    super(SentimentClassifier, self).__init__()\n",
    "    self.bert = BertModel.from_pretrained(PRE_TRAINED_MODEL_NAME)\n",
    "    #self.bert = BertForSequenceClassification.from_pretrained(PRE_TRAINED_MODEL_NAME)\n",
    "    self.drop = nn.Dropout(p=0.2)\n",
    "    self.out = nn.Linear(self.bert.config.hidden_size, n_classes)\n",
    "  \n",
    "  def forward(self, input_ids, attention_mask):\n",
    "    outputs = self.bert(input_ids=input_ids,\n",
    "                                 attention_mask=attention_mask,\n",
    "                                 )\n",
    "    _ = outputs[0]\n",
    "    pooled_output = outputs[1]\n",
    "    output = self.drop(pooled_output)\n",
    "\n",
    "\n",
    "\n",
    "\n",
    "    return self.out(output)"
   ]
  },
  {
   "cell_type": "markdown",
   "metadata": {
    "id": "A6dlOptwqlhF"
   },
   "source": [
    "Let's have a look at an example batch from our training data loader:"
   ]
  },
  {
   "cell_type": "markdown",
   "metadata": {
    "id": "440Nd31VTHER"
   },
   "source": [
    "There are a lot of helpers that make using BERT easy with the Transformers library. Depending on the task you might want to use [BertForSequenceClassification](https://huggingface.co/transformers/model_doc/bert.html#bertforsequenceclassification), [BertForQuestionAnswering](https://huggingface.co/transformers/model_doc/bert.html#bertforquestionanswering) or something else. \n",
    "\n",
    "But who cares, right? We're *hardcore*! We'll use the basic [BertModel](https://huggingface.co/transformers/model_doc/bert.html#bertmodel) and build our sentiment classifier on top of it. Let's load the model:"
   ]
  },
  {
   "cell_type": "markdown",
   "metadata": {
    "id": "0o_NiS3WgOFf"
   },
   "source": [
    "We can use all of this knowledge to create a classifier that uses the BERT model:"
   ]
  },
  {
   "cell_type": "markdown",
   "metadata": {
    "id": "UJg8m3NQJahc"
   },
   "source": [
    "Our classifier delegates most of the heavy lifting to the BertModel. We use a dropout layer for some regularization and a fully-connected layer for our output. Note that we're returning the raw output of the last layer since that is required for the cross-entropy loss function in PyTorch to work.\n",
    "\n",
    "This should work like any other PyTorch model. Let's create an instance and move it to the GPU:"
   ]
  },
  {
   "cell_type": "code",
   "execution_count": 36,
   "metadata": {
    "colab": {
     "base_uri": "https://localhost:8080/"
    },
    "id": "YaKSPV8WMPk4",
    "outputId": "70a9ce64-4ced-442c-d569-0c3f6e1989e2"
   },
   "outputs": [
    {
     "data": {
      "text/plain": [
       "dict_keys(['review_text', 'input_ids', 'attention_mask', 'targets'])"
      ]
     },
     "execution_count": 36,
     "metadata": {},
     "output_type": "execute_result"
    }
   ],
   "source": [
    "data = next(iter(train_data_loader))\n",
    "data.keys()"
   ]
  },
  {
   "cell_type": "code",
   "execution_count": 37,
   "metadata": {
    "colab": {
     "base_uri": "https://localhost:8080/"
    },
    "id": "suJBlAUAiJhr",
    "outputId": "70d9ea40-9c1c-4290-f862-6ed9710d6504"
   },
   "outputs": [
    {
     "name": "stdout",
     "output_type": "stream",
     "text": [
      "torch.Size([5, 100])\n",
      "torch.Size([5, 100])\n",
      "torch.Size([5])\n"
     ]
    }
   ],
   "source": [
    "print(data['input_ids'].shape)\n",
    "print(data['attention_mask'].shape)\n",
    "print(data['targets'].shape)"
   ]
  },
  {
   "cell_type": "code",
   "execution_count": 38,
   "metadata": {
    "colab": {
     "base_uri": "https://localhost:8080/"
    },
    "id": "u1S-RjGMcT2B",
    "outputId": "1631faad-0a75-490e-d21b-c0c14d8890d8"
   },
   "outputs": [
    {
     "data": {
      "text/plain": [
       "0    97\n",
       "1    97\n",
       "Name: rating, dtype: int64"
      ]
     },
     "execution_count": 38,
     "metadata": {},
     "output_type": "execute_result"
    }
   ],
   "source": [
    "df.rating.value_counts().sort_index()"
   ]
  },
  {
   "cell_type": "code",
   "execution_count": 39,
   "metadata": {
    "colab": {
     "base_uri": "https://localhost:8080/"
    },
    "id": "zDB6s3suMhQj",
    "outputId": "6a9821b2-af3b-4392-978a-b7902d920dfc"
   },
   "outputs": [
    {
     "name": "stdout",
     "output_type": "stream",
     "text": [
      "['ID', 'non ID']\n"
     ]
    }
   ],
   "source": [
    "#class_names = [i for i in df.rating.value_counts().sort_index().index.tolist()]\n",
    "print(class_names)\n",
    "\n",
    "model = SentimentClassifier(len(class_names))\n",
    "model = model.to(device)"
   ]
  },
  {
   "cell_type": "code",
   "execution_count": 40,
   "metadata": {
    "colab": {
     "base_uri": "https://localhost:8080/"
    },
    "id": "yFXvPm72JKYs",
    "outputId": "4ce7dd53-62cf-478f-84f3-da069ae67e32"
   },
   "outputs": [
    {
     "data": {
      "text/plain": [
       "tensor([[0.2935, 0.7065],\n",
       "        [0.2159, 0.7841],\n",
       "        [0.2992, 0.7008],\n",
       "        [0.3995, 0.6005],\n",
       "        [0.2456, 0.7544]], device='cuda:0', grad_fn=<SoftmaxBackward>)"
      ]
     },
     "execution_count": 40,
     "metadata": {},
     "output_type": "execute_result"
    }
   ],
   "source": [
    "input_ids = data['input_ids'].to(device)\n",
    "attention_mask = data['attention_mask'].to(device)\n",
    "targets = data[\"targets\"].to(device)\n",
    "F.softmax(model(input_ids=input_ids, attention_mask=attention_mask), dim=1)"
   ]
  },
  {
   "cell_type": "code",
   "execution_count": 41,
   "metadata": {
    "colab": {
     "base_uri": "https://localhost:8080/"
    },
    "id": "PVSd_dEoM5nZ",
    "outputId": "75ef844f-e284-4373-fae5-425bf5449490"
   },
   "outputs": [
    {
     "data": {
      "text/plain": [
       "torch.Size([5, 2])"
      ]
     },
     "execution_count": 41,
     "metadata": {},
     "output_type": "execute_result"
    }
   ],
   "source": [
    "outputs = model(input_ids=input_ids, attention_mask=attention_mask)\n",
    "outputs.shape"
   ]
  },
  {
   "cell_type": "code",
   "execution_count": 42,
   "metadata": {
    "colab": {
     "base_uri": "https://localhost:8080/"
    },
    "id": "S4zfXeI1O1f1",
    "outputId": "d965d548-61b9-4cf6-8460-9f10bd7793ef"
   },
   "outputs": [
    {
     "name": "stdout",
     "output_type": "stream",
     "text": [
      "tensor([0, 1, 1, 0, 0], device='cuda:0')\n"
     ]
    }
   ],
   "source": [
    "print(targets) "
   ]
  },
  {
   "cell_type": "code",
   "execution_count": 43,
   "metadata": {
    "colab": {
     "base_uri": "https://localhost:8080/"
    },
    "id": "0w2ZpCkONg0o",
    "outputId": "1854fc94-f6ae-4971-b92a-7104e70b202d"
   },
   "outputs": [
    {
     "name": "stdout",
     "output_type": "stream",
     "text": [
      "tensor([1, 1, 1, 1, 1], device='cuda:0')\n"
     ]
    }
   ],
   "source": [
    "_, preds = torch.max(outputs, dim=1)\n",
    "print(preds)\n"
   ]
  },
  {
   "cell_type": "code",
   "execution_count": 44,
   "metadata": {
    "colab": {
     "base_uri": "https://localhost:8080/"
    },
    "id": "D5LBhC1BSG5M",
    "outputId": "2fe922d2-b3cc-4aba-9908-628a9a76363b"
   },
   "outputs": [
    {
     "data": {
      "text/plain": [
       "tensor([False,  True,  True, False, False], device='cuda:0')"
      ]
     },
     "execution_count": 44,
     "metadata": {},
     "output_type": "execute_result"
    }
   ],
   "source": [
    "preds == targets"
   ]
  },
  {
   "cell_type": "markdown",
   "metadata": {
    "id": "VCPCFDLlKIQd"
   },
   "source": [
    "We'll move the example batch of our training data to the GPU:"
   ]
  },
  {
   "cell_type": "markdown",
   "metadata": {
    "id": "g9xikRdtRN1N"
   },
   "source": [
    "### Training"
   ]
  },
  {
   "cell_type": "markdown",
   "metadata": {
    "id": "76g7FV85H-T8"
   },
   "source": [
    "To reproduce the training procedure from the BERT paper, we'll use the [AdamW](https://huggingface.co/transformers/main_classes/optimizer_schedules.html#adamw) optimizer provided by Hugging Face. It corrects weight decay, so it's similar to the original paper. We'll also use a linear scheduler with no warmup steps:"
   ]
  },
  {
   "cell_type": "code",
   "execution_count": 45,
   "metadata": {
    "id": "5v-ArJ2fCCcU"
   },
   "outputs": [],
   "source": [
    "EPOCHS = 20\n",
    "\n",
    "optimizer = AdamW(model.parameters(), lr=1e-5, correct_bias=False)\n",
    "total_steps = len(train_data_loader) * EPOCHS\n",
    "\n",
    "scheduler = get_linear_schedule_with_warmup(\n",
    "  optimizer,\n",
    "  num_warmup_steps=0,\n",
    "  num_training_steps=total_steps\n",
    ")\n",
    "\n",
    "loss_fn = nn.CrossEntropyLoss().to(device)"
   ]
  },
  {
   "cell_type": "markdown",
   "metadata": {
    "id": "A8522g7JIu5J"
   },
   "source": [
    "How do we come up with all hyperparameters? The BERT authors have some recommendations for fine-tuning:\n",
    "\n",
    "- Batch size: 16, 32\n",
    "- Learning rate (Adam): 5e-5, 3e-5, 2e-5\n",
    "- Number of epochs: 2, 3, 4\n",
    "\n",
    "We're going to ignore the number of epochs recommendation but stick with the rest. Note that increasing the batch size reduces the training time significantly, but gives you lower accuracy.\n",
    "\n",
    "Let's continue with writing a helper function for training our model for one epoch:"
   ]
  },
  {
   "cell_type": "code",
   "execution_count": 46,
   "metadata": {
    "id": "bzl9UhuNx1_Q"
   },
   "outputs": [],
   "source": [
    "def train_epoch(\n",
    "  model, \n",
    "  data_loader, \n",
    "  loss_fn, \n",
    "  optimizer, \n",
    "  device, \n",
    "  scheduler, \n",
    "  n_examples\n",
    "):\n",
    "  model = model.train()\n",
    "\n",
    "  losses = []\n",
    "  correct_predictions = 0\n",
    "  \n",
    "  for d in tqdm(data_loader):\n",
    "    input_ids = d[\"input_ids\"].to(device)\n",
    "    attention_mask = d[\"attention_mask\"].to(device)\n",
    "    targets = d[\"targets\"].to(device)\n",
    "\n",
    "    outputs = model(\n",
    "      input_ids=input_ids,\n",
    "      attention_mask=attention_mask\n",
    "    )\n",
    "\n",
    "    _, preds = torch.max(outputs, dim=1)\n",
    "    #preds = torch.max(outputs, dim=1)\n",
    "    loss = loss_fn(outputs, targets)\n",
    "\n",
    "\n",
    "    correct_predictions += torch.sum(preds == targets)\n",
    "    losses.append(loss.item())\n",
    "\n",
    "    loss.backward()\n",
    "    nn.utils.clip_grad_norm_(model.parameters(), max_norm=1.0)\n",
    "    optimizer.step()\n",
    "    scheduler.step()\n",
    "    optimizer.zero_grad()\n",
    "\n",
    "  return correct_predictions.double() / n_examples, np.mean(losses)"
   ]
  },
  {
   "cell_type": "markdown",
   "metadata": {
    "id": "E4PniYIte0fr"
   },
   "source": [
    "Training the model should look familiar, except for two things. The scheduler gets called every time a batch is fed to the model. We're avoiding exploding gradients by clipping the gradients of the model using [clip_grad_norm_](https://pytorch.org/docs/stable/nn.html#clip-grad-norm).\n",
    "\n",
    "Let's write another one that helps us evaluate the model on a given data loader:"
   ]
  },
  {
   "cell_type": "code",
   "execution_count": 47,
   "metadata": {
    "id": "CXeRorVGIKre"
   },
   "outputs": [],
   "source": [
    "def eval_model(model, data_loader, loss_fn, device, n_examples):\n",
    "  model = model.eval()\n",
    "\n",
    "  losses = []\n",
    "  correct_predictions = 0\n",
    "\n",
    "  with torch.no_grad():\n",
    "    for d in tqdm(data_loader):\n",
    "      input_ids = d[\"input_ids\"].to(device)\n",
    "      attention_mask = d[\"attention_mask\"].to(device)\n",
    "      targets = d[\"targets\"].to(device)\n",
    "\n",
    "      outputs = model(\n",
    "        input_ids=input_ids,\n",
    "        attention_mask=attention_mask\n",
    "      )\n",
    "      _, preds = torch.max(outputs, dim=1)\n",
    "      #preds = torch.max(outputs, dim=1)\n",
    "      loss = loss_fn(outputs, targets)\n",
    "\n",
    "        \n",
    "      correct_predictions += torch.sum(preds == targets)\n",
    "      losses.append(loss.item())\n",
    "\n",
    "  return correct_predictions.double() / n_examples, np.mean(losses)"
   ]
  },
  {
   "cell_type": "markdown",
   "metadata": {
    "id": "a_rdSDBHhhCh"
   },
   "source": [
    "Using those two, we can write our training loop. We'll also store the training history:"
   ]
  },
  {
   "cell_type": "code",
   "execution_count": 49,
   "metadata": {},
   "outputs": [
    {
     "name": "stderr",
     "output_type": "stream",
     "text": [
      "\r",
      "  0%|                                                                                           | 0/31 [00:00<?, ?it/s]"
     ]
    },
    {
     "name": "stdout",
     "output_type": "stream",
     "text": [
      "Epoch 1/20\n",
      "----------\n"
     ]
    },
    {
     "name": "stderr",
     "output_type": "stream",
     "text": [
      "100%|██████████████████████████████████████████████████████████████████████████████████| 31/31 [00:10<00:00,  2.87it/s]\n",
      " 25%|█████████████████████                                                               | 2/8 [00:00<00:00, 12.01it/s]"
     ]
    },
    {
     "name": "stdout",
     "output_type": "stream",
     "text": [
      "Train loss 0.5528104014454349 accuracy 0.7032258064516129\n"
     ]
    },
    {
     "name": "stderr",
     "output_type": "stream",
     "text": [
      "100%|████████████████████████████████████████████████████████████████████████████████████| 8/8 [00:00<00:00, 12.06it/s]\n"
     ]
    },
    {
     "name": "stdout",
     "output_type": "stream",
     "text": [
      "Val   loss 0.2963445205241442 accuracy 0.8974358974358974\n",
      "\n"
     ]
    },
    {
     "name": "stderr",
     "output_type": "stream",
     "text": [
      "\r",
      "  0%|                                                                                           | 0/31 [00:00<?, ?it/s]"
     ]
    },
    {
     "name": "stdout",
     "output_type": "stream",
     "text": [
      "Epoch 2/20\n",
      "----------\n"
     ]
    },
    {
     "name": "stderr",
     "output_type": "stream",
     "text": [
      "100%|██████████████████████████████████████████████████████████████████████████████████| 31/31 [00:10<00:00,  2.91it/s]\n",
      " 25%|█████████████████████                                                               | 2/8 [00:00<00:00, 12.15it/s]"
     ]
    },
    {
     "name": "stdout",
     "output_type": "stream",
     "text": [
      "Train loss 0.11054116951662206 accuracy 0.967741935483871\n"
     ]
    },
    {
     "name": "stderr",
     "output_type": "stream",
     "text": [
      "100%|████████████████████████████████████████████████████████████████████████████████████| 8/8 [00:00<00:00, 12.40it/s]\n"
     ]
    },
    {
     "name": "stdout",
     "output_type": "stream",
     "text": [
      "Val   loss 0.20315898826811463 accuracy 0.923076923076923\n",
      "\n"
     ]
    },
    {
     "name": "stderr",
     "output_type": "stream",
     "text": [
      "\r",
      "  0%|                                                                                           | 0/31 [00:00<?, ?it/s]"
     ]
    },
    {
     "name": "stdout",
     "output_type": "stream",
     "text": [
      "Epoch 3/20\n",
      "----------\n"
     ]
    },
    {
     "name": "stderr",
     "output_type": "stream",
     "text": [
      "100%|██████████████████████████████████████████████████████████████████████████████████| 31/31 [00:10<00:00,  3.00it/s]\n",
      " 25%|█████████████████████                                                               | 2/8 [00:00<00:00, 12.46it/s]"
     ]
    },
    {
     "name": "stdout",
     "output_type": "stream",
     "text": [
      "Train loss 0.02604391416835208 accuracy 0.9935483870967742\n"
     ]
    },
    {
     "name": "stderr",
     "output_type": "stream",
     "text": [
      "100%|████████████████████████████████████████████████████████████████████████████████████| 8/8 [00:00<00:00, 12.42it/s]\n",
      "  0%|                                                                                           | 0/31 [00:00<?, ?it/s]"
     ]
    },
    {
     "name": "stdout",
     "output_type": "stream",
     "text": [
      "Val   loss 0.4252195554727223 accuracy 0.8974358974358974\n",
      "\n",
      "Epoch 4/20\n",
      "----------\n"
     ]
    },
    {
     "name": "stderr",
     "output_type": "stream",
     "text": [
      "100%|██████████████████████████████████████████████████████████████████████████████████| 31/31 [00:10<00:00,  2.99it/s]\n",
      "  0%|                                                                                            | 0/8 [00:00<?, ?it/s]"
     ]
    },
    {
     "name": "stdout",
     "output_type": "stream",
     "text": [
      "Train loss 0.0018909914989865596 accuracy 1.0\n"
     ]
    },
    {
     "name": "stderr",
     "output_type": "stream",
     "text": [
      "100%|████████████████████████████████████████████████████████████████████████████████████| 8/8 [00:00<00:00, 11.50it/s]\n",
      "  0%|                                                                                           | 0/31 [00:00<?, ?it/s]"
     ]
    },
    {
     "name": "stdout",
     "output_type": "stream",
     "text": [
      "Val   loss 0.2900488766899798 accuracy 0.923076923076923\n",
      "\n",
      "Epoch 5/20\n",
      "----------\n"
     ]
    },
    {
     "name": "stderr",
     "output_type": "stream",
     "text": [
      "100%|██████████████████████████████████████████████████████████████████████████████████| 31/31 [00:10<00:00,  2.96it/s]\n",
      " 25%|█████████████████████                                                               | 2/8 [00:00<00:00, 11.86it/s]"
     ]
    },
    {
     "name": "stdout",
     "output_type": "stream",
     "text": [
      "Train loss 0.0007868933664154142 accuracy 1.0\n"
     ]
    },
    {
     "name": "stderr",
     "output_type": "stream",
     "text": [
      "100%|████████████████████████████████████████████████████████████████████████████████████| 8/8 [00:00<00:00, 12.15it/s]\n"
     ]
    },
    {
     "name": "stdout",
     "output_type": "stream",
     "text": [
      "Val   loss 0.18662424039575853 accuracy 0.9487179487179487\n",
      "\n"
     ]
    },
    {
     "name": "stderr",
     "output_type": "stream",
     "text": [
      "\r",
      "  0%|                                                                                           | 0/31 [00:00<?, ?it/s]"
     ]
    },
    {
     "name": "stdout",
     "output_type": "stream",
     "text": [
      "Epoch 6/20\n",
      "----------\n"
     ]
    },
    {
     "name": "stderr",
     "output_type": "stream",
     "text": [
      "100%|██████████████████████████████████████████████████████████████████████████████████| 31/31 [00:10<00:00,  2.93it/s]\n",
      " 25%|█████████████████████                                                               | 2/8 [00:00<00:00, 12.15it/s]"
     ]
    },
    {
     "name": "stdout",
     "output_type": "stream",
     "text": [
      "Train loss 0.0005715555556479 accuracy 1.0\n"
     ]
    },
    {
     "name": "stderr",
     "output_type": "stream",
     "text": [
      "100%|████████████████████████████████████████████████████████████████████████████████████| 8/8 [00:00<00:00, 12.04it/s]\n"
     ]
    },
    {
     "name": "stdout",
     "output_type": "stream",
     "text": [
      "Val   loss 0.17939786463830387 accuracy 0.9743589743589743\n",
      "\n"
     ]
    },
    {
     "name": "stderr",
     "output_type": "stream",
     "text": [
      "\r",
      "  0%|                                                                                           | 0/31 [00:00<?, ?it/s]"
     ]
    },
    {
     "name": "stdout",
     "output_type": "stream",
     "text": [
      "Epoch 7/20\n",
      "----------\n"
     ]
    },
    {
     "name": "stderr",
     "output_type": "stream",
     "text": [
      "100%|██████████████████████████████████████████████████████████████████████████████████| 31/31 [00:10<00:00,  3.00it/s]\n",
      " 25%|█████████████████████                                                               | 2/8 [00:00<00:00, 12.01it/s]"
     ]
    },
    {
     "name": "stdout",
     "output_type": "stream",
     "text": [
      "Train loss 0.0004641677284868614 accuracy 1.0\n"
     ]
    },
    {
     "name": "stderr",
     "output_type": "stream",
     "text": [
      "100%|████████████████████████████████████████████████████████████████████████████████████| 8/8 [00:00<00:00, 12.12it/s]\n",
      "  0%|                                                                                           | 0/31 [00:00<?, ?it/s]"
     ]
    },
    {
     "name": "stdout",
     "output_type": "stream",
     "text": [
      "Val   loss 0.18311315041137277 accuracy 0.9743589743589743\n",
      "\n",
      "Epoch 8/20\n",
      "----------\n"
     ]
    },
    {
     "name": "stderr",
     "output_type": "stream",
     "text": [
      "100%|██████████████████████████████████████████████████████████████████████████████████| 31/31 [00:10<00:00,  3.00it/s]\n",
      " 25%|█████████████████████                                                               | 2/8 [00:00<00:00, 12.08it/s]"
     ]
    },
    {
     "name": "stdout",
     "output_type": "stream",
     "text": [
      "Train loss 0.0004105957130142938 accuracy 1.0\n"
     ]
    },
    {
     "name": "stderr",
     "output_type": "stream",
     "text": [
      "100%|████████████████████████████████████████████████████████████████████████████████████| 8/8 [00:00<00:00, 12.19it/s]\n",
      "  0%|                                                                                           | 0/31 [00:00<?, ?it/s]"
     ]
    },
    {
     "name": "stdout",
     "output_type": "stream",
     "text": [
      "Val   loss 0.18706128989651916 accuracy 0.9743589743589743\n",
      "\n",
      "Epoch 9/20\n",
      "----------\n"
     ]
    },
    {
     "name": "stderr",
     "output_type": "stream",
     "text": [
      "100%|██████████████████████████████████████████████████████████████████████████████████| 31/31 [00:10<00:00,  2.96it/s]\n",
      " 25%|█████████████████████                                                               | 2/8 [00:00<00:00, 12.01it/s]"
     ]
    },
    {
     "name": "stdout",
     "output_type": "stream",
     "text": [
      "Train loss 0.0003376367606124991 accuracy 1.0\n"
     ]
    },
    {
     "name": "stderr",
     "output_type": "stream",
     "text": [
      "100%|████████████████████████████████████████████████████████████████████████████████████| 8/8 [00:00<00:00, 11.94it/s]\n",
      "  0%|                                                                                           | 0/31 [00:00<?, ?it/s]"
     ]
    },
    {
     "name": "stdout",
     "output_type": "stream",
     "text": [
      "Val   loss 0.19045916123286588 accuracy 0.9743589743589743\n",
      "\n",
      "Epoch 10/20\n",
      "----------\n"
     ]
    },
    {
     "name": "stderr",
     "output_type": "stream",
     "text": [
      "100%|██████████████████████████████████████████████████████████████████████████████████| 31/31 [00:10<00:00,  2.91it/s]\n",
      " 25%|█████████████████████                                                               | 2/8 [00:00<00:00, 10.13it/s]"
     ]
    },
    {
     "name": "stdout",
     "output_type": "stream",
     "text": [
      "Train loss 0.0003067373848264857 accuracy 1.0\n"
     ]
    },
    {
     "name": "stderr",
     "output_type": "stream",
     "text": [
      "100%|████████████████████████████████████████████████████████████████████████████████████| 8/8 [00:00<00:00,  9.37it/s]\n",
      "  0%|                                                                                           | 0/31 [00:00<?, ?it/s]"
     ]
    },
    {
     "name": "stdout",
     "output_type": "stream",
     "text": [
      "Val   loss 0.19300206495790917 accuracy 0.9743589743589743\n",
      "\n",
      "Epoch 11/20\n",
      "----------\n"
     ]
    },
    {
     "name": "stderr",
     "output_type": "stream",
     "text": [
      "100%|██████████████████████████████████████████████████████████████████████████████████| 31/31 [00:10<00:00,  2.91it/s]\n",
      " 25%|█████████████████████                                                               | 2/8 [00:00<00:00, 12.16it/s]"
     ]
    },
    {
     "name": "stdout",
     "output_type": "stream",
     "text": [
      "Train loss 0.0002874318015528843 accuracy 1.0\n"
     ]
    },
    {
     "name": "stderr",
     "output_type": "stream",
     "text": [
      "100%|████████████████████████████████████████████████████████████████████████████████████| 8/8 [00:00<00:00, 12.15it/s]\n",
      "  0%|                                                                                           | 0/31 [00:00<?, ?it/s]"
     ]
    },
    {
     "name": "stdout",
     "output_type": "stream",
     "text": [
      "Val   loss 0.19500351358146872 accuracy 0.9743589743589743\n",
      "\n",
      "Epoch 12/20\n",
      "----------\n"
     ]
    },
    {
     "name": "stderr",
     "output_type": "stream",
     "text": [
      "100%|██████████████████████████████████████████████████████████████████████████████████| 31/31 [00:10<00:00,  2.94it/s]\n",
      " 25%|█████████████████████                                                               | 2/8 [00:00<00:00, 12.38it/s]"
     ]
    },
    {
     "name": "stdout",
     "output_type": "stream",
     "text": [
      "Train loss 0.00026913013237889015 accuracy 1.0\n"
     ]
    },
    {
     "name": "stderr",
     "output_type": "stream",
     "text": [
      "100%|████████████████████████████████████████████████████████████████████████████████████| 8/8 [00:00<00:00, 11.56it/s]\n",
      "  0%|                                                                                           | 0/31 [00:00<?, ?it/s]"
     ]
    },
    {
     "name": "stdout",
     "output_type": "stream",
     "text": [
      "Val   loss 0.197009712088402 accuracy 0.9743589743589743\n",
      "\n",
      "Epoch 13/20\n",
      "----------\n"
     ]
    },
    {
     "name": "stderr",
     "output_type": "stream",
     "text": [
      "100%|██████████████████████████████████████████████████████████████████████████████████| 31/31 [00:12<00:00,  2.56it/s]\n",
      " 12%|██████████▌                                                                         | 1/8 [00:00<00:00,  9.20it/s]"
     ]
    },
    {
     "name": "stdout",
     "output_type": "stream",
     "text": [
      "Train loss 0.0002481422674346475 accuracy 1.0\n"
     ]
    },
    {
     "name": "stderr",
     "output_type": "stream",
     "text": [
      "100%|████████████████████████████████████████████████████████████████████████████████████| 8/8 [00:00<00:00,  8.80it/s]\n",
      "  0%|                                                                                           | 0/31 [00:00<?, ?it/s]"
     ]
    },
    {
     "name": "stdout",
     "output_type": "stream",
     "text": [
      "Val   loss 0.19879780058363394 accuracy 0.9743589743589743\n",
      "\n",
      "Epoch 14/20\n",
      "----------\n"
     ]
    },
    {
     "name": "stderr",
     "output_type": "stream",
     "text": [
      "100%|██████████████████████████████████████████████████████████████████████████████████| 31/31 [00:10<00:00,  2.86it/s]\n",
      " 25%|█████████████████████                                                               | 2/8 [00:00<00:00, 11.39it/s]"
     ]
    },
    {
     "name": "stdout",
     "output_type": "stream",
     "text": [
      "Train loss 0.0002339230202544 accuracy 1.0\n"
     ]
    },
    {
     "name": "stderr",
     "output_type": "stream",
     "text": [
      "100%|████████████████████████████████████████████████████████████████████████████████████| 8/8 [00:00<00:00, 11.83it/s]\n",
      "  0%|                                                                                           | 0/31 [00:00<?, ?it/s]"
     ]
    },
    {
     "name": "stdout",
     "output_type": "stream",
     "text": [
      "Val   loss 0.20027168718479516 accuracy 0.9743589743589743\n",
      "\n",
      "Epoch 15/20\n",
      "----------\n"
     ]
    },
    {
     "name": "stderr",
     "output_type": "stream",
     "text": [
      "100%|██████████████████████████████████████████████████████████████████████████████████| 31/31 [00:10<00:00,  2.96it/s]\n",
      " 25%|█████████████████████                                                               | 2/8 [00:00<00:00, 11.80it/s]"
     ]
    },
    {
     "name": "stdout",
     "output_type": "stream",
     "text": [
      "Train loss 0.0002281058447307817 accuracy 1.0\n"
     ]
    },
    {
     "name": "stderr",
     "output_type": "stream",
     "text": [
      "100%|████████████████████████████████████████████████████████████████████████████████████| 8/8 [00:00<00:00, 12.09it/s]\n",
      "  0%|                                                                                           | 0/31 [00:00<?, ?it/s]"
     ]
    },
    {
     "name": "stdout",
     "output_type": "stream",
     "text": [
      "Val   loss 0.20140880161488894 accuracy 0.9743589743589743\n",
      "\n",
      "Epoch 16/20\n",
      "----------\n"
     ]
    },
    {
     "name": "stderr",
     "output_type": "stream",
     "text": [
      "100%|██████████████████████████████████████████████████████████████████████████████████| 31/31 [00:10<00:00,  2.94it/s]\n",
      " 25%|█████████████████████                                                               | 2/8 [00:00<00:00, 12.01it/s]"
     ]
    },
    {
     "name": "stdout",
     "output_type": "stream",
     "text": [
      "Train loss 0.00021648406559946916 accuracy 1.0\n"
     ]
    },
    {
     "name": "stderr",
     "output_type": "stream",
     "text": [
      "100%|████████████████████████████████████████████████████████████████████████████████████| 8/8 [00:00<00:00, 11.88it/s]\n",
      "  0%|                                                                                           | 0/31 [00:00<?, ?it/s]"
     ]
    },
    {
     "name": "stdout",
     "output_type": "stream",
     "text": [
      "Val   loss 0.20211044321695226 accuracy 0.9743589743589743\n",
      "\n",
      "Epoch 17/20\n",
      "----------\n"
     ]
    },
    {
     "name": "stderr",
     "output_type": "stream",
     "text": [
      "100%|██████████████████████████████████████████████████████████████████████████████████| 31/31 [00:10<00:00,  2.99it/s]\n",
      " 25%|█████████████████████                                                               | 2/8 [00:00<00:00, 12.53it/s]"
     ]
    },
    {
     "name": "stdout",
     "output_type": "stream",
     "text": [
      "Train loss 0.00022629066323485945 accuracy 1.0\n"
     ]
    },
    {
     "name": "stderr",
     "output_type": "stream",
     "text": [
      "100%|████████████████████████████████████████████████████████████████████████████████████| 8/8 [00:00<00:00, 12.46it/s]\n",
      "  0%|                                                                                           | 0/31 [00:00<?, ?it/s]"
     ]
    },
    {
     "name": "stdout",
     "output_type": "stream",
     "text": [
      "Val   loss 0.20273075155637343 accuracy 0.9743589743589743\n",
      "\n",
      "Epoch 18/20\n",
      "----------\n"
     ]
    },
    {
     "name": "stderr",
     "output_type": "stream",
     "text": [
      "100%|██████████████████████████████████████████████████████████████████████████████████| 31/31 [00:10<00:00,  2.88it/s]\n",
      "  0%|                                                                                            | 0/8 [00:00<?, ?it/s]"
     ]
    },
    {
     "name": "stdout",
     "output_type": "stream",
     "text": [
      "Train loss 0.00020305043172782228 accuracy 1.0\n"
     ]
    },
    {
     "name": "stderr",
     "output_type": "stream",
     "text": [
      "100%|████████████████████████████████████████████████████████████████████████████████████| 8/8 [00:00<00:00, 11.32it/s]\n",
      "  0%|                                                                                           | 0/31 [00:00<?, ?it/s]"
     ]
    },
    {
     "name": "stdout",
     "output_type": "stream",
     "text": [
      "Val   loss 0.2032962583743938 accuracy 0.9743589743589743\n",
      "\n",
      "Epoch 19/20\n",
      "----------\n"
     ]
    },
    {
     "name": "stderr",
     "output_type": "stream",
     "text": [
      "100%|██████████████████████████████████████████████████████████████████████████████████| 31/31 [00:10<00:00,  2.89it/s]\n",
      " 25%|█████████████████████                                                               | 2/8 [00:00<00:00, 11.94it/s]"
     ]
    },
    {
     "name": "stdout",
     "output_type": "stream",
     "text": [
      "Train loss 0.00019961361343326468 accuracy 1.0\n"
     ]
    },
    {
     "name": "stderr",
     "output_type": "stream",
     "text": [
      "100%|████████████████████████████████████████████████████████████████████████████████████| 8/8 [00:00<00:00, 12.33it/s]\n",
      "  0%|                                                                                           | 0/31 [00:00<?, ?it/s]"
     ]
    },
    {
     "name": "stdout",
     "output_type": "stream",
     "text": [
      "Val   loss 0.20368256300389476 accuracy 0.9743589743589743\n",
      "\n",
      "Epoch 20/20\n",
      "----------\n"
     ]
    },
    {
     "name": "stderr",
     "output_type": "stream",
     "text": [
      "100%|██████████████████████████████████████████████████████████████████████████████████| 31/31 [00:10<00:00,  3.00it/s]\n",
      " 25%|█████████████████████                                                               | 2/8 [00:00<00:00, 11.94it/s]"
     ]
    },
    {
     "name": "stdout",
     "output_type": "stream",
     "text": [
      "Train loss 0.00021101007258684764 accuracy 1.0\n"
     ]
    },
    {
     "name": "stderr",
     "output_type": "stream",
     "text": [
      "100%|████████████████████████████████████████████████████████████████████████████████████| 8/8 [00:00<00:00, 12.10it/s]"
     ]
    },
    {
     "name": "stdout",
     "output_type": "stream",
     "text": [
      "Val   loss 0.2037256834537402 accuracy 0.9743589743589743\n",
      "\n",
      "Wall time: 4min 2s\n"
     ]
    },
    {
     "name": "stderr",
     "output_type": "stream",
     "text": [
      "\n"
     ]
    }
   ],
   "source": [
    "%%time\n",
    "\n",
    "history = defaultdict(list)\n",
    "best_accuracy = 0\n",
    "\n",
    "for epoch in range(EPOCHS):\n",
    "\n",
    "  print(f'Epoch {epoch + 1}/{EPOCHS}')\n",
    "  print('-' * 10)\n",
    "\n",
    "  train_acc, train_loss = train_epoch(\n",
    "    model,\n",
    "    train_data_loader,    \n",
    "    loss_fn, \n",
    "    optimizer, \n",
    "    device, \n",
    "    scheduler, \n",
    "    len(df_train)\n",
    "  )\n",
    "\n",
    "  print(f'Train loss {train_loss} accuracy {train_acc}')\n",
    "\n",
    "  val_acc, val_loss = eval_model(\n",
    "    model,\n",
    "    val_data_loader,\n",
    "    loss_fn, \n",
    "    device, \n",
    "    len(df_val)\n",
    "  )\n",
    "\n",
    "  print(f'Val   loss {val_loss} accuracy {val_acc}')\n",
    "  print()\n",
    "\n",
    "  history['train_acc'].append(train_acc)\n",
    "  history['train_loss'].append(train_loss)\n",
    "  history['val_acc'].append(val_acc)\n",
    "  history['val_loss'].append(val_loss)\n",
    "\n",
    "  if val_acc > best_accuracy:\n",
    "    torch.save(model.state_dict(), 'best_model_state.bin')\n",
    "    best_accuracy = val_acc"
   ]
  },
  {
   "cell_type": "code",
   "execution_count": 50,
   "metadata": {},
   "outputs": [
    {
     "data": {
      "image/png": "[encoded data removed]",
      "text/plain": [
       "<Figure size 864x576 with 1 Axes>"
      ]
     },
     "metadata": {
      "image/png": {
       "height": 503,
       "width": 728
      }
     },
     "output_type": "display_data"
    }
   ],
   "source": [
    "plt.plot(history['train_acc'], label='train accuracy')\n",
    "plt.plot(history['val_acc'], label='validation accuracy')\n",
    "\n",
    "plt.title('Training history')\n",
    "plt.ylabel('Accuracy')\n",
    "plt.xlabel('Epoch')\n",
    "plt.legend()\n",
    "plt.ylim([0, 1]);"
   ]
  },
  {
   "cell_type": "markdown",
   "metadata": {
    "id": "ZsHqkLAuf8pv"
   },
   "source": [
    "The training accuracy starts to approach 100% after 10 epochs or so. You might try to fine-tune the parameters a bit more, but this will be good enough for us.\n",
    "\n",
    "Don't want to wait? Uncomment the next cell to download my pre-trained model:"
   ]
  },
  {
   "cell_type": "code",
   "execution_count": 48,
   "metadata": {
    "id": "zoGUH8VZ-pPQ"
   },
   "outputs": [],
   "source": [
    "model = SentimentClassifier(len(class_names))\n",
    "model.load_state_dict(torch.load('best_model_state.bin'))\n",
    "model = model.to(device)"
   ]
  },
  {
   "cell_type": "markdown",
   "metadata": {
    "id": "U3HZb3NWFtFf"
   },
   "source": [
    "## Evaluation\n",
    "\n",
    "So how good is our model on predicting sentiment? Let's start by calculating the accuracy on the test data:"
   ]
  },
  {
   "cell_type": "code",
   "execution_count": 49,
   "metadata": {
    "colab": {
     "base_uri": "https://localhost:8080/"
    },
    "id": "jS3gJ_qBEljD",
    "outputId": "42d647b0-95f9-4b98-cacf-dca346dfe934"
   },
   "outputs": [
    {
     "name": "stderr",
     "output_type": "stream",
     "text": [
      "100%|████████████████████████████████████████████████████████████████████████████████████| 8/8 [00:03<00:00,  2.45it/s]\n"
     ]
    },
    {
     "data": {
      "text/plain": [
       "(0.9743589743589743, 0.17938866702388623)"
      ]
     },
     "execution_count": 49,
     "metadata": {},
     "output_type": "execute_result"
    }
   ],
   "source": [
    "test_acc, test_loss = eval_model(\n",
    "  model,\n",
    "  test_data_loader,\n",
    "  loss_fn,\n",
    "  device,\n",
    "  len(df_test)\n",
    ")\n",
    "\n",
    "test_acc.item(), test_loss.item()"
   ]
  },
  {
   "cell_type": "markdown",
   "metadata": {
    "id": "mdQ7-ylCj8Gd"
   },
   "source": [
    "The accuracy is about 1% lower on the test set. Our model seems to generalize well.\n",
    "\n",
    "We'll define a helper function to get the predictions from our model:"
   ]
  },
  {
   "cell_type": "code",
   "execution_count": 50,
   "metadata": {
    "id": "EgR6MuNS8jr_"
   },
   "outputs": [],
   "source": [
    "def get_predictions(model, data_loader):\n",
    "  model = model.eval()\n",
    "  \n",
    "  review_texts = []\n",
    "  predictions = []\n",
    "  prediction_probs = []\n",
    "  real_values = []\n",
    "\n",
    "  with torch.no_grad():\n",
    "    for d in data_loader:\n",
    "\n",
    "      texts = d[\"review_text\"]\n",
    "      input_ids = d[\"input_ids\"].to(device)\n",
    "      attention_mask = d[\"attention_mask\"].to(device)\n",
    "      targets = d[\"targets\"].to(device)\n",
    "\n",
    "      outputs = model(\n",
    "        input_ids=input_ids,\n",
    "        attention_mask=attention_mask\n",
    "      )\n",
    "      _, preds = torch.max(outputs, dim=1)\n",
    "\n",
    "      probs = F.softmax(outputs, dim=1)\n",
    "\n",
    "      review_texts.extend(texts)\n",
    "      predictions.extend(preds)\n",
    "      prediction_probs.extend(probs)\n",
    "      real_values.extend(targets)\n",
    "\n",
    "  predictions = torch.stack(predictions).cpu()\n",
    "  prediction_probs = torch.stack(prediction_probs).cpu()\n",
    "  real_values = torch.stack(real_values).cpu()\n",
    "  return review_texts, predictions, prediction_probs, real_values"
   ]
  },
  {
   "cell_type": "markdown",
   "metadata": {
    "id": "dkbnBTI7kd_y"
   },
   "source": [
    "This is similar to the evaluation function, except that we're storing the text of the reviews and the predicted probabilities (by applying the softmax on the model outputs):"
   ]
  },
  {
   "cell_type": "code",
   "execution_count": 51,
   "metadata": {
    "id": "zHdPZr60-0c_"
   },
   "outputs": [],
   "source": [
    "y_review_texts, y_pred, y_pred_probs, y_test = get_predictions(\n",
    "  model,\n",
    "  test_data_loader\n",
    ")"
   ]
  },
  {
   "cell_type": "markdown",
   "metadata": {
    "id": "gVwoVij2lC7F"
   },
   "source": [
    "Let's have a look at the classification report"
   ]
  },
  {
   "cell_type": "code",
   "execution_count": 52,
   "metadata": {},
   "outputs": [
    {
     "name": "stdout",
     "output_type": "stream",
     "text": [
      "0 ID\n",
      "1 non ID\n"
     ]
    }
   ],
   "source": [
    "for i,j in enumerate(class_names):\n",
    "    print(i,j)"
   ]
  },
  {
   "cell_type": "code",
   "execution_count": 53,
   "metadata": {
    "colab": {
     "base_uri": "https://localhost:8080/"
    },
    "id": "L8a9_8-ND3Is",
    "outputId": "15df9872-b513-4c22-9baa-dabe876483d0"
   },
   "outputs": [
    {
     "name": "stdout",
     "output_type": "stream",
     "text": [
      "              precision    recall  f1-score   support\n",
      "\n",
      "          ID       1.00      0.95      0.97        20\n",
      "      non ID       0.95      1.00      0.97        19\n",
      "\n",
      "    accuracy                           0.97        39\n",
      "   macro avg       0.97      0.97      0.97        39\n",
      "weighted avg       0.98      0.97      0.97        39\n",
      "\n"
     ]
    }
   ],
   "source": [
    "print(classification_report(y_test, y_pred,target_names=class_names))"
   ]
  },
  {
   "cell_type": "markdown",
   "metadata": {
    "id": "rFAekw3mmWUi"
   },
   "source": [
    "We'll continue with the confusion matrix:"
   ]
  },
  {
   "cell_type": "code",
   "execution_count": 54,
   "metadata": {
    "colab": {
     "base_uri": "https://localhost:8080/",
     "height": 509
    },
    "id": "6d1qxsc__DTh",
    "outputId": "620e01af-96ce-4712-b2a2-d82ddd16dc12"
   },
   "outputs": [
    {
     "data": {
      "image/png": "[encoded data removed]",
      "text/plain": [
       "<Figure size 864x576 with 2 Axes>"
      ]
     },
     "metadata": {
      "image/png": {
       "height": 505,
       "width": 705
      }
     },
     "output_type": "display_data"
    }
   ],
   "source": [
    "def show_confusion_matrix(confusion_matrix):\n",
    "  hmap = sns.heatmap(confusion_matrix, annot=True, fmt=\"d\", cmap=\"Blues\")\n",
    "  hmap.yaxis.set_ticklabels(hmap.yaxis.get_ticklabels(), rotation=0, ha='right')\n",
    "  hmap.xaxis.set_ticklabels(hmap.xaxis.get_ticklabels(), rotation=30, ha='right')\n",
    "  plt.ylabel('True sentiment')\n",
    "  plt.xlabel('Predicted sentiment');\n",
    "\n",
    "cm = confusion_matrix(y_test, y_pred)\n",
    "df_cm = pd.DataFrame(cm, index=class_names, columns=class_names)\n",
    "show_confusion_matrix(df_cm)"
   ]
  },
  {
   "cell_type": "markdown",
   "metadata": {
    "id": "wx0U7oNsnZ3A"
   },
   "source": [
    "That's a good overview of the performance of our model. But let's have a look at an example from our test data:"
   ]
  },
  {
   "cell_type": "code",
   "execution_count": 55,
   "metadata": {
    "id": "iANBiY3sLo-K"
   },
   "outputs": [],
   "source": [
    "idx = 3\n",
    "\n",
    "review_text = y_review_texts[idx]\n",
    "true_sentiment = y_test[idx]\n",
    "pred_df = pd.DataFrame({\n",
    "  'class_names': class_names,\n",
    "  'values': y_pred_probs[idx]\n",
    "})"
   ]
  },
  {
   "cell_type": "code",
   "execution_count": 56,
   "metadata": {
    "colab": {
     "base_uri": "https://localhost:8080/"
    },
    "id": "-8D0rb1yfnv4",
    "outputId": "acc9211d-32fc-4f87-f12b-e0a9792eac36"
   },
   "outputs": [
    {
     "name": "stdout",
     "output_type": "stream",
     "text": [
      "“Don’t distort it and say the government did it. No government would\n",
      "be crazy enough to do that, except people who want to be the\n",
      "government and think of doing it,” junta chairman Prayuth Chan-ocha\n",
      "told reporters Tuesday.\n",
      "\n",
      "True sentiment: ID\n"
     ]
    }
   ],
   "source": [
    "print(\"\\n\".join(wrap(review_text)))\n",
    "print()\n",
    "print(f'True sentiment: {class_names[true_sentiment]}')"
   ]
  },
  {
   "cell_type": "markdown",
   "metadata": {
    "id": "f7hj_IZFnn2X"
   },
   "source": [
    "Now we can look at the confidence of each sentiment of our model:"
   ]
  },
  {
   "cell_type": "code",
   "execution_count": 57,
   "metadata": {
    "colab": {
     "base_uri": "https://localhost:8080/",
     "height": 506
    },
    "id": "qj4d8lZyMkhf",
    "outputId": "d3e05dae-f451-44b2-8bb4-af483e481bdb"
   },
   "outputs": [
    {
     "data": {
      "image/png": "[encoded data removed]",
      "text/plain": [
       "<Figure size 864x576 with 1 Axes>"
      ]
     },
     "metadata": {
      "image/png": {
       "height": 487,
       "width": 758
      }
     },
     "output_type": "display_data"
    }
   ],
   "source": [
    "sns.barplot(x='values', y='class_names', data=pred_df, orient='h')\n",
    "plt.ylabel('sentiment')\n",
    "plt.xlabel('probability')\n",
    "plt.xlim([0, 1]);"
   ]
  },
  {
   "cell_type": "markdown",
   "metadata": {
    "id": "7WL5pDmvFyaU"
   },
   "source": [
    "### Predicting on Raw Text\n",
    "\n",
    "Let's use our model to predict the label of the tweets:"
   ]
  },
  {
   "cell_type": "code",
   "execution_count": 58,
   "metadata": {},
   "outputs": [],
   "source": [
    "from nltk import sent_tokenize\n",
    "import re\n",
    "from bs4 import BeautifulSoup\n",
    "\n",
    "import os\n"
   ]
  },
  {
   "cell_type": "code",
   "execution_count": 59,
   "metadata": {},
   "outputs": [
    {
     "data": {
      "text/plain": [
       "' Why so serioys'"
      ]
     },
     "execution_count": 59,
     "metadata": {},
     "output_type": "execute_result"
    }
   ],
   "source": [
    "additional_stop_words = ['image omitted','sticker omitted','video omitted','GIF omitted']\n",
    "\n",
    "def text_cleanup(text):  \n",
    "    '''\n",
    "    Text pre-processing\n",
    "        return a sentence of cleaned words\n",
    "    '''\n",
    "    text_clean = str(text)\n",
    "    #remove html tags\n",
    "    text_clean = BeautifulSoup(text, \"lxml\").text\n",
    "\n",
    "    ## Convert to lowercase\n",
    "    #text_clean = text_clean.lower()\n",
    "\n",
    "    #remove stop phrases\n",
    "    for stop in additional_stop_words:\n",
    "        text_clean = text_clean.replace(stop, '')\n",
    "      \n",
    "    ##Remove non-alphabet\n",
    "    text_clean = re.sub(r'[^a-zA-Z0-9]|(\\w+:\\/\\/\\S+)',' ', text_clean)\n",
    "  \n",
    "    ##spliting into tokens\n",
    "    #text_clean = text_clean.split()\n",
    "\n",
    "    ##Remove short words (length < 3)\n",
    "    #text_clean = [w for w in text_clean if len(w)>2]\n",
    "\n",
    "    ##Lemmatize text ## alternative is to use stemming\n",
    "    #lemmatizer = WordNetLemmatizer()\n",
    "    #text_clean = [lemmatizer.lemmatize(w) for w in text_clean]\n",
    "    \n",
    "    #ps = PorterStemmer()\n",
    "    #text_clean = [ps.stem(w) for w in text_clean]\n",
    "    \n",
    "    ## Filter out stop words in English \n",
    "          \n",
    "    #stops = set(stopwords.words('english'))\n",
    "    #text_clean = [w for w in text_clean if w not in stops]\n",
    "    \n",
    "    #joining the list into a sentence\n",
    "    #mySeparator = \" \"\n",
    "    #text_clean = mySeparator.join(text_clean)\n",
    "\n",
    "\n",
    "    return text_clean\n",
    "\n",
    "text = 'image omitted Why so serioys'\n",
    "text_cleanup(text)"
   ]
  },
  {
   "cell_type": "code",
   "execution_count": 60,
   "metadata": {
    "colab": {
     "base_uri": "https://localhost:8080/"
    },
    "id": "IB96iHoQWKEe",
    "outputId": "54fa5d65-d75c-48a0-c1d8-3096191ba757"
   },
   "outputs": [
    {
     "ename": "NameError",
     "evalue": "name 'msg_df' is not defined",
     "output_type": "error",
     "traceback": [
      "\u001b[1;31m---------------------------------------------------------------------------\u001b[0m",
      "\u001b[1;31mNameError\u001b[0m                                 Traceback (most recent call last)",
      "\u001b[1;32m<ipython-input-60-0b96e225f79d>\u001b[0m in \u001b[0;36m<module>\u001b[1;34m\u001b[0m\n\u001b[0;32m     47\u001b[0m \u001b[1;33m\u001b[0m\u001b[0m\n\u001b[0;32m     48\u001b[0m \u001b[1;33m\u001b[0m\u001b[0m\n\u001b[1;32m---> 49\u001b[1;33m \u001b[0mprint\u001b[0m\u001b[1;33m(\u001b[0m\u001b[0mmsg_df\u001b[0m\u001b[1;33m[\u001b[0m\u001b[1;34m'message2'\u001b[0m\u001b[1;33m]\u001b[0m\u001b[1;33m.\u001b[0m\u001b[0miloc\u001b[0m\u001b[1;33m[\u001b[0m\u001b[1;36m4\u001b[0m\u001b[1;33m]\u001b[0m\u001b[1;33m)\u001b[0m\u001b[1;33m\u001b[0m\u001b[1;33m\u001b[0m\u001b[0m\n\u001b[0m\u001b[0;32m     50\u001b[0m \u001b[0mlabel_text\u001b[0m\u001b[1;33m(\u001b[0m\u001b[0mmsg_df\u001b[0m\u001b[1;33m[\u001b[0m\u001b[1;34m'message2'\u001b[0m\u001b[1;33m]\u001b[0m\u001b[1;33m.\u001b[0m\u001b[0miloc\u001b[0m\u001b[1;33m[\u001b[0m\u001b[1;36m1\u001b[0m\u001b[1;33m]\u001b[0m\u001b[1;33m,\u001b[0m\u001b[0mclass_names\u001b[0m\u001b[1;33m,\u001b[0m\u001b[0mverbose\u001b[0m\u001b[1;33m=\u001b[0m\u001b[1;32mTrue\u001b[0m\u001b[1;33m)\u001b[0m\u001b[1;33m\u001b[0m\u001b[1;33m\u001b[0m\u001b[0m\n",
      "\u001b[1;31mNameError\u001b[0m: name 'msg_df' is not defined"
     ]
    }
   ],
   "source": [
    "def label_text(text,class_names,verbose=False):\n",
    "    topic_sentences = []\n",
    "    try:        \n",
    "        review_text = text\n",
    "    \n",
    "\n",
    "        encoded_review = tokenizer.encode_plus(\n",
    "                                                review_text,\n",
    "                                                max_length=MAX_LEN,\n",
    "                                                add_special_tokens=True,\n",
    "                                                return_token_type_ids=False,\n",
    "                                                #pad_to_max_length=True,\n",
    "                                                padding='max_length',\n",
    "                                                return_attention_mask=True,\n",
    "                                                return_tensors='pt',\n",
    "                                                truncation=True\n",
    "                                                )\n",
    "\n",
    "        input_ids = encoded_review['input_ids'].to(device)\n",
    "        attention_mask = encoded_review['attention_mask'].to(device)\n",
    "\n",
    "        output = model(input_ids, attention_mask)\n",
    "        _, prediction = torch.max(output, dim=1)\n",
    "        prob_range = F.softmax(output, dim=1).tolist()\n",
    "\n",
    "        prob = max(prob_range[0])\n",
    "\n",
    "        #this is a weird multi-class thing that I'm doing, which is to accept probabilities greater than 1/number of classes\n",
    "        prob_range = [(class_names[i],j) for i,j in enumerate(prob_range[0]) if j>(1/len(class_names))]\n",
    "\n",
    "        topic_sentences.append({'txt':review_text,\n",
    "                                'sent_pred':class_names[prediction],\n",
    "                                'sent_pred_prob':prob,\n",
    "                                'sent_prob_range':prob_range})\n",
    "\n",
    "\n",
    "        if verbose==True:\n",
    "            print(prob)\n",
    "            print(f'Review text: {review_text}')\n",
    "            print(f'Sentiment  : {class_names[prediction]}')\n",
    "            print(f'prob  : {prob}')\n",
    "            print(f'prob_range: {prob_range}')\n",
    "\n",
    "        return topic_sentences\n",
    "    except:\n",
    "        return topic_sentences\n",
    "\n",
    "    \n",
    "print(msg_df['message2'].iloc[4])\n",
    "label_text(msg_df['message2'].iloc[1],class_names,verbose=True)"
   ]
  },
  {
   "cell_type": "code",
   "execution_count": 61,
   "metadata": {},
   "outputs": [
    {
     "data": {
      "text/plain": [
       "['D:\\\\PACK\\\\HTBSC Project\\\\Information Disorder and Operations\\\\Terrorism and Fake News Project\\\\Pipeline_FNT\\\\0.2 Data Collection using GTD\\\\h5files_2015_2018\\\\201501010014_11345.h5',\n",
       " 'D:\\\\PACK\\\\HTBSC Project\\\\Information Disorder and Operations\\\\Terrorism and Fake News Project\\\\Pipeline_FNT\\\\0.2 Data Collection using GTD\\\\h5files_2015_2018\\\\201501010014_13538.h5',\n",
       " 'D:\\\\PACK\\\\HTBSC Project\\\\Information Disorder and Operations\\\\Terrorism and Fake News Project\\\\Pipeline_FNT\\\\0.2 Data Collection using GTD\\\\h5files_2015_2018\\\\201501010014_13539.h5',\n",
       " 'D:\\\\PACK\\\\HTBSC Project\\\\Information Disorder and Operations\\\\Terrorism and Fake News Project\\\\Pipeline_FNT\\\\0.2 Data Collection using GTD\\\\h5files_2015_2018\\\\201501010014_7553.h5',\n",
       " 'D:\\\\PACK\\\\HTBSC Project\\\\Information Disorder and Operations\\\\Terrorism and Fake News Project\\\\Pipeline_FNT\\\\0.2 Data Collection using GTD\\\\h5files_2015_2018\\\\201501010014_7554.h5',\n",
       " 'D:\\\\PACK\\\\HTBSC Project\\\\Information Disorder and Operations\\\\Terrorism and Fake News Project\\\\Pipeline_FNT\\\\0.2 Data Collection using GTD\\\\h5files_2015_2018\\\\201501010014_7555.h5',\n",
       " 'D:\\\\PACK\\\\HTBSC Project\\\\Information Disorder and Operations\\\\Terrorism and Fake News Project\\\\Pipeline_FNT\\\\0.2 Data Collection using GTD\\\\h5files_2015_2018\\\\201501010014_7556.h5',\n",
       " 'D:\\\\PACK\\\\HTBSC Project\\\\Information Disorder and Operations\\\\Terrorism and Fake News Project\\\\Pipeline_FNT\\\\0.2 Data Collection using GTD\\\\h5files_2015_2018\\\\201501010014_7557.h5',\n",
       " 'D:\\\\PACK\\\\HTBSC Project\\\\Information Disorder and Operations\\\\Terrorism and Fake News Project\\\\Pipeline_FNT\\\\0.2 Data Collection using GTD\\\\h5files_2015_2018\\\\201501010014_7558.h5',\n",
       " 'D:\\\\PACK\\\\HTBSC Project\\\\Information Disorder and Operations\\\\Terrorism and Fake News Project\\\\Pipeline_FNT\\\\0.2 Data Collection using GTD\\\\h5files_2015_2018\\\\201501010014_7559.h5',\n",
       " 'D:\\\\PACK\\\\HTBSC Project\\\\Information Disorder and Operations\\\\Terrorism and Fake News Project\\\\Pipeline_FNT\\\\0.2 Data Collection using GTD\\\\h5files_2015_2018\\\\201501020080_11342.h5',\n",
       " 'D:\\\\PACK\\\\HTBSC Project\\\\Information Disorder and Operations\\\\Terrorism and Fake News Project\\\\Pipeline_FNT\\\\0.2 Data Collection using GTD\\\\h5files_2015_2018\\\\201501020080_11343.h5',\n",
       " 'D:\\\\PACK\\\\HTBSC Project\\\\Information Disorder and Operations\\\\Terrorism and Fake News Project\\\\Pipeline_FNT\\\\0.2 Data Collection using GTD\\\\h5files_2015_2018\\\\201501020080_11344.h5',\n",
       " 'D:\\\\PACK\\\\HTBSC Project\\\\Information Disorder and Operations\\\\Terrorism and Fake News Project\\\\Pipeline_FNT\\\\0.2 Data Collection using GTD\\\\h5files_2015_2018\\\\201501020080_7551.h5',\n",
       " 'D:\\\\PACK\\\\HTBSC Project\\\\Information Disorder and Operations\\\\Terrorism and Fake News Project\\\\Pipeline_FNT\\\\0.2 Data Collection using GTD\\\\h5files_2015_2018\\\\201501020080_7552.h5',\n",
       " 'D:\\\\PACK\\\\HTBSC Project\\\\Information Disorder and Operations\\\\Terrorism and Fake News Project\\\\Pipeline_FNT\\\\0.2 Data Collection using GTD\\\\h5files_2015_2018\\\\201501050056_7548.h5',\n",
       " 'D:\\\\PACK\\\\HTBSC Project\\\\Information Disorder and Operations\\\\Terrorism and Fake News Project\\\\Pipeline_FNT\\\\0.2 Data Collection using GTD\\\\h5files_2015_2018\\\\201501050056_7549.h5',\n",
       " 'D:\\\\PACK\\\\HTBSC Project\\\\Information Disorder and Operations\\\\Terrorism and Fake News Project\\\\Pipeline_FNT\\\\0.2 Data Collection using GTD\\\\h5files_2015_2018\\\\201501050056_7550.h5',\n",
       " 'D:\\\\PACK\\\\HTBSC Project\\\\Information Disorder and Operations\\\\Terrorism and Fake News Project\\\\Pipeline_FNT\\\\0.2 Data Collection using GTD\\\\h5files_2015_2018\\\\201501060029_11339.h5',\n",
       " 'D:\\\\PACK\\\\HTBSC Project\\\\Information Disorder and Operations\\\\Terrorism and Fake News Project\\\\Pipeline_FNT\\\\0.2 Data Collection using GTD\\\\h5files_2015_2018\\\\201501060029_11340.h5',\n",
       " 'D:\\\\PACK\\\\HTBSC Project\\\\Information Disorder and Operations\\\\Terrorism and Fake News Project\\\\Pipeline_FNT\\\\0.2 Data Collection using GTD\\\\h5files_2015_2018\\\\201501060029_11341.h5',\n",
       " 'D:\\\\PACK\\\\HTBSC Project\\\\Information Disorder and Operations\\\\Terrorism and Fake News Project\\\\Pipeline_FNT\\\\0.2 Data Collection using GTD\\\\h5files_2015_2018\\\\201501060029_13537.h5',\n",
       " 'D:\\\\PACK\\\\HTBSC Project\\\\Information Disorder and Operations\\\\Terrorism and Fake News Project\\\\Pipeline_FNT\\\\0.2 Data Collection using GTD\\\\h5files_2015_2018\\\\201501060029_7547.h5',\n",
       " 'D:\\\\PACK\\\\HTBSC Project\\\\Information Disorder and Operations\\\\Terrorism and Fake News Project\\\\Pipeline_FNT\\\\0.2 Data Collection using GTD\\\\h5files_2015_2018\\\\201501060034_7541.h5',\n",
       " 'D:\\\\PACK\\\\HTBSC Project\\\\Information Disorder and Operations\\\\Terrorism and Fake News Project\\\\Pipeline_FNT\\\\0.2 Data Collection using GTD\\\\h5files_2015_2018\\\\201501060034_7542.h5',\n",
       " 'D:\\\\PACK\\\\HTBSC Project\\\\Information Disorder and Operations\\\\Terrorism and Fake News Project\\\\Pipeline_FNT\\\\0.2 Data Collection using GTD\\\\h5files_2015_2018\\\\201501060034_7543.h5',\n",
       " 'D:\\\\PACK\\\\HTBSC Project\\\\Information Disorder and Operations\\\\Terrorism and Fake News Project\\\\Pipeline_FNT\\\\0.2 Data Collection using GTD\\\\h5files_2015_2018\\\\201501060034_7544.h5',\n",
       " 'D:\\\\PACK\\\\HTBSC Project\\\\Information Disorder and Operations\\\\Terrorism and Fake News Project\\\\Pipeline_FNT\\\\0.2 Data Collection using GTD\\\\h5files_2015_2018\\\\201501060034_7545.h5',\n",
       " 'D:\\\\PACK\\\\HTBSC Project\\\\Information Disorder and Operations\\\\Terrorism and Fake News Project\\\\Pipeline_FNT\\\\0.2 Data Collection using GTD\\\\h5files_2015_2018\\\\201501060034_7546.h5',\n",
       " 'D:\\\\PACK\\\\HTBSC Project\\\\Information Disorder and Operations\\\\Terrorism and Fake News Project\\\\Pipeline_FNT\\\\0.2 Data Collection using GTD\\\\h5files_2015_2018\\\\201501070015_7535.h5',\n",
       " 'D:\\\\PACK\\\\HTBSC Project\\\\Information Disorder and Operations\\\\Terrorism and Fake News Project\\\\Pipeline_FNT\\\\0.2 Data Collection using GTD\\\\h5files_2015_2018\\\\201501070015_7536.h5',\n",
       " 'D:\\\\PACK\\\\HTBSC Project\\\\Information Disorder and Operations\\\\Terrorism and Fake News Project\\\\Pipeline_FNT\\\\0.2 Data Collection using GTD\\\\h5files_2015_2018\\\\201501070015_7537.h5',\n",
       " 'D:\\\\PACK\\\\HTBSC Project\\\\Information Disorder and Operations\\\\Terrorism and Fake News Project\\\\Pipeline_FNT\\\\0.2 Data Collection using GTD\\\\h5files_2015_2018\\\\201501070015_7538.h5',\n",
       " 'D:\\\\PACK\\\\HTBSC Project\\\\Information Disorder and Operations\\\\Terrorism and Fake News Project\\\\Pipeline_FNT\\\\0.2 Data Collection using GTD\\\\h5files_2015_2018\\\\201501070015_7539.h5',\n",
       " 'D:\\\\PACK\\\\HTBSC Project\\\\Information Disorder and Operations\\\\Terrorism and Fake News Project\\\\Pipeline_FNT\\\\0.2 Data Collection using GTD\\\\h5files_2015_2018\\\\201501070015_7540.h5',\n",
       " 'D:\\\\PACK\\\\HTBSC Project\\\\Information Disorder and Operations\\\\Terrorism and Fake News Project\\\\Pipeline_FNT\\\\0.2 Data Collection using GTD\\\\h5files_2015_2018\\\\201501070030_11338.h5',\n",
       " 'D:\\\\PACK\\\\HTBSC Project\\\\Information Disorder and Operations\\\\Terrorism and Fake News Project\\\\Pipeline_FNT\\\\0.2 Data Collection using GTD\\\\h5files_2015_2018\\\\201501070030_7533.h5',\n",
       " 'D:\\\\PACK\\\\HTBSC Project\\\\Information Disorder and Operations\\\\Terrorism and Fake News Project\\\\Pipeline_FNT\\\\0.2 Data Collection using GTD\\\\h5files_2015_2018\\\\201501070030_7534.h5',\n",
       " 'D:\\\\PACK\\\\HTBSC Project\\\\Information Disorder and Operations\\\\Terrorism and Fake News Project\\\\Pipeline_FNT\\\\0.2 Data Collection using GTD\\\\h5files_2015_2018\\\\201501070089_7529.h5',\n",
       " 'D:\\\\PACK\\\\HTBSC Project\\\\Information Disorder and Operations\\\\Terrorism and Fake News Project\\\\Pipeline_FNT\\\\0.2 Data Collection using GTD\\\\h5files_2015_2018\\\\201501070089_7530.h5',\n",
       " 'D:\\\\PACK\\\\HTBSC Project\\\\Information Disorder and Operations\\\\Terrorism and Fake News Project\\\\Pipeline_FNT\\\\0.2 Data Collection using GTD\\\\h5files_2015_2018\\\\201501070089_7531.h5',\n",
       " 'D:\\\\PACK\\\\HTBSC Project\\\\Information Disorder and Operations\\\\Terrorism and Fake News Project\\\\Pipeline_FNT\\\\0.2 Data Collection using GTD\\\\h5files_2015_2018\\\\201501070089_7532.h5',\n",
       " 'D:\\\\PACK\\\\HTBSC Project\\\\Information Disorder and Operations\\\\Terrorism and Fake News Project\\\\Pipeline_FNT\\\\0.2 Data Collection using GTD\\\\h5files_2015_2018\\\\201501080051_11330.h5',\n",
       " 'D:\\\\PACK\\\\HTBSC Project\\\\Information Disorder and Operations\\\\Terrorism and Fake News Project\\\\Pipeline_FNT\\\\0.2 Data Collection using GTD\\\\h5files_2015_2018\\\\201501080051_11331.h5',\n",
       " 'D:\\\\PACK\\\\HTBSC Project\\\\Information Disorder and Operations\\\\Terrorism and Fake News Project\\\\Pipeline_FNT\\\\0.2 Data Collection using GTD\\\\h5files_2015_2018\\\\201501080051_11332.h5',\n",
       " 'D:\\\\PACK\\\\HTBSC Project\\\\Information Disorder and Operations\\\\Terrorism and Fake News Project\\\\Pipeline_FNT\\\\0.2 Data Collection using GTD\\\\h5files_2015_2018\\\\201501080051_11333.h5',\n",
       " 'D:\\\\PACK\\\\HTBSC Project\\\\Information Disorder and Operations\\\\Terrorism and Fake News Project\\\\Pipeline_FNT\\\\0.2 Data Collection using GTD\\\\h5files_2015_2018\\\\201501080051_11334.h5',\n",
       " 'D:\\\\PACK\\\\HTBSC Project\\\\Information Disorder and Operations\\\\Terrorism and Fake News Project\\\\Pipeline_FNT\\\\0.2 Data Collection using GTD\\\\h5files_2015_2018\\\\201501080051_11335.h5',\n",
       " 'D:\\\\PACK\\\\HTBSC Project\\\\Information Disorder and Operations\\\\Terrorism and Fake News Project\\\\Pipeline_FNT\\\\0.2 Data Collection using GTD\\\\h5files_2015_2018\\\\201501080051_11336.h5',\n",
       " 'D:\\\\PACK\\\\HTBSC Project\\\\Information Disorder and Operations\\\\Terrorism and Fake News Project\\\\Pipeline_FNT\\\\0.2 Data Collection using GTD\\\\h5files_2015_2018\\\\201501080051_11337.h5',\n",
       " 'D:\\\\PACK\\\\HTBSC Project\\\\Information Disorder and Operations\\\\Terrorism and Fake News Project\\\\Pipeline_FNT\\\\0.2 Data Collection using GTD\\\\h5files_2015_2018\\\\201501080051_13535.h5',\n",
       " 'D:\\\\PACK\\\\HTBSC Project\\\\Information Disorder and Operations\\\\Terrorism and Fake News Project\\\\Pipeline_FNT\\\\0.2 Data Collection using GTD\\\\h5files_2015_2018\\\\201501080051_13536.h5',\n",
       " 'D:\\\\PACK\\\\HTBSC Project\\\\Information Disorder and Operations\\\\Terrorism and Fake News Project\\\\Pipeline_FNT\\\\0.2 Data Collection using GTD\\\\h5files_2015_2018\\\\201501080051_7528.h5',\n",
       " 'D:\\\\PACK\\\\HTBSC Project\\\\Information Disorder and Operations\\\\Terrorism and Fake News Project\\\\Pipeline_FNT\\\\0.2 Data Collection using GTD\\\\h5files_2015_2018\\\\201501090095_7519.h5',\n",
       " 'D:\\\\PACK\\\\HTBSC Project\\\\Information Disorder and Operations\\\\Terrorism and Fake News Project\\\\Pipeline_FNT\\\\0.2 Data Collection using GTD\\\\h5files_2015_2018\\\\201501090095_7520.h5',\n",
       " 'D:\\\\PACK\\\\HTBSC Project\\\\Information Disorder and Operations\\\\Terrorism and Fake News Project\\\\Pipeline_FNT\\\\0.2 Data Collection using GTD\\\\h5files_2015_2018\\\\201501090095_7521.h5',\n",
       " 'D:\\\\PACK\\\\HTBSC Project\\\\Information Disorder and Operations\\\\Terrorism and Fake News Project\\\\Pipeline_FNT\\\\0.2 Data Collection using GTD\\\\h5files_2015_2018\\\\201501090095_7522.h5',\n",
       " 'D:\\\\PACK\\\\HTBSC Project\\\\Information Disorder and Operations\\\\Terrorism and Fake News Project\\\\Pipeline_FNT\\\\0.2 Data Collection using GTD\\\\h5files_2015_2018\\\\201501090095_7523.h5',\n",
       " 'D:\\\\PACK\\\\HTBSC Project\\\\Information Disorder and Operations\\\\Terrorism and Fake News Project\\\\Pipeline_FNT\\\\0.2 Data Collection using GTD\\\\h5files_2015_2018\\\\201501090095_7524.h5',\n",
       " 'D:\\\\PACK\\\\HTBSC Project\\\\Information Disorder and Operations\\\\Terrorism and Fake News Project\\\\Pipeline_FNT\\\\0.2 Data Collection using GTD\\\\h5files_2015_2018\\\\201501090095_7525.h5',\n",
       " 'D:\\\\PACK\\\\HTBSC Project\\\\Information Disorder and Operations\\\\Terrorism and Fake News Project\\\\Pipeline_FNT\\\\0.2 Data Collection using GTD\\\\h5files_2015_2018\\\\201501090095_7526.h5',\n",
       " 'D:\\\\PACK\\\\HTBSC Project\\\\Information Disorder and Operations\\\\Terrorism and Fake News Project\\\\Pipeline_FNT\\\\0.2 Data Collection using GTD\\\\h5files_2015_2018\\\\201501090095_7527.h5',\n",
       " 'D:\\\\PACK\\\\HTBSC Project\\\\Information Disorder and Operations\\\\Terrorism and Fake News Project\\\\Pipeline_FNT\\\\0.2 Data Collection using GTD\\\\h5files_2015_2018\\\\201501100063_11329.h5',\n",
       " 'D:\\\\PACK\\\\HTBSC Project\\\\Information Disorder and Operations\\\\Terrorism and Fake News Project\\\\Pipeline_FNT\\\\0.2 Data Collection using GTD\\\\h5files_2015_2018\\\\201501100063_13531.h5',\n",
       " 'D:\\\\PACK\\\\HTBSC Project\\\\Information Disorder and Operations\\\\Terrorism and Fake News Project\\\\Pipeline_FNT\\\\0.2 Data Collection using GTD\\\\h5files_2015_2018\\\\201501100063_13532.h5',\n",
       " 'D:\\\\PACK\\\\HTBSC Project\\\\Information Disorder and Operations\\\\Terrorism and Fake News Project\\\\Pipeline_FNT\\\\0.2 Data Collection using GTD\\\\h5files_2015_2018\\\\201501100063_13533.h5',\n",
       " 'D:\\\\PACK\\\\HTBSC Project\\\\Information Disorder and Operations\\\\Terrorism and Fake News Project\\\\Pipeline_FNT\\\\0.2 Data Collection using GTD\\\\h5files_2015_2018\\\\201501100063_13534.h5',\n",
       " 'D:\\\\PACK\\\\HTBSC Project\\\\Information Disorder and Operations\\\\Terrorism and Fake News Project\\\\Pipeline_FNT\\\\0.2 Data Collection using GTD\\\\h5files_2015_2018\\\\201501100063_7518.h5',\n",
       " 'D:\\\\PACK\\\\HTBSC Project\\\\Information Disorder and Operations\\\\Terrorism and Fake News Project\\\\Pipeline_FNT\\\\0.2 Data Collection using GTD\\\\h5files_2015_2018\\\\201501100084_11328.h5',\n",
       " 'D:\\\\PACK\\\\HTBSC Project\\\\Information Disorder and Operations\\\\Terrorism and Fake News Project\\\\Pipeline_FNT\\\\0.2 Data Collection using GTD\\\\h5files_2015_2018\\\\201501100084_13528.h5',\n",
       " 'D:\\\\PACK\\\\HTBSC Project\\\\Information Disorder and Operations\\\\Terrorism and Fake News Project\\\\Pipeline_FNT\\\\0.2 Data Collection using GTD\\\\h5files_2015_2018\\\\201501100084_13529.h5',\n",
       " 'D:\\\\PACK\\\\HTBSC Project\\\\Information Disorder and Operations\\\\Terrorism and Fake News Project\\\\Pipeline_FNT\\\\0.2 Data Collection using GTD\\\\h5files_2015_2018\\\\201501100084_13530.h5',\n",
       " 'D:\\\\PACK\\\\HTBSC Project\\\\Information Disorder and Operations\\\\Terrorism and Fake News Project\\\\Pipeline_FNT\\\\0.2 Data Collection using GTD\\\\h5files_2015_2018\\\\201501100084_7516.h5',\n",
       " 'D:\\\\PACK\\\\HTBSC Project\\\\Information Disorder and Operations\\\\Terrorism and Fake News Project\\\\Pipeline_FNT\\\\0.2 Data Collection using GTD\\\\h5files_2015_2018\\\\201501100084_7517.h5',\n",
       " 'D:\\\\PACK\\\\HTBSC Project\\\\Information Disorder and Operations\\\\Terrorism and Fake News Project\\\\Pipeline_FNT\\\\0.2 Data Collection using GTD\\\\h5files_2015_2018\\\\201501130023_11323.h5',\n",
       " 'D:\\\\PACK\\\\HTBSC Project\\\\Information Disorder and Operations\\\\Terrorism and Fake News Project\\\\Pipeline_FNT\\\\0.2 Data Collection using GTD\\\\h5files_2015_2018\\\\201501130023_11324.h5',\n",
       " 'D:\\\\PACK\\\\HTBSC Project\\\\Information Disorder and Operations\\\\Terrorism and Fake News Project\\\\Pipeline_FNT\\\\0.2 Data Collection using GTD\\\\h5files_2015_2018\\\\201501130023_11325.h5',\n",
       " 'D:\\\\PACK\\\\HTBSC Project\\\\Information Disorder and Operations\\\\Terrorism and Fake News Project\\\\Pipeline_FNT\\\\0.2 Data Collection using GTD\\\\h5files_2015_2018\\\\201501130023_11326.h5',\n",
       " 'D:\\\\PACK\\\\HTBSC Project\\\\Information Disorder and Operations\\\\Terrorism and Fake News Project\\\\Pipeline_FNT\\\\0.2 Data Collection using GTD\\\\h5files_2015_2018\\\\201501130023_11327.h5',\n",
       " 'D:\\\\PACK\\\\HTBSC Project\\\\Information Disorder and Operations\\\\Terrorism and Fake News Project\\\\Pipeline_FNT\\\\0.2 Data Collection using GTD\\\\h5files_2015_2018\\\\201501130023_13524.h5',\n",
       " 'D:\\\\PACK\\\\HTBSC Project\\\\Information Disorder and Operations\\\\Terrorism and Fake News Project\\\\Pipeline_FNT\\\\0.2 Data Collection using GTD\\\\h5files_2015_2018\\\\201501130023_13525.h5',\n",
       " 'D:\\\\PACK\\\\HTBSC Project\\\\Information Disorder and Operations\\\\Terrorism and Fake News Project\\\\Pipeline_FNT\\\\0.2 Data Collection using GTD\\\\h5files_2015_2018\\\\201501130023_13526.h5',\n",
       " 'D:\\\\PACK\\\\HTBSC Project\\\\Information Disorder and Operations\\\\Terrorism and Fake News Project\\\\Pipeline_FNT\\\\0.2 Data Collection using GTD\\\\h5files_2015_2018\\\\201501130023_13527.h5',\n",
       " 'D:\\\\PACK\\\\HTBSC Project\\\\Information Disorder and Operations\\\\Terrorism and Fake News Project\\\\Pipeline_FNT\\\\0.2 Data Collection using GTD\\\\h5files_2015_2018\\\\201501130023_7515.h5',\n",
       " 'D:\\\\PACK\\\\HTBSC Project\\\\Information Disorder and Operations\\\\Terrorism and Fake News Project\\\\Pipeline_FNT\\\\0.2 Data Collection using GTD\\\\h5files_2015_2018\\\\201501130024_7510.h5',\n",
       " 'D:\\\\PACK\\\\HTBSC Project\\\\Information Disorder and Operations\\\\Terrorism and Fake News Project\\\\Pipeline_FNT\\\\0.2 Data Collection using GTD\\\\h5files_2015_2018\\\\201501130024_7511.h5',\n",
       " 'D:\\\\PACK\\\\HTBSC Project\\\\Information Disorder and Operations\\\\Terrorism and Fake News Project\\\\Pipeline_FNT\\\\0.2 Data Collection using GTD\\\\h5files_2015_2018\\\\201501130024_7512.h5',\n",
       " 'D:\\\\PACK\\\\HTBSC Project\\\\Information Disorder and Operations\\\\Terrorism and Fake News Project\\\\Pipeline_FNT\\\\0.2 Data Collection using GTD\\\\h5files_2015_2018\\\\201501130024_7513.h5',\n",
       " 'D:\\\\PACK\\\\HTBSC Project\\\\Information Disorder and Operations\\\\Terrorism and Fake News Project\\\\Pipeline_FNT\\\\0.2 Data Collection using GTD\\\\h5files_2015_2018\\\\201501130024_7514.h5',\n",
       " 'D:\\\\PACK\\\\HTBSC Project\\\\Information Disorder and Operations\\\\Terrorism and Fake News Project\\\\Pipeline_FNT\\\\0.2 Data Collection using GTD\\\\h5files_2015_2018\\\\201501130025_11318.h5',\n",
       " 'D:\\\\PACK\\\\HTBSC Project\\\\Information Disorder and Operations\\\\Terrorism and Fake News Project\\\\Pipeline_FNT\\\\0.2 Data Collection using GTD\\\\h5files_2015_2018\\\\201501130025_11319.h5',\n",
       " 'D:\\\\PACK\\\\HTBSC Project\\\\Information Disorder and Operations\\\\Terrorism and Fake News Project\\\\Pipeline_FNT\\\\0.2 Data Collection using GTD\\\\h5files_2015_2018\\\\201501130025_11320.h5',\n",
       " 'D:\\\\PACK\\\\HTBSC Project\\\\Information Disorder and Operations\\\\Terrorism and Fake News Project\\\\Pipeline_FNT\\\\0.2 Data Collection using GTD\\\\h5files_2015_2018\\\\201501130025_11321.h5',\n",
       " 'D:\\\\PACK\\\\HTBSC Project\\\\Information Disorder and Operations\\\\Terrorism and Fake News Project\\\\Pipeline_FNT\\\\0.2 Data Collection using GTD\\\\h5files_2015_2018\\\\201501130025_11322.h5',\n",
       " 'D:\\\\PACK\\\\HTBSC Project\\\\Information Disorder and Operations\\\\Terrorism and Fake News Project\\\\Pipeline_FNT\\\\0.2 Data Collection using GTD\\\\h5files_2015_2018\\\\201501130025_7508.h5',\n",
       " 'D:\\\\PACK\\\\HTBSC Project\\\\Information Disorder and Operations\\\\Terrorism and Fake News Project\\\\Pipeline_FNT\\\\0.2 Data Collection using GTD\\\\h5files_2015_2018\\\\201501130025_7509.h5',\n",
       " 'D:\\\\PACK\\\\HTBSC Project\\\\Information Disorder and Operations\\\\Terrorism and Fake News Project\\\\Pipeline_FNT\\\\0.2 Data Collection using GTD\\\\h5files_2015_2018\\\\201501140028_11316.h5',\n",
       " 'D:\\\\PACK\\\\HTBSC Project\\\\Information Disorder and Operations\\\\Terrorism and Fake News Project\\\\Pipeline_FNT\\\\0.2 Data Collection using GTD\\\\h5files_2015_2018\\\\201501140028_11317.h5',\n",
       " 'D:\\\\PACK\\\\HTBSC Project\\\\Information Disorder and Operations\\\\Terrorism and Fake News Project\\\\Pipeline_FNT\\\\0.2 Data Collection using GTD\\\\h5files_2015_2018\\\\201501140028_7505.h5',\n",
       " 'D:\\\\PACK\\\\HTBSC Project\\\\Information Disorder and Operations\\\\Terrorism and Fake News Project\\\\Pipeline_FNT\\\\0.2 Data Collection using GTD\\\\h5files_2015_2018\\\\201501140028_7506.h5',\n",
       " 'D:\\\\PACK\\\\HTBSC Project\\\\Information Disorder and Operations\\\\Terrorism and Fake News Project\\\\Pipeline_FNT\\\\0.2 Data Collection using GTD\\\\h5files_2015_2018\\\\201501140028_7507.h5',\n",
       " 'D:\\\\PACK\\\\HTBSC Project\\\\Information Disorder and Operations\\\\Terrorism and Fake News Project\\\\Pipeline_FNT\\\\0.2 Data Collection using GTD\\\\h5files_2015_2018\\\\201501140037_11314.h5',\n",
       " 'D:\\\\PACK\\\\HTBSC Project\\\\Information Disorder and Operations\\\\Terrorism and Fake News Project\\\\Pipeline_FNT\\\\0.2 Data Collection using GTD\\\\h5files_2015_2018\\\\201501140037_11315.h5',\n",
       " 'D:\\\\PACK\\\\HTBSC Project\\\\Information Disorder and Operations\\\\Terrorism and Fake News Project\\\\Pipeline_FNT\\\\0.2 Data Collection using GTD\\\\h5files_2015_2018\\\\201501140037_13522.h5',\n",
       " 'D:\\\\PACK\\\\HTBSC Project\\\\Information Disorder and Operations\\\\Terrorism and Fake News Project\\\\Pipeline_FNT\\\\0.2 Data Collection using GTD\\\\h5files_2015_2018\\\\201501140037_13523.h5',\n",
       " 'D:\\\\PACK\\\\HTBSC Project\\\\Information Disorder and Operations\\\\Terrorism and Fake News Project\\\\Pipeline_FNT\\\\0.2 Data Collection using GTD\\\\h5files_2015_2018\\\\201501140037_7504.h5',\n",
       " 'D:\\\\PACK\\\\HTBSC Project\\\\Information Disorder and Operations\\\\Terrorism and Fake News Project\\\\Pipeline_FNT\\\\0.2 Data Collection using GTD\\\\h5files_2015_2018\\\\201501140060_11308.h5',\n",
       " 'D:\\\\PACK\\\\HTBSC Project\\\\Information Disorder and Operations\\\\Terrorism and Fake News Project\\\\Pipeline_FNT\\\\0.2 Data Collection using GTD\\\\h5files_2015_2018\\\\201501140060_11309.h5',\n",
       " 'D:\\\\PACK\\\\HTBSC Project\\\\Information Disorder and Operations\\\\Terrorism and Fake News Project\\\\Pipeline_FNT\\\\0.2 Data Collection using GTD\\\\h5files_2015_2018\\\\201501140060_11310.h5',\n",
       " 'D:\\\\PACK\\\\HTBSC Project\\\\Information Disorder and Operations\\\\Terrorism and Fake News Project\\\\Pipeline_FNT\\\\0.2 Data Collection using GTD\\\\h5files_2015_2018\\\\201501140060_11311.h5',\n",
       " 'D:\\\\PACK\\\\HTBSC Project\\\\Information Disorder and Operations\\\\Terrorism and Fake News Project\\\\Pipeline_FNT\\\\0.2 Data Collection using GTD\\\\h5files_2015_2018\\\\201501140060_11312.h5',\n",
       " 'D:\\\\PACK\\\\HTBSC Project\\\\Information Disorder and Operations\\\\Terrorism and Fake News Project\\\\Pipeline_FNT\\\\0.2 Data Collection using GTD\\\\h5files_2015_2018\\\\201501140060_11313.h5',\n",
       " 'D:\\\\PACK\\\\HTBSC Project\\\\Information Disorder and Operations\\\\Terrorism and Fake News Project\\\\Pipeline_FNT\\\\0.2 Data Collection using GTD\\\\h5files_2015_2018\\\\201501140060_7501.h5',\n",
       " 'D:\\\\PACK\\\\HTBSC Project\\\\Information Disorder and Operations\\\\Terrorism and Fake News Project\\\\Pipeline_FNT\\\\0.2 Data Collection using GTD\\\\h5files_2015_2018\\\\201501140060_7502.h5',\n",
       " 'D:\\\\PACK\\\\HTBSC Project\\\\Information Disorder and Operations\\\\Terrorism and Fake News Project\\\\Pipeline_FNT\\\\0.2 Data Collection using GTD\\\\h5files_2015_2018\\\\201501140060_7503.h5',\n",
       " 'D:\\\\PACK\\\\HTBSC Project\\\\Information Disorder and Operations\\\\Terrorism and Fake News Project\\\\Pipeline_FNT\\\\0.2 Data Collection using GTD\\\\h5files_2015_2018\\\\201501150039_11306.h5',\n",
       " 'D:\\\\PACK\\\\HTBSC Project\\\\Information Disorder and Operations\\\\Terrorism and Fake News Project\\\\Pipeline_FNT\\\\0.2 Data Collection using GTD\\\\h5files_2015_2018\\\\201501150039_11307.h5',\n",
       " 'D:\\\\PACK\\\\HTBSC Project\\\\Information Disorder and Operations\\\\Terrorism and Fake News Project\\\\Pipeline_FNT\\\\0.2 Data Collection using GTD\\\\h5files_2015_2018\\\\201501150039_13520.h5',\n",
       " 'D:\\\\PACK\\\\HTBSC Project\\\\Information Disorder and Operations\\\\Terrorism and Fake News Project\\\\Pipeline_FNT\\\\0.2 Data Collection using GTD\\\\h5files_2015_2018\\\\201501150039_13521.h5',\n",
       " 'D:\\\\PACK\\\\HTBSC Project\\\\Information Disorder and Operations\\\\Terrorism and Fake News Project\\\\Pipeline_FNT\\\\0.2 Data Collection using GTD\\\\h5files_2015_2018\\\\201501150039_7498.h5',\n",
       " 'D:\\\\PACK\\\\HTBSC Project\\\\Information Disorder and Operations\\\\Terrorism and Fake News Project\\\\Pipeline_FNT\\\\0.2 Data Collection using GTD\\\\h5files_2015_2018\\\\201501150039_7499.h5',\n",
       " 'D:\\\\PACK\\\\HTBSC Project\\\\Information Disorder and Operations\\\\Terrorism and Fake News Project\\\\Pipeline_FNT\\\\0.2 Data Collection using GTD\\\\h5files_2015_2018\\\\201501150039_7500.h5',\n",
       " 'D:\\\\PACK\\\\HTBSC Project\\\\Information Disorder and Operations\\\\Terrorism and Fake News Project\\\\Pipeline_FNT\\\\0.2 Data Collection using GTD\\\\h5files_2015_2018\\\\201501160071_11305.h5',\n",
       " 'D:\\\\PACK\\\\HTBSC Project\\\\Information Disorder and Operations\\\\Terrorism and Fake News Project\\\\Pipeline_FNT\\\\0.2 Data Collection using GTD\\\\h5files_2015_2018\\\\201501160071_13519.h5',\n",
       " 'D:\\\\PACK\\\\HTBSC Project\\\\Information Disorder and Operations\\\\Terrorism and Fake News Project\\\\Pipeline_FNT\\\\0.2 Data Collection using GTD\\\\h5files_2015_2018\\\\201501160071_7497.h5',\n",
       " 'D:\\\\PACK\\\\HTBSC Project\\\\Information Disorder and Operations\\\\Terrorism and Fake News Project\\\\Pipeline_FNT\\\\0.2 Data Collection using GTD\\\\h5files_2015_2018\\\\201501190022_11303.h5',\n",
       " 'D:\\\\PACK\\\\HTBSC Project\\\\Information Disorder and Operations\\\\Terrorism and Fake News Project\\\\Pipeline_FNT\\\\0.2 Data Collection using GTD\\\\h5files_2015_2018\\\\201501190022_11304.h5',\n",
       " 'D:\\\\PACK\\\\HTBSC Project\\\\Information Disorder and Operations\\\\Terrorism and Fake News Project\\\\Pipeline_FNT\\\\0.2 Data Collection using GTD\\\\h5files_2015_2018\\\\201501190022_13511.h5',\n",
       " 'D:\\\\PACK\\\\HTBSC Project\\\\Information Disorder and Operations\\\\Terrorism and Fake News Project\\\\Pipeline_FNT\\\\0.2 Data Collection using GTD\\\\h5files_2015_2018\\\\201501190022_13512.h5',\n",
       " 'D:\\\\PACK\\\\HTBSC Project\\\\Information Disorder and Operations\\\\Terrorism and Fake News Project\\\\Pipeline_FNT\\\\0.2 Data Collection using GTD\\\\h5files_2015_2018\\\\201501190022_13513.h5',\n",
       " 'D:\\\\PACK\\\\HTBSC Project\\\\Information Disorder and Operations\\\\Terrorism and Fake News Project\\\\Pipeline_FNT\\\\0.2 Data Collection using GTD\\\\h5files_2015_2018\\\\201501190022_13514.h5',\n",
       " 'D:\\\\PACK\\\\HTBSC Project\\\\Information Disorder and Operations\\\\Terrorism and Fake News Project\\\\Pipeline_FNT\\\\0.2 Data Collection using GTD\\\\h5files_2015_2018\\\\201501190022_13515.h5',\n",
       " 'D:\\\\PACK\\\\HTBSC Project\\\\Information Disorder and Operations\\\\Terrorism and Fake News Project\\\\Pipeline_FNT\\\\0.2 Data Collection using GTD\\\\h5files_2015_2018\\\\201501190022_13516.h5',\n",
       " 'D:\\\\PACK\\\\HTBSC Project\\\\Information Disorder and Operations\\\\Terrorism and Fake News Project\\\\Pipeline_FNT\\\\0.2 Data Collection using GTD\\\\h5files_2015_2018\\\\201501190022_13517.h5',\n",
       " 'D:\\\\PACK\\\\HTBSC Project\\\\Information Disorder and Operations\\\\Terrorism and Fake News Project\\\\Pipeline_FNT\\\\0.2 Data Collection using GTD\\\\h5files_2015_2018\\\\201501190022_13518.h5',\n",
       " 'D:\\\\PACK\\\\HTBSC Project\\\\Information Disorder and Operations\\\\Terrorism and Fake News Project\\\\Pipeline_FNT\\\\0.2 Data Collection using GTD\\\\h5files_2015_2018\\\\201501190023_13503.h5',\n",
       " 'D:\\\\PACK\\\\HTBSC Project\\\\Information Disorder and Operations\\\\Terrorism and Fake News Project\\\\Pipeline_FNT\\\\0.2 Data Collection using GTD\\\\h5files_2015_2018\\\\201501190023_13504.h5',\n",
       " 'D:\\\\PACK\\\\HTBSC Project\\\\Information Disorder and Operations\\\\Terrorism and Fake News Project\\\\Pipeline_FNT\\\\0.2 Data Collection using GTD\\\\h5files_2015_2018\\\\201501190023_13505.h5',\n",
       " 'D:\\\\PACK\\\\HTBSC Project\\\\Information Disorder and Operations\\\\Terrorism and Fake News Project\\\\Pipeline_FNT\\\\0.2 Data Collection using GTD\\\\h5files_2015_2018\\\\201501190023_13506.h5',\n",
       " 'D:\\\\PACK\\\\HTBSC Project\\\\Information Disorder and Operations\\\\Terrorism and Fake News Project\\\\Pipeline_FNT\\\\0.2 Data Collection using GTD\\\\h5files_2015_2018\\\\201501190023_13507.h5',\n",
       " 'D:\\\\PACK\\\\HTBSC Project\\\\Information Disorder and Operations\\\\Terrorism and Fake News Project\\\\Pipeline_FNT\\\\0.2 Data Collection using GTD\\\\h5files_2015_2018\\\\201501190023_13508.h5',\n",
       " 'D:\\\\PACK\\\\HTBSC Project\\\\Information Disorder and Operations\\\\Terrorism and Fake News Project\\\\Pipeline_FNT\\\\0.2 Data Collection using GTD\\\\h5files_2015_2018\\\\201501190023_13509.h5',\n",
       " 'D:\\\\PACK\\\\HTBSC Project\\\\Information Disorder and Operations\\\\Terrorism and Fake News Project\\\\Pipeline_FNT\\\\0.2 Data Collection using GTD\\\\h5files_2015_2018\\\\201501190023_13510.h5',\n",
       " 'D:\\\\PACK\\\\HTBSC Project\\\\Information Disorder and Operations\\\\Terrorism and Fake News Project\\\\Pipeline_FNT\\\\0.2 Data Collection using GTD\\\\h5files_2015_2018\\\\201501190023_7496.h5',\n",
       " 'D:\\\\PACK\\\\HTBSC Project\\\\Information Disorder and Operations\\\\Terrorism and Fake News Project\\\\Pipeline_FNT\\\\0.2 Data Collection using GTD\\\\h5files_2015_2018\\\\201501190024_11302.h5',\n",
       " 'D:\\\\PACK\\\\HTBSC Project\\\\Information Disorder and Operations\\\\Terrorism and Fake News Project\\\\Pipeline_FNT\\\\0.2 Data Collection using GTD\\\\h5files_2015_2018\\\\201501190024_7494.h5',\n",
       " 'D:\\\\PACK\\\\HTBSC Project\\\\Information Disorder and Operations\\\\Terrorism and Fake News Project\\\\Pipeline_FNT\\\\0.2 Data Collection using GTD\\\\h5files_2015_2018\\\\201501190024_7495.h5',\n",
       " 'D:\\\\PACK\\\\HTBSC Project\\\\Information Disorder and Operations\\\\Terrorism and Fake News Project\\\\Pipeline_FNT\\\\0.2 Data Collection using GTD\\\\h5files_2015_2018\\\\201501190060_13496.h5',\n",
       " 'D:\\\\PACK\\\\HTBSC Project\\\\Information Disorder and Operations\\\\Terrorism and Fake News Project\\\\Pipeline_FNT\\\\0.2 Data Collection using GTD\\\\h5files_2015_2018\\\\201501190060_13497.h5',\n",
       " 'D:\\\\PACK\\\\HTBSC Project\\\\Information Disorder and Operations\\\\Terrorism and Fake News Project\\\\Pipeline_FNT\\\\0.2 Data Collection using GTD\\\\h5files_2015_2018\\\\201501190060_13498.h5',\n",
       " 'D:\\\\PACK\\\\HTBSC Project\\\\Information Disorder and Operations\\\\Terrorism and Fake News Project\\\\Pipeline_FNT\\\\0.2 Data Collection using GTD\\\\h5files_2015_2018\\\\201501190060_13499.h5',\n",
       " 'D:\\\\PACK\\\\HTBSC Project\\\\Information Disorder and Operations\\\\Terrorism and Fake News Project\\\\Pipeline_FNT\\\\0.2 Data Collection using GTD\\\\h5files_2015_2018\\\\201501190060_13500.h5',\n",
       " 'D:\\\\PACK\\\\HTBSC Project\\\\Information Disorder and Operations\\\\Terrorism and Fake News Project\\\\Pipeline_FNT\\\\0.2 Data Collection using GTD\\\\h5files_2015_2018\\\\201501190060_13501.h5',\n",
       " 'D:\\\\PACK\\\\HTBSC Project\\\\Information Disorder and Operations\\\\Terrorism and Fake News Project\\\\Pipeline_FNT\\\\0.2 Data Collection using GTD\\\\h5files_2015_2018\\\\201501190060_13502.h5',\n",
       " 'D:\\\\PACK\\\\HTBSC Project\\\\Information Disorder and Operations\\\\Terrorism and Fake News Project\\\\Pipeline_FNT\\\\0.2 Data Collection using GTD\\\\h5files_2015_2018\\\\201501200032_11301.h5',\n",
       " 'D:\\\\PACK\\\\HTBSC Project\\\\Information Disorder and Operations\\\\Terrorism and Fake News Project\\\\Pipeline_FNT\\\\0.2 Data Collection using GTD\\\\h5files_2015_2018\\\\201501200032_13494.h5',\n",
       " 'D:\\\\PACK\\\\HTBSC Project\\\\Information Disorder and Operations\\\\Terrorism and Fake News Project\\\\Pipeline_FNT\\\\0.2 Data Collection using GTD\\\\h5files_2015_2018\\\\201501200032_13495.h5',\n",
       " 'D:\\\\PACK\\\\HTBSC Project\\\\Information Disorder and Operations\\\\Terrorism and Fake News Project\\\\Pipeline_FNT\\\\0.2 Data Collection using GTD\\\\h5files_2015_2018\\\\201501200032_7492.h5',\n",
       " 'D:\\\\PACK\\\\HTBSC Project\\\\Information Disorder and Operations\\\\Terrorism and Fake News Project\\\\Pipeline_FNT\\\\0.2 Data Collection using GTD\\\\h5files_2015_2018\\\\201501200032_7493.h5',\n",
       " 'D:\\\\PACK\\\\HTBSC Project\\\\Information Disorder and Operations\\\\Terrorism and Fake News Project\\\\Pipeline_FNT\\\\0.2 Data Collection using GTD\\\\h5files_2015_2018\\\\201501200033_11300.h5',\n",
       " 'D:\\\\PACK\\\\HTBSC Project\\\\Information Disorder and Operations\\\\Terrorism and Fake News Project\\\\Pipeline_FNT\\\\0.2 Data Collection using GTD\\\\h5files_2015_2018\\\\201501200033_7491.h5',\n",
       " 'D:\\\\PACK\\\\HTBSC Project\\\\Information Disorder and Operations\\\\Terrorism and Fake News Project\\\\Pipeline_FNT\\\\0.2 Data Collection using GTD\\\\h5files_2015_2018\\\\201501200035_11290.h5',\n",
       " 'D:\\\\PACK\\\\HTBSC Project\\\\Information Disorder and Operations\\\\Terrorism and Fake News Project\\\\Pipeline_FNT\\\\0.2 Data Collection using GTD\\\\h5files_2015_2018\\\\201501200035_11291.h5',\n",
       " 'D:\\\\PACK\\\\HTBSC Project\\\\Information Disorder and Operations\\\\Terrorism and Fake News Project\\\\Pipeline_FNT\\\\0.2 Data Collection using GTD\\\\h5files_2015_2018\\\\201501200035_11292.h5',\n",
       " 'D:\\\\PACK\\\\HTBSC Project\\\\Information Disorder and Operations\\\\Terrorism and Fake News Project\\\\Pipeline_FNT\\\\0.2 Data Collection using GTD\\\\h5files_2015_2018\\\\201501200035_11293.h5',\n",
       " 'D:\\\\PACK\\\\HTBSC Project\\\\Information Disorder and Operations\\\\Terrorism and Fake News Project\\\\Pipeline_FNT\\\\0.2 Data Collection using GTD\\\\h5files_2015_2018\\\\201501200035_11294.h5',\n",
       " 'D:\\\\PACK\\\\HTBSC Project\\\\Information Disorder and Operations\\\\Terrorism and Fake News Project\\\\Pipeline_FNT\\\\0.2 Data Collection using GTD\\\\h5files_2015_2018\\\\201501200035_11295.h5',\n",
       " 'D:\\\\PACK\\\\HTBSC Project\\\\Information Disorder and Operations\\\\Terrorism and Fake News Project\\\\Pipeline_FNT\\\\0.2 Data Collection using GTD\\\\h5files_2015_2018\\\\201501200035_11296.h5',\n",
       " 'D:\\\\PACK\\\\HTBSC Project\\\\Information Disorder and Operations\\\\Terrorism and Fake News Project\\\\Pipeline_FNT\\\\0.2 Data Collection using GTD\\\\h5files_2015_2018\\\\201501200035_11297.h5',\n",
       " 'D:\\\\PACK\\\\HTBSC Project\\\\Information Disorder and Operations\\\\Terrorism and Fake News Project\\\\Pipeline_FNT\\\\0.2 Data Collection using GTD\\\\h5files_2015_2018\\\\201501200035_11298.h5',\n",
       " 'D:\\\\PACK\\\\HTBSC Project\\\\Information Disorder and Operations\\\\Terrorism and Fake News Project\\\\Pipeline_FNT\\\\0.2 Data Collection using GTD\\\\h5files_2015_2018\\\\201501200035_11299.h5',\n",
       " 'D:\\\\PACK\\\\HTBSC Project\\\\Information Disorder and Operations\\\\Terrorism and Fake News Project\\\\Pipeline_FNT\\\\0.2 Data Collection using GTD\\\\h5files_2015_2018\\\\201501200035_7489.h5',\n",
       " 'D:\\\\PACK\\\\HTBSC Project\\\\Information Disorder and Operations\\\\Terrorism and Fake News Project\\\\Pipeline_FNT\\\\0.2 Data Collection using GTD\\\\h5files_2015_2018\\\\201501200035_7490.h5',\n",
       " 'D:\\\\PACK\\\\HTBSC Project\\\\Information Disorder and Operations\\\\Terrorism and Fake News Project\\\\Pipeline_FNT\\\\0.2 Data Collection using GTD\\\\h5files_2015_2018\\\\201501200036_11289.h5',\n",
       " 'D:\\\\PACK\\\\HTBSC Project\\\\Information Disorder and Operations\\\\Terrorism and Fake News Project\\\\Pipeline_FNT\\\\0.2 Data Collection using GTD\\\\h5files_2015_2018\\\\201501200036_7486.h5',\n",
       " 'D:\\\\PACK\\\\HTBSC Project\\\\Information Disorder and Operations\\\\Terrorism and Fake News Project\\\\Pipeline_FNT\\\\0.2 Data Collection using GTD\\\\h5files_2015_2018\\\\201501200036_7487.h5',\n",
       " 'D:\\\\PACK\\\\HTBSC Project\\\\Information Disorder and Operations\\\\Terrorism and Fake News Project\\\\Pipeline_FNT\\\\0.2 Data Collection using GTD\\\\h5files_2015_2018\\\\201501200036_7488.h5',\n",
       " 'D:\\\\PACK\\\\HTBSC Project\\\\Information Disorder and Operations\\\\Terrorism and Fake News Project\\\\Pipeline_FNT\\\\0.2 Data Collection using GTD\\\\h5files_2015_2018\\\\201501200089_7485.h5',\n",
       " 'D:\\\\PACK\\\\HTBSC Project\\\\Information Disorder and Operations\\\\Terrorism and Fake News Project\\\\Pipeline_FNT\\\\0.2 Data Collection using GTD\\\\h5files_2015_2018\\\\201501200110_7479.h5',\n",
       " 'D:\\\\PACK\\\\HTBSC Project\\\\Information Disorder and Operations\\\\Terrorism and Fake News Project\\\\Pipeline_FNT\\\\0.2 Data Collection using GTD\\\\h5files_2015_2018\\\\201501200110_7480.h5',\n",
       " 'D:\\\\PACK\\\\HTBSC Project\\\\Information Disorder and Operations\\\\Terrorism and Fake News Project\\\\Pipeline_FNT\\\\0.2 Data Collection using GTD\\\\h5files_2015_2018\\\\201501200110_7481.h5',\n",
       " 'D:\\\\PACK\\\\HTBSC Project\\\\Information Disorder and Operations\\\\Terrorism and Fake News Project\\\\Pipeline_FNT\\\\0.2 Data Collection using GTD\\\\h5files_2015_2018\\\\201501200110_7482.h5',\n",
       " 'D:\\\\PACK\\\\HTBSC Project\\\\Information Disorder and Operations\\\\Terrorism and Fake News Project\\\\Pipeline_FNT\\\\0.2 Data Collection using GTD\\\\h5files_2015_2018\\\\201501200110_7483.h5',\n",
       " 'D:\\\\PACK\\\\HTBSC Project\\\\Information Disorder and Operations\\\\Terrorism and Fake News Project\\\\Pipeline_FNT\\\\0.2 Data Collection using GTD\\\\h5files_2015_2018\\\\201501200110_7484.h5',\n",
       " 'D:\\\\PACK\\\\HTBSC Project\\\\Information Disorder and Operations\\\\Terrorism and Fake News Project\\\\Pipeline_FNT\\\\0.2 Data Collection using GTD\\\\h5files_2015_2018\\\\201501210013_7477.h5',\n",
       " 'D:\\\\PACK\\\\HTBSC Project\\\\Information Disorder and Operations\\\\Terrorism and Fake News Project\\\\Pipeline_FNT\\\\0.2 Data Collection using GTD\\\\h5files_2015_2018\\\\201501210013_7478.h5',\n",
       " 'D:\\\\PACK\\\\HTBSC Project\\\\Information Disorder and Operations\\\\Terrorism and Fake News Project\\\\Pipeline_FNT\\\\0.2 Data Collection using GTD\\\\h5files_2015_2018\\\\201501220032_7470.h5',\n",
       " 'D:\\\\PACK\\\\HTBSC Project\\\\Information Disorder and Operations\\\\Terrorism and Fake News Project\\\\Pipeline_FNT\\\\0.2 Data Collection using GTD\\\\h5files_2015_2018\\\\201501220032_7471.h5',\n",
       " 'D:\\\\PACK\\\\HTBSC Project\\\\Information Disorder and Operations\\\\Terrorism and Fake News Project\\\\Pipeline_FNT\\\\0.2 Data Collection using GTD\\\\h5files_2015_2018\\\\201501220032_7472.h5',\n",
       " 'D:\\\\PACK\\\\HTBSC Project\\\\Information Disorder and Operations\\\\Terrorism and Fake News Project\\\\Pipeline_FNT\\\\0.2 Data Collection using GTD\\\\h5files_2015_2018\\\\201501220032_7473.h5',\n",
       " 'D:\\\\PACK\\\\HTBSC Project\\\\Information Disorder and Operations\\\\Terrorism and Fake News Project\\\\Pipeline_FNT\\\\0.2 Data Collection using GTD\\\\h5files_2015_2018\\\\201501220032_7474.h5',\n",
       " 'D:\\\\PACK\\\\HTBSC Project\\\\Information Disorder and Operations\\\\Terrorism and Fake News Project\\\\Pipeline_FNT\\\\0.2 Data Collection using GTD\\\\h5files_2015_2018\\\\201501220032_7475.h5',\n",
       " 'D:\\\\PACK\\\\HTBSC Project\\\\Information Disorder and Operations\\\\Terrorism and Fake News Project\\\\Pipeline_FNT\\\\0.2 Data Collection using GTD\\\\h5files_2015_2018\\\\201501220032_7476.h5',\n",
       " 'D:\\\\PACK\\\\HTBSC Project\\\\Information Disorder and Operations\\\\Terrorism and Fake News Project\\\\Pipeline_FNT\\\\0.2 Data Collection using GTD\\\\h5files_2015_2018\\\\201501230014_11288.h5',\n",
       " 'D:\\\\PACK\\\\HTBSC Project\\\\Information Disorder and Operations\\\\Terrorism and Fake News Project\\\\Pipeline_FNT\\\\0.2 Data Collection using GTD\\\\h5files_2015_2018\\\\201501230014_13489.h5',\n",
       " 'D:\\\\PACK\\\\HTBSC Project\\\\Information Disorder and Operations\\\\Terrorism and Fake News Project\\\\Pipeline_FNT\\\\0.2 Data Collection using GTD\\\\h5files_2015_2018\\\\201501230014_13490.h5',\n",
       " 'D:\\\\PACK\\\\HTBSC Project\\\\Information Disorder and Operations\\\\Terrorism and Fake News Project\\\\Pipeline_FNT\\\\0.2 Data Collection using GTD\\\\h5files_2015_2018\\\\201501230014_13491.h5',\n",
       " 'D:\\\\PACK\\\\HTBSC Project\\\\Information Disorder and Operations\\\\Terrorism and Fake News Project\\\\Pipeline_FNT\\\\0.2 Data Collection using GTD\\\\h5files_2015_2018\\\\201501230014_13492.h5',\n",
       " 'D:\\\\PACK\\\\HTBSC Project\\\\Information Disorder and Operations\\\\Terrorism and Fake News Project\\\\Pipeline_FNT\\\\0.2 Data Collection using GTD\\\\h5files_2015_2018\\\\201501230014_13493.h5',\n",
       " 'D:\\\\PACK\\\\HTBSC Project\\\\Information Disorder and Operations\\\\Terrorism and Fake News Project\\\\Pipeline_FNT\\\\0.2 Data Collection using GTD\\\\h5files_2015_2018\\\\201501230014_7466.h5',\n",
       " 'D:\\\\PACK\\\\HTBSC Project\\\\Information Disorder and Operations\\\\Terrorism and Fake News Project\\\\Pipeline_FNT\\\\0.2 Data Collection using GTD\\\\h5files_2015_2018\\\\201501230014_7467.h5',\n",
       " 'D:\\\\PACK\\\\HTBSC Project\\\\Information Disorder and Operations\\\\Terrorism and Fake News Project\\\\Pipeline_FNT\\\\0.2 Data Collection using GTD\\\\h5files_2015_2018\\\\201501230014_7468.h5',\n",
       " 'D:\\\\PACK\\\\HTBSC Project\\\\Information Disorder and Operations\\\\Terrorism and Fake News Project\\\\Pipeline_FNT\\\\0.2 Data Collection using GTD\\\\h5files_2015_2018\\\\201501230014_7469.h5',\n",
       " 'D:\\\\PACK\\\\HTBSC Project\\\\Information Disorder and Operations\\\\Terrorism and Fake News Project\\\\Pipeline_FNT\\\\0.2 Data Collection using GTD\\\\h5files_2015_2018\\\\201501230018_7460.h5',\n",
       " 'D:\\\\PACK\\\\HTBSC Project\\\\Information Disorder and Operations\\\\Terrorism and Fake News Project\\\\Pipeline_FNT\\\\0.2 Data Collection using GTD\\\\h5files_2015_2018\\\\201501230018_7461.h5',\n",
       " 'D:\\\\PACK\\\\HTBSC Project\\\\Information Disorder and Operations\\\\Terrorism and Fake News Project\\\\Pipeline_FNT\\\\0.2 Data Collection using GTD\\\\h5files_2015_2018\\\\201501230018_7462.h5',\n",
       " 'D:\\\\PACK\\\\HTBSC Project\\\\Information Disorder and Operations\\\\Terrorism and Fake News Project\\\\Pipeline_FNT\\\\0.2 Data Collection using GTD\\\\h5files_2015_2018\\\\201501230018_7463.h5',\n",
       " 'D:\\\\PACK\\\\HTBSC Project\\\\Information Disorder and Operations\\\\Terrorism and Fake News Project\\\\Pipeline_FNT\\\\0.2 Data Collection using GTD\\\\h5files_2015_2018\\\\201501230018_7464.h5',\n",
       " 'D:\\\\PACK\\\\HTBSC Project\\\\Information Disorder and Operations\\\\Terrorism and Fake News Project\\\\Pipeline_FNT\\\\0.2 Data Collection using GTD\\\\h5files_2015_2018\\\\201501230018_7465.h5',\n",
       " 'D:\\\\PACK\\\\HTBSC Project\\\\Information Disorder and Operations\\\\Terrorism and Fake News Project\\\\Pipeline_FNT\\\\0.2 Data Collection using GTD\\\\h5files_2015_2018\\\\201501240009_11286.h5',\n",
       " 'D:\\\\PACK\\\\HTBSC Project\\\\Information Disorder and Operations\\\\Terrorism and Fake News Project\\\\Pipeline_FNT\\\\0.2 Data Collection using GTD\\\\h5files_2015_2018\\\\201501240009_11287.h5',\n",
       " 'D:\\\\PACK\\\\HTBSC Project\\\\Information Disorder and Operations\\\\Terrorism and Fake News Project\\\\Pipeline_FNT\\\\0.2 Data Collection using GTD\\\\h5files_2015_2018\\\\201501240009_13484.h5',\n",
       " 'D:\\\\PACK\\\\HTBSC Project\\\\Information Disorder and Operations\\\\Terrorism and Fake News Project\\\\Pipeline_FNT\\\\0.2 Data Collection using GTD\\\\h5files_2015_2018\\\\201501240009_13485.h5',\n",
       " 'D:\\\\PACK\\\\HTBSC Project\\\\Information Disorder and Operations\\\\Terrorism and Fake News Project\\\\Pipeline_FNT\\\\0.2 Data Collection using GTD\\\\h5files_2015_2018\\\\201501240009_13486.h5',\n",
       " 'D:\\\\PACK\\\\HTBSC Project\\\\Information Disorder and Operations\\\\Terrorism and Fake News Project\\\\Pipeline_FNT\\\\0.2 Data Collection using GTD\\\\h5files_2015_2018\\\\201501240009_13487.h5',\n",
       " 'D:\\\\PACK\\\\HTBSC Project\\\\Information Disorder and Operations\\\\Terrorism and Fake News Project\\\\Pipeline_FNT\\\\0.2 Data Collection using GTD\\\\h5files_2015_2018\\\\201501240009_13488.h5',\n",
       " 'D:\\\\PACK\\\\HTBSC Project\\\\Information Disorder and Operations\\\\Terrorism and Fake News Project\\\\Pipeline_FNT\\\\0.2 Data Collection using GTD\\\\h5files_2015_2018\\\\201501240009_7458.h5',\n",
       " 'D:\\\\PACK\\\\HTBSC Project\\\\Information Disorder and Operations\\\\Terrorism and Fake News Project\\\\Pipeline_FNT\\\\0.2 Data Collection using GTD\\\\h5files_2015_2018\\\\201501240009_7459.h5',\n",
       " 'D:\\\\PACK\\\\HTBSC Project\\\\Information Disorder and Operations\\\\Terrorism and Fake News Project\\\\Pipeline_FNT\\\\0.2 Data Collection using GTD\\\\h5files_2015_2018\\\\201501260029_7457.h5',\n",
       " 'D:\\\\PACK\\\\HTBSC Project\\\\Information Disorder and Operations\\\\Terrorism and Fake News Project\\\\Pipeline_FNT\\\\0.2 Data Collection using GTD\\\\h5files_2015_2018\\\\201501260040_11284.h5',\n",
       " 'D:\\\\PACK\\\\HTBSC Project\\\\Information Disorder and Operations\\\\Terrorism and Fake News Project\\\\Pipeline_FNT\\\\0.2 Data Collection using GTD\\\\h5files_2015_2018\\\\201501260040_11285.h5',\n",
       " 'D:\\\\PACK\\\\HTBSC Project\\\\Information Disorder and Operations\\\\Terrorism and Fake News Project\\\\Pipeline_FNT\\\\0.2 Data Collection using GTD\\\\h5files_2015_2018\\\\201501260040_7456.h5',\n",
       " 'D:\\\\PACK\\\\HTBSC Project\\\\Information Disorder and Operations\\\\Terrorism and Fake News Project\\\\Pipeline_FNT\\\\0.2 Data Collection using GTD\\\\h5files_2015_2018\\\\201501260041_7452.h5',\n",
       " 'D:\\\\PACK\\\\HTBSC Project\\\\Information Disorder and Operations\\\\Terrorism and Fake News Project\\\\Pipeline_FNT\\\\0.2 Data Collection using GTD\\\\h5files_2015_2018\\\\201501260041_7453.h5',\n",
       " 'D:\\\\PACK\\\\HTBSC Project\\\\Information Disorder and Operations\\\\Terrorism and Fake News Project\\\\Pipeline_FNT\\\\0.2 Data Collection using GTD\\\\h5files_2015_2018\\\\201501260041_7454.h5',\n",
       " 'D:\\\\PACK\\\\HTBSC Project\\\\Information Disorder and Operations\\\\Terrorism and Fake News Project\\\\Pipeline_FNT\\\\0.2 Data Collection using GTD\\\\h5files_2015_2018\\\\201501260041_7455.h5',\n",
       " 'D:\\\\PACK\\\\HTBSC Project\\\\Information Disorder and Operations\\\\Terrorism and Fake News Project\\\\Pipeline_FNT\\\\0.2 Data Collection using GTD\\\\h5files_2015_2018\\\\201501260067_11280.h5',\n",
       " 'D:\\\\PACK\\\\HTBSC Project\\\\Information Disorder and Operations\\\\Terrorism and Fake News Project\\\\Pipeline_FNT\\\\0.2 Data Collection using GTD\\\\h5files_2015_2018\\\\201501260067_11281.h5',\n",
       " 'D:\\\\PACK\\\\HTBSC Project\\\\Information Disorder and Operations\\\\Terrorism and Fake News Project\\\\Pipeline_FNT\\\\0.2 Data Collection using GTD\\\\h5files_2015_2018\\\\201501260067_11282.h5',\n",
       " 'D:\\\\PACK\\\\HTBSC Project\\\\Information Disorder and Operations\\\\Terrorism and Fake News Project\\\\Pipeline_FNT\\\\0.2 Data Collection using GTD\\\\h5files_2015_2018\\\\201501260067_11283.h5',\n",
       " 'D:\\\\PACK\\\\HTBSC Project\\\\Information Disorder and Operations\\\\Terrorism and Fake News Project\\\\Pipeline_FNT\\\\0.2 Data Collection using GTD\\\\h5files_2015_2018\\\\201501260067_7444.h5',\n",
       " 'D:\\\\PACK\\\\HTBSC Project\\\\Information Disorder and Operations\\\\Terrorism and Fake News Project\\\\Pipeline_FNT\\\\0.2 Data Collection using GTD\\\\h5files_2015_2018\\\\201501260067_7445.h5',\n",
       " 'D:\\\\PACK\\\\HTBSC Project\\\\Information Disorder and Operations\\\\Terrorism and Fake News Project\\\\Pipeline_FNT\\\\0.2 Data Collection using GTD\\\\h5files_2015_2018\\\\201501260067_7446.h5',\n",
       " 'D:\\\\PACK\\\\HTBSC Project\\\\Information Disorder and Operations\\\\Terrorism and Fake News Project\\\\Pipeline_FNT\\\\0.2 Data Collection using GTD\\\\h5files_2015_2018\\\\201501260067_7447.h5',\n",
       " 'D:\\\\PACK\\\\HTBSC Project\\\\Information Disorder and Operations\\\\Terrorism and Fake News Project\\\\Pipeline_FNT\\\\0.2 Data Collection using GTD\\\\h5files_2015_2018\\\\201501260067_7448.h5',\n",
       " 'D:\\\\PACK\\\\HTBSC Project\\\\Information Disorder and Operations\\\\Terrorism and Fake News Project\\\\Pipeline_FNT\\\\0.2 Data Collection using GTD\\\\h5files_2015_2018\\\\201501260067_7449.h5',\n",
       " 'D:\\\\PACK\\\\HTBSC Project\\\\Information Disorder and Operations\\\\Terrorism and Fake News Project\\\\Pipeline_FNT\\\\0.2 Data Collection using GTD\\\\h5files_2015_2018\\\\201501260067_7450.h5',\n",
       " 'D:\\\\PACK\\\\HTBSC Project\\\\Information Disorder and Operations\\\\Terrorism and Fake News Project\\\\Pipeline_FNT\\\\0.2 Data Collection using GTD\\\\h5files_2015_2018\\\\201501260067_7451.h5',\n",
       " 'D:\\\\PACK\\\\HTBSC Project\\\\Information Disorder and Operations\\\\Terrorism and Fake News Project\\\\Pipeline_FNT\\\\0.2 Data Collection using GTD\\\\h5files_2015_2018\\\\201501270012_11276.h5',\n",
       " 'D:\\\\PACK\\\\HTBSC Project\\\\Information Disorder and Operations\\\\Terrorism and Fake News Project\\\\Pipeline_FNT\\\\0.2 Data Collection using GTD\\\\h5files_2015_2018\\\\201501270012_11277.h5',\n",
       " 'D:\\\\PACK\\\\HTBSC Project\\\\Information Disorder and Operations\\\\Terrorism and Fake News Project\\\\Pipeline_FNT\\\\0.2 Data Collection using GTD\\\\h5files_2015_2018\\\\201501270012_11278.h5',\n",
       " 'D:\\\\PACK\\\\HTBSC Project\\\\Information Disorder and Operations\\\\Terrorism and Fake News Project\\\\Pipeline_FNT\\\\0.2 Data Collection using GTD\\\\h5files_2015_2018\\\\201501270012_11279.h5',\n",
       " 'D:\\\\PACK\\\\HTBSC Project\\\\Information Disorder and Operations\\\\Terrorism and Fake News Project\\\\Pipeline_FNT\\\\0.2 Data Collection using GTD\\\\h5files_2015_2018\\\\201501270012_13480.h5',\n",
       " 'D:\\\\PACK\\\\HTBSC Project\\\\Information Disorder and Operations\\\\Terrorism and Fake News Project\\\\Pipeline_FNT\\\\0.2 Data Collection using GTD\\\\h5files_2015_2018\\\\201501270012_13481.h5',\n",
       " 'D:\\\\PACK\\\\HTBSC Project\\\\Information Disorder and Operations\\\\Terrorism and Fake News Project\\\\Pipeline_FNT\\\\0.2 Data Collection using GTD\\\\h5files_2015_2018\\\\201501270012_13482.h5',\n",
       " 'D:\\\\PACK\\\\HTBSC Project\\\\Information Disorder and Operations\\\\Terrorism and Fake News Project\\\\Pipeline_FNT\\\\0.2 Data Collection using GTD\\\\h5files_2015_2018\\\\201501270012_13483.h5',\n",
       " 'D:\\\\PACK\\\\HTBSC Project\\\\Information Disorder and Operations\\\\Terrorism and Fake News Project\\\\Pipeline_FNT\\\\0.2 Data Collection using GTD\\\\h5files_2015_2018\\\\201501270012_7440.h5',\n",
       " 'D:\\\\PACK\\\\HTBSC Project\\\\Information Disorder and Operations\\\\Terrorism and Fake News Project\\\\Pipeline_FNT\\\\0.2 Data Collection using GTD\\\\h5files_2015_2018\\\\201501270012_7441.h5',\n",
       " 'D:\\\\PACK\\\\HTBSC Project\\\\Information Disorder and Operations\\\\Terrorism and Fake News Project\\\\Pipeline_FNT\\\\0.2 Data Collection using GTD\\\\h5files_2015_2018\\\\201501270012_7442.h5',\n",
       " 'D:\\\\PACK\\\\HTBSC Project\\\\Information Disorder and Operations\\\\Terrorism and Fake News Project\\\\Pipeline_FNT\\\\0.2 Data Collection using GTD\\\\h5files_2015_2018\\\\201501270012_7443.h5',\n",
       " 'D:\\\\PACK\\\\HTBSC Project\\\\Information Disorder and Operations\\\\Terrorism and Fake News Project\\\\Pipeline_FNT\\\\0.2 Data Collection using GTD\\\\h5files_2015_2018\\\\201501270013_11275.h5',\n",
       " 'D:\\\\PACK\\\\HTBSC Project\\\\Information Disorder and Operations\\\\Terrorism and Fake News Project\\\\Pipeline_FNT\\\\0.2 Data Collection using GTD\\\\h5files_2015_2018\\\\201501270013_7436.h5',\n",
       " 'D:\\\\PACK\\\\HTBSC Project\\\\Information Disorder and Operations\\\\Terrorism and Fake News Project\\\\Pipeline_FNT\\\\0.2 Data Collection using GTD\\\\h5files_2015_2018\\\\201501270013_7437.h5',\n",
       " 'D:\\\\PACK\\\\HTBSC Project\\\\Information Disorder and Operations\\\\Terrorism and Fake News Project\\\\Pipeline_FNT\\\\0.2 Data Collection using GTD\\\\h5files_2015_2018\\\\201501270013_7438.h5',\n",
       " 'D:\\\\PACK\\\\HTBSC Project\\\\Information Disorder and Operations\\\\Terrorism and Fake News Project\\\\Pipeline_FNT\\\\0.2 Data Collection using GTD\\\\h5files_2015_2018\\\\201501270013_7439.h5',\n",
       " 'D:\\\\PACK\\\\HTBSC Project\\\\Information Disorder and Operations\\\\Terrorism and Fake News Project\\\\Pipeline_FNT\\\\0.2 Data Collection using GTD\\\\h5files_2015_2018\\\\201501270035_11273.h5',\n",
       " 'D:\\\\PACK\\\\HTBSC Project\\\\Information Disorder and Operations\\\\Terrorism and Fake News Project\\\\Pipeline_FNT\\\\0.2 Data Collection using GTD\\\\h5files_2015_2018\\\\201501270035_11274.h5',\n",
       " 'D:\\\\PACK\\\\HTBSC Project\\\\Information Disorder and Operations\\\\Terrorism and Fake News Project\\\\Pipeline_FNT\\\\0.2 Data Collection using GTD\\\\h5files_2015_2018\\\\201501270035_7434.h5',\n",
       " 'D:\\\\PACK\\\\HTBSC Project\\\\Information Disorder and Operations\\\\Terrorism and Fake News Project\\\\Pipeline_FNT\\\\0.2 Data Collection using GTD\\\\h5files_2015_2018\\\\201501270035_7435.h5',\n",
       " 'D:\\\\PACK\\\\HTBSC Project\\\\Information Disorder and Operations\\\\Terrorism and Fake News Project\\\\Pipeline_FNT\\\\0.2 Data Collection using GTD\\\\h5files_2015_2018\\\\201501270068_11270.h5',\n",
       " 'D:\\\\PACK\\\\HTBSC Project\\\\Information Disorder and Operations\\\\Terrorism and Fake News Project\\\\Pipeline_FNT\\\\0.2 Data Collection using GTD\\\\h5files_2015_2018\\\\201501270068_11271.h5',\n",
       " 'D:\\\\PACK\\\\HTBSC Project\\\\Information Disorder and Operations\\\\Terrorism and Fake News Project\\\\Pipeline_FNT\\\\0.2 Data Collection using GTD\\\\h5files_2015_2018\\\\201501270068_11272.h5',\n",
       " 'D:\\\\PACK\\\\HTBSC Project\\\\Information Disorder and Operations\\\\Terrorism and Fake News Project\\\\Pipeline_FNT\\\\0.2 Data Collection using GTD\\\\h5files_2015_2018\\\\201501270068_13479.h5',\n",
       " 'D:\\\\PACK\\\\HTBSC Project\\\\Information Disorder and Operations\\\\Terrorism and Fake News Project\\\\Pipeline_FNT\\\\0.2 Data Collection using GTD\\\\h5files_2015_2018\\\\201501270068_7432.h5',\n",
       " 'D:\\\\PACK\\\\HTBSC Project\\\\Information Disorder and Operations\\\\Terrorism and Fake News Project\\\\Pipeline_FNT\\\\0.2 Data Collection using GTD\\\\h5files_2015_2018\\\\201501270068_7433.h5',\n",
       " 'D:\\\\PACK\\\\HTBSC Project\\\\Information Disorder and Operations\\\\Terrorism and Fake News Project\\\\Pipeline_FNT\\\\0.2 Data Collection using GTD\\\\h5files_2015_2018\\\\201501280026_7430.h5',\n",
       " 'D:\\\\PACK\\\\HTBSC Project\\\\Information Disorder and Operations\\\\Terrorism and Fake News Project\\\\Pipeline_FNT\\\\0.2 Data Collection using GTD\\\\h5files_2015_2018\\\\201501280026_7431.h5',\n",
       " 'D:\\\\PACK\\\\HTBSC Project\\\\Information Disorder and Operations\\\\Terrorism and Fake News Project\\\\Pipeline_FNT\\\\0.2 Data Collection using GTD\\\\h5files_2015_2018\\\\201501280037_7428.h5',\n",
       " 'D:\\\\PACK\\\\HTBSC Project\\\\Information Disorder and Operations\\\\Terrorism and Fake News Project\\\\Pipeline_FNT\\\\0.2 Data Collection using GTD\\\\h5files_2015_2018\\\\201501280037_7429.h5',\n",
       " 'D:\\\\PACK\\\\HTBSC Project\\\\Information Disorder and Operations\\\\Terrorism and Fake News Project\\\\Pipeline_FNT\\\\0.2 Data Collection using GTD\\\\h5files_2015_2018\\\\201501290040_7426.h5',\n",
       " 'D:\\\\PACK\\\\HTBSC Project\\\\Information Disorder and Operations\\\\Terrorism and Fake News Project\\\\Pipeline_FNT\\\\0.2 Data Collection using GTD\\\\h5files_2015_2018\\\\201501290040_7427.h5',\n",
       " 'D:\\\\PACK\\\\HTBSC Project\\\\Information Disorder and Operations\\\\Terrorism and Fake News Project\\\\Pipeline_FNT\\\\0.2 Data Collection using GTD\\\\h5files_2015_2018\\\\201501300046_11264.h5',\n",
       " 'D:\\\\PACK\\\\HTBSC Project\\\\Information Disorder and Operations\\\\Terrorism and Fake News Project\\\\Pipeline_FNT\\\\0.2 Data Collection using GTD\\\\h5files_2015_2018\\\\201501300046_11265.h5',\n",
       " 'D:\\\\PACK\\\\HTBSC Project\\\\Information Disorder and Operations\\\\Terrorism and Fake News Project\\\\Pipeline_FNT\\\\0.2 Data Collection using GTD\\\\h5files_2015_2018\\\\201501300046_11266.h5',\n",
       " 'D:\\\\PACK\\\\HTBSC Project\\\\Information Disorder and Operations\\\\Terrorism and Fake News Project\\\\Pipeline_FNT\\\\0.2 Data Collection using GTD\\\\h5files_2015_2018\\\\201501300046_11267.h5',\n",
       " 'D:\\\\PACK\\\\HTBSC Project\\\\Information Disorder and Operations\\\\Terrorism and Fake News Project\\\\Pipeline_FNT\\\\0.2 Data Collection using GTD\\\\h5files_2015_2018\\\\201501300046_11268.h5',\n",
       " 'D:\\\\PACK\\\\HTBSC Project\\\\Information Disorder and Operations\\\\Terrorism and Fake News Project\\\\Pipeline_FNT\\\\0.2 Data Collection using GTD\\\\h5files_2015_2018\\\\201501300046_11269.h5',\n",
       " 'D:\\\\PACK\\\\HTBSC Project\\\\Information Disorder and Operations\\\\Terrorism and Fake News Project\\\\Pipeline_FNT\\\\0.2 Data Collection using GTD\\\\h5files_2015_2018\\\\201501300048_11261.h5',\n",
       " 'D:\\\\PACK\\\\HTBSC Project\\\\Information Disorder and Operations\\\\Terrorism and Fake News Project\\\\Pipeline_FNT\\\\0.2 Data Collection using GTD\\\\h5files_2015_2018\\\\201501300048_11262.h5',\n",
       " 'D:\\\\PACK\\\\HTBSC Project\\\\Information Disorder and Operations\\\\Terrorism and Fake News Project\\\\Pipeline_FNT\\\\0.2 Data Collection using GTD\\\\h5files_2015_2018\\\\201501300048_11263.h5',\n",
       " 'D:\\\\PACK\\\\HTBSC Project\\\\Information Disorder and Operations\\\\Terrorism and Fake News Project\\\\Pipeline_FNT\\\\0.2 Data Collection using GTD\\\\h5files_2015_2018\\\\201501300048_7421.h5',\n",
       " 'D:\\\\PACK\\\\HTBSC Project\\\\Information Disorder and Operations\\\\Terrorism and Fake News Project\\\\Pipeline_FNT\\\\0.2 Data Collection using GTD\\\\h5files_2015_2018\\\\201501300048_7422.h5',\n",
       " 'D:\\\\PACK\\\\HTBSC Project\\\\Information Disorder and Operations\\\\Terrorism and Fake News Project\\\\Pipeline_FNT\\\\0.2 Data Collection using GTD\\\\h5files_2015_2018\\\\201501300048_7423.h5',\n",
       " 'D:\\\\PACK\\\\HTBSC Project\\\\Information Disorder and Operations\\\\Terrorism and Fake News Project\\\\Pipeline_FNT\\\\0.2 Data Collection using GTD\\\\h5files_2015_2018\\\\201501300048_7424.h5',\n",
       " 'D:\\\\PACK\\\\HTBSC Project\\\\Information Disorder and Operations\\\\Terrorism and Fake News Project\\\\Pipeline_FNT\\\\0.2 Data Collection using GTD\\\\h5files_2015_2018\\\\201501300048_7425.h5',\n",
       " 'D:\\\\PACK\\\\HTBSC Project\\\\Information Disorder and Operations\\\\Terrorism and Fake News Project\\\\Pipeline_FNT\\\\0.2 Data Collection using GTD\\\\h5files_2015_2018\\\\201501300098_7419.h5',\n",
       " 'D:\\\\PACK\\\\HTBSC Project\\\\Information Disorder and Operations\\\\Terrorism and Fake News Project\\\\Pipeline_FNT\\\\0.2 Data Collection using GTD\\\\h5files_2015_2018\\\\201501300098_7420.h5',\n",
       " 'D:\\\\PACK\\\\HTBSC Project\\\\Information Disorder and Operations\\\\Terrorism and Fake News Project\\\\Pipeline_FNT\\\\0.2 Data Collection using GTD\\\\h5files_2015_2018\\\\201501300100_7417.h5',\n",
       " 'D:\\\\PACK\\\\HTBSC Project\\\\Information Disorder and Operations\\\\Terrorism and Fake News Project\\\\Pipeline_FNT\\\\0.2 Data Collection using GTD\\\\h5files_2015_2018\\\\201501300100_7418.h5',\n",
       " 'D:\\\\PACK\\\\HTBSC Project\\\\Information Disorder and Operations\\\\Terrorism and Fake News Project\\\\Pipeline_FNT\\\\0.2 Data Collection using GTD\\\\h5files_2015_2018\\\\201501310010_11253.h5',\n",
       " 'D:\\\\PACK\\\\HTBSC Project\\\\Information Disorder and Operations\\\\Terrorism and Fake News Project\\\\Pipeline_FNT\\\\0.2 Data Collection using GTD\\\\h5files_2015_2018\\\\201501310010_11254.h5',\n",
       " 'D:\\\\PACK\\\\HTBSC Project\\\\Information Disorder and Operations\\\\Terrorism and Fake News Project\\\\Pipeline_FNT\\\\0.2 Data Collection using GTD\\\\h5files_2015_2018\\\\201501310010_11255.h5',\n",
       " 'D:\\\\PACK\\\\HTBSC Project\\\\Information Disorder and Operations\\\\Terrorism and Fake News Project\\\\Pipeline_FNT\\\\0.2 Data Collection using GTD\\\\h5files_2015_2018\\\\201501310010_11256.h5',\n",
       " 'D:\\\\PACK\\\\HTBSC Project\\\\Information Disorder and Operations\\\\Terrorism and Fake News Project\\\\Pipeline_FNT\\\\0.2 Data Collection using GTD\\\\h5files_2015_2018\\\\201501310010_11257.h5',\n",
       " 'D:\\\\PACK\\\\HTBSC Project\\\\Information Disorder and Operations\\\\Terrorism and Fake News Project\\\\Pipeline_FNT\\\\0.2 Data Collection using GTD\\\\h5files_2015_2018\\\\201501310010_11258.h5',\n",
       " 'D:\\\\PACK\\\\HTBSC Project\\\\Information Disorder and Operations\\\\Terrorism and Fake News Project\\\\Pipeline_FNT\\\\0.2 Data Collection using GTD\\\\h5files_2015_2018\\\\201501310010_11259.h5',\n",
       " 'D:\\\\PACK\\\\HTBSC Project\\\\Information Disorder and Operations\\\\Terrorism and Fake News Project\\\\Pipeline_FNT\\\\0.2 Data Collection using GTD\\\\h5files_2015_2018\\\\201501310010_11260.h5',\n",
       " 'D:\\\\PACK\\\\HTBSC Project\\\\Information Disorder and Operations\\\\Terrorism and Fake News Project\\\\Pipeline_FNT\\\\0.2 Data Collection using GTD\\\\h5files_2015_2018\\\\201501310010_13473.h5',\n",
       " 'D:\\\\PACK\\\\HTBSC Project\\\\Information Disorder and Operations\\\\Terrorism and Fake News Project\\\\Pipeline_FNT\\\\0.2 Data Collection using GTD\\\\h5files_2015_2018\\\\201501310010_13474.h5',\n",
       " 'D:\\\\PACK\\\\HTBSC Project\\\\Information Disorder and Operations\\\\Terrorism and Fake News Project\\\\Pipeline_FNT\\\\0.2 Data Collection using GTD\\\\h5files_2015_2018\\\\201501310010_13475.h5',\n",
       " 'D:\\\\PACK\\\\HTBSC Project\\\\Information Disorder and Operations\\\\Terrorism and Fake News Project\\\\Pipeline_FNT\\\\0.2 Data Collection using GTD\\\\h5files_2015_2018\\\\201501310010_13476.h5',\n",
       " 'D:\\\\PACK\\\\HTBSC Project\\\\Information Disorder and Operations\\\\Terrorism and Fake News Project\\\\Pipeline_FNT\\\\0.2 Data Collection using GTD\\\\h5files_2015_2018\\\\201501310010_13477.h5',\n",
       " 'D:\\\\PACK\\\\HTBSC Project\\\\Information Disorder and Operations\\\\Terrorism and Fake News Project\\\\Pipeline_FNT\\\\0.2 Data Collection using GTD\\\\h5files_2015_2018\\\\201501310010_13478.h5',\n",
       " 'D:\\\\PACK\\\\HTBSC Project\\\\Information Disorder and Operations\\\\Terrorism and Fake News Project\\\\Pipeline_FNT\\\\0.2 Data Collection using GTD\\\\h5files_2015_2018\\\\201501310010_7415.h5',\n",
       " 'D:\\\\PACK\\\\HTBSC Project\\\\Information Disorder and Operations\\\\Terrorism and Fake News Project\\\\Pipeline_FNT\\\\0.2 Data Collection using GTD\\\\h5files_2015_2018\\\\201501310010_7416.h5',\n",
       " 'D:\\\\PACK\\\\HTBSC Project\\\\Information Disorder and Operations\\\\Terrorism and Fake News Project\\\\Pipeline_FNT\\\\0.2 Data Collection using GTD\\\\h5files_2015_2018\\\\201502010045_11250.h5',\n",
       " 'D:\\\\PACK\\\\HTBSC Project\\\\Information Disorder and Operations\\\\Terrorism and Fake News Project\\\\Pipeline_FNT\\\\0.2 Data Collection using GTD\\\\h5files_2015_2018\\\\201502010045_11251.h5',\n",
       " 'D:\\\\PACK\\\\HTBSC Project\\\\Information Disorder and Operations\\\\Terrorism and Fake News Project\\\\Pipeline_FNT\\\\0.2 Data Collection using GTD\\\\h5files_2015_2018\\\\201502010045_11252.h5',\n",
       " 'D:\\\\PACK\\\\HTBSC Project\\\\Information Disorder and Operations\\\\Terrorism and Fake News Project\\\\Pipeline_FNT\\\\0.2 Data Collection using GTD\\\\h5files_2015_2018\\\\201502010045_13466.h5',\n",
       " 'D:\\\\PACK\\\\HTBSC Project\\\\Information Disorder and Operations\\\\Terrorism and Fake News Project\\\\Pipeline_FNT\\\\0.2 Data Collection using GTD\\\\h5files_2015_2018\\\\201502010045_13467.h5',\n",
       " 'D:\\\\PACK\\\\HTBSC Project\\\\Information Disorder and Operations\\\\Terrorism and Fake News Project\\\\Pipeline_FNT\\\\0.2 Data Collection using GTD\\\\h5files_2015_2018\\\\201502010045_13468.h5',\n",
       " 'D:\\\\PACK\\\\HTBSC Project\\\\Information Disorder and Operations\\\\Terrorism and Fake News Project\\\\Pipeline_FNT\\\\0.2 Data Collection using GTD\\\\h5files_2015_2018\\\\201502010045_13469.h5',\n",
       " 'D:\\\\PACK\\\\HTBSC Project\\\\Information Disorder and Operations\\\\Terrorism and Fake News Project\\\\Pipeline_FNT\\\\0.2 Data Collection using GTD\\\\h5files_2015_2018\\\\201502010045_13470.h5',\n",
       " 'D:\\\\PACK\\\\HTBSC Project\\\\Information Disorder and Operations\\\\Terrorism and Fake News Project\\\\Pipeline_FNT\\\\0.2 Data Collection using GTD\\\\h5files_2015_2018\\\\201502010045_13471.h5',\n",
       " 'D:\\\\PACK\\\\HTBSC Project\\\\Information Disorder and Operations\\\\Terrorism and Fake News Project\\\\Pipeline_FNT\\\\0.2 Data Collection using GTD\\\\h5files_2015_2018\\\\201502010045_13472.h5',\n",
       " 'D:\\\\PACK\\\\HTBSC Project\\\\Information Disorder and Operations\\\\Terrorism and Fake News Project\\\\Pipeline_FNT\\\\0.2 Data Collection using GTD\\\\h5files_2015_2018\\\\201502010045_7413.h5',\n",
       " 'D:\\\\PACK\\\\HTBSC Project\\\\Information Disorder and Operations\\\\Terrorism and Fake News Project\\\\Pipeline_FNT\\\\0.2 Data Collection using GTD\\\\h5files_2015_2018\\\\201502010045_7414.h5',\n",
       " 'D:\\\\PACK\\\\HTBSC Project\\\\Information Disorder and Operations\\\\Terrorism and Fake News Project\\\\Pipeline_FNT\\\\0.2 Data Collection using GTD\\\\h5files_2015_2018\\\\201502010133_11249.h5',\n",
       " 'D:\\\\PACK\\\\HTBSC Project\\\\Information Disorder and Operations\\\\Terrorism and Fake News Project\\\\Pipeline_FNT\\\\0.2 Data Collection using GTD\\\\h5files_2015_2018\\\\201502010133_7412.h5',\n",
       " 'D:\\\\PACK\\\\HTBSC Project\\\\Information Disorder and Operations\\\\Terrorism and Fake News Project\\\\Pipeline_FNT\\\\0.2 Data Collection using GTD\\\\h5files_2015_2018\\\\201502020049_11246.h5',\n",
       " 'D:\\\\PACK\\\\HTBSC Project\\\\Information Disorder and Operations\\\\Terrorism and Fake News Project\\\\Pipeline_FNT\\\\0.2 Data Collection using GTD\\\\h5files_2015_2018\\\\201502020049_11247.h5',\n",
       " 'D:\\\\PACK\\\\HTBSC Project\\\\Information Disorder and Operations\\\\Terrorism and Fake News Project\\\\Pipeline_FNT\\\\0.2 Data Collection using GTD\\\\h5files_2015_2018\\\\201502020049_11248.h5',\n",
       " 'D:\\\\PACK\\\\HTBSC Project\\\\Information Disorder and Operations\\\\Terrorism and Fake News Project\\\\Pipeline_FNT\\\\0.2 Data Collection using GTD\\\\h5files_2015_2018\\\\201502020049_7409.h5',\n",
       " 'D:\\\\PACK\\\\HTBSC Project\\\\Information Disorder and Operations\\\\Terrorism and Fake News Project\\\\Pipeline_FNT\\\\0.2 Data Collection using GTD\\\\h5files_2015_2018\\\\201502020049_7410.h5',\n",
       " 'D:\\\\PACK\\\\HTBSC Project\\\\Information Disorder and Operations\\\\Terrorism and Fake News Project\\\\Pipeline_FNT\\\\0.2 Data Collection using GTD\\\\h5files_2015_2018\\\\201502020049_7411.h5',\n",
       " 'D:\\\\PACK\\\\HTBSC Project\\\\Information Disorder and Operations\\\\Terrorism and Fake News Project\\\\Pipeline_FNT\\\\0.2 Data Collection using GTD\\\\h5files_2015_2018\\\\201502030056_11244.h5',\n",
       " 'D:\\\\PACK\\\\HTBSC Project\\\\Information Disorder and Operations\\\\Terrorism and Fake News Project\\\\Pipeline_FNT\\\\0.2 Data Collection using GTD\\\\h5files_2015_2018\\\\201502030056_11245.h5',\n",
       " 'D:\\\\PACK\\\\HTBSC Project\\\\Information Disorder and Operations\\\\Terrorism and Fake News Project\\\\Pipeline_FNT\\\\0.2 Data Collection using GTD\\\\h5files_2015_2018\\\\201502030056_13464.h5',\n",
       " 'D:\\\\PACK\\\\HTBSC Project\\\\Information Disorder and Operations\\\\Terrorism and Fake News Project\\\\Pipeline_FNT\\\\0.2 Data Collection using GTD\\\\h5files_2015_2018\\\\201502030056_13465.h5',\n",
       " 'D:\\\\PACK\\\\HTBSC Project\\\\Information Disorder and Operations\\\\Terrorism and Fake News Project\\\\Pipeline_FNT\\\\0.2 Data Collection using GTD\\\\h5files_2015_2018\\\\201502030056_7407.h5',\n",
       " 'D:\\\\PACK\\\\HTBSC Project\\\\Information Disorder and Operations\\\\Terrorism and Fake News Project\\\\Pipeline_FNT\\\\0.2 Data Collection using GTD\\\\h5files_2015_2018\\\\201502030056_7408.h5',\n",
       " 'D:\\\\PACK\\\\HTBSC Project\\\\Information Disorder and Operations\\\\Terrorism and Fake News Project\\\\Pipeline_FNT\\\\0.2 Data Collection using GTD\\\\h5files_2015_2018\\\\201502040050_7403.h5',\n",
       " 'D:\\\\PACK\\\\HTBSC Project\\\\Information Disorder and Operations\\\\Terrorism and Fake News Project\\\\Pipeline_FNT\\\\0.2 Data Collection using GTD\\\\h5files_2015_2018\\\\201502040050_7404.h5',\n",
       " 'D:\\\\PACK\\\\HTBSC Project\\\\Information Disorder and Operations\\\\Terrorism and Fake News Project\\\\Pipeline_FNT\\\\0.2 Data Collection using GTD\\\\h5files_2015_2018\\\\201502040050_7405.h5',\n",
       " 'D:\\\\PACK\\\\HTBSC Project\\\\Information Disorder and Operations\\\\Terrorism and Fake News Project\\\\Pipeline_FNT\\\\0.2 Data Collection using GTD\\\\h5files_2015_2018\\\\201502040050_7406.h5',\n",
       " 'D:\\\\PACK\\\\HTBSC Project\\\\Information Disorder and Operations\\\\Terrorism and Fake News Project\\\\Pipeline_FNT\\\\0.2 Data Collection using GTD\\\\h5files_2015_2018\\\\201502040083_11241.h5',\n",
       " 'D:\\\\PACK\\\\HTBSC Project\\\\Information Disorder and Operations\\\\Terrorism and Fake News Project\\\\Pipeline_FNT\\\\0.2 Data Collection using GTD\\\\h5files_2015_2018\\\\201502040083_11242.h5',\n",
       " 'D:\\\\PACK\\\\HTBSC Project\\\\Information Disorder and Operations\\\\Terrorism and Fake News Project\\\\Pipeline_FNT\\\\0.2 Data Collection using GTD\\\\h5files_2015_2018\\\\201502040083_11243.h5',\n",
       " 'D:\\\\PACK\\\\HTBSC Project\\\\Information Disorder and Operations\\\\Terrorism and Fake News Project\\\\Pipeline_FNT\\\\0.2 Data Collection using GTD\\\\h5files_2015_2018\\\\201502040083_7402.h5',\n",
       " 'D:\\\\PACK\\\\HTBSC Project\\\\Information Disorder and Operations\\\\Terrorism and Fake News Project\\\\Pipeline_FNT\\\\0.2 Data Collection using GTD\\\\h5files_2015_2018\\\\201502050004_7400.h5',\n",
       " 'D:\\\\PACK\\\\HTBSC Project\\\\Information Disorder and Operations\\\\Terrorism and Fake News Project\\\\Pipeline_FNT\\\\0.2 Data Collection using GTD\\\\h5files_2015_2018\\\\201502050004_7401.h5',\n",
       " 'D:\\\\PACK\\\\HTBSC Project\\\\Information Disorder and Operations\\\\Terrorism and Fake News Project\\\\Pipeline_FNT\\\\0.2 Data Collection using GTD\\\\h5files_2015_2018\\\\201502050038_11240.h5',\n",
       " 'D:\\\\PACK\\\\HTBSC Project\\\\Information Disorder and Operations\\\\Terrorism and Fake News Project\\\\Pipeline_FNT\\\\0.2 Data Collection using GTD\\\\h5files_2015_2018\\\\201502060096_11232.h5',\n",
       " 'D:\\\\PACK\\\\HTBSC Project\\\\Information Disorder and Operations\\\\Terrorism and Fake News Project\\\\Pipeline_FNT\\\\0.2 Data Collection using GTD\\\\h5files_2015_2018\\\\201502060096_11233.h5',\n",
       " 'D:\\\\PACK\\\\HTBSC Project\\\\Information Disorder and Operations\\\\Terrorism and Fake News Project\\\\Pipeline_FNT\\\\0.2 Data Collection using GTD\\\\h5files_2015_2018\\\\201502060096_11234.h5',\n",
       " 'D:\\\\PACK\\\\HTBSC Project\\\\Information Disorder and Operations\\\\Terrorism and Fake News Project\\\\Pipeline_FNT\\\\0.2 Data Collection using GTD\\\\h5files_2015_2018\\\\201502060096_11235.h5',\n",
       " 'D:\\\\PACK\\\\HTBSC Project\\\\Information Disorder and Operations\\\\Terrorism and Fake News Project\\\\Pipeline_FNT\\\\0.2 Data Collection using GTD\\\\h5files_2015_2018\\\\201502060096_11236.h5',\n",
       " 'D:\\\\PACK\\\\HTBSC Project\\\\Information Disorder and Operations\\\\Terrorism and Fake News Project\\\\Pipeline_FNT\\\\0.2 Data Collection using GTD\\\\h5files_2015_2018\\\\201502060096_11237.h5',\n",
       " 'D:\\\\PACK\\\\HTBSC Project\\\\Information Disorder and Operations\\\\Terrorism and Fake News Project\\\\Pipeline_FNT\\\\0.2 Data Collection using GTD\\\\h5files_2015_2018\\\\201502060096_11238.h5',\n",
       " 'D:\\\\PACK\\\\HTBSC Project\\\\Information Disorder and Operations\\\\Terrorism and Fake News Project\\\\Pipeline_FNT\\\\0.2 Data Collection using GTD\\\\h5files_2015_2018\\\\201502060096_11239.h5',\n",
       " 'D:\\\\PACK\\\\HTBSC Project\\\\Information Disorder and Operations\\\\Terrorism and Fake News Project\\\\Pipeline_FNT\\\\0.2 Data Collection using GTD\\\\h5files_2015_2018\\\\201502060096_13462.h5',\n",
       " 'D:\\\\PACK\\\\HTBSC Project\\\\Information Disorder and Operations\\\\Terrorism and Fake News Project\\\\Pipeline_FNT\\\\0.2 Data Collection using GTD\\\\h5files_2015_2018\\\\201502060096_13463.h5',\n",
       " 'D:\\\\PACK\\\\HTBSC Project\\\\Information Disorder and Operations\\\\Terrorism and Fake News Project\\\\Pipeline_FNT\\\\0.2 Data Collection using GTD\\\\h5files_2015_2018\\\\201502060096_7398.h5',\n",
       " 'D:\\\\PACK\\\\HTBSC Project\\\\Information Disorder and Operations\\\\Terrorism and Fake News Project\\\\Pipeline_FNT\\\\0.2 Data Collection using GTD\\\\h5files_2015_2018\\\\201502060096_7399.h5',\n",
       " 'D:\\\\PACK\\\\HTBSC Project\\\\Information Disorder and Operations\\\\Terrorism and Fake News Project\\\\Pipeline_FNT\\\\0.2 Data Collection using GTD\\\\h5files_2015_2018\\\\201502070037_11225.h5',\n",
       " 'D:\\\\PACK\\\\HTBSC Project\\\\Information Disorder and Operations\\\\Terrorism and Fake News Project\\\\Pipeline_FNT\\\\0.2 Data Collection using GTD\\\\h5files_2015_2018\\\\201502070037_11226.h5',\n",
       " 'D:\\\\PACK\\\\HTBSC Project\\\\Information Disorder and Operations\\\\Terrorism and Fake News Project\\\\Pipeline_FNT\\\\0.2 Data Collection using GTD\\\\h5files_2015_2018\\\\201502070037_11227.h5',\n",
       " 'D:\\\\PACK\\\\HTBSC Project\\\\Information Disorder and Operations\\\\Terrorism and Fake News Project\\\\Pipeline_FNT\\\\0.2 Data Collection using GTD\\\\h5files_2015_2018\\\\201502070037_11228.h5',\n",
       " 'D:\\\\PACK\\\\HTBSC Project\\\\Information Disorder and Operations\\\\Terrorism and Fake News Project\\\\Pipeline_FNT\\\\0.2 Data Collection using GTD\\\\h5files_2015_2018\\\\201502070037_11229.h5',\n",
       " 'D:\\\\PACK\\\\HTBSC Project\\\\Information Disorder and Operations\\\\Terrorism and Fake News Project\\\\Pipeline_FNT\\\\0.2 Data Collection using GTD\\\\h5files_2015_2018\\\\201502070037_11230.h5',\n",
       " 'D:\\\\PACK\\\\HTBSC Project\\\\Information Disorder and Operations\\\\Terrorism and Fake News Project\\\\Pipeline_FNT\\\\0.2 Data Collection using GTD\\\\h5files_2015_2018\\\\201502070037_11231.h5',\n",
       " 'D:\\\\PACK\\\\HTBSC Project\\\\Information Disorder and Operations\\\\Terrorism and Fake News Project\\\\Pipeline_FNT\\\\0.2 Data Collection using GTD\\\\h5files_2015_2018\\\\201502070037_7397.h5',\n",
       " 'D:\\\\PACK\\\\HTBSC Project\\\\Information Disorder and Operations\\\\Terrorism and Fake News Project\\\\Pipeline_FNT\\\\0.2 Data Collection using GTD\\\\h5files_2015_2018\\\\201502070045_7394.h5',\n",
       " 'D:\\\\PACK\\\\HTBSC Project\\\\Information Disorder and Operations\\\\Terrorism and Fake News Project\\\\Pipeline_FNT\\\\0.2 Data Collection using GTD\\\\h5files_2015_2018\\\\201502070045_7395.h5',\n",
       " 'D:\\\\PACK\\\\HTBSC Project\\\\Information Disorder and Operations\\\\Terrorism and Fake News Project\\\\Pipeline_FNT\\\\0.2 Data Collection using GTD\\\\h5files_2015_2018\\\\201502070045_7396.h5',\n",
       " 'D:\\\\PACK\\\\HTBSC Project\\\\Information Disorder and Operations\\\\Terrorism and Fake News Project\\\\Pipeline_FNT\\\\0.2 Data Collection using GTD\\\\h5files_2015_2018\\\\201502090023_11222.h5',\n",
       " 'D:\\\\PACK\\\\HTBSC Project\\\\Information Disorder and Operations\\\\Terrorism and Fake News Project\\\\Pipeline_FNT\\\\0.2 Data Collection using GTD\\\\h5files_2015_2018\\\\201502090023_11223.h5',\n",
       " 'D:\\\\PACK\\\\HTBSC Project\\\\Information Disorder and Operations\\\\Terrorism and Fake News Project\\\\Pipeline_FNT\\\\0.2 Data Collection using GTD\\\\h5files_2015_2018\\\\201502090023_11224.h5',\n",
       " 'D:\\\\PACK\\\\HTBSC Project\\\\Information Disorder and Operations\\\\Terrorism and Fake News Project\\\\Pipeline_FNT\\\\0.2 Data Collection using GTD\\\\h5files_2015_2018\\\\201502090023_13460.h5',\n",
       " 'D:\\\\PACK\\\\HTBSC Project\\\\Information Disorder and Operations\\\\Terrorism and Fake News Project\\\\Pipeline_FNT\\\\0.2 Data Collection using GTD\\\\h5files_2015_2018\\\\201502090023_13461.h5',\n",
       " 'D:\\\\PACK\\\\HTBSC Project\\\\Information Disorder and Operations\\\\Terrorism and Fake News Project\\\\Pipeline_FNT\\\\0.2 Data Collection using GTD\\\\h5files_2015_2018\\\\201502090023_7391.h5',\n",
       " 'D:\\\\PACK\\\\HTBSC Project\\\\Information Disorder and Operations\\\\Terrorism and Fake News Project\\\\Pipeline_FNT\\\\0.2 Data Collection using GTD\\\\h5files_2015_2018\\\\201502090023_7392.h5',\n",
       " 'D:\\\\PACK\\\\HTBSC Project\\\\Information Disorder and Operations\\\\Terrorism and Fake News Project\\\\Pipeline_FNT\\\\0.2 Data Collection using GTD\\\\h5files_2015_2018\\\\201502090023_7393.h5',\n",
       " 'D:\\\\PACK\\\\HTBSC Project\\\\Information Disorder and Operations\\\\Terrorism and Fake News Project\\\\Pipeline_FNT\\\\0.2 Data Collection using GTD\\\\h5files_2015_2018\\\\201502100023_11215.h5',\n",
       " 'D:\\\\PACK\\\\HTBSC Project\\\\Information Disorder and Operations\\\\Terrorism and Fake News Project\\\\Pipeline_FNT\\\\0.2 Data Collection using GTD\\\\h5files_2015_2018\\\\201502100023_11216.h5',\n",
       " 'D:\\\\PACK\\\\HTBSC Project\\\\Information Disorder and Operations\\\\Terrorism and Fake News Project\\\\Pipeline_FNT\\\\0.2 Data Collection using GTD\\\\h5files_2015_2018\\\\201502100023_11217.h5',\n",
       " 'D:\\\\PACK\\\\HTBSC Project\\\\Information Disorder and Operations\\\\Terrorism and Fake News Project\\\\Pipeline_FNT\\\\0.2 Data Collection using GTD\\\\h5files_2015_2018\\\\201502100023_11218.h5',\n",
       " 'D:\\\\PACK\\\\HTBSC Project\\\\Information Disorder and Operations\\\\Terrorism and Fake News Project\\\\Pipeline_FNT\\\\0.2 Data Collection using GTD\\\\h5files_2015_2018\\\\201502100023_11219.h5',\n",
       " 'D:\\\\PACK\\\\HTBSC Project\\\\Information Disorder and Operations\\\\Terrorism and Fake News Project\\\\Pipeline_FNT\\\\0.2 Data Collection using GTD\\\\h5files_2015_2018\\\\201502100023_11220.h5',\n",
       " 'D:\\\\PACK\\\\HTBSC Project\\\\Information Disorder and Operations\\\\Terrorism and Fake News Project\\\\Pipeline_FNT\\\\0.2 Data Collection using GTD\\\\h5files_2015_2018\\\\201502100023_11221.h5',\n",
       " 'D:\\\\PACK\\\\HTBSC Project\\\\Information Disorder and Operations\\\\Terrorism and Fake News Project\\\\Pipeline_FNT\\\\0.2 Data Collection using GTD\\\\h5files_2015_2018\\\\201502100023_13458.h5',\n",
       " 'D:\\\\PACK\\\\HTBSC Project\\\\Information Disorder and Operations\\\\Terrorism and Fake News Project\\\\Pipeline_FNT\\\\0.2 Data Collection using GTD\\\\h5files_2015_2018\\\\201502100023_13459.h5',\n",
       " 'D:\\\\PACK\\\\HTBSC Project\\\\Information Disorder and Operations\\\\Terrorism and Fake News Project\\\\Pipeline_FNT\\\\0.2 Data Collection using GTD\\\\h5files_2015_2018\\\\201502100023_7389.h5',\n",
       " 'D:\\\\PACK\\\\HTBSC Project\\\\Information Disorder and Operations\\\\Terrorism and Fake News Project\\\\Pipeline_FNT\\\\0.2 Data Collection using GTD\\\\h5files_2015_2018\\\\201502100023_7390.h5',\n",
       " 'D:\\\\PACK\\\\HTBSC Project\\\\Information Disorder and Operations\\\\Terrorism and Fake News Project\\\\Pipeline_FNT\\\\0.2 Data Collection using GTD\\\\h5files_2015_2018\\\\201502110017_11213.h5',\n",
       " 'D:\\\\PACK\\\\HTBSC Project\\\\Information Disorder and Operations\\\\Terrorism and Fake News Project\\\\Pipeline_FNT\\\\0.2 Data Collection using GTD\\\\h5files_2015_2018\\\\201502110017_11214.h5',\n",
       " 'D:\\\\PACK\\\\HTBSC Project\\\\Information Disorder and Operations\\\\Terrorism and Fake News Project\\\\Pipeline_FNT\\\\0.2 Data Collection using GTD\\\\h5files_2015_2018\\\\201502110017_7383.h5',\n",
       " 'D:\\\\PACK\\\\HTBSC Project\\\\Information Disorder and Operations\\\\Terrorism and Fake News Project\\\\Pipeline_FNT\\\\0.2 Data Collection using GTD\\\\h5files_2015_2018\\\\201502110017_7384.h5',\n",
       " 'D:\\\\PACK\\\\HTBSC Project\\\\Information Disorder and Operations\\\\Terrorism and Fake News Project\\\\Pipeline_FNT\\\\0.2 Data Collection using GTD\\\\h5files_2015_2018\\\\201502110017_7385.h5',\n",
       " 'D:\\\\PACK\\\\HTBSC Project\\\\Information Disorder and Operations\\\\Terrorism and Fake News Project\\\\Pipeline_FNT\\\\0.2 Data Collection using GTD\\\\h5files_2015_2018\\\\201502110017_7386.h5',\n",
       " 'D:\\\\PACK\\\\HTBSC Project\\\\Information Disorder and Operations\\\\Terrorism and Fake News Project\\\\Pipeline_FNT\\\\0.2 Data Collection using GTD\\\\h5files_2015_2018\\\\201502110017_7387.h5',\n",
       " 'D:\\\\PACK\\\\HTBSC Project\\\\Information Disorder and Operations\\\\Terrorism and Fake News Project\\\\Pipeline_FNT\\\\0.2 Data Collection using GTD\\\\h5files_2015_2018\\\\201502110017_7388.h5',\n",
       " 'D:\\\\PACK\\\\HTBSC Project\\\\Information Disorder and Operations\\\\Terrorism and Fake News Project\\\\Pipeline_FNT\\\\0.2 Data Collection using GTD\\\\h5files_2015_2018\\\\201502110033_7381.h5',\n",
       " 'D:\\\\PACK\\\\HTBSC Project\\\\Information Disorder and Operations\\\\Terrorism and Fake News Project\\\\Pipeline_FNT\\\\0.2 Data Collection using GTD\\\\h5files_2015_2018\\\\201502110033_7382.h5',\n",
       " 'D:\\\\PACK\\\\HTBSC Project\\\\Information Disorder and Operations\\\\Terrorism and Fake News Project\\\\Pipeline_FNT\\\\0.2 Data Collection using GTD\\\\h5files_2015_2018\\\\201502110098_7379.h5',\n",
       " 'D:\\\\PACK\\\\HTBSC Project\\\\Information Disorder and Operations\\\\Terrorism and Fake News Project\\\\Pipeline_FNT\\\\0.2 Data Collection using GTD\\\\h5files_2015_2018\\\\201502110098_7380.h5',\n",
       " 'D:\\\\PACK\\\\HTBSC Project\\\\Information Disorder and Operations\\\\Terrorism and Fake News Project\\\\Pipeline_FNT\\\\0.2 Data Collection using GTD\\\\h5files_2015_2018\\\\201502130018_11208.h5',\n",
       " 'D:\\\\PACK\\\\HTBSC Project\\\\Information Disorder and Operations\\\\Terrorism and Fake News Project\\\\Pipeline_FNT\\\\0.2 Data Collection using GTD\\\\h5files_2015_2018\\\\201502130018_11209.h5',\n",
       " 'D:\\\\PACK\\\\HTBSC Project\\\\Information Disorder and Operations\\\\Terrorism and Fake News Project\\\\Pipeline_FNT\\\\0.2 Data Collection using GTD\\\\h5files_2015_2018\\\\201502130018_11210.h5',\n",
       " 'D:\\\\PACK\\\\HTBSC Project\\\\Information Disorder and Operations\\\\Terrorism and Fake News Project\\\\Pipeline_FNT\\\\0.2 Data Collection using GTD\\\\h5files_2015_2018\\\\201502130018_11211.h5',\n",
       " 'D:\\\\PACK\\\\HTBSC Project\\\\Information Disorder and Operations\\\\Terrorism and Fake News Project\\\\Pipeline_FNT\\\\0.2 Data Collection using GTD\\\\h5files_2015_2018\\\\201502130018_11212.h5',\n",
       " 'D:\\\\PACK\\\\HTBSC Project\\\\Information Disorder and Operations\\\\Terrorism and Fake News Project\\\\Pipeline_FNT\\\\0.2 Data Collection using GTD\\\\h5files_2015_2018\\\\201502130018_7374.h5',\n",
       " 'D:\\\\PACK\\\\HTBSC Project\\\\Information Disorder and Operations\\\\Terrorism and Fake News Project\\\\Pipeline_FNT\\\\0.2 Data Collection using GTD\\\\h5files_2015_2018\\\\201502130018_7375.h5',\n",
       " 'D:\\\\PACK\\\\HTBSC Project\\\\Information Disorder and Operations\\\\Terrorism and Fake News Project\\\\Pipeline_FNT\\\\0.2 Data Collection using GTD\\\\h5files_2015_2018\\\\201502130018_7376.h5',\n",
       " 'D:\\\\PACK\\\\HTBSC Project\\\\Information Disorder and Operations\\\\Terrorism and Fake News Project\\\\Pipeline_FNT\\\\0.2 Data Collection using GTD\\\\h5files_2015_2018\\\\201502130018_7377.h5',\n",
       " 'D:\\\\PACK\\\\HTBSC Project\\\\Information Disorder and Operations\\\\Terrorism and Fake News Project\\\\Pipeline_FNT\\\\0.2 Data Collection using GTD\\\\h5files_2015_2018\\\\201502130018_7378.h5',\n",
       " 'D:\\\\PACK\\\\HTBSC Project\\\\Information Disorder and Operations\\\\Terrorism and Fake News Project\\\\Pipeline_FNT\\\\0.2 Data Collection using GTD\\\\h5files_2015_2018\\\\201502130039_11207.h5',\n",
       " 'D:\\\\PACK\\\\HTBSC Project\\\\Information Disorder and Operations\\\\Terrorism and Fake News Project\\\\Pipeline_FNT\\\\0.2 Data Collection using GTD\\\\h5files_2015_2018\\\\201502130039_13456.h5',\n",
       " 'D:\\\\PACK\\\\HTBSC Project\\\\Information Disorder and Operations\\\\Terrorism and Fake News Project\\\\Pipeline_FNT\\\\0.2 Data Collection using GTD\\\\h5files_2015_2018\\\\201502130039_13457.h5',\n",
       " 'D:\\\\PACK\\\\HTBSC Project\\\\Information Disorder and Operations\\\\Terrorism and Fake News Project\\\\Pipeline_FNT\\\\0.2 Data Collection using GTD\\\\h5files_2015_2018\\\\201502130039_7370.h5',\n",
       " 'D:\\\\PACK\\\\HTBSC Project\\\\Information Disorder and Operations\\\\Terrorism and Fake News Project\\\\Pipeline_FNT\\\\0.2 Data Collection using GTD\\\\h5files_2015_2018\\\\201502130039_7371.h5',\n",
       " 'D:\\\\PACK\\\\HTBSC Project\\\\Information Disorder and Operations\\\\Terrorism and Fake News Project\\\\Pipeline_FNT\\\\0.2 Data Collection using GTD\\\\h5files_2015_2018\\\\201502130039_7372.h5',\n",
       " 'D:\\\\PACK\\\\HTBSC Project\\\\Information Disorder and Operations\\\\Terrorism and Fake News Project\\\\Pipeline_FNT\\\\0.2 Data Collection using GTD\\\\h5files_2015_2018\\\\201502130039_7373.h5',\n",
       " 'D:\\\\PACK\\\\HTBSC Project\\\\Information Disorder and Operations\\\\Terrorism and Fake News Project\\\\Pipeline_FNT\\\\0.2 Data Collection using GTD\\\\h5files_2015_2018\\\\201502130046_11205.h5',\n",
       " 'D:\\\\PACK\\\\HTBSC Project\\\\Information Disorder and Operations\\\\Terrorism and Fake News Project\\\\Pipeline_FNT\\\\0.2 Data Collection using GTD\\\\h5files_2015_2018\\\\201502130046_11206.h5',\n",
       " 'D:\\\\PACK\\\\HTBSC Project\\\\Information Disorder and Operations\\\\Terrorism and Fake News Project\\\\Pipeline_FNT\\\\0.2 Data Collection using GTD\\\\h5files_2015_2018\\\\201502130046_7368.h5',\n",
       " 'D:\\\\PACK\\\\HTBSC Project\\\\Information Disorder and Operations\\\\Terrorism and Fake News Project\\\\Pipeline_FNT\\\\0.2 Data Collection using GTD\\\\h5files_2015_2018\\\\201502130046_7369.h5',\n",
       " 'D:\\\\PACK\\\\HTBSC Project\\\\Information Disorder and Operations\\\\Terrorism and Fake News Project\\\\Pipeline_FNT\\\\0.2 Data Collection using GTD\\\\h5files_2015_2018\\\\201502130050_7367.h5',\n",
       " 'D:\\\\PACK\\\\HTBSC Project\\\\Information Disorder and Operations\\\\Terrorism and Fake News Project\\\\Pipeline_FNT\\\\0.2 Data Collection using GTD\\\\h5files_2015_2018\\\\201502130081_7366.h5',\n",
       " 'D:\\\\PACK\\\\HTBSC Project\\\\Information Disorder and Operations\\\\Terrorism and Fake News Project\\\\Pipeline_FNT\\\\0.2 Data Collection using GTD\\\\h5files_2015_2018\\\\201502140070_7365.h5',\n",
       " 'D:\\\\PACK\\\\HTBSC Project\\\\Information Disorder and Operations\\\\Terrorism and Fake News Project\\\\Pipeline_FNT\\\\0.2 Data Collection using GTD\\\\h5files_2015_2018\\\\201502150018_7364.h5',\n",
       " 'D:\\\\PACK\\\\HTBSC Project\\\\Information Disorder and Operations\\\\Terrorism and Fake News Project\\\\Pipeline_FNT\\\\0.2 Data Collection using GTD\\\\h5files_2015_2018\\\\201502150019_11203.h5',\n",
       " 'D:\\\\PACK\\\\HTBSC Project\\\\Information Disorder and Operations\\\\Terrorism and Fake News Project\\\\Pipeline_FNT\\\\0.2 Data Collection using GTD\\\\h5files_2015_2018\\\\201502150019_11204.h5',\n",
       " 'D:\\\\PACK\\\\HTBSC Project\\\\Information Disorder and Operations\\\\Terrorism and Fake News Project\\\\Pipeline_FNT\\\\0.2 Data Collection using GTD\\\\h5files_2015_2018\\\\201502150019_7363.h5',\n",
       " 'D:\\\\PACK\\\\HTBSC Project\\\\Information Disorder and Operations\\\\Terrorism and Fake News Project\\\\Pipeline_FNT\\\\0.2 Data Collection using GTD\\\\h5files_2015_2018\\\\201502150020_7359.h5',\n",
       " 'D:\\\\PACK\\\\HTBSC Project\\\\Information Disorder and Operations\\\\Terrorism and Fake News Project\\\\Pipeline_FNT\\\\0.2 Data Collection using GTD\\\\h5files_2015_2018\\\\201502150020_7360.h5',\n",
       " 'D:\\\\PACK\\\\HTBSC Project\\\\Information Disorder and Operations\\\\Terrorism and Fake News Project\\\\Pipeline_FNT\\\\0.2 Data Collection using GTD\\\\h5files_2015_2018\\\\201502150020_7361.h5',\n",
       " 'D:\\\\PACK\\\\HTBSC Project\\\\Information Disorder and Operations\\\\Terrorism and Fake News Project\\\\Pipeline_FNT\\\\0.2 Data Collection using GTD\\\\h5files_2015_2018\\\\201502150020_7362.h5',\n",
       " 'D:\\\\PACK\\\\HTBSC Project\\\\Information Disorder and Operations\\\\Terrorism and Fake News Project\\\\Pipeline_FNT\\\\0.2 Data Collection using GTD\\\\h5files_2015_2018\\\\201502150051_7352.h5',\n",
       " 'D:\\\\PACK\\\\HTBSC Project\\\\Information Disorder and Operations\\\\Terrorism and Fake News Project\\\\Pipeline_FNT\\\\0.2 Data Collection using GTD\\\\h5files_2015_2018\\\\201502150051_7353.h5',\n",
       " 'D:\\\\PACK\\\\HTBSC Project\\\\Information Disorder and Operations\\\\Terrorism and Fake News Project\\\\Pipeline_FNT\\\\0.2 Data Collection using GTD\\\\h5files_2015_2018\\\\201502150051_7354.h5',\n",
       " 'D:\\\\PACK\\\\HTBSC Project\\\\Information Disorder and Operations\\\\Terrorism and Fake News Project\\\\Pipeline_FNT\\\\0.2 Data Collection using GTD\\\\h5files_2015_2018\\\\201502150051_7355.h5',\n",
       " 'D:\\\\PACK\\\\HTBSC Project\\\\Information Disorder and Operations\\\\Terrorism and Fake News Project\\\\Pipeline_FNT\\\\0.2 Data Collection using GTD\\\\h5files_2015_2018\\\\201502150051_7356.h5',\n",
       " 'D:\\\\PACK\\\\HTBSC Project\\\\Information Disorder and Operations\\\\Terrorism and Fake News Project\\\\Pipeline_FNT\\\\0.2 Data Collection using GTD\\\\h5files_2015_2018\\\\201502150051_7357.h5',\n",
       " 'D:\\\\PACK\\\\HTBSC Project\\\\Information Disorder and Operations\\\\Terrorism and Fake News Project\\\\Pipeline_FNT\\\\0.2 Data Collection using GTD\\\\h5files_2015_2018\\\\201502150051_7358.h5',\n",
       " 'D:\\\\PACK\\\\HTBSC Project\\\\Information Disorder and Operations\\\\Terrorism and Fake News Project\\\\Pipeline_FNT\\\\0.2 Data Collection using GTD\\\\h5files_2015_2018\\\\201502150054_11197.h5',\n",
       " 'D:\\\\PACK\\\\HTBSC Project\\\\Information Disorder and Operations\\\\Terrorism and Fake News Project\\\\Pipeline_FNT\\\\0.2 Data Collection using GTD\\\\h5files_2015_2018\\\\201502150054_11198.h5',\n",
       " 'D:\\\\PACK\\\\HTBSC Project\\\\Information Disorder and Operations\\\\Terrorism and Fake News Project\\\\Pipeline_FNT\\\\0.2 Data Collection using GTD\\\\h5files_2015_2018\\\\201502150054_11199.h5',\n",
       " 'D:\\\\PACK\\\\HTBSC Project\\\\Information Disorder and Operations\\\\Terrorism and Fake News Project\\\\Pipeline_FNT\\\\0.2 Data Collection using GTD\\\\h5files_2015_2018\\\\201502150054_11200.h5',\n",
       " 'D:\\\\PACK\\\\HTBSC Project\\\\Information Disorder and Operations\\\\Terrorism and Fake News Project\\\\Pipeline_FNT\\\\0.2 Data Collection using GTD\\\\h5files_2015_2018\\\\201502150054_11201.h5',\n",
       " 'D:\\\\PACK\\\\HTBSC Project\\\\Information Disorder and Operations\\\\Terrorism and Fake News Project\\\\Pipeline_FNT\\\\0.2 Data Collection using GTD\\\\h5files_2015_2018\\\\201502150054_11202.h5',\n",
       " 'D:\\\\PACK\\\\HTBSC Project\\\\Information Disorder and Operations\\\\Terrorism and Fake News Project\\\\Pipeline_FNT\\\\0.2 Data Collection using GTD\\\\h5files_2015_2018\\\\201502150054_13452.h5',\n",
       " 'D:\\\\PACK\\\\HTBSC Project\\\\Information Disorder and Operations\\\\Terrorism and Fake News Project\\\\Pipeline_FNT\\\\0.2 Data Collection using GTD\\\\h5files_2015_2018\\\\201502150054_13453.h5',\n",
       " 'D:\\\\PACK\\\\HTBSC Project\\\\Information Disorder and Operations\\\\Terrorism and Fake News Project\\\\Pipeline_FNT\\\\0.2 Data Collection using GTD\\\\h5files_2015_2018\\\\201502150054_13454.h5',\n",
       " 'D:\\\\PACK\\\\HTBSC Project\\\\Information Disorder and Operations\\\\Terrorism and Fake News Project\\\\Pipeline_FNT\\\\0.2 Data Collection using GTD\\\\h5files_2015_2018\\\\201502150054_13455.h5',\n",
       " 'D:\\\\PACK\\\\HTBSC Project\\\\Information Disorder and Operations\\\\Terrorism and Fake News Project\\\\Pipeline_FNT\\\\0.2 Data Collection using GTD\\\\h5files_2015_2018\\\\201502150060_7351.h5',\n",
       " 'D:\\\\PACK\\\\HTBSC Project\\\\Information Disorder and Operations\\\\Terrorism and Fake News Project\\\\Pipeline_FNT\\\\0.2 Data Collection using GTD\\\\h5files_2015_2018\\\\201502160010_11191.h5',\n",
       " 'D:\\\\PACK\\\\HTBSC Project\\\\Information Disorder and Operations\\\\Terrorism and Fake News Project\\\\Pipeline_FNT\\\\0.2 Data Collection using GTD\\\\h5files_2015_2018\\\\201502160010_11192.h5',\n",
       " 'D:\\\\PACK\\\\HTBSC Project\\\\Information Disorder and Operations\\\\Terrorism and Fake News Project\\\\Pipeline_FNT\\\\0.2 Data Collection using GTD\\\\h5files_2015_2018\\\\201502160010_11193.h5',\n",
       " 'D:\\\\PACK\\\\HTBSC Project\\\\Information Disorder and Operations\\\\Terrorism and Fake News Project\\\\Pipeline_FNT\\\\0.2 Data Collection using GTD\\\\h5files_2015_2018\\\\201502160010_11194.h5',\n",
       " 'D:\\\\PACK\\\\HTBSC Project\\\\Information Disorder and Operations\\\\Terrorism and Fake News Project\\\\Pipeline_FNT\\\\0.2 Data Collection using GTD\\\\h5files_2015_2018\\\\201502160010_11195.h5',\n",
       " 'D:\\\\PACK\\\\HTBSC Project\\\\Information Disorder and Operations\\\\Terrorism and Fake News Project\\\\Pipeline_FNT\\\\0.2 Data Collection using GTD\\\\h5files_2015_2018\\\\201502160010_11196.h5',\n",
       " 'D:\\\\PACK\\\\HTBSC Project\\\\Information Disorder and Operations\\\\Terrorism and Fake News Project\\\\Pipeline_FNT\\\\0.2 Data Collection using GTD\\\\h5files_2015_2018\\\\201502160010_7349.h5',\n",
       " 'D:\\\\PACK\\\\HTBSC Project\\\\Information Disorder and Operations\\\\Terrorism and Fake News Project\\\\Pipeline_FNT\\\\0.2 Data Collection using GTD\\\\h5files_2015_2018\\\\201502160010_7350.h5',\n",
       " 'D:\\\\PACK\\\\HTBSC Project\\\\Information Disorder and Operations\\\\Terrorism and Fake News Project\\\\Pipeline_FNT\\\\0.2 Data Collection using GTD\\\\h5files_2015_2018\\\\201502170019_11187.h5',\n",
       " 'D:\\\\PACK\\\\HTBSC Project\\\\Information Disorder and Operations\\\\Terrorism and Fake News Project\\\\Pipeline_FNT\\\\0.2 Data Collection using GTD\\\\h5files_2015_2018\\\\201502170019_11188.h5',\n",
       " 'D:\\\\PACK\\\\HTBSC Project\\\\Information Disorder and Operations\\\\Terrorism and Fake News Project\\\\Pipeline_FNT\\\\0.2 Data Collection using GTD\\\\h5files_2015_2018\\\\201502170019_11189.h5',\n",
       " 'D:\\\\PACK\\\\HTBSC Project\\\\Information Disorder and Operations\\\\Terrorism and Fake News Project\\\\Pipeline_FNT\\\\0.2 Data Collection using GTD\\\\h5files_2015_2018\\\\201502170019_11190.h5',\n",
       " 'D:\\\\PACK\\\\HTBSC Project\\\\Information Disorder and Operations\\\\Terrorism and Fake News Project\\\\Pipeline_FNT\\\\0.2 Data Collection using GTD\\\\h5files_2015_2018\\\\201502170019_13451.h5',\n",
       " 'D:\\\\PACK\\\\HTBSC Project\\\\Information Disorder and Operations\\\\Terrorism and Fake News Project\\\\Pipeline_FNT\\\\0.2 Data Collection using GTD\\\\h5files_2015_2018\\\\201502170019_7345.h5',\n",
       " 'D:\\\\PACK\\\\HTBSC Project\\\\Information Disorder and Operations\\\\Terrorism and Fake News Project\\\\Pipeline_FNT\\\\0.2 Data Collection using GTD\\\\h5files_2015_2018\\\\201502170019_7346.h5',\n",
       " 'D:\\\\PACK\\\\HTBSC Project\\\\Information Disorder and Operations\\\\Terrorism and Fake News Project\\\\Pipeline_FNT\\\\0.2 Data Collection using GTD\\\\h5files_2015_2018\\\\201502170019_7347.h5',\n",
       " 'D:\\\\PACK\\\\HTBSC Project\\\\Information Disorder and Operations\\\\Terrorism and Fake News Project\\\\Pipeline_FNT\\\\0.2 Data Collection using GTD\\\\h5files_2015_2018\\\\201502170019_7348.h5',\n",
       " 'D:\\\\PACK\\\\HTBSC Project\\\\Information Disorder and Operations\\\\Terrorism and Fake News Project\\\\Pipeline_FNT\\\\0.2 Data Collection using GTD\\\\h5files_2015_2018\\\\201502190040_7339.h5',\n",
       " 'D:\\\\PACK\\\\HTBSC Project\\\\Information Disorder and Operations\\\\Terrorism and Fake News Project\\\\Pipeline_FNT\\\\0.2 Data Collection using GTD\\\\h5files_2015_2018\\\\201502190040_7340.h5',\n",
       " 'D:\\\\PACK\\\\HTBSC Project\\\\Information Disorder and Operations\\\\Terrorism and Fake News Project\\\\Pipeline_FNT\\\\0.2 Data Collection using GTD\\\\h5files_2015_2018\\\\201502190040_7341.h5',\n",
       " 'D:\\\\PACK\\\\HTBSC Project\\\\Information Disorder and Operations\\\\Terrorism and Fake News Project\\\\Pipeline_FNT\\\\0.2 Data Collection using GTD\\\\h5files_2015_2018\\\\201502190040_7342.h5',\n",
       " 'D:\\\\PACK\\\\HTBSC Project\\\\Information Disorder and Operations\\\\Terrorism and Fake News Project\\\\Pipeline_FNT\\\\0.2 Data Collection using GTD\\\\h5files_2015_2018\\\\201502190040_7343.h5',\n",
       " 'D:\\\\PACK\\\\HTBSC Project\\\\Information Disorder and Operations\\\\Terrorism and Fake News Project\\\\Pipeline_FNT\\\\0.2 Data Collection using GTD\\\\h5files_2015_2018\\\\201502190040_7344.h5',\n",
       " 'D:\\\\PACK\\\\HTBSC Project\\\\Information Disorder and Operations\\\\Terrorism and Fake News Project\\\\Pipeline_FNT\\\\0.2 Data Collection using GTD\\\\h5files_2015_2018\\\\201502190041_11183.h5',\n",
       " 'D:\\\\PACK\\\\HTBSC Project\\\\Information Disorder and Operations\\\\Terrorism and Fake News Project\\\\Pipeline_FNT\\\\0.2 Data Collection using GTD\\\\h5files_2015_2018\\\\201502190041_11184.h5',\n",
       " 'D:\\\\PACK\\\\HTBSC Project\\\\Information Disorder and Operations\\\\Terrorism and Fake News Project\\\\Pipeline_FNT\\\\0.2 Data Collection using GTD\\\\h5files_2015_2018\\\\201502190041_11185.h5',\n",
       " 'D:\\\\PACK\\\\HTBSC Project\\\\Information Disorder and Operations\\\\Terrorism and Fake News Project\\\\Pipeline_FNT\\\\0.2 Data Collection using GTD\\\\h5files_2015_2018\\\\201502190041_11186.h5',\n",
       " 'D:\\\\PACK\\\\HTBSC Project\\\\Information Disorder and Operations\\\\Terrorism and Fake News Project\\\\Pipeline_FNT\\\\0.2 Data Collection using GTD\\\\h5files_2015_2018\\\\201502190043_11180.h5',\n",
       " 'D:\\\\PACK\\\\HTBSC Project\\\\Information Disorder and Operations\\\\Terrorism and Fake News Project\\\\Pipeline_FNT\\\\0.2 Data Collection using GTD\\\\h5files_2015_2018\\\\201502190043_11181.h5',\n",
       " 'D:\\\\PACK\\\\HTBSC Project\\\\Information Disorder and Operations\\\\Terrorism and Fake News Project\\\\Pipeline_FNT\\\\0.2 Data Collection using GTD\\\\h5files_2015_2018\\\\201502190043_11182.h5',\n",
       " 'D:\\\\PACK\\\\HTBSC Project\\\\Information Disorder and Operations\\\\Terrorism and Fake News Project\\\\Pipeline_FNT\\\\0.2 Data Collection using GTD\\\\h5files_2015_2018\\\\201502190043_13448.h5',\n",
       " 'D:\\\\PACK\\\\HTBSC Project\\\\Information Disorder and Operations\\\\Terrorism and Fake News Project\\\\Pipeline_FNT\\\\0.2 Data Collection using GTD\\\\h5files_2015_2018\\\\201502190043_13449.h5',\n",
       " 'D:\\\\PACK\\\\HTBSC Project\\\\Information Disorder and Operations\\\\Terrorism and Fake News Project\\\\Pipeline_FNT\\\\0.2 Data Collection using GTD\\\\h5files_2015_2018\\\\201502190043_13450.h5',\n",
       " 'D:\\\\PACK\\\\HTBSC Project\\\\Information Disorder and Operations\\\\Terrorism and Fake News Project\\\\Pipeline_FNT\\\\0.2 Data Collection using GTD\\\\h5files_2015_2018\\\\201502190043_7335.h5',\n",
       " 'D:\\\\PACK\\\\HTBSC Project\\\\Information Disorder and Operations\\\\Terrorism and Fake News Project\\\\Pipeline_FNT\\\\0.2 Data Collection using GTD\\\\h5files_2015_2018\\\\201502190043_7336.h5',\n",
       " 'D:\\\\PACK\\\\HTBSC Project\\\\Information Disorder and Operations\\\\Terrorism and Fake News Project\\\\Pipeline_FNT\\\\0.2 Data Collection using GTD\\\\h5files_2015_2018\\\\201502190043_7337.h5',\n",
       " 'D:\\\\PACK\\\\HTBSC Project\\\\Information Disorder and Operations\\\\Terrorism and Fake News Project\\\\Pipeline_FNT\\\\0.2 Data Collection using GTD\\\\h5files_2015_2018\\\\201502190043_7338.h5',\n",
       " 'D:\\\\PACK\\\\HTBSC Project\\\\Information Disorder and Operations\\\\Terrorism and Fake News Project\\\\Pipeline_FNT\\\\0.2 Data Collection using GTD\\\\h5files_2015_2018\\\\201502200010_7326.h5',\n",
       " 'D:\\\\PACK\\\\HTBSC Project\\\\Information Disorder and Operations\\\\Terrorism and Fake News Project\\\\Pipeline_FNT\\\\0.2 Data Collection using GTD\\\\h5files_2015_2018\\\\201502200010_7327.h5',\n",
       " 'D:\\\\PACK\\\\HTBSC Project\\\\Information Disorder and Operations\\\\Terrorism and Fake News Project\\\\Pipeline_FNT\\\\0.2 Data Collection using GTD\\\\h5files_2015_2018\\\\201502200010_7328.h5',\n",
       " 'D:\\\\PACK\\\\HTBSC Project\\\\Information Disorder and Operations\\\\Terrorism and Fake News Project\\\\Pipeline_FNT\\\\0.2 Data Collection using GTD\\\\h5files_2015_2018\\\\201502200010_7329.h5',\n",
       " 'D:\\\\PACK\\\\HTBSC Project\\\\Information Disorder and Operations\\\\Terrorism and Fake News Project\\\\Pipeline_FNT\\\\0.2 Data Collection using GTD\\\\h5files_2015_2018\\\\201502200010_7330.h5',\n",
       " 'D:\\\\PACK\\\\HTBSC Project\\\\Information Disorder and Operations\\\\Terrorism and Fake News Project\\\\Pipeline_FNT\\\\0.2 Data Collection using GTD\\\\h5files_2015_2018\\\\201502200010_7331.h5',\n",
       " 'D:\\\\PACK\\\\HTBSC Project\\\\Information Disorder and Operations\\\\Terrorism and Fake News Project\\\\Pipeline_FNT\\\\0.2 Data Collection using GTD\\\\h5files_2015_2018\\\\201502200010_7332.h5',\n",
       " 'D:\\\\PACK\\\\HTBSC Project\\\\Information Disorder and Operations\\\\Terrorism and Fake News Project\\\\Pipeline_FNT\\\\0.2 Data Collection using GTD\\\\h5files_2015_2018\\\\201502200010_7333.h5',\n",
       " 'D:\\\\PACK\\\\HTBSC Project\\\\Information Disorder and Operations\\\\Terrorism and Fake News Project\\\\Pipeline_FNT\\\\0.2 Data Collection using GTD\\\\h5files_2015_2018\\\\201502200010_7334.h5',\n",
       " 'D:\\\\PACK\\\\HTBSC Project\\\\Information Disorder and Operations\\\\Terrorism and Fake News Project\\\\Pipeline_FNT\\\\0.2 Data Collection using GTD\\\\h5files_2015_2018\\\\201502200012_11179.h5',\n",
       " 'D:\\\\PACK\\\\HTBSC Project\\\\Information Disorder and Operations\\\\Terrorism and Fake News Project\\\\Pipeline_FNT\\\\0.2 Data Collection using GTD\\\\h5files_2015_2018\\\\201502200012_13441.h5',\n",
       " 'D:\\\\PACK\\\\HTBSC Project\\\\Information Disorder and Operations\\\\Terrorism and Fake News Project\\\\Pipeline_FNT\\\\0.2 Data Collection using GTD\\\\h5files_2015_2018\\\\201502200012_13442.h5',\n",
       " 'D:\\\\PACK\\\\HTBSC Project\\\\Information Disorder and Operations\\\\Terrorism and Fake News Project\\\\Pipeline_FNT\\\\0.2 Data Collection using GTD\\\\h5files_2015_2018\\\\201502200012_13443.h5',\n",
       " 'D:\\\\PACK\\\\HTBSC Project\\\\Information Disorder and Operations\\\\Terrorism and Fake News Project\\\\Pipeline_FNT\\\\0.2 Data Collection using GTD\\\\h5files_2015_2018\\\\201502200012_13444.h5',\n",
       " 'D:\\\\PACK\\\\HTBSC Project\\\\Information Disorder and Operations\\\\Terrorism and Fake News Project\\\\Pipeline_FNT\\\\0.2 Data Collection using GTD\\\\h5files_2015_2018\\\\201502200012_13445.h5',\n",
       " 'D:\\\\PACK\\\\HTBSC Project\\\\Information Disorder and Operations\\\\Terrorism and Fake News Project\\\\Pipeline_FNT\\\\0.2 Data Collection using GTD\\\\h5files_2015_2018\\\\201502200012_13446.h5',\n",
       " 'D:\\\\PACK\\\\HTBSC Project\\\\Information Disorder and Operations\\\\Terrorism and Fake News Project\\\\Pipeline_FNT\\\\0.2 Data Collection using GTD\\\\h5files_2015_2018\\\\201502200012_13447.h5',\n",
       " 'D:\\\\PACK\\\\HTBSC Project\\\\Information Disorder and Operations\\\\Terrorism and Fake News Project\\\\Pipeline_FNT\\\\0.2 Data Collection using GTD\\\\h5files_2015_2018\\\\201502200030_11178.h5',\n",
       " 'D:\\\\PACK\\\\HTBSC Project\\\\Information Disorder and Operations\\\\Terrorism and Fake News Project\\\\Pipeline_FNT\\\\0.2 Data Collection using GTD\\\\h5files_2015_2018\\\\201502200030_7324.h5',\n",
       " 'D:\\\\PACK\\\\HTBSC Project\\\\Information Disorder and Operations\\\\Terrorism and Fake News Project\\\\Pipeline_FNT\\\\0.2 Data Collection using GTD\\\\h5files_2015_2018\\\\201502200030_7325.h5',\n",
       " 'D:\\\\PACK\\\\HTBSC Project\\\\Information Disorder and Operations\\\\Terrorism and Fake News Project\\\\Pipeline_FNT\\\\0.2 Data Collection using GTD\\\\h5files_2015_2018\\\\201502210041_11170.h5',\n",
       " 'D:\\\\PACK\\\\HTBSC Project\\\\Information Disorder and Operations\\\\Terrorism and Fake News Project\\\\Pipeline_FNT\\\\0.2 Data Collection using GTD\\\\h5files_2015_2018\\\\201502210041_11171.h5',\n",
       " 'D:\\\\PACK\\\\HTBSC Project\\\\Information Disorder and Operations\\\\Terrorism and Fake News Project\\\\Pipeline_FNT\\\\0.2 Data Collection using GTD\\\\h5files_2015_2018\\\\201502210041_11172.h5',\n",
       " 'D:\\\\PACK\\\\HTBSC Project\\\\Information Disorder and Operations\\\\Terrorism and Fake News Project\\\\Pipeline_FNT\\\\0.2 Data Collection using GTD\\\\h5files_2015_2018\\\\201502210041_11173.h5',\n",
       " 'D:\\\\PACK\\\\HTBSC Project\\\\Information Disorder and Operations\\\\Terrorism and Fake News Project\\\\Pipeline_FNT\\\\0.2 Data Collection using GTD\\\\h5files_2015_2018\\\\201502210041_11174.h5',\n",
       " 'D:\\\\PACK\\\\HTBSC Project\\\\Information Disorder and Operations\\\\Terrorism and Fake News Project\\\\Pipeline_FNT\\\\0.2 Data Collection using GTD\\\\h5files_2015_2018\\\\201502210041_11175.h5',\n",
       " 'D:\\\\PACK\\\\HTBSC Project\\\\Information Disorder and Operations\\\\Terrorism and Fake News Project\\\\Pipeline_FNT\\\\0.2 Data Collection using GTD\\\\h5files_2015_2018\\\\201502210041_11176.h5',\n",
       " 'D:\\\\PACK\\\\HTBSC Project\\\\Information Disorder and Operations\\\\Terrorism and Fake News Project\\\\Pipeline_FNT\\\\0.2 Data Collection using GTD\\\\h5files_2015_2018\\\\201502210041_11177.h5',\n",
       " 'D:\\\\PACK\\\\HTBSC Project\\\\Information Disorder and Operations\\\\Terrorism and Fake News Project\\\\Pipeline_FNT\\\\0.2 Data Collection using GTD\\\\h5files_2015_2018\\\\201502210041_13433.h5',\n",
       " 'D:\\\\PACK\\\\HTBSC Project\\\\Information Disorder and Operations\\\\Terrorism and Fake News Project\\\\Pipeline_FNT\\\\0.2 Data Collection using GTD\\\\h5files_2015_2018\\\\201502210041_13434.h5',\n",
       " 'D:\\\\PACK\\\\HTBSC Project\\\\Information Disorder and Operations\\\\Terrorism and Fake News Project\\\\Pipeline_FNT\\\\0.2 Data Collection using GTD\\\\h5files_2015_2018\\\\201502210041_13435.h5',\n",
       " 'D:\\\\PACK\\\\HTBSC Project\\\\Information Disorder and Operations\\\\Terrorism and Fake News Project\\\\Pipeline_FNT\\\\0.2 Data Collection using GTD\\\\h5files_2015_2018\\\\201502210041_13436.h5',\n",
       " 'D:\\\\PACK\\\\HTBSC Project\\\\Information Disorder and Operations\\\\Terrorism and Fake News Project\\\\Pipeline_FNT\\\\0.2 Data Collection using GTD\\\\h5files_2015_2018\\\\201502210041_13437.h5',\n",
       " 'D:\\\\PACK\\\\HTBSC Project\\\\Information Disorder and Operations\\\\Terrorism and Fake News Project\\\\Pipeline_FNT\\\\0.2 Data Collection using GTD\\\\h5files_2015_2018\\\\201502210041_13438.h5',\n",
       " 'D:\\\\PACK\\\\HTBSC Project\\\\Information Disorder and Operations\\\\Terrorism and Fake News Project\\\\Pipeline_FNT\\\\0.2 Data Collection using GTD\\\\h5files_2015_2018\\\\201502210041_13439.h5',\n",
       " 'D:\\\\PACK\\\\HTBSC Project\\\\Information Disorder and Operations\\\\Terrorism and Fake News Project\\\\Pipeline_FNT\\\\0.2 Data Collection using GTD\\\\h5files_2015_2018\\\\201502210041_13440.h5',\n",
       " 'D:\\\\PACK\\\\HTBSC Project\\\\Information Disorder and Operations\\\\Terrorism and Fake News Project\\\\Pipeline_FNT\\\\0.2 Data Collection using GTD\\\\h5files_2015_2018\\\\201502210041_7316.h5',\n",
       " 'D:\\\\PACK\\\\HTBSC Project\\\\Information Disorder and Operations\\\\Terrorism and Fake News Project\\\\Pipeline_FNT\\\\0.2 Data Collection using GTD\\\\h5files_2015_2018\\\\201502210041_7317.h5',\n",
       " 'D:\\\\PACK\\\\HTBSC Project\\\\Information Disorder and Operations\\\\Terrorism and Fake News Project\\\\Pipeline_FNT\\\\0.2 Data Collection using GTD\\\\h5files_2015_2018\\\\201502210041_7318.h5',\n",
       " 'D:\\\\PACK\\\\HTBSC Project\\\\Information Disorder and Operations\\\\Terrorism and Fake News Project\\\\Pipeline_FNT\\\\0.2 Data Collection using GTD\\\\h5files_2015_2018\\\\201502210041_7319.h5',\n",
       " 'D:\\\\PACK\\\\HTBSC Project\\\\Information Disorder and Operations\\\\Terrorism and Fake News Project\\\\Pipeline_FNT\\\\0.2 Data Collection using GTD\\\\h5files_2015_2018\\\\201502210041_7320.h5',\n",
       " 'D:\\\\PACK\\\\HTBSC Project\\\\Information Disorder and Operations\\\\Terrorism and Fake News Project\\\\Pipeline_FNT\\\\0.2 Data Collection using GTD\\\\h5files_2015_2018\\\\201502210041_7321.h5',\n",
       " 'D:\\\\PACK\\\\HTBSC Project\\\\Information Disorder and Operations\\\\Terrorism and Fake News Project\\\\Pipeline_FNT\\\\0.2 Data Collection using GTD\\\\h5files_2015_2018\\\\201502210041_7322.h5',\n",
       " 'D:\\\\PACK\\\\HTBSC Project\\\\Information Disorder and Operations\\\\Terrorism and Fake News Project\\\\Pipeline_FNT\\\\0.2 Data Collection using GTD\\\\h5files_2015_2018\\\\201502210041_7323.h5',\n",
       " 'D:\\\\PACK\\\\HTBSC Project\\\\Information Disorder and Operations\\\\Terrorism and Fake News Project\\\\Pipeline_FNT\\\\0.2 Data Collection using GTD\\\\h5files_2015_2018\\\\201502210047_7315.h5',\n",
       " 'D:\\\\PACK\\\\HTBSC Project\\\\Information Disorder and Operations\\\\Terrorism and Fake News Project\\\\Pipeline_FNT\\\\0.2 Data Collection using GTD\\\\h5files_2015_2018\\\\201502210055_7313.h5',\n",
       " 'D:\\\\PACK\\\\HTBSC Project\\\\Information Disorder and Operations\\\\Terrorism and Fake News Project\\\\Pipeline_FNT\\\\0.2 Data Collection using GTD\\\\h5files_2015_2018\\\\201502210055_7314.h5',\n",
       " 'D:\\\\PACK\\\\HTBSC Project\\\\Information Disorder and Operations\\\\Terrorism and Fake News Project\\\\Pipeline_FNT\\\\0.2 Data Collection using GTD\\\\h5files_2015_2018\\\\201502220016_11169.h5',\n",
       " 'D:\\\\PACK\\\\HTBSC Project\\\\Information Disorder and Operations\\\\Terrorism and Fake News Project\\\\Pipeline_FNT\\\\0.2 Data Collection using GTD\\\\h5files_2015_2018\\\\201502220016_7310.h5',\n",
       " 'D:\\\\PACK\\\\HTBSC Project\\\\Information Disorder and Operations\\\\Terrorism and Fake News Project\\\\Pipeline_FNT\\\\0.2 Data Collection using GTD\\\\h5files_2015_2018\\\\201502220016_7311.h5',\n",
       " 'D:\\\\PACK\\\\HTBSC Project\\\\Information Disorder and Operations\\\\Terrorism and Fake News Project\\\\Pipeline_FNT\\\\0.2 Data Collection using GTD\\\\h5files_2015_2018\\\\201502220016_7312.h5',\n",
       " 'D:\\\\PACK\\\\HTBSC Project\\\\Information Disorder and Operations\\\\Terrorism and Fake News Project\\\\Pipeline_FNT\\\\0.2 Data Collection using GTD\\\\h5files_2015_2018\\\\201502230061_11160.h5',\n",
       " 'D:\\\\PACK\\\\HTBSC Project\\\\Information Disorder and Operations\\\\Terrorism and Fake News Project\\\\Pipeline_FNT\\\\0.2 Data Collection using GTD\\\\h5files_2015_2018\\\\201502230061_11161.h5',\n",
       " 'D:\\\\PACK\\\\HTBSC Project\\\\Information Disorder and Operations\\\\Terrorism and Fake News Project\\\\Pipeline_FNT\\\\0.2 Data Collection using GTD\\\\h5files_2015_2018\\\\201502230061_11162.h5',\n",
       " 'D:\\\\PACK\\\\HTBSC Project\\\\Information Disorder and Operations\\\\Terrorism and Fake News Project\\\\Pipeline_FNT\\\\0.2 Data Collection using GTD\\\\h5files_2015_2018\\\\201502230061_11163.h5',\n",
       " 'D:\\\\PACK\\\\HTBSC Project\\\\Information Disorder and Operations\\\\Terrorism and Fake News Project\\\\Pipeline_FNT\\\\0.2 Data Collection using GTD\\\\h5files_2015_2018\\\\201502230061_11164.h5',\n",
       " 'D:\\\\PACK\\\\HTBSC Project\\\\Information Disorder and Operations\\\\Terrorism and Fake News Project\\\\Pipeline_FNT\\\\0.2 Data Collection using GTD\\\\h5files_2015_2018\\\\201502230061_11165.h5',\n",
       " 'D:\\\\PACK\\\\HTBSC Project\\\\Information Disorder and Operations\\\\Terrorism and Fake News Project\\\\Pipeline_FNT\\\\0.2 Data Collection using GTD\\\\h5files_2015_2018\\\\201502230061_11166.h5',\n",
       " 'D:\\\\PACK\\\\HTBSC Project\\\\Information Disorder and Operations\\\\Terrorism and Fake News Project\\\\Pipeline_FNT\\\\0.2 Data Collection using GTD\\\\h5files_2015_2018\\\\201502230061_11167.h5',\n",
       " 'D:\\\\PACK\\\\HTBSC Project\\\\Information Disorder and Operations\\\\Terrorism and Fake News Project\\\\Pipeline_FNT\\\\0.2 Data Collection using GTD\\\\h5files_2015_2018\\\\201502230061_11168.h5',\n",
       " 'D:\\\\PACK\\\\HTBSC Project\\\\Information Disorder and Operations\\\\Terrorism and Fake News Project\\\\Pipeline_FNT\\\\0.2 Data Collection using GTD\\\\h5files_2015_2018\\\\201502230061_13426.h5',\n",
       " 'D:\\\\PACK\\\\HTBSC Project\\\\Information Disorder and Operations\\\\Terrorism and Fake News Project\\\\Pipeline_FNT\\\\0.2 Data Collection using GTD\\\\h5files_2015_2018\\\\201502230061_13427.h5',\n",
       " 'D:\\\\PACK\\\\HTBSC Project\\\\Information Disorder and Operations\\\\Terrorism and Fake News Project\\\\Pipeline_FNT\\\\0.2 Data Collection using GTD\\\\h5files_2015_2018\\\\201502230061_13428.h5',\n",
       " 'D:\\\\PACK\\\\HTBSC Project\\\\Information Disorder and Operations\\\\Terrorism and Fake News Project\\\\Pipeline_FNT\\\\0.2 Data Collection using GTD\\\\h5files_2015_2018\\\\201502230061_13429.h5',\n",
       " 'D:\\\\PACK\\\\HTBSC Project\\\\Information Disorder and Operations\\\\Terrorism and Fake News Project\\\\Pipeline_FNT\\\\0.2 Data Collection using GTD\\\\h5files_2015_2018\\\\201502230061_13430.h5',\n",
       " 'D:\\\\PACK\\\\HTBSC Project\\\\Information Disorder and Operations\\\\Terrorism and Fake News Project\\\\Pipeline_FNT\\\\0.2 Data Collection using GTD\\\\h5files_2015_2018\\\\201502230061_13431.h5',\n",
       " 'D:\\\\PACK\\\\HTBSC Project\\\\Information Disorder and Operations\\\\Terrorism and Fake News Project\\\\Pipeline_FNT\\\\0.2 Data Collection using GTD\\\\h5files_2015_2018\\\\201502230061_13432.h5',\n",
       " 'D:\\\\PACK\\\\HTBSC Project\\\\Information Disorder and Operations\\\\Terrorism and Fake News Project\\\\Pipeline_FNT\\\\0.2 Data Collection using GTD\\\\h5files_2015_2018\\\\201502230061_7304.h5',\n",
       " 'D:\\\\PACK\\\\HTBSC Project\\\\Information Disorder and Operations\\\\Terrorism and Fake News Project\\\\Pipeline_FNT\\\\0.2 Data Collection using GTD\\\\h5files_2015_2018\\\\201502230061_7305.h5',\n",
       " 'D:\\\\PACK\\\\HTBSC Project\\\\Information Disorder and Operations\\\\Terrorism and Fake News Project\\\\Pipeline_FNT\\\\0.2 Data Collection using GTD\\\\h5files_2015_2018\\\\201502230061_7306.h5',\n",
       " 'D:\\\\PACK\\\\HTBSC Project\\\\Information Disorder and Operations\\\\Terrorism and Fake News Project\\\\Pipeline_FNT\\\\0.2 Data Collection using GTD\\\\h5files_2015_2018\\\\201502230061_7307.h5',\n",
       " 'D:\\\\PACK\\\\HTBSC Project\\\\Information Disorder and Operations\\\\Terrorism and Fake News Project\\\\Pipeline_FNT\\\\0.2 Data Collection using GTD\\\\h5files_2015_2018\\\\201502230061_7308.h5',\n",
       " 'D:\\\\PACK\\\\HTBSC Project\\\\Information Disorder and Operations\\\\Terrorism and Fake News Project\\\\Pipeline_FNT\\\\0.2 Data Collection using GTD\\\\h5files_2015_2018\\\\201502230061_7309.h5',\n",
       " 'D:\\\\PACK\\\\HTBSC Project\\\\Information Disorder and Operations\\\\Terrorism and Fake News Project\\\\Pipeline_FNT\\\\0.2 Data Collection using GTD\\\\h5files_2015_2018\\\\201502230062_11158.h5',\n",
       " 'D:\\\\PACK\\\\HTBSC Project\\\\Information Disorder and Operations\\\\Terrorism and Fake News Project\\\\Pipeline_FNT\\\\0.2 Data Collection using GTD\\\\h5files_2015_2018\\\\201502230062_11159.h5',\n",
       " 'D:\\\\PACK\\\\HTBSC Project\\\\Information Disorder and Operations\\\\Terrorism and Fake News Project\\\\Pipeline_FNT\\\\0.2 Data Collection using GTD\\\\h5files_2015_2018\\\\201502230062_13421.h5',\n",
       " 'D:\\\\PACK\\\\HTBSC Project\\\\Information Disorder and Operations\\\\Terrorism and Fake News Project\\\\Pipeline_FNT\\\\0.2 Data Collection using GTD\\\\h5files_2015_2018\\\\201502230062_13422.h5',\n",
       " 'D:\\\\PACK\\\\HTBSC Project\\\\Information Disorder and Operations\\\\Terrorism and Fake News Project\\\\Pipeline_FNT\\\\0.2 Data Collection using GTD\\\\h5files_2015_2018\\\\201502230062_13423.h5',\n",
       " 'D:\\\\PACK\\\\HTBSC Project\\\\Information Disorder and Operations\\\\Terrorism and Fake News Project\\\\Pipeline_FNT\\\\0.2 Data Collection using GTD\\\\h5files_2015_2018\\\\201502230062_13424.h5',\n",
       " 'D:\\\\PACK\\\\HTBSC Project\\\\Information Disorder and Operations\\\\Terrorism and Fake News Project\\\\Pipeline_FNT\\\\0.2 Data Collection using GTD\\\\h5files_2015_2018\\\\201502230062_13425.h5',\n",
       " 'D:\\\\PACK\\\\HTBSC Project\\\\Information Disorder and Operations\\\\Terrorism and Fake News Project\\\\Pipeline_FNT\\\\0.2 Data Collection using GTD\\\\h5files_2015_2018\\\\201502230062_7303.h5',\n",
       " 'D:\\\\PACK\\\\HTBSC Project\\\\Information Disorder and Operations\\\\Terrorism and Fake News Project\\\\Pipeline_FNT\\\\0.2 Data Collection using GTD\\\\h5files_2015_2018\\\\201502230072_7302.h5',\n",
       " 'D:\\\\PACK\\\\HTBSC Project\\\\Information Disorder and Operations\\\\Terrorism and Fake News Project\\\\Pipeline_FNT\\\\0.2 Data Collection using GTD\\\\h5files_2015_2018\\\\201502250027_11155.h5',\n",
       " 'D:\\\\PACK\\\\HTBSC Project\\\\Information Disorder and Operations\\\\Terrorism and Fake News Project\\\\Pipeline_FNT\\\\0.2 Data Collection using GTD\\\\h5files_2015_2018\\\\201502250027_11156.h5',\n",
       " 'D:\\\\PACK\\\\HTBSC Project\\\\Information Disorder and Operations\\\\Terrorism and Fake News Project\\\\Pipeline_FNT\\\\0.2 Data Collection using GTD\\\\h5files_2015_2018\\\\201502250027_11157.h5',\n",
       " 'D:\\\\PACK\\\\HTBSC Project\\\\Information Disorder and Operations\\\\Terrorism and Fake News Project\\\\Pipeline_FNT\\\\0.2 Data Collection using GTD\\\\h5files_2015_2018\\\\201502250027_13418.h5',\n",
       " 'D:\\\\PACK\\\\HTBSC Project\\\\Information Disorder and Operations\\\\Terrorism and Fake News Project\\\\Pipeline_FNT\\\\0.2 Data Collection using GTD\\\\h5files_2015_2018\\\\201502250027_13419.h5',\n",
       " 'D:\\\\PACK\\\\HTBSC Project\\\\Information Disorder and Operations\\\\Terrorism and Fake News Project\\\\Pipeline_FNT\\\\0.2 Data Collection using GTD\\\\h5files_2015_2018\\\\201502250027_13420.h5',\n",
       " 'D:\\\\PACK\\\\HTBSC Project\\\\Information Disorder and Operations\\\\Terrorism and Fake News Project\\\\Pipeline_FNT\\\\0.2 Data Collection using GTD\\\\h5files_2015_2018\\\\201502250027_7296.h5',\n",
       " 'D:\\\\PACK\\\\HTBSC Project\\\\Information Disorder and Operations\\\\Terrorism and Fake News Project\\\\Pipeline_FNT\\\\0.2 Data Collection using GTD\\\\h5files_2015_2018\\\\201502250027_7297.h5',\n",
       " 'D:\\\\PACK\\\\HTBSC Project\\\\Information Disorder and Operations\\\\Terrorism and Fake News Project\\\\Pipeline_FNT\\\\0.2 Data Collection using GTD\\\\h5files_2015_2018\\\\201502250027_7298.h5',\n",
       " 'D:\\\\PACK\\\\HTBSC Project\\\\Information Disorder and Operations\\\\Terrorism and Fake News Project\\\\Pipeline_FNT\\\\0.2 Data Collection using GTD\\\\h5files_2015_2018\\\\201502250027_7299.h5',\n",
       " 'D:\\\\PACK\\\\HTBSC Project\\\\Information Disorder and Operations\\\\Terrorism and Fake News Project\\\\Pipeline_FNT\\\\0.2 Data Collection using GTD\\\\h5files_2015_2018\\\\201502250027_7300.h5',\n",
       " 'D:\\\\PACK\\\\HTBSC Project\\\\Information Disorder and Operations\\\\Terrorism and Fake News Project\\\\Pipeline_FNT\\\\0.2 Data Collection using GTD\\\\h5files_2015_2018\\\\201502250027_7301.h5',\n",
       " 'D:\\\\PACK\\\\HTBSC Project\\\\Information Disorder and Operations\\\\Terrorism and Fake News Project\\\\Pipeline_FNT\\\\0.2 Data Collection using GTD\\\\h5files_2015_2018\\\\201502260027_7294.h5',\n",
       " 'D:\\\\PACK\\\\HTBSC Project\\\\Information Disorder and Operations\\\\Terrorism and Fake News Project\\\\Pipeline_FNT\\\\0.2 Data Collection using GTD\\\\h5files_2015_2018\\\\201502260027_7295.h5',\n",
       " 'D:\\\\PACK\\\\HTBSC Project\\\\Information Disorder and Operations\\\\Terrorism and Fake News Project\\\\Pipeline_FNT\\\\0.2 Data Collection using GTD\\\\h5files_2015_2018\\\\201502270032_11149.h5',\n",
       " 'D:\\\\PACK\\\\HTBSC Project\\\\Information Disorder and Operations\\\\Terrorism and Fake News Project\\\\Pipeline_FNT\\\\0.2 Data Collection using GTD\\\\h5files_2015_2018\\\\201502270032_11150.h5',\n",
       " 'D:\\\\PACK\\\\HTBSC Project\\\\Information Disorder and Operations\\\\Terrorism and Fake News Project\\\\Pipeline_FNT\\\\0.2 Data Collection using GTD\\\\h5files_2015_2018\\\\201502270032_11151.h5',\n",
       " 'D:\\\\PACK\\\\HTBSC Project\\\\Information Disorder and Operations\\\\Terrorism and Fake News Project\\\\Pipeline_FNT\\\\0.2 Data Collection using GTD\\\\h5files_2015_2018\\\\201502270032_11152.h5',\n",
       " 'D:\\\\PACK\\\\HTBSC Project\\\\Information Disorder and Operations\\\\Terrorism and Fake News Project\\\\Pipeline_FNT\\\\0.2 Data Collection using GTD\\\\h5files_2015_2018\\\\201502270032_11153.h5',\n",
       " 'D:\\\\PACK\\\\HTBSC Project\\\\Information Disorder and Operations\\\\Terrorism and Fake News Project\\\\Pipeline_FNT\\\\0.2 Data Collection using GTD\\\\h5files_2015_2018\\\\201502270032_11154.h5',\n",
       " 'D:\\\\PACK\\\\HTBSC Project\\\\Information Disorder and Operations\\\\Terrorism and Fake News Project\\\\Pipeline_FNT\\\\0.2 Data Collection using GTD\\\\h5files_2015_2018\\\\201502270032_13412.h5',\n",
       " 'D:\\\\PACK\\\\HTBSC Project\\\\Information Disorder and Operations\\\\Terrorism and Fake News Project\\\\Pipeline_FNT\\\\0.2 Data Collection using GTD\\\\h5files_2015_2018\\\\201502270032_13413.h5',\n",
       " 'D:\\\\PACK\\\\HTBSC Project\\\\Information Disorder and Operations\\\\Terrorism and Fake News Project\\\\Pipeline_FNT\\\\0.2 Data Collection using GTD\\\\h5files_2015_2018\\\\201502270032_13414.h5',\n",
       " 'D:\\\\PACK\\\\HTBSC Project\\\\Information Disorder and Operations\\\\Terrorism and Fake News Project\\\\Pipeline_FNT\\\\0.2 Data Collection using GTD\\\\h5files_2015_2018\\\\201502270032_13415.h5',\n",
       " 'D:\\\\PACK\\\\HTBSC Project\\\\Information Disorder and Operations\\\\Terrorism and Fake News Project\\\\Pipeline_FNT\\\\0.2 Data Collection using GTD\\\\h5files_2015_2018\\\\201502270032_13416.h5',\n",
       " 'D:\\\\PACK\\\\HTBSC Project\\\\Information Disorder and Operations\\\\Terrorism and Fake News Project\\\\Pipeline_FNT\\\\0.2 Data Collection using GTD\\\\h5files_2015_2018\\\\201502270032_13417.h5',\n",
       " 'D:\\\\PACK\\\\HTBSC Project\\\\Information Disorder and Operations\\\\Terrorism and Fake News Project\\\\Pipeline_FNT\\\\0.2 Data Collection using GTD\\\\h5files_2015_2018\\\\201502270032_7292.h5',\n",
       " 'D:\\\\PACK\\\\HTBSC Project\\\\Information Disorder and Operations\\\\Terrorism and Fake News Project\\\\Pipeline_FNT\\\\0.2 Data Collection using GTD\\\\h5files_2015_2018\\\\201502270032_7293.h5',\n",
       " 'D:\\\\PACK\\\\HTBSC Project\\\\Information Disorder and Operations\\\\Terrorism and Fake News Project\\\\Pipeline_FNT\\\\0.2 Data Collection using GTD\\\\h5files_2015_2018\\\\201502280074_7284.h5',\n",
       " 'D:\\\\PACK\\\\HTBSC Project\\\\Information Disorder and Operations\\\\Terrorism and Fake News Project\\\\Pipeline_FNT\\\\0.2 Data Collection using GTD\\\\h5files_2015_2018\\\\201502280074_7285.h5',\n",
       " 'D:\\\\PACK\\\\HTBSC Project\\\\Information Disorder and Operations\\\\Terrorism and Fake News Project\\\\Pipeline_FNT\\\\0.2 Data Collection using GTD\\\\h5files_2015_2018\\\\201502280074_7286.h5',\n",
       " 'D:\\\\PACK\\\\HTBSC Project\\\\Information Disorder and Operations\\\\Terrorism and Fake News Project\\\\Pipeline_FNT\\\\0.2 Data Collection using GTD\\\\h5files_2015_2018\\\\201502280074_7287.h5',\n",
       " 'D:\\\\PACK\\\\HTBSC Project\\\\Information Disorder and Operations\\\\Terrorism and Fake News Project\\\\Pipeline_FNT\\\\0.2 Data Collection using GTD\\\\h5files_2015_2018\\\\201502280074_7288.h5',\n",
       " 'D:\\\\PACK\\\\HTBSC Project\\\\Information Disorder and Operations\\\\Terrorism and Fake News Project\\\\Pipeline_FNT\\\\0.2 Data Collection using GTD\\\\h5files_2015_2018\\\\201502280074_7289.h5',\n",
       " 'D:\\\\PACK\\\\HTBSC Project\\\\Information Disorder and Operations\\\\Terrorism and Fake News Project\\\\Pipeline_FNT\\\\0.2 Data Collection using GTD\\\\h5files_2015_2018\\\\201502280074_7290.h5',\n",
       " 'D:\\\\PACK\\\\HTBSC Project\\\\Information Disorder and Operations\\\\Terrorism and Fake News Project\\\\Pipeline_FNT\\\\0.2 Data Collection using GTD\\\\h5files_2015_2018\\\\201502280074_7291.h5',\n",
       " 'D:\\\\PACK\\\\HTBSC Project\\\\Information Disorder and Operations\\\\Terrorism and Fake News Project\\\\Pipeline_FNT\\\\0.2 Data Collection using GTD\\\\h5files_2015_2018\\\\201502280077_7283.h5',\n",
       " 'D:\\\\PACK\\\\HTBSC Project\\\\Information Disorder and Operations\\\\Terrorism and Fake News Project\\\\Pipeline_FNT\\\\0.2 Data Collection using GTD\\\\h5files_2015_2018\\\\201503010001_7282.h5',\n",
       " 'D:\\\\PACK\\\\HTBSC Project\\\\Information Disorder and Operations\\\\Terrorism and Fake News Project\\\\Pipeline_FNT\\\\0.2 Data Collection using GTD\\\\h5files_2015_2018\\\\201503010163_7281.h5',\n",
       " 'D:\\\\PACK\\\\HTBSC Project\\\\Information Disorder and Operations\\\\Terrorism and Fake News Project\\\\Pipeline_FNT\\\\0.2 Data Collection using GTD\\\\h5files_2015_2018\\\\201503010165_7275.h5',\n",
       " 'D:\\\\PACK\\\\HTBSC Project\\\\Information Disorder and Operations\\\\Terrorism and Fake News Project\\\\Pipeline_FNT\\\\0.2 Data Collection using GTD\\\\h5files_2015_2018\\\\201503010165_7276.h5',\n",
       " 'D:\\\\PACK\\\\HTBSC Project\\\\Information Disorder and Operations\\\\Terrorism and Fake News Project\\\\Pipeline_FNT\\\\0.2 Data Collection using GTD\\\\h5files_2015_2018\\\\201503010165_7277.h5',\n",
       " 'D:\\\\PACK\\\\HTBSC Project\\\\Information Disorder and Operations\\\\Terrorism and Fake News Project\\\\Pipeline_FNT\\\\0.2 Data Collection using GTD\\\\h5files_2015_2018\\\\201503010165_7278.h5',\n",
       " 'D:\\\\PACK\\\\HTBSC Project\\\\Information Disorder and Operations\\\\Terrorism and Fake News Project\\\\Pipeline_FNT\\\\0.2 Data Collection using GTD\\\\h5files_2015_2018\\\\201503010165_7279.h5',\n",
       " 'D:\\\\PACK\\\\HTBSC Project\\\\Information Disorder and Operations\\\\Terrorism and Fake News Project\\\\Pipeline_FNT\\\\0.2 Data Collection using GTD\\\\h5files_2015_2018\\\\201503010165_7280.h5',\n",
       " 'D:\\\\PACK\\\\HTBSC Project\\\\Information Disorder and Operations\\\\Terrorism and Fake News Project\\\\Pipeline_FNT\\\\0.2 Data Collection using GTD\\\\h5files_2015_2018\\\\201503020057_11148.h5',\n",
       " 'D:\\\\PACK\\\\HTBSC Project\\\\Information Disorder and Operations\\\\Terrorism and Fake News Project\\\\Pipeline_FNT\\\\0.2 Data Collection using GTD\\\\h5files_2015_2018\\\\201503020057_13409.h5',\n",
       " 'D:\\\\PACK\\\\HTBSC Project\\\\Information Disorder and Operations\\\\Terrorism and Fake News Project\\\\Pipeline_FNT\\\\0.2 Data Collection using GTD\\\\h5files_2015_2018\\\\201503020057_13410.h5',\n",
       " 'D:\\\\PACK\\\\HTBSC Project\\\\Information Disorder and Operations\\\\Terrorism and Fake News Project\\\\Pipeline_FNT\\\\0.2 Data Collection using GTD\\\\h5files_2015_2018\\\\201503020057_13411.h5',\n",
       " 'D:\\\\PACK\\\\HTBSC Project\\\\Information Disorder and Operations\\\\Terrorism and Fake News Project\\\\Pipeline_FNT\\\\0.2 Data Collection using GTD\\\\h5files_2015_2018\\\\201503030034_11147.h5',\n",
       " 'D:\\\\PACK\\\\HTBSC Project\\\\Information Disorder and Operations\\\\Terrorism and Fake News Project\\\\Pipeline_FNT\\\\0.2 Data Collection using GTD\\\\h5files_2015_2018\\\\201503030034_7272.h5',\n",
       " 'D:\\\\PACK\\\\HTBSC Project\\\\Information Disorder and Operations\\\\Terrorism and Fake News Project\\\\Pipeline_FNT\\\\0.2 Data Collection using GTD\\\\h5files_2015_2018\\\\201503030034_7273.h5',\n",
       " 'D:\\\\PACK\\\\HTBSC Project\\\\Information Disorder and Operations\\\\Terrorism and Fake News Project\\\\Pipeline_FNT\\\\0.2 Data Collection using GTD\\\\h5files_2015_2018\\\\201503030034_7274.h5',\n",
       " 'D:\\\\PACK\\\\HTBSC Project\\\\Information Disorder and Operations\\\\Terrorism and Fake News Project\\\\Pipeline_FNT\\\\0.2 Data Collection using GTD\\\\h5files_2015_2018\\\\201503030035_7268.h5',\n",
       " 'D:\\\\PACK\\\\HTBSC Project\\\\Information Disorder and Operations\\\\Terrorism and Fake News Project\\\\Pipeline_FNT\\\\0.2 Data Collection using GTD\\\\h5files_2015_2018\\\\201503030035_7269.h5',\n",
       " 'D:\\\\PACK\\\\HTBSC Project\\\\Information Disorder and Operations\\\\Terrorism and Fake News Project\\\\Pipeline_FNT\\\\0.2 Data Collection using GTD\\\\h5files_2015_2018\\\\201503030035_7270.h5',\n",
       " 'D:\\\\PACK\\\\HTBSC Project\\\\Information Disorder and Operations\\\\Terrorism and Fake News Project\\\\Pipeline_FNT\\\\0.2 Data Collection using GTD\\\\h5files_2015_2018\\\\201503030035_7271.h5',\n",
       " 'D:\\\\PACK\\\\HTBSC Project\\\\Information Disorder and Operations\\\\Terrorism and Fake News Project\\\\Pipeline_FNT\\\\0.2 Data Collection using GTD\\\\h5files_2015_2018\\\\201503030048_11146.h5',\n",
       " 'D:\\\\PACK\\\\HTBSC Project\\\\Information Disorder and Operations\\\\Terrorism and Fake News Project\\\\Pipeline_FNT\\\\0.2 Data Collection using GTD\\\\h5files_2015_2018\\\\201503030048_7264.h5',\n",
       " 'D:\\\\PACK\\\\HTBSC Project\\\\Information Disorder and Operations\\\\Terrorism and Fake News Project\\\\Pipeline_FNT\\\\0.2 Data Collection using GTD\\\\h5files_2015_2018\\\\201503030048_7265.h5',\n",
       " 'D:\\\\PACK\\\\HTBSC Project\\\\Information Disorder and Operations\\\\Terrorism and Fake News Project\\\\Pipeline_FNT\\\\0.2 Data Collection using GTD\\\\h5files_2015_2018\\\\201503030048_7266.h5',\n",
       " 'D:\\\\PACK\\\\HTBSC Project\\\\Information Disorder and Operations\\\\Terrorism and Fake News Project\\\\Pipeline_FNT\\\\0.2 Data Collection using GTD\\\\h5files_2015_2018\\\\201503030048_7267.h5',\n",
       " 'D:\\\\PACK\\\\HTBSC Project\\\\Information Disorder and Operations\\\\Terrorism and Fake News Project\\\\Pipeline_FNT\\\\0.2 Data Collection using GTD\\\\h5files_2015_2018\\\\201503040012_11145.h5',\n",
       " 'D:\\\\PACK\\\\HTBSC Project\\\\Information Disorder and Operations\\\\Terrorism and Fake News Project\\\\Pipeline_FNT\\\\0.2 Data Collection using GTD\\\\h5files_2015_2018\\\\201503050016_13407.h5',\n",
       " 'D:\\\\PACK\\\\HTBSC Project\\\\Information Disorder and Operations\\\\Terrorism and Fake News Project\\\\Pipeline_FNT\\\\0.2 Data Collection using GTD\\\\h5files_2015_2018\\\\201503050016_13408.h5',\n",
       " 'D:\\\\PACK\\\\HTBSC Project\\\\Information Disorder and Operations\\\\Terrorism and Fake News Project\\\\Pipeline_FNT\\\\0.2 Data Collection using GTD\\\\h5files_2015_2018\\\\201503060044_7263.h5',\n",
       " 'D:\\\\PACK\\\\HTBSC Project\\\\Information Disorder and Operations\\\\Terrorism and Fake News Project\\\\Pipeline_FNT\\\\0.2 Data Collection using GTD\\\\h5files_2015_2018\\\\201503070017_7262.h5',\n",
       " 'D:\\\\PACK\\\\HTBSC Project\\\\Information Disorder and Operations\\\\Terrorism and Fake News Project\\\\Pipeline_FNT\\\\0.2 Data Collection using GTD\\\\h5files_2015_2018\\\\201503070051_11143.h5',\n",
       " 'D:\\\\PACK\\\\HTBSC Project\\\\Information Disorder and Operations\\\\Terrorism and Fake News Project\\\\Pipeline_FNT\\\\0.2 Data Collection using GTD\\\\h5files_2015_2018\\\\201503070051_11144.h5',\n",
       " 'D:\\\\PACK\\\\HTBSC Project\\\\Information Disorder and Operations\\\\Terrorism and Fake News Project\\\\Pipeline_FNT\\\\0.2 Data Collection using GTD\\\\h5files_2015_2018\\\\201503070051_13402.h5',\n",
       " 'D:\\\\PACK\\\\HTBSC Project\\\\Information Disorder and Operations\\\\Terrorism and Fake News Project\\\\Pipeline_FNT\\\\0.2 Data Collection using GTD\\\\h5files_2015_2018\\\\201503070051_13403.h5',\n",
       " 'D:\\\\PACK\\\\HTBSC Project\\\\Information Disorder and Operations\\\\Terrorism and Fake News Project\\\\Pipeline_FNT\\\\0.2 Data Collection using GTD\\\\h5files_2015_2018\\\\201503070051_13404.h5',\n",
       " 'D:\\\\PACK\\\\HTBSC Project\\\\Information Disorder and Operations\\\\Terrorism and Fake News Project\\\\Pipeline_FNT\\\\0.2 Data Collection using GTD\\\\h5files_2015_2018\\\\201503070051_13405.h5',\n",
       " 'D:\\\\PACK\\\\HTBSC Project\\\\Information Disorder and Operations\\\\Terrorism and Fake News Project\\\\Pipeline_FNT\\\\0.2 Data Collection using GTD\\\\h5files_2015_2018\\\\201503070051_13406.h5',\n",
       " 'D:\\\\PACK\\\\HTBSC Project\\\\Information Disorder and Operations\\\\Terrorism and Fake News Project\\\\Pipeline_FNT\\\\0.2 Data Collection using GTD\\\\h5files_2015_2018\\\\201503070051_7260.h5',\n",
       " 'D:\\\\PACK\\\\HTBSC Project\\\\Information Disorder and Operations\\\\Terrorism and Fake News Project\\\\Pipeline_FNT\\\\0.2 Data Collection using GTD\\\\h5files_2015_2018\\\\201503070051_7261.h5',\n",
       " 'D:\\\\PACK\\\\HTBSC Project\\\\Information Disorder and Operations\\\\Terrorism and Fake News Project\\\\Pipeline_FNT\\\\0.2 Data Collection using GTD\\\\h5files_2015_2018\\\\201503080014_7258.h5',\n",
       " 'D:\\\\PACK\\\\HTBSC Project\\\\Information Disorder and Operations\\\\Terrorism and Fake News Project\\\\Pipeline_FNT\\\\0.2 Data Collection using GTD\\\\h5files_2015_2018\\\\201503080014_7259.h5',\n",
       " 'D:\\\\PACK\\\\HTBSC Project\\\\Information Disorder and Operations\\\\Terrorism and Fake News Project\\\\Pipeline_FNT\\\\0.2 Data Collection using GTD\\\\h5files_2015_2018\\\\201503080016_7253.h5',\n",
       " 'D:\\\\PACK\\\\HTBSC Project\\\\Information Disorder and Operations\\\\Terrorism and Fake News Project\\\\Pipeline_FNT\\\\0.2 Data Collection using GTD\\\\h5files_2015_2018\\\\201503080016_7254.h5',\n",
       " 'D:\\\\PACK\\\\HTBSC Project\\\\Information Disorder and Operations\\\\Terrorism and Fake News Project\\\\Pipeline_FNT\\\\0.2 Data Collection using GTD\\\\h5files_2015_2018\\\\201503080016_7255.h5',\n",
       " 'D:\\\\PACK\\\\HTBSC Project\\\\Information Disorder and Operations\\\\Terrorism and Fake News Project\\\\Pipeline_FNT\\\\0.2 Data Collection using GTD\\\\h5files_2015_2018\\\\201503080016_7256.h5',\n",
       " 'D:\\\\PACK\\\\HTBSC Project\\\\Information Disorder and Operations\\\\Terrorism and Fake News Project\\\\Pipeline_FNT\\\\0.2 Data Collection using GTD\\\\h5files_2015_2018\\\\201503080016_7257.h5',\n",
       " 'D:\\\\PACK\\\\HTBSC Project\\\\Information Disorder and Operations\\\\Terrorism and Fake News Project\\\\Pipeline_FNT\\\\0.2 Data Collection using GTD\\\\h5files_2015_2018\\\\201503080017_13400.h5',\n",
       " 'D:\\\\PACK\\\\HTBSC Project\\\\Information Disorder and Operations\\\\Terrorism and Fake News Project\\\\Pipeline_FNT\\\\0.2 Data Collection using GTD\\\\h5files_2015_2018\\\\201503080017_13401.h5',\n",
       " 'D:\\\\PACK\\\\HTBSC Project\\\\Information Disorder and Operations\\\\Terrorism and Fake News Project\\\\Pipeline_FNT\\\\0.2 Data Collection using GTD\\\\h5files_2015_2018\\\\201503080017_7251.h5',\n",
       " 'D:\\\\PACK\\\\HTBSC Project\\\\Information Disorder and Operations\\\\Terrorism and Fake News Project\\\\Pipeline_FNT\\\\0.2 Data Collection using GTD\\\\h5files_2015_2018\\\\201503080017_7252.h5',\n",
       " 'D:\\\\PACK\\\\HTBSC Project\\\\Information Disorder and Operations\\\\Terrorism and Fake News Project\\\\Pipeline_FNT\\\\0.2 Data Collection using GTD\\\\h5files_2015_2018\\\\201503080018_7250.h5',\n",
       " 'D:\\\\PACK\\\\HTBSC Project\\\\Information Disorder and Operations\\\\Terrorism and Fake News Project\\\\Pipeline_FNT\\\\0.2 Data Collection using GTD\\\\h5files_2015_2018\\\\201503080031_11142.h5',\n",
       " 'D:\\\\PACK\\\\HTBSC Project\\\\Information Disorder and Operations\\\\Terrorism and Fake News Project\\\\Pipeline_FNT\\\\0.2 Data Collection using GTD\\\\h5files_2015_2018\\\\201503080031_7249.h5',\n",
       " 'D:\\\\PACK\\\\HTBSC Project\\\\Information Disorder and Operations\\\\Terrorism and Fake News Project\\\\Pipeline_FNT\\\\0.2 Data Collection using GTD\\\\h5files_2015_2018\\\\201503100008_11140.h5',\n",
       " 'D:\\\\PACK\\\\HTBSC Project\\\\Information Disorder and Operations\\\\Terrorism and Fake News Project\\\\Pipeline_FNT\\\\0.2 Data Collection using GTD\\\\h5files_2015_2018\\\\201503100008_11141.h5',\n",
       " 'D:\\\\PACK\\\\HTBSC Project\\\\Information Disorder and Operations\\\\Terrorism and Fake News Project\\\\Pipeline_FNT\\\\0.2 Data Collection using GTD\\\\h5files_2015_2018\\\\201503100008_7245.h5',\n",
       " 'D:\\\\PACK\\\\HTBSC Project\\\\Information Disorder and Operations\\\\Terrorism and Fake News Project\\\\Pipeline_FNT\\\\0.2 Data Collection using GTD\\\\h5files_2015_2018\\\\201503100008_7246.h5',\n",
       " 'D:\\\\PACK\\\\HTBSC Project\\\\Information Disorder and Operations\\\\Terrorism and Fake News Project\\\\Pipeline_FNT\\\\0.2 Data Collection using GTD\\\\h5files_2015_2018\\\\201503100008_7247.h5',\n",
       " 'D:\\\\PACK\\\\HTBSC Project\\\\Information Disorder and Operations\\\\Terrorism and Fake News Project\\\\Pipeline_FNT\\\\0.2 Data Collection using GTD\\\\h5files_2015_2018\\\\201503100008_7248.h5',\n",
       " 'D:\\\\PACK\\\\HTBSC Project\\\\Information Disorder and Operations\\\\Terrorism and Fake News Project\\\\Pipeline_FNT\\\\0.2 Data Collection using GTD\\\\h5files_2015_2018\\\\201503100034_11139.h5',\n",
       " 'D:\\\\PACK\\\\HTBSC Project\\\\Information Disorder and Operations\\\\Terrorism and Fake News Project\\\\Pipeline_FNT\\\\0.2 Data Collection using GTD\\\\h5files_2015_2018\\\\201503100034_7242.h5',\n",
       " 'D:\\\\PACK\\\\HTBSC Project\\\\Information Disorder and Operations\\\\Terrorism and Fake News Project\\\\Pipeline_FNT\\\\0.2 Data Collection using GTD\\\\h5files_2015_2018\\\\201503100034_7243.h5',\n",
       " 'D:\\\\PACK\\\\HTBSC Project\\\\Information Disorder and Operations\\\\Terrorism and Fake News Project\\\\Pipeline_FNT\\\\0.2 Data Collection using GTD\\\\h5files_2015_2018\\\\201503100034_7244.h5',\n",
       " 'D:\\\\PACK\\\\HTBSC Project\\\\Information Disorder and Operations\\\\Terrorism and Fake News Project\\\\Pipeline_FNT\\\\0.2 Data Collection using GTD\\\\h5files_2015_2018\\\\201503100092_7241.h5',\n",
       " 'D:\\\\PACK\\\\HTBSC Project\\\\Information Disorder and Operations\\\\Terrorism and Fake News Project\\\\Pipeline_FNT\\\\0.2 Data Collection using GTD\\\\h5files_2015_2018\\\\201503100093_11137.h5',\n",
       " 'D:\\\\PACK\\\\HTBSC Project\\\\Information Disorder and Operations\\\\Terrorism and Fake News Project\\\\Pipeline_FNT\\\\0.2 Data Collection using GTD\\\\h5files_2015_2018\\\\201503100093_11138.h5',\n",
       " 'D:\\\\PACK\\\\HTBSC Project\\\\Information Disorder and Operations\\\\Terrorism and Fake News Project\\\\Pipeline_FNT\\\\0.2 Data Collection using GTD\\\\h5files_2015_2018\\\\201503100093_7236.h5',\n",
       " 'D:\\\\PACK\\\\HTBSC Project\\\\Information Disorder and Operations\\\\Terrorism and Fake News Project\\\\Pipeline_FNT\\\\0.2 Data Collection using GTD\\\\h5files_2015_2018\\\\201503100093_7237.h5',\n",
       " 'D:\\\\PACK\\\\HTBSC Project\\\\Information Disorder and Operations\\\\Terrorism and Fake News Project\\\\Pipeline_FNT\\\\0.2 Data Collection using GTD\\\\h5files_2015_2018\\\\201503100093_7238.h5',\n",
       " 'D:\\\\PACK\\\\HTBSC Project\\\\Information Disorder and Operations\\\\Terrorism and Fake News Project\\\\Pipeline_FNT\\\\0.2 Data Collection using GTD\\\\h5files_2015_2018\\\\201503100093_7239.h5',\n",
       " 'D:\\\\PACK\\\\HTBSC Project\\\\Information Disorder and Operations\\\\Terrorism and Fake News Project\\\\Pipeline_FNT\\\\0.2 Data Collection using GTD\\\\h5files_2015_2018\\\\201503100093_7240.h5',\n",
       " 'D:\\\\PACK\\\\HTBSC Project\\\\Information Disorder and Operations\\\\Terrorism and Fake News Project\\\\Pipeline_FNT\\\\0.2 Data Collection using GTD\\\\h5files_2015_2018\\\\201503110001_7234.h5',\n",
       " 'D:\\\\PACK\\\\HTBSC Project\\\\Information Disorder and Operations\\\\Terrorism and Fake News Project\\\\Pipeline_FNT\\\\0.2 Data Collection using GTD\\\\h5files_2015_2018\\\\201503110001_7235.h5',\n",
       " 'D:\\\\PACK\\\\HTBSC Project\\\\Information Disorder and Operations\\\\Terrorism and Fake News Project\\\\Pipeline_FNT\\\\0.2 Data Collection using GTD\\\\h5files_2015_2018\\\\201503110026_11136.h5',\n",
       " 'D:\\\\PACK\\\\HTBSC Project\\\\Information Disorder and Operations\\\\Terrorism and Fake News Project\\\\Pipeline_FNT\\\\0.2 Data Collection using GTD\\\\h5files_2015_2018\\\\201503110027_11135.h5',\n",
       " 'D:\\\\PACK\\\\HTBSC Project\\\\Information Disorder and Operations\\\\Terrorism and Fake News Project\\\\Pipeline_FNT\\\\0.2 Data Collection using GTD\\\\h5files_2015_2018\\\\201503110027_13395.h5',\n",
       " 'D:\\\\PACK\\\\HTBSC Project\\\\Information Disorder and Operations\\\\Terrorism and Fake News Project\\\\Pipeline_FNT\\\\0.2 Data Collection using GTD\\\\h5files_2015_2018\\\\201503110027_13396.h5',\n",
       " 'D:\\\\PACK\\\\HTBSC Project\\\\Information Disorder and Operations\\\\Terrorism and Fake News Project\\\\Pipeline_FNT\\\\0.2 Data Collection using GTD\\\\h5files_2015_2018\\\\201503110027_13397.h5',\n",
       " 'D:\\\\PACK\\\\HTBSC Project\\\\Information Disorder and Operations\\\\Terrorism and Fake News Project\\\\Pipeline_FNT\\\\0.2 Data Collection using GTD\\\\h5files_2015_2018\\\\201503110027_13398.h5',\n",
       " 'D:\\\\PACK\\\\HTBSC Project\\\\Information Disorder and Operations\\\\Terrorism and Fake News Project\\\\Pipeline_FNT\\\\0.2 Data Collection using GTD\\\\h5files_2015_2018\\\\201503110027_13399.h5',\n",
       " 'D:\\\\PACK\\\\HTBSC Project\\\\Information Disorder and Operations\\\\Terrorism and Fake News Project\\\\Pipeline_FNT\\\\0.2 Data Collection using GTD\\\\h5files_2015_2018\\\\201503110027_7232.h5',\n",
       " 'D:\\\\PACK\\\\HTBSC Project\\\\Information Disorder and Operations\\\\Terrorism and Fake News Project\\\\Pipeline_FNT\\\\0.2 Data Collection using GTD\\\\h5files_2015_2018\\\\201503110027_7233.h5',\n",
       " 'D:\\\\PACK\\\\HTBSC Project\\\\Information Disorder and Operations\\\\Terrorism and Fake News Project\\\\Pipeline_FNT\\\\0.2 Data Collection using GTD\\\\h5files_2015_2018\\\\201503110072_7231.h5',\n",
       " 'D:\\\\PACK\\\\HTBSC Project\\\\Information Disorder and Operations\\\\Terrorism and Fake News Project\\\\Pipeline_FNT\\\\0.2 Data Collection using GTD\\\\h5files_2015_2018\\\\201503140014_7230.h5',\n",
       " 'D:\\\\PACK\\\\HTBSC Project\\\\Information Disorder and Operations\\\\Terrorism and Fake News Project\\\\Pipeline_FNT\\\\0.2 Data Collection using GTD\\\\h5files_2015_2018\\\\201503140018_11131.h5',\n",
       " 'D:\\\\PACK\\\\HTBSC Project\\\\Information Disorder and Operations\\\\Terrorism and Fake News Project\\\\Pipeline_FNT\\\\0.2 Data Collection using GTD\\\\h5files_2015_2018\\\\201503140018_11132.h5',\n",
       " 'D:\\\\PACK\\\\HTBSC Project\\\\Information Disorder and Operations\\\\Terrorism and Fake News Project\\\\Pipeline_FNT\\\\0.2 Data Collection using GTD\\\\h5files_2015_2018\\\\201503140018_11133.h5',\n",
       " 'D:\\\\PACK\\\\HTBSC Project\\\\Information Disorder and Operations\\\\Terrorism and Fake News Project\\\\Pipeline_FNT\\\\0.2 Data Collection using GTD\\\\h5files_2015_2018\\\\201503140018_11134.h5',\n",
       " 'D:\\\\PACK\\\\HTBSC Project\\\\Information Disorder and Operations\\\\Terrorism and Fake News Project\\\\Pipeline_FNT\\\\0.2 Data Collection using GTD\\\\h5files_2015_2018\\\\201503140018_13392.h5',\n",
       " 'D:\\\\PACK\\\\HTBSC Project\\\\Information Disorder and Operations\\\\Terrorism and Fake News Project\\\\Pipeline_FNT\\\\0.2 Data Collection using GTD\\\\h5files_2015_2018\\\\201503140018_13393.h5',\n",
       " 'D:\\\\PACK\\\\HTBSC Project\\\\Information Disorder and Operations\\\\Terrorism and Fake News Project\\\\Pipeline_FNT\\\\0.2 Data Collection using GTD\\\\h5files_2015_2018\\\\201503140018_13394.h5',\n",
       " 'D:\\\\PACK\\\\HTBSC Project\\\\Information Disorder and Operations\\\\Terrorism and Fake News Project\\\\Pipeline_FNT\\\\0.2 Data Collection using GTD\\\\h5files_2015_2018\\\\201503140018_7225.h5',\n",
       " 'D:\\\\PACK\\\\HTBSC Project\\\\Information Disorder and Operations\\\\Terrorism and Fake News Project\\\\Pipeline_FNT\\\\0.2 Data Collection using GTD\\\\h5files_2015_2018\\\\201503140018_7226.h5',\n",
       " 'D:\\\\PACK\\\\HTBSC Project\\\\Information Disorder and Operations\\\\Terrorism and Fake News Project\\\\Pipeline_FNT\\\\0.2 Data Collection using GTD\\\\h5files_2015_2018\\\\201503140018_7227.h5',\n",
       " 'D:\\\\PACK\\\\HTBSC Project\\\\Information Disorder and Operations\\\\Terrorism and Fake News Project\\\\Pipeline_FNT\\\\0.2 Data Collection using GTD\\\\h5files_2015_2018\\\\201503140018_7228.h5',\n",
       " 'D:\\\\PACK\\\\HTBSC Project\\\\Information Disorder and Operations\\\\Terrorism and Fake News Project\\\\Pipeline_FNT\\\\0.2 Data Collection using GTD\\\\h5files_2015_2018\\\\201503140018_7229.h5',\n",
       " 'D:\\\\PACK\\\\HTBSC Project\\\\Information Disorder and Operations\\\\Terrorism and Fake News Project\\\\Pipeline_FNT\\\\0.2 Data Collection using GTD\\\\h5files_2015_2018\\\\201503140019_11129.h5',\n",
       " 'D:\\\\PACK\\\\HTBSC Project\\\\Information Disorder and Operations\\\\Terrorism and Fake News Project\\\\Pipeline_FNT\\\\0.2 Data Collection using GTD\\\\h5files_2015_2018\\\\201503140019_11130.h5',\n",
       " 'D:\\\\PACK\\\\HTBSC Project\\\\Information Disorder and Operations\\\\Terrorism and Fake News Project\\\\Pipeline_FNT\\\\0.2 Data Collection using GTD\\\\h5files_2015_2018\\\\201503140019_13386.h5',\n",
       " 'D:\\\\PACK\\\\HTBSC Project\\\\Information Disorder and Operations\\\\Terrorism and Fake News Project\\\\Pipeline_FNT\\\\0.2 Data Collection using GTD\\\\h5files_2015_2018\\\\201503140019_13387.h5',\n",
       " 'D:\\\\PACK\\\\HTBSC Project\\\\Information Disorder and Operations\\\\Terrorism and Fake News Project\\\\Pipeline_FNT\\\\0.2 Data Collection using GTD\\\\h5files_2015_2018\\\\201503140019_13388.h5',\n",
       " 'D:\\\\PACK\\\\HTBSC Project\\\\Information Disorder and Operations\\\\Terrorism and Fake News Project\\\\Pipeline_FNT\\\\0.2 Data Collection using GTD\\\\h5files_2015_2018\\\\201503140019_13389.h5',\n",
       " 'D:\\\\PACK\\\\HTBSC Project\\\\Information Disorder and Operations\\\\Terrorism and Fake News Project\\\\Pipeline_FNT\\\\0.2 Data Collection using GTD\\\\h5files_2015_2018\\\\201503140019_13390.h5',\n",
       " 'D:\\\\PACK\\\\HTBSC Project\\\\Information Disorder and Operations\\\\Terrorism and Fake News Project\\\\Pipeline_FNT\\\\0.2 Data Collection using GTD\\\\h5files_2015_2018\\\\201503140019_13391.h5',\n",
       " 'D:\\\\PACK\\\\HTBSC Project\\\\Information Disorder and Operations\\\\Terrorism and Fake News Project\\\\Pipeline_FNT\\\\0.2 Data Collection using GTD\\\\h5files_2015_2018\\\\201503140019_7224.h5',\n",
       " 'D:\\\\PACK\\\\HTBSC Project\\\\Information Disorder and Operations\\\\Terrorism and Fake News Project\\\\Pipeline_FNT\\\\0.2 Data Collection using GTD\\\\h5files_2015_2018\\\\201503140028_7219.h5',\n",
       " 'D:\\\\PACK\\\\HTBSC Project\\\\Information Disorder and Operations\\\\Terrorism and Fake News Project\\\\Pipeline_FNT\\\\0.2 Data Collection using GTD\\\\h5files_2015_2018\\\\201503140028_7220.h5',\n",
       " 'D:\\\\PACK\\\\HTBSC Project\\\\Information Disorder and Operations\\\\Terrorism and Fake News Project\\\\Pipeline_FNT\\\\0.2 Data Collection using GTD\\\\h5files_2015_2018\\\\201503140028_7221.h5',\n",
       " 'D:\\\\PACK\\\\HTBSC Project\\\\Information Disorder and Operations\\\\Terrorism and Fake News Project\\\\Pipeline_FNT\\\\0.2 Data Collection using GTD\\\\h5files_2015_2018\\\\201503140028_7222.h5',\n",
       " 'D:\\\\PACK\\\\HTBSC Project\\\\Information Disorder and Operations\\\\Terrorism and Fake News Project\\\\Pipeline_FNT\\\\0.2 Data Collection using GTD\\\\h5files_2015_2018\\\\201503140028_7223.h5',\n",
       " 'D:\\\\PACK\\\\HTBSC Project\\\\Information Disorder and Operations\\\\Terrorism and Fake News Project\\\\Pipeline_FNT\\\\0.2 Data Collection using GTD\\\\h5files_2015_2018\\\\201503150045_11128.h5',\n",
       " 'D:\\\\PACK\\\\HTBSC Project\\\\Information Disorder and Operations\\\\Terrorism and Fake News Project\\\\Pipeline_FNT\\\\0.2 Data Collection using GTD\\\\h5files_2015_2018\\\\201503150045_13385.h5',\n",
       " 'D:\\\\PACK\\\\HTBSC Project\\\\Information Disorder and Operations\\\\Terrorism and Fake News Project\\\\Pipeline_FNT\\\\0.2 Data Collection using GTD\\\\h5files_2015_2018\\\\201503150045_7216.h5',\n",
       " 'D:\\\\PACK\\\\HTBSC Project\\\\Information Disorder and Operations\\\\Terrorism and Fake News Project\\\\Pipeline_FNT\\\\0.2 Data Collection using GTD\\\\h5files_2015_2018\\\\201503150045_7217.h5',\n",
       " 'D:\\\\PACK\\\\HTBSC Project\\\\Information Disorder and Operations\\\\Terrorism and Fake News Project\\\\Pipeline_FNT\\\\0.2 Data Collection using GTD\\\\h5files_2015_2018\\\\201503150045_7218.h5',\n",
       " 'D:\\\\PACK\\\\HTBSC Project\\\\Information Disorder and Operations\\\\Terrorism and Fake News Project\\\\Pipeline_FNT\\\\0.2 Data Collection using GTD\\\\h5files_2015_2018\\\\201503150052_7211.h5',\n",
       " 'D:\\\\PACK\\\\HTBSC Project\\\\Information Disorder and Operations\\\\Terrorism and Fake News Project\\\\Pipeline_FNT\\\\0.2 Data Collection using GTD\\\\h5files_2015_2018\\\\201503150052_7212.h5',\n",
       " 'D:\\\\PACK\\\\HTBSC Project\\\\Information Disorder and Operations\\\\Terrorism and Fake News Project\\\\Pipeline_FNT\\\\0.2 Data Collection using GTD\\\\h5files_2015_2018\\\\201503150052_7213.h5',\n",
       " 'D:\\\\PACK\\\\HTBSC Project\\\\Information Disorder and Operations\\\\Terrorism and Fake News Project\\\\Pipeline_FNT\\\\0.2 Data Collection using GTD\\\\h5files_2015_2018\\\\201503150052_7214.h5',\n",
       " 'D:\\\\PACK\\\\HTBSC Project\\\\Information Disorder and Operations\\\\Terrorism and Fake News Project\\\\Pipeline_FNT\\\\0.2 Data Collection using GTD\\\\h5files_2015_2018\\\\201503150052_7215.h5',\n",
       " 'D:\\\\PACK\\\\HTBSC Project\\\\Information Disorder and Operations\\\\Terrorism and Fake News Project\\\\Pipeline_FNT\\\\0.2 Data Collection using GTD\\\\h5files_2015_2018\\\\201503150067_7210.h5',\n",
       " 'D:\\\\PACK\\\\HTBSC Project\\\\Information Disorder and Operations\\\\Terrorism and Fake News Project\\\\Pipeline_FNT\\\\0.2 Data Collection using GTD\\\\h5files_2015_2018\\\\201503160074_7208.h5',\n",
       " 'D:\\\\PACK\\\\HTBSC Project\\\\Information Disorder and Operations\\\\Terrorism and Fake News Project\\\\Pipeline_FNT\\\\0.2 Data Collection using GTD\\\\h5files_2015_2018\\\\201503160074_7209.h5',\n",
       " 'D:\\\\PACK\\\\HTBSC Project\\\\Information Disorder and Operations\\\\Terrorism and Fake News Project\\\\Pipeline_FNT\\\\0.2 Data Collection using GTD\\\\h5files_2015_2018\\\\201503160085_7207.h5',\n",
       " 'D:\\\\PACK\\\\HTBSC Project\\\\Information Disorder and Operations\\\\Terrorism and Fake News Project\\\\Pipeline_FNT\\\\0.2 Data Collection using GTD\\\\h5files_2015_2018\\\\201503180026_7203.h5',\n",
       " 'D:\\\\PACK\\\\HTBSC Project\\\\Information Disorder and Operations\\\\Terrorism and Fake News Project\\\\Pipeline_FNT\\\\0.2 Data Collection using GTD\\\\h5files_2015_2018\\\\201503180026_7204.h5',\n",
       " 'D:\\\\PACK\\\\HTBSC Project\\\\Information Disorder and Operations\\\\Terrorism and Fake News Project\\\\Pipeline_FNT\\\\0.2 Data Collection using GTD\\\\h5files_2015_2018\\\\201503180026_7205.h5',\n",
       " 'D:\\\\PACK\\\\HTBSC Project\\\\Information Disorder and Operations\\\\Terrorism and Fake News Project\\\\Pipeline_FNT\\\\0.2 Data Collection using GTD\\\\h5files_2015_2018\\\\201503180026_7206.h5',\n",
       " 'D:\\\\PACK\\\\HTBSC Project\\\\Information Disorder and Operations\\\\Terrorism and Fake News Project\\\\Pipeline_FNT\\\\0.2 Data Collection using GTD\\\\h5files_2015_2018\\\\201503180027_7202.h5',\n",
       " 'D:\\\\PACK\\\\HTBSC Project\\\\Information Disorder and Operations\\\\Terrorism and Fake News Project\\\\Pipeline_FNT\\\\0.2 Data Collection using GTD\\\\h5files_2015_2018\\\\201503190053_7200.h5',\n",
       " 'D:\\\\PACK\\\\HTBSC Project\\\\Information Disorder and Operations\\\\Terrorism and Fake News Project\\\\Pipeline_FNT\\\\0.2 Data Collection using GTD\\\\h5files_2015_2018\\\\201503190053_7201.h5',\n",
       " 'D:\\\\PACK\\\\HTBSC Project\\\\Information Disorder and Operations\\\\Terrorism and Fake News Project\\\\Pipeline_FNT\\\\0.2 Data Collection using GTD\\\\h5files_2015_2018\\\\201503190070_7195.h5',\n",
       " 'D:\\\\PACK\\\\HTBSC Project\\\\Information Disorder and Operations\\\\Terrorism and Fake News Project\\\\Pipeline_FNT\\\\0.2 Data Collection using GTD\\\\h5files_2015_2018\\\\201503190070_7196.h5',\n",
       " 'D:\\\\PACK\\\\HTBSC Project\\\\Information Disorder and Operations\\\\Terrorism and Fake News Project\\\\Pipeline_FNT\\\\0.2 Data Collection using GTD\\\\h5files_2015_2018\\\\201503190070_7197.h5',\n",
       " 'D:\\\\PACK\\\\HTBSC Project\\\\Information Disorder and Operations\\\\Terrorism and Fake News Project\\\\Pipeline_FNT\\\\0.2 Data Collection using GTD\\\\h5files_2015_2018\\\\201503190070_7198.h5',\n",
       " 'D:\\\\PACK\\\\HTBSC Project\\\\Information Disorder and Operations\\\\Terrorism and Fake News Project\\\\Pipeline_FNT\\\\0.2 Data Collection using GTD\\\\h5files_2015_2018\\\\201503190070_7199.h5',\n",
       " 'D:\\\\PACK\\\\HTBSC Project\\\\Information Disorder and Operations\\\\Terrorism and Fake News Project\\\\Pipeline_FNT\\\\0.2 Data Collection using GTD\\\\h5files_2015_2018\\\\201503210030_7194.h5',\n",
       " 'D:\\\\PACK\\\\HTBSC Project\\\\Information Disorder and Operations\\\\Terrorism and Fake News Project\\\\Pipeline_FNT\\\\0.2 Data Collection using GTD\\\\h5files_2015_2018\\\\201503210045_7188.h5',\n",
       " 'D:\\\\PACK\\\\HTBSC Project\\\\Information Disorder and Operations\\\\Terrorism and Fake News Project\\\\Pipeline_FNT\\\\0.2 Data Collection using GTD\\\\h5files_2015_2018\\\\201503210045_7189.h5',\n",
       " 'D:\\\\PACK\\\\HTBSC Project\\\\Information Disorder and Operations\\\\Terrorism and Fake News Project\\\\Pipeline_FNT\\\\0.2 Data Collection using GTD\\\\h5files_2015_2018\\\\201503210045_7190.h5',\n",
       " 'D:\\\\PACK\\\\HTBSC Project\\\\Information Disorder and Operations\\\\Terrorism and Fake News Project\\\\Pipeline_FNT\\\\0.2 Data Collection using GTD\\\\h5files_2015_2018\\\\201503210045_7191.h5',\n",
       " 'D:\\\\PACK\\\\HTBSC Project\\\\Information Disorder and Operations\\\\Terrorism and Fake News Project\\\\Pipeline_FNT\\\\0.2 Data Collection using GTD\\\\h5files_2015_2018\\\\201503210045_7192.h5',\n",
       " 'D:\\\\PACK\\\\HTBSC Project\\\\Information Disorder and Operations\\\\Terrorism and Fake News Project\\\\Pipeline_FNT\\\\0.2 Data Collection using GTD\\\\h5files_2015_2018\\\\201503210045_7193.h5',\n",
       " 'D:\\\\PACK\\\\HTBSC Project\\\\Information Disorder and Operations\\\\Terrorism and Fake News Project\\\\Pipeline_FNT\\\\0.2 Data Collection using GTD\\\\h5files_2015_2018\\\\201503220025_7187.h5',\n",
       " 'D:\\\\PACK\\\\HTBSC Project\\\\Information Disorder and Operations\\\\Terrorism and Fake News Project\\\\Pipeline_FNT\\\\0.2 Data Collection using GTD\\\\h5files_2015_2018\\\\201503220057_7185.h5',\n",
       " 'D:\\\\PACK\\\\HTBSC Project\\\\Information Disorder and Operations\\\\Terrorism and Fake News Project\\\\Pipeline_FNT\\\\0.2 Data Collection using GTD\\\\h5files_2015_2018\\\\201503220057_7186.h5',\n",
       " 'D:\\\\PACK\\\\HTBSC Project\\\\Information Disorder and Operations\\\\Terrorism and Fake News Project\\\\Pipeline_FNT\\\\0.2 Data Collection using GTD\\\\h5files_2015_2018\\\\201503230049_11119.h5',\n",
       " 'D:\\\\PACK\\\\HTBSC Project\\\\Information Disorder and Operations\\\\Terrorism and Fake News Project\\\\Pipeline_FNT\\\\0.2 Data Collection using GTD\\\\h5files_2015_2018\\\\201503230049_11120.h5',\n",
       " 'D:\\\\PACK\\\\HTBSC Project\\\\Information Disorder and Operations\\\\Terrorism and Fake News Project\\\\Pipeline_FNT\\\\0.2 Data Collection using GTD\\\\h5files_2015_2018\\\\201503230049_11121.h5',\n",
       " 'D:\\\\PACK\\\\HTBSC Project\\\\Information Disorder and Operations\\\\Terrorism and Fake News Project\\\\Pipeline_FNT\\\\0.2 Data Collection using GTD\\\\h5files_2015_2018\\\\201503230049_11122.h5',\n",
       " 'D:\\\\PACK\\\\HTBSC Project\\\\Information Disorder and Operations\\\\Terrorism and Fake News Project\\\\Pipeline_FNT\\\\0.2 Data Collection using GTD\\\\h5files_2015_2018\\\\201503230049_11123.h5',\n",
       " 'D:\\\\PACK\\\\HTBSC Project\\\\Information Disorder and Operations\\\\Terrorism and Fake News Project\\\\Pipeline_FNT\\\\0.2 Data Collection using GTD\\\\h5files_2015_2018\\\\201503230049_11124.h5',\n",
       " 'D:\\\\PACK\\\\HTBSC Project\\\\Information Disorder and Operations\\\\Terrorism and Fake News Project\\\\Pipeline_FNT\\\\0.2 Data Collection using GTD\\\\h5files_2015_2018\\\\201503230049_11125.h5',\n",
       " 'D:\\\\PACK\\\\HTBSC Project\\\\Information Disorder and Operations\\\\Terrorism and Fake News Project\\\\Pipeline_FNT\\\\0.2 Data Collection using GTD\\\\h5files_2015_2018\\\\201503230049_11126.h5',\n",
       " 'D:\\\\PACK\\\\HTBSC Project\\\\Information Disorder and Operations\\\\Terrorism and Fake News Project\\\\Pipeline_FNT\\\\0.2 Data Collection using GTD\\\\h5files_2015_2018\\\\201503230049_11127.h5',\n",
       " 'D:\\\\PACK\\\\HTBSC Project\\\\Information Disorder and Operations\\\\Terrorism and Fake News Project\\\\Pipeline_FNT\\\\0.2 Data Collection using GTD\\\\h5files_2015_2018\\\\201503230049_13376.h5',\n",
       " 'D:\\\\PACK\\\\HTBSC Project\\\\Information Disorder and Operations\\\\Terrorism and Fake News Project\\\\Pipeline_FNT\\\\0.2 Data Collection using GTD\\\\h5files_2015_2018\\\\201503230049_13377.h5',\n",
       " 'D:\\\\PACK\\\\HTBSC Project\\\\Information Disorder and Operations\\\\Terrorism and Fake News Project\\\\Pipeline_FNT\\\\0.2 Data Collection using GTD\\\\h5files_2015_2018\\\\201503230049_13378.h5',\n",
       " 'D:\\\\PACK\\\\HTBSC Project\\\\Information Disorder and Operations\\\\Terrorism and Fake News Project\\\\Pipeline_FNT\\\\0.2 Data Collection using GTD\\\\h5files_2015_2018\\\\201503230049_13379.h5',\n",
       " 'D:\\\\PACK\\\\HTBSC Project\\\\Information Disorder and Operations\\\\Terrorism and Fake News Project\\\\Pipeline_FNT\\\\0.2 Data Collection using GTD\\\\h5files_2015_2018\\\\201503230049_13380.h5',\n",
       " 'D:\\\\PACK\\\\HTBSC Project\\\\Information Disorder and Operations\\\\Terrorism and Fake News Project\\\\Pipeline_FNT\\\\0.2 Data Collection using GTD\\\\h5files_2015_2018\\\\201503230049_13381.h5',\n",
       " 'D:\\\\PACK\\\\HTBSC Project\\\\Information Disorder and Operations\\\\Terrorism and Fake News Project\\\\Pipeline_FNT\\\\0.2 Data Collection using GTD\\\\h5files_2015_2018\\\\201503230049_13382.h5',\n",
       " 'D:\\\\PACK\\\\HTBSC Project\\\\Information Disorder and Operations\\\\Terrorism and Fake News Project\\\\Pipeline_FNT\\\\0.2 Data Collection using GTD\\\\h5files_2015_2018\\\\201503230049_13383.h5',\n",
       " 'D:\\\\PACK\\\\HTBSC Project\\\\Information Disorder and Operations\\\\Terrorism and Fake News Project\\\\Pipeline_FNT\\\\0.2 Data Collection using GTD\\\\h5files_2015_2018\\\\201503230049_13384.h5',\n",
       " 'D:\\\\PACK\\\\HTBSC Project\\\\Information Disorder and Operations\\\\Terrorism and Fake News Project\\\\Pipeline_FNT\\\\0.2 Data Collection using GTD\\\\h5files_2015_2018\\\\201503230049_7179.h5',\n",
       " 'D:\\\\PACK\\\\HTBSC Project\\\\Information Disorder and Operations\\\\Terrorism and Fake News Project\\\\Pipeline_FNT\\\\0.2 Data Collection using GTD\\\\h5files_2015_2018\\\\201503230049_7180.h5',\n",
       " 'D:\\\\PACK\\\\HTBSC Project\\\\Information Disorder and Operations\\\\Terrorism and Fake News Project\\\\Pipeline_FNT\\\\0.2 Data Collection using GTD\\\\h5files_2015_2018\\\\201503230049_7181.h5',\n",
       " 'D:\\\\PACK\\\\HTBSC Project\\\\Information Disorder and Operations\\\\Terrorism and Fake News Project\\\\Pipeline_FNT\\\\0.2 Data Collection using GTD\\\\h5files_2015_2018\\\\201503230049_7182.h5',\n",
       " 'D:\\\\PACK\\\\HTBSC Project\\\\Information Disorder and Operations\\\\Terrorism and Fake News Project\\\\Pipeline_FNT\\\\0.2 Data Collection using GTD\\\\h5files_2015_2018\\\\201503230049_7183.h5',\n",
       " 'D:\\\\PACK\\\\HTBSC Project\\\\Information Disorder and Operations\\\\Terrorism and Fake News Project\\\\Pipeline_FNT\\\\0.2 Data Collection using GTD\\\\h5files_2015_2018\\\\201503230049_7184.h5',\n",
       " 'D:\\\\PACK\\\\HTBSC Project\\\\Information Disorder and Operations\\\\Terrorism and Fake News Project\\\\Pipeline_FNT\\\\0.2 Data Collection using GTD\\\\h5files_2015_2018\\\\201503240043_11118.h5',\n",
       " 'D:\\\\PACK\\\\HTBSC Project\\\\Information Disorder and Operations\\\\Terrorism and Fake News Project\\\\Pipeline_FNT\\\\0.2 Data Collection using GTD\\\\h5files_2015_2018\\\\201503240043_13367.h5',\n",
       " 'D:\\\\PACK\\\\HTBSC Project\\\\Information Disorder and Operations\\\\Terrorism and Fake News Project\\\\Pipeline_FNT\\\\0.2 Data Collection using GTD\\\\h5files_2015_2018\\\\201503240043_13368.h5',\n",
       " 'D:\\\\PACK\\\\HTBSC Project\\\\Information Disorder and Operations\\\\Terrorism and Fake News Project\\\\Pipeline_FNT\\\\0.2 Data Collection using GTD\\\\h5files_2015_2018\\\\201503240043_13369.h5',\n",
       " 'D:\\\\PACK\\\\HTBSC Project\\\\Information Disorder and Operations\\\\Terrorism and Fake News Project\\\\Pipeline_FNT\\\\0.2 Data Collection using GTD\\\\h5files_2015_2018\\\\201503240043_13370.h5',\n",
       " 'D:\\\\PACK\\\\HTBSC Project\\\\Information Disorder and Operations\\\\Terrorism and Fake News Project\\\\Pipeline_FNT\\\\0.2 Data Collection using GTD\\\\h5files_2015_2018\\\\201503240043_13371.h5',\n",
       " 'D:\\\\PACK\\\\HTBSC Project\\\\Information Disorder and Operations\\\\Terrorism and Fake News Project\\\\Pipeline_FNT\\\\0.2 Data Collection using GTD\\\\h5files_2015_2018\\\\201503240043_13372.h5',\n",
       " 'D:\\\\PACK\\\\HTBSC Project\\\\Information Disorder and Operations\\\\Terrorism and Fake News Project\\\\Pipeline_FNT\\\\0.2 Data Collection using GTD\\\\h5files_2015_2018\\\\201503240043_13373.h5',\n",
       " 'D:\\\\PACK\\\\HTBSC Project\\\\Information Disorder and Operations\\\\Terrorism and Fake News Project\\\\Pipeline_FNT\\\\0.2 Data Collection using GTD\\\\h5files_2015_2018\\\\201503240043_13374.h5',\n",
       " 'D:\\\\PACK\\\\HTBSC Project\\\\Information Disorder and Operations\\\\Terrorism and Fake News Project\\\\Pipeline_FNT\\\\0.2 Data Collection using GTD\\\\h5files_2015_2018\\\\201503240043_13375.h5',\n",
       " 'D:\\\\PACK\\\\HTBSC Project\\\\Information Disorder and Operations\\\\Terrorism and Fake News Project\\\\Pipeline_FNT\\\\0.2 Data Collection using GTD\\\\h5files_2015_2018\\\\201503240043_7178.h5',\n",
       " 'D:\\\\PACK\\\\HTBSC Project\\\\Information Disorder and Operations\\\\Terrorism and Fake News Project\\\\Pipeline_FNT\\\\0.2 Data Collection using GTD\\\\h5files_2015_2018\\\\201503240094_11117.h5',\n",
       " 'D:\\\\PACK\\\\HTBSC Project\\\\Information Disorder and Operations\\\\Terrorism and Fake News Project\\\\Pipeline_FNT\\\\0.2 Data Collection using GTD\\\\h5files_2015_2018\\\\201503240094_7174.h5',\n",
       " 'D:\\\\PACK\\\\HTBSC Project\\\\Information Disorder and Operations\\\\Terrorism and Fake News Project\\\\Pipeline_FNT\\\\0.2 Data Collection using GTD\\\\h5files_2015_2018\\\\201503240094_7175.h5',\n",
       " 'D:\\\\PACK\\\\HTBSC Project\\\\Information Disorder and Operations\\\\Terrorism and Fake News Project\\\\Pipeline_FNT\\\\0.2 Data Collection using GTD\\\\h5files_2015_2018\\\\201503240094_7176.h5',\n",
       " 'D:\\\\PACK\\\\HTBSC Project\\\\Information Disorder and Operations\\\\Terrorism and Fake News Project\\\\Pipeline_FNT\\\\0.2 Data Collection using GTD\\\\h5files_2015_2018\\\\201503240094_7177.h5',\n",
       " 'D:\\\\PACK\\\\HTBSC Project\\\\Information Disorder and Operations\\\\Terrorism and Fake News Project\\\\Pipeline_FNT\\\\0.2 Data Collection using GTD\\\\h5files_2015_2018\\\\201503260022_11116.h5',\n",
       " 'D:\\\\PACK\\\\HTBSC Project\\\\Information Disorder and Operations\\\\Terrorism and Fake News Project\\\\Pipeline_FNT\\\\0.2 Data Collection using GTD\\\\h5files_2015_2018\\\\201503260022_13363.h5',\n",
       " 'D:\\\\PACK\\\\HTBSC Project\\\\Information Disorder and Operations\\\\Terrorism and Fake News Project\\\\Pipeline_FNT\\\\0.2 Data Collection using GTD\\\\h5files_2015_2018\\\\201503260022_13364.h5',\n",
       " 'D:\\\\PACK\\\\HTBSC Project\\\\Information Disorder and Operations\\\\Terrorism and Fake News Project\\\\Pipeline_FNT\\\\0.2 Data Collection using GTD\\\\h5files_2015_2018\\\\201503260022_13365.h5',\n",
       " 'D:\\\\PACK\\\\HTBSC Project\\\\Information Disorder and Operations\\\\Terrorism and Fake News Project\\\\Pipeline_FNT\\\\0.2 Data Collection using GTD\\\\h5files_2015_2018\\\\201503260022_13366.h5',\n",
       " 'D:\\\\PACK\\\\HTBSC Project\\\\Information Disorder and Operations\\\\Terrorism and Fake News Project\\\\Pipeline_FNT\\\\0.2 Data Collection using GTD\\\\h5files_2015_2018\\\\201503260022_7173.h5',\n",
       " 'D:\\\\PACK\\\\HTBSC Project\\\\Information Disorder and Operations\\\\Terrorism and Fake News Project\\\\Pipeline_FNT\\\\0.2 Data Collection using GTD\\\\h5files_2015_2018\\\\201503260029_7170.h5',\n",
       " 'D:\\\\PACK\\\\HTBSC Project\\\\Information Disorder and Operations\\\\Terrorism and Fake News Project\\\\Pipeline_FNT\\\\0.2 Data Collection using GTD\\\\h5files_2015_2018\\\\201503260029_7171.h5',\n",
       " 'D:\\\\PACK\\\\HTBSC Project\\\\Information Disorder and Operations\\\\Terrorism and Fake News Project\\\\Pipeline_FNT\\\\0.2 Data Collection using GTD\\\\h5files_2015_2018\\\\201503260029_7172.h5',\n",
       " 'D:\\\\PACK\\\\HTBSC Project\\\\Information Disorder and Operations\\\\Terrorism and Fake News Project\\\\Pipeline_FNT\\\\0.2 Data Collection using GTD\\\\h5files_2015_2018\\\\201503280027_11113.h5',\n",
       " 'D:\\\\PACK\\\\HTBSC Project\\\\Information Disorder and Operations\\\\Terrorism and Fake News Project\\\\Pipeline_FNT\\\\0.2 Data Collection using GTD\\\\h5files_2015_2018\\\\201503280027_11114.h5',\n",
       " 'D:\\\\PACK\\\\HTBSC Project\\\\Information Disorder and Operations\\\\Terrorism and Fake News Project\\\\Pipeline_FNT\\\\0.2 Data Collection using GTD\\\\h5files_2015_2018\\\\201503280027_11115.h5',\n",
       " 'D:\\\\PACK\\\\HTBSC Project\\\\Information Disorder and Operations\\\\Terrorism and Fake News Project\\\\Pipeline_FNT\\\\0.2 Data Collection using GTD\\\\h5files_2015_2018\\\\201503280027_7169.h5',\n",
       " 'D:\\\\PACK\\\\HTBSC Project\\\\Information Disorder and Operations\\\\Terrorism and Fake News Project\\\\Pipeline_FNT\\\\0.2 Data Collection using GTD\\\\h5files_2015_2018\\\\201503290016_11111.h5',\n",
       " 'D:\\\\PACK\\\\HTBSC Project\\\\Information Disorder and Operations\\\\Terrorism and Fake News Project\\\\Pipeline_FNT\\\\0.2 Data Collection using GTD\\\\h5files_2015_2018\\\\201503290016_11112.h5',\n",
       " 'D:\\\\PACK\\\\HTBSC Project\\\\Information Disorder and Operations\\\\Terrorism and Fake News Project\\\\Pipeline_FNT\\\\0.2 Data Collection using GTD\\\\h5files_2015_2018\\\\201503290016_13362.h5',\n",
       " 'D:\\\\PACK\\\\HTBSC Project\\\\Information Disorder and Operations\\\\Terrorism and Fake News Project\\\\Pipeline_FNT\\\\0.2 Data Collection using GTD\\\\h5files_2015_2018\\\\201503290016_7159.h5',\n",
       " 'D:\\\\PACK\\\\HTBSC Project\\\\Information Disorder and Operations\\\\Terrorism and Fake News Project\\\\Pipeline_FNT\\\\0.2 Data Collection using GTD\\\\h5files_2015_2018\\\\201503290016_7160.h5',\n",
       " 'D:\\\\PACK\\\\HTBSC Project\\\\Information Disorder and Operations\\\\Terrorism and Fake News Project\\\\Pipeline_FNT\\\\0.2 Data Collection using GTD\\\\h5files_2015_2018\\\\201503290016_7161.h5',\n",
       " 'D:\\\\PACK\\\\HTBSC Project\\\\Information Disorder and Operations\\\\Terrorism and Fake News Project\\\\Pipeline_FNT\\\\0.2 Data Collection using GTD\\\\h5files_2015_2018\\\\201503290016_7162.h5',\n",
       " 'D:\\\\PACK\\\\HTBSC Project\\\\Information Disorder and Operations\\\\Terrorism and Fake News Project\\\\Pipeline_FNT\\\\0.2 Data Collection using GTD\\\\h5files_2015_2018\\\\201503290016_7163.h5',\n",
       " 'D:\\\\PACK\\\\HTBSC Project\\\\Information Disorder and Operations\\\\Terrorism and Fake News Project\\\\Pipeline_FNT\\\\0.2 Data Collection using GTD\\\\h5files_2015_2018\\\\201503290016_7164.h5',\n",
       " 'D:\\\\PACK\\\\HTBSC Project\\\\Information Disorder and Operations\\\\Terrorism and Fake News Project\\\\Pipeline_FNT\\\\0.2 Data Collection using GTD\\\\h5files_2015_2018\\\\201503290016_7165.h5',\n",
       " 'D:\\\\PACK\\\\HTBSC Project\\\\Information Disorder and Operations\\\\Terrorism and Fake News Project\\\\Pipeline_FNT\\\\0.2 Data Collection using GTD\\\\h5files_2015_2018\\\\201503290016_7166.h5',\n",
       " 'D:\\\\PACK\\\\HTBSC Project\\\\Information Disorder and Operations\\\\Terrorism and Fake News Project\\\\Pipeline_FNT\\\\0.2 Data Collection using GTD\\\\h5files_2015_2018\\\\201503290016_7167.h5',\n",
       " 'D:\\\\PACK\\\\HTBSC Project\\\\Information Disorder and Operations\\\\Terrorism and Fake News Project\\\\Pipeline_FNT\\\\0.2 Data Collection using GTD\\\\h5files_2015_2018\\\\201503290016_7168.h5',\n",
       " 'D:\\\\PACK\\\\HTBSC Project\\\\Information Disorder and Operations\\\\Terrorism and Fake News Project\\\\Pipeline_FNT\\\\0.2 Data Collection using GTD\\\\h5files_2015_2018\\\\201503290028_7155.h5',\n",
       " 'D:\\\\PACK\\\\HTBSC Project\\\\Information Disorder and Operations\\\\Terrorism and Fake News Project\\\\Pipeline_FNT\\\\0.2 Data Collection using GTD\\\\h5files_2015_2018\\\\201503290028_7156.h5',\n",
       " 'D:\\\\PACK\\\\HTBSC Project\\\\Information Disorder and Operations\\\\Terrorism and Fake News Project\\\\Pipeline_FNT\\\\0.2 Data Collection using GTD\\\\h5files_2015_2018\\\\201503290028_7157.h5',\n",
       " 'D:\\\\PACK\\\\HTBSC Project\\\\Information Disorder and Operations\\\\Terrorism and Fake News Project\\\\Pipeline_FNT\\\\0.2 Data Collection using GTD\\\\h5files_2015_2018\\\\201503290028_7158.h5',\n",
       " 'D:\\\\PACK\\\\HTBSC Project\\\\Information Disorder and Operations\\\\Terrorism and Fake News Project\\\\Pipeline_FNT\\\\0.2 Data Collection using GTD\\\\h5files_2015_2018\\\\201503290053_11108.h5',\n",
       " 'D:\\\\PACK\\\\HTBSC Project\\\\Information Disorder and Operations\\\\Terrorism and Fake News Project\\\\Pipeline_FNT\\\\0.2 Data Collection using GTD\\\\h5files_2015_2018\\\\201503290053_11109.h5',\n",
       " 'D:\\\\PACK\\\\HTBSC Project\\\\Information Disorder and Operations\\\\Terrorism and Fake News Project\\\\Pipeline_FNT\\\\0.2 Data Collection using GTD\\\\h5files_2015_2018\\\\201503290053_11110.h5',\n",
       " 'D:\\\\PACK\\\\HTBSC Project\\\\Information Disorder and Operations\\\\Terrorism and Fake News Project\\\\Pipeline_FNT\\\\0.2 Data Collection using GTD\\\\h5files_2015_2018\\\\201503290053_13356.h5',\n",
       " 'D:\\\\PACK\\\\HTBSC Project\\\\Information Disorder and Operations\\\\Terrorism and Fake News Project\\\\Pipeline_FNT\\\\0.2 Data Collection using GTD\\\\h5files_2015_2018\\\\201503290053_13357.h5',\n",
       " 'D:\\\\PACK\\\\HTBSC Project\\\\Information Disorder and Operations\\\\Terrorism and Fake News Project\\\\Pipeline_FNT\\\\0.2 Data Collection using GTD\\\\h5files_2015_2018\\\\201503290053_13358.h5',\n",
       " 'D:\\\\PACK\\\\HTBSC Project\\\\Information Disorder and Operations\\\\Terrorism and Fake News Project\\\\Pipeline_FNT\\\\0.2 Data Collection using GTD\\\\h5files_2015_2018\\\\201503290053_13359.h5',\n",
       " 'D:\\\\PACK\\\\HTBSC Project\\\\Information Disorder and Operations\\\\Terrorism and Fake News Project\\\\Pipeline_FNT\\\\0.2 Data Collection using GTD\\\\h5files_2015_2018\\\\201503290053_13360.h5',\n",
       " 'D:\\\\PACK\\\\HTBSC Project\\\\Information Disorder and Operations\\\\Terrorism and Fake News Project\\\\Pipeline_FNT\\\\0.2 Data Collection using GTD\\\\h5files_2015_2018\\\\201503290053_13361.h5',\n",
       " 'D:\\\\PACK\\\\HTBSC Project\\\\Information Disorder and Operations\\\\Terrorism and Fake News Project\\\\Pipeline_FNT\\\\0.2 Data Collection using GTD\\\\h5files_2015_2018\\\\201503290053_7153.h5',\n",
       " 'D:\\\\PACK\\\\HTBSC Project\\\\Information Disorder and Operations\\\\Terrorism and Fake News Project\\\\Pipeline_FNT\\\\0.2 Data Collection using GTD\\\\h5files_2015_2018\\\\201503290053_7154.h5',\n",
       " 'D:\\\\PACK\\\\HTBSC Project\\\\Information Disorder and Operations\\\\Terrorism and Fake News Project\\\\Pipeline_FNT\\\\0.2 Data Collection using GTD\\\\h5files_2015_2018\\\\201503300023_7151.h5',\n",
       " 'D:\\\\PACK\\\\HTBSC Project\\\\Information Disorder and Operations\\\\Terrorism and Fake News Project\\\\Pipeline_FNT\\\\0.2 Data Collection using GTD\\\\h5files_2015_2018\\\\201503300023_7152.h5',\n",
       " 'D:\\\\PACK\\\\HTBSC Project\\\\Information Disorder and Operations\\\\Terrorism and Fake News Project\\\\Pipeline_FNT\\\\0.2 Data Collection using GTD\\\\h5files_2015_2018\\\\201503300066_11100.h5',\n",
       " 'D:\\\\PACK\\\\HTBSC Project\\\\Information Disorder and Operations\\\\Terrorism and Fake News Project\\\\Pipeline_FNT\\\\0.2 Data Collection using GTD\\\\h5files_2015_2018\\\\201503300066_11101.h5',\n",
       " 'D:\\\\PACK\\\\HTBSC Project\\\\Information Disorder and Operations\\\\Terrorism and Fake News Project\\\\Pipeline_FNT\\\\0.2 Data Collection using GTD\\\\h5files_2015_2018\\\\201503300066_11102.h5',\n",
       " 'D:\\\\PACK\\\\HTBSC Project\\\\Information Disorder and Operations\\\\Terrorism and Fake News Project\\\\Pipeline_FNT\\\\0.2 Data Collection using GTD\\\\h5files_2015_2018\\\\201503300066_11103.h5',\n",
       " 'D:\\\\PACK\\\\HTBSC Project\\\\Information Disorder and Operations\\\\Terrorism and Fake News Project\\\\Pipeline_FNT\\\\0.2 Data Collection using GTD\\\\h5files_2015_2018\\\\201503300066_11104.h5',\n",
       " 'D:\\\\PACK\\\\HTBSC Project\\\\Information Disorder and Operations\\\\Terrorism and Fake News Project\\\\Pipeline_FNT\\\\0.2 Data Collection using GTD\\\\h5files_2015_2018\\\\201503300066_11105.h5',\n",
       " 'D:\\\\PACK\\\\HTBSC Project\\\\Information Disorder and Operations\\\\Terrorism and Fake News Project\\\\Pipeline_FNT\\\\0.2 Data Collection using GTD\\\\h5files_2015_2018\\\\201503300066_11106.h5',\n",
       " 'D:\\\\PACK\\\\HTBSC Project\\\\Information Disorder and Operations\\\\Terrorism and Fake News Project\\\\Pipeline_FNT\\\\0.2 Data Collection using GTD\\\\h5files_2015_2018\\\\201503300066_11107.h5',\n",
       " 'D:\\\\PACK\\\\HTBSC Project\\\\Information Disorder and Operations\\\\Terrorism and Fake News Project\\\\Pipeline_FNT\\\\0.2 Data Collection using GTD\\\\h5files_2015_2018\\\\201503300066_7149.h5',\n",
       " 'D:\\\\PACK\\\\HTBSC Project\\\\Information Disorder and Operations\\\\Terrorism and Fake News Project\\\\Pipeline_FNT\\\\0.2 Data Collection using GTD\\\\h5files_2015_2018\\\\201503300066_7150.h5',\n",
       " 'D:\\\\PACK\\\\HTBSC Project\\\\Information Disorder and Operations\\\\Terrorism and Fake News Project\\\\Pipeline_FNT\\\\0.2 Data Collection using GTD\\\\h5files_2015_2018\\\\201503310041_7146.h5',\n",
       " 'D:\\\\PACK\\\\HTBSC Project\\\\Information Disorder and Operations\\\\Terrorism and Fake News Project\\\\Pipeline_FNT\\\\0.2 Data Collection using GTD\\\\h5files_2015_2018\\\\201503310041_7147.h5',\n",
       " 'D:\\\\PACK\\\\HTBSC Project\\\\Information Disorder and Operations\\\\Terrorism and Fake News Project\\\\Pipeline_FNT\\\\0.2 Data Collection using GTD\\\\h5files_2015_2018\\\\201503310041_7148.h5',\n",
       " 'D:\\\\PACK\\\\HTBSC Project\\\\Information Disorder and Operations\\\\Terrorism and Fake News Project\\\\Pipeline_FNT\\\\0.2 Data Collection using GTD\\\\h5files_2015_2018\\\\201503310042_11098.h5',\n",
       " 'D:\\\\PACK\\\\HTBSC Project\\\\Information Disorder and Operations\\\\Terrorism and Fake News Project\\\\Pipeline_FNT\\\\0.2 Data Collection using GTD\\\\h5files_2015_2018\\\\201503310042_11099.h5',\n",
       " 'D:\\\\PACK\\\\HTBSC Project\\\\Information Disorder and Operations\\\\Terrorism and Fake News Project\\\\Pipeline_FNT\\\\0.2 Data Collection using GTD\\\\h5files_2015_2018\\\\201503310042_7141.h5',\n",
       " 'D:\\\\PACK\\\\HTBSC Project\\\\Information Disorder and Operations\\\\Terrorism and Fake News Project\\\\Pipeline_FNT\\\\0.2 Data Collection using GTD\\\\h5files_2015_2018\\\\201503310042_7142.h5',\n",
       " 'D:\\\\PACK\\\\HTBSC Project\\\\Information Disorder and Operations\\\\Terrorism and Fake News Project\\\\Pipeline_FNT\\\\0.2 Data Collection using GTD\\\\h5files_2015_2018\\\\201503310042_7143.h5',\n",
       " 'D:\\\\PACK\\\\HTBSC Project\\\\Information Disorder and Operations\\\\Terrorism and Fake News Project\\\\Pipeline_FNT\\\\0.2 Data Collection using GTD\\\\h5files_2015_2018\\\\201503310042_7144.h5',\n",
       " 'D:\\\\PACK\\\\HTBSC Project\\\\Information Disorder and Operations\\\\Terrorism and Fake News Project\\\\Pipeline_FNT\\\\0.2 Data Collection using GTD\\\\h5files_2015_2018\\\\201503310042_7145.h5',\n",
       " 'D:\\\\PACK\\\\HTBSC Project\\\\Information Disorder and Operations\\\\Terrorism and Fake News Project\\\\Pipeline_FNT\\\\0.2 Data Collection using GTD\\\\h5files_2015_2018\\\\201503310053_11095.h5',\n",
       " 'D:\\\\PACK\\\\HTBSC Project\\\\Information Disorder and Operations\\\\Terrorism and Fake News Project\\\\Pipeline_FNT\\\\0.2 Data Collection using GTD\\\\h5files_2015_2018\\\\201503310053_11096.h5',\n",
       " 'D:\\\\PACK\\\\HTBSC Project\\\\Information Disorder and Operations\\\\Terrorism and Fake News Project\\\\Pipeline_FNT\\\\0.2 Data Collection using GTD\\\\h5files_2015_2018\\\\201503310053_11097.h5',\n",
       " 'D:\\\\PACK\\\\HTBSC Project\\\\Information Disorder and Operations\\\\Terrorism and Fake News Project\\\\Pipeline_FNT\\\\0.2 Data Collection using GTD\\\\h5files_2015_2018\\\\201503310053_13347.h5',\n",
       " 'D:\\\\PACK\\\\HTBSC Project\\\\Information Disorder and Operations\\\\Terrorism and Fake News Project\\\\Pipeline_FNT\\\\0.2 Data Collection using GTD\\\\h5files_2015_2018\\\\201503310053_13348.h5',\n",
       " 'D:\\\\PACK\\\\HTBSC Project\\\\Information Disorder and Operations\\\\Terrorism and Fake News Project\\\\Pipeline_FNT\\\\0.2 Data Collection using GTD\\\\h5files_2015_2018\\\\201503310053_13349.h5',\n",
       " 'D:\\\\PACK\\\\HTBSC Project\\\\Information Disorder and Operations\\\\Terrorism and Fake News Project\\\\Pipeline_FNT\\\\0.2 Data Collection using GTD\\\\h5files_2015_2018\\\\201503310053_13350.h5',\n",
       " 'D:\\\\PACK\\\\HTBSC Project\\\\Information Disorder and Operations\\\\Terrorism and Fake News Project\\\\Pipeline_FNT\\\\0.2 Data Collection using GTD\\\\h5files_2015_2018\\\\201503310053_13351.h5',\n",
       " 'D:\\\\PACK\\\\HTBSC Project\\\\Information Disorder and Operations\\\\Terrorism and Fake News Project\\\\Pipeline_FNT\\\\0.2 Data Collection using GTD\\\\h5files_2015_2018\\\\201503310053_13352.h5',\n",
       " 'D:\\\\PACK\\\\HTBSC Project\\\\Information Disorder and Operations\\\\Terrorism and Fake News Project\\\\Pipeline_FNT\\\\0.2 Data Collection using GTD\\\\h5files_2015_2018\\\\201503310053_13353.h5',\n",
       " 'D:\\\\PACK\\\\HTBSC Project\\\\Information Disorder and Operations\\\\Terrorism and Fake News Project\\\\Pipeline_FNT\\\\0.2 Data Collection using GTD\\\\h5files_2015_2018\\\\201503310053_13354.h5',\n",
       " 'D:\\\\PACK\\\\HTBSC Project\\\\Information Disorder and Operations\\\\Terrorism and Fake News Project\\\\Pipeline_FNT\\\\0.2 Data Collection using GTD\\\\h5files_2015_2018\\\\201503310053_13355.h5',\n",
       " 'D:\\\\PACK\\\\HTBSC Project\\\\Information Disorder and Operations\\\\Terrorism and Fake News Project\\\\Pipeline_FNT\\\\0.2 Data Collection using GTD\\\\h5files_2015_2018\\\\201503310053_7137.h5',\n",
       " 'D:\\\\PACK\\\\HTBSC Project\\\\Information Disorder and Operations\\\\Terrorism and Fake News Project\\\\Pipeline_FNT\\\\0.2 Data Collection using GTD\\\\h5files_2015_2018\\\\201503310053_7138.h5',\n",
       " 'D:\\\\PACK\\\\HTBSC Project\\\\Information Disorder and Operations\\\\Terrorism and Fake News Project\\\\Pipeline_FNT\\\\0.2 Data Collection using GTD\\\\h5files_2015_2018\\\\201503310053_7139.h5',\n",
       " 'D:\\\\PACK\\\\HTBSC Project\\\\Information Disorder and Operations\\\\Terrorism and Fake News Project\\\\Pipeline_FNT\\\\0.2 Data Collection using GTD\\\\h5files_2015_2018\\\\201503310053_7140.h5',\n",
       " 'D:\\\\PACK\\\\HTBSC Project\\\\Information Disorder and Operations\\\\Terrorism and Fake News Project\\\\Pipeline_FNT\\\\0.2 Data Collection using GTD\\\\h5files_2015_2018\\\\201504010046_11092.h5',\n",
       " 'D:\\\\PACK\\\\HTBSC Project\\\\Information Disorder and Operations\\\\Terrorism and Fake News Project\\\\Pipeline_FNT\\\\0.2 Data Collection using GTD\\\\h5files_2015_2018\\\\201504010046_11093.h5',\n",
       " 'D:\\\\PACK\\\\HTBSC Project\\\\Information Disorder and Operations\\\\Terrorism and Fake News Project\\\\Pipeline_FNT\\\\0.2 Data Collection using GTD\\\\h5files_2015_2018\\\\201504010046_11094.h5',\n",
       " 'D:\\\\PACK\\\\HTBSC Project\\\\Information Disorder and Operations\\\\Terrorism and Fake News Project\\\\Pipeline_FNT\\\\0.2 Data Collection using GTD\\\\h5files_2015_2018\\\\201504010046_13345.h5',\n",
       " 'D:\\\\PACK\\\\HTBSC Project\\\\Information Disorder and Operations\\\\Terrorism and Fake News Project\\\\Pipeline_FNT\\\\0.2 Data Collection using GTD\\\\h5files_2015_2018\\\\201504010046_13346.h5',\n",
       " 'D:\\\\PACK\\\\HTBSC Project\\\\Information Disorder and Operations\\\\Terrorism and Fake News Project\\\\Pipeline_FNT\\\\0.2 Data Collection using GTD\\\\h5files_2015_2018\\\\201504010046_7134.h5',\n",
       " 'D:\\\\PACK\\\\HTBSC Project\\\\Information Disorder and Operations\\\\Terrorism and Fake News Project\\\\Pipeline_FNT\\\\0.2 Data Collection using GTD\\\\h5files_2015_2018\\\\201504010046_7135.h5',\n",
       " 'D:\\\\PACK\\\\HTBSC Project\\\\Information Disorder and Operations\\\\Terrorism and Fake News Project\\\\Pipeline_FNT\\\\0.2 Data Collection using GTD\\\\h5files_2015_2018\\\\201504010046_7136.h5',\n",
       " 'D:\\\\PACK\\\\HTBSC Project\\\\Information Disorder and Operations\\\\Terrorism and Fake News Project\\\\Pipeline_FNT\\\\0.2 Data Collection using GTD\\\\h5files_2015_2018\\\\201504020003_7131.h5',\n",
       " 'D:\\\\PACK\\\\HTBSC Project\\\\Information Disorder and Operations\\\\Terrorism and Fake News Project\\\\Pipeline_FNT\\\\0.2 Data Collection using GTD\\\\h5files_2015_2018\\\\201504020003_7132.h5',\n",
       " 'D:\\\\PACK\\\\HTBSC Project\\\\Information Disorder and Operations\\\\Terrorism and Fake News Project\\\\Pipeline_FNT\\\\0.2 Data Collection using GTD\\\\h5files_2015_2018\\\\201504020003_7133.h5',\n",
       " 'D:\\\\PACK\\\\HTBSC Project\\\\Information Disorder and Operations\\\\Terrorism and Fake News Project\\\\Pipeline_FNT\\\\0.2 Data Collection using GTD\\\\h5files_2015_2018\\\\201504020004_11091.h5',\n",
       " 'D:\\\\PACK\\\\HTBSC Project\\\\Information Disorder and Operations\\\\Terrorism and Fake News Project\\\\Pipeline_FNT\\\\0.2 Data Collection using GTD\\\\h5files_2015_2018\\\\201504020004_7128.h5',\n",
       " 'D:\\\\PACK\\\\HTBSC Project\\\\Information Disorder and Operations\\\\Terrorism and Fake News Project\\\\Pipeline_FNT\\\\0.2 Data Collection using GTD\\\\h5files_2015_2018\\\\201504020004_7129.h5',\n",
       " 'D:\\\\PACK\\\\HTBSC Project\\\\Information Disorder and Operations\\\\Terrorism and Fake News Project\\\\Pipeline_FNT\\\\0.2 Data Collection using GTD\\\\h5files_2015_2018\\\\201504020004_7130.h5',\n",
       " 'D:\\\\PACK\\\\HTBSC Project\\\\Information Disorder and Operations\\\\Terrorism and Fake News Project\\\\Pipeline_FNT\\\\0.2 Data Collection using GTD\\\\h5files_2015_2018\\\\201504020017_11087.h5',\n",
       " 'D:\\\\PACK\\\\HTBSC Project\\\\Information Disorder and Operations\\\\Terrorism and Fake News Project\\\\Pipeline_FNT\\\\0.2 Data Collection using GTD\\\\h5files_2015_2018\\\\201504020017_11088.h5',\n",
       " 'D:\\\\PACK\\\\HTBSC Project\\\\Information Disorder and Operations\\\\Terrorism and Fake News Project\\\\Pipeline_FNT\\\\0.2 Data Collection using GTD\\\\h5files_2015_2018\\\\201504020017_11089.h5',\n",
       " 'D:\\\\PACK\\\\HTBSC Project\\\\Information Disorder and Operations\\\\Terrorism and Fake News Project\\\\Pipeline_FNT\\\\0.2 Data Collection using GTD\\\\h5files_2015_2018\\\\201504020017_11090.h5',\n",
       " 'D:\\\\PACK\\\\HTBSC Project\\\\Information Disorder and Operations\\\\Terrorism and Fake News Project\\\\Pipeline_FNT\\\\0.2 Data Collection using GTD\\\\h5files_2015_2018\\\\201504020017_13343.h5',\n",
       " 'D:\\\\PACK\\\\HTBSC Project\\\\Information Disorder and Operations\\\\Terrorism and Fake News Project\\\\Pipeline_FNT\\\\0.2 Data Collection using GTD\\\\h5files_2015_2018\\\\201504020017_13344.h5',\n",
       " 'D:\\\\PACK\\\\HTBSC Project\\\\Information Disorder and Operations\\\\Terrorism and Fake News Project\\\\Pipeline_FNT\\\\0.2 Data Collection using GTD\\\\h5files_2015_2018\\\\201504020017_7123.h5',\n",
       " 'D:\\\\PACK\\\\HTBSC Project\\\\Information Disorder and Operations\\\\Terrorism and Fake News Project\\\\Pipeline_FNT\\\\0.2 Data Collection using GTD\\\\h5files_2015_2018\\\\201504020017_7124.h5',\n",
       " 'D:\\\\PACK\\\\HTBSC Project\\\\Information Disorder and Operations\\\\Terrorism and Fake News Project\\\\Pipeline_FNT\\\\0.2 Data Collection using GTD\\\\h5files_2015_2018\\\\201504020017_7125.h5',\n",
       " 'D:\\\\PACK\\\\HTBSC Project\\\\Information Disorder and Operations\\\\Terrorism and Fake News Project\\\\Pipeline_FNT\\\\0.2 Data Collection using GTD\\\\h5files_2015_2018\\\\201504020017_7126.h5',\n",
       " 'D:\\\\PACK\\\\HTBSC Project\\\\Information Disorder and Operations\\\\Terrorism and Fake News Project\\\\Pipeline_FNT\\\\0.2 Data Collection using GTD\\\\h5files_2015_2018\\\\201504020017_7127.h5',\n",
       " 'D:\\\\PACK\\\\HTBSC Project\\\\Information Disorder and Operations\\\\Terrorism and Fake News Project\\\\Pipeline_FNT\\\\0.2 Data Collection using GTD\\\\h5files_2015_2018\\\\201504020054_11085.h5',\n",
       " 'D:\\\\PACK\\\\HTBSC Project\\\\Information Disorder and Operations\\\\Terrorism and Fake News Project\\\\Pipeline_FNT\\\\0.2 Data Collection using GTD\\\\h5files_2015_2018\\\\201504020054_11086.h5',\n",
       " 'D:\\\\PACK\\\\HTBSC Project\\\\Information Disorder and Operations\\\\Terrorism and Fake News Project\\\\Pipeline_FNT\\\\0.2 Data Collection using GTD\\\\h5files_2015_2018\\\\201504020054_7116.h5',\n",
       " 'D:\\\\PACK\\\\HTBSC Project\\\\Information Disorder and Operations\\\\Terrorism and Fake News Project\\\\Pipeline_FNT\\\\0.2 Data Collection using GTD\\\\h5files_2015_2018\\\\201504020054_7117.h5',\n",
       " 'D:\\\\PACK\\\\HTBSC Project\\\\Information Disorder and Operations\\\\Terrorism and Fake News Project\\\\Pipeline_FNT\\\\0.2 Data Collection using GTD\\\\h5files_2015_2018\\\\201504020054_7118.h5',\n",
       " 'D:\\\\PACK\\\\HTBSC Project\\\\Information Disorder and Operations\\\\Terrorism and Fake News Project\\\\Pipeline_FNT\\\\0.2 Data Collection using GTD\\\\h5files_2015_2018\\\\201504020054_7119.h5',\n",
       " 'D:\\\\PACK\\\\HTBSC Project\\\\Information Disorder and Operations\\\\Terrorism and Fake News Project\\\\Pipeline_FNT\\\\0.2 Data Collection using GTD\\\\h5files_2015_2018\\\\201504020054_7120.h5',\n",
       " 'D:\\\\PACK\\\\HTBSC Project\\\\Information Disorder and Operations\\\\Terrorism and Fake News Project\\\\Pipeline_FNT\\\\0.2 Data Collection using GTD\\\\h5files_2015_2018\\\\201504020054_7121.h5',\n",
       " 'D:\\\\PACK\\\\HTBSC Project\\\\Information Disorder and Operations\\\\Terrorism and Fake News Project\\\\Pipeline_FNT\\\\0.2 Data Collection using GTD\\\\h5files_2015_2018\\\\201504020054_7122.h5',\n",
       " 'D:\\\\PACK\\\\HTBSC Project\\\\Information Disorder and Operations\\\\Terrorism and Fake News Project\\\\Pipeline_FNT\\\\0.2 Data Collection using GTD\\\\h5files_2015_2018\\\\201504020083_7114.h5',\n",
       " 'D:\\\\PACK\\\\HTBSC Project\\\\Information Disorder and Operations\\\\Terrorism and Fake News Project\\\\Pipeline_FNT\\\\0.2 Data Collection using GTD\\\\h5files_2015_2018\\\\201504020083_7115.h5',\n",
       " 'D:\\\\PACK\\\\HTBSC Project\\\\Information Disorder and Operations\\\\Terrorism and Fake News Project\\\\Pipeline_FNT\\\\0.2 Data Collection using GTD\\\\h5files_2015_2018\\\\201504030067_7111.h5',\n",
       " 'D:\\\\PACK\\\\HTBSC Project\\\\Information Disorder and Operations\\\\Terrorism and Fake News Project\\\\Pipeline_FNT\\\\0.2 Data Collection using GTD\\\\h5files_2015_2018\\\\201504030067_7112.h5',\n",
       " 'D:\\\\PACK\\\\HTBSC Project\\\\Information Disorder and Operations\\\\Terrorism and Fake News Project\\\\Pipeline_FNT\\\\0.2 Data Collection using GTD\\\\h5files_2015_2018\\\\201504030067_7113.h5',\n",
       " 'D:\\\\PACK\\\\HTBSC Project\\\\Information Disorder and Operations\\\\Terrorism and Fake News Project\\\\Pipeline_FNT\\\\0.2 Data Collection using GTD\\\\h5files_2015_2018\\\\201504030086_7110.h5',\n",
       " 'D:\\\\PACK\\\\HTBSC Project\\\\Information Disorder and Operations\\\\Terrorism and Fake News Project\\\\Pipeline_FNT\\\\0.2 Data Collection using GTD\\\\h5files_2015_2018\\\\201504030091_7109.h5',\n",
       " 'D:\\\\PACK\\\\HTBSC Project\\\\Information Disorder and Operations\\\\Terrorism and Fake News Project\\\\Pipeline_FNT\\\\0.2 Data Collection using GTD\\\\h5files_2015_2018\\\\201504040001_7108.h5',\n",
       " 'D:\\\\PACK\\\\HTBSC Project\\\\Information Disorder and Operations\\\\Terrorism and Fake News Project\\\\Pipeline_FNT\\\\0.2 Data Collection using GTD\\\\h5files_2015_2018\\\\201504060001_7104.h5',\n",
       " 'D:\\\\PACK\\\\HTBSC Project\\\\Information Disorder and Operations\\\\Terrorism and Fake News Project\\\\Pipeline_FNT\\\\0.2 Data Collection using GTD\\\\h5files_2015_2018\\\\201504060001_7105.h5',\n",
       " 'D:\\\\PACK\\\\HTBSC Project\\\\Information Disorder and Operations\\\\Terrorism and Fake News Project\\\\Pipeline_FNT\\\\0.2 Data Collection using GTD\\\\h5files_2015_2018\\\\201504060001_7106.h5',\n",
       " 'D:\\\\PACK\\\\HTBSC Project\\\\Information Disorder and Operations\\\\Terrorism and Fake News Project\\\\Pipeline_FNT\\\\0.2 Data Collection using GTD\\\\h5files_2015_2018\\\\201504060001_7107.h5',\n",
       " 'D:\\\\PACK\\\\HTBSC Project\\\\Information Disorder and Operations\\\\Terrorism and Fake News Project\\\\Pipeline_FNT\\\\0.2 Data Collection using GTD\\\\h5files_2015_2018\\\\201504060021_11082.h5',\n",
       " 'D:\\\\PACK\\\\HTBSC Project\\\\Information Disorder and Operations\\\\Terrorism and Fake News Project\\\\Pipeline_FNT\\\\0.2 Data Collection using GTD\\\\h5files_2015_2018\\\\201504060021_11083.h5',\n",
       " 'D:\\\\PACK\\\\HTBSC Project\\\\Information Disorder and Operations\\\\Terrorism and Fake News Project\\\\Pipeline_FNT\\\\0.2 Data Collection using GTD\\\\h5files_2015_2018\\\\201504060021_11084.h5',\n",
       " 'D:\\\\PACK\\\\HTBSC Project\\\\Information Disorder and Operations\\\\Terrorism and Fake News Project\\\\Pipeline_FNT\\\\0.2 Data Collection using GTD\\\\h5files_2015_2018\\\\201504060021_7102.h5',\n",
       " 'D:\\\\PACK\\\\HTBSC Project\\\\Information Disorder and Operations\\\\Terrorism and Fake News Project\\\\Pipeline_FNT\\\\0.2 Data Collection using GTD\\\\h5files_2015_2018\\\\201504060021_7103.h5',\n",
       " 'D:\\\\PACK\\\\HTBSC Project\\\\Information Disorder and Operations\\\\Terrorism and Fake News Project\\\\Pipeline_FNT\\\\0.2 Data Collection using GTD\\\\h5files_2015_2018\\\\201504060066_13334.h5',\n",
       " 'D:\\\\PACK\\\\HTBSC Project\\\\Information Disorder and Operations\\\\Terrorism and Fake News Project\\\\Pipeline_FNT\\\\0.2 Data Collection using GTD\\\\h5files_2015_2018\\\\201504060066_13335.h5',\n",
       " 'D:\\\\PACK\\\\HTBSC Project\\\\Information Disorder and Operations\\\\Terrorism and Fake News Project\\\\Pipeline_FNT\\\\0.2 Data Collection using GTD\\\\h5files_2015_2018\\\\201504060066_13336.h5',\n",
       " 'D:\\\\PACK\\\\HTBSC Project\\\\Information Disorder and Operations\\\\Terrorism and Fake News Project\\\\Pipeline_FNT\\\\0.2 Data Collection using GTD\\\\h5files_2015_2018\\\\201504060066_13337.h5',\n",
       " 'D:\\\\PACK\\\\HTBSC Project\\\\Information Disorder and Operations\\\\Terrorism and Fake News Project\\\\Pipeline_FNT\\\\0.2 Data Collection using GTD\\\\h5files_2015_2018\\\\201504060066_13338.h5',\n",
       " 'D:\\\\PACK\\\\HTBSC Project\\\\Information Disorder and Operations\\\\Terrorism and Fake News Project\\\\Pipeline_FNT\\\\0.2 Data Collection using GTD\\\\h5files_2015_2018\\\\201504060066_13339.h5',\n",
       " 'D:\\\\PACK\\\\HTBSC Project\\\\Information Disorder and Operations\\\\Terrorism and Fake News Project\\\\Pipeline_FNT\\\\0.2 Data Collection using GTD\\\\h5files_2015_2018\\\\201504060066_13340.h5',\n",
       " 'D:\\\\PACK\\\\HTBSC Project\\\\Information Disorder and Operations\\\\Terrorism and Fake News Project\\\\Pipeline_FNT\\\\0.2 Data Collection using GTD\\\\h5files_2015_2018\\\\201504060066_13341.h5',\n",
       " 'D:\\\\PACK\\\\HTBSC Project\\\\Information Disorder and Operations\\\\Terrorism and Fake News Project\\\\Pipeline_FNT\\\\0.2 Data Collection using GTD\\\\h5files_2015_2018\\\\201504060066_13342.h5',\n",
       " 'D:\\\\PACK\\\\HTBSC Project\\\\Information Disorder and Operations\\\\Terrorism and Fake News Project\\\\Pipeline_FNT\\\\0.2 Data Collection using GTD\\\\h5files_2015_2018\\\\201504060066_7097.h5',\n",
       " 'D:\\\\PACK\\\\HTBSC Project\\\\Information Disorder and Operations\\\\Terrorism and Fake News Project\\\\Pipeline_FNT\\\\0.2 Data Collection using GTD\\\\h5files_2015_2018\\\\201504060066_7098.h5',\n",
       " 'D:\\\\PACK\\\\HTBSC Project\\\\Information Disorder and Operations\\\\Terrorism and Fake News Project\\\\Pipeline_FNT\\\\0.2 Data Collection using GTD\\\\h5files_2015_2018\\\\201504060066_7099.h5',\n",
       " 'D:\\\\PACK\\\\HTBSC Project\\\\Information Disorder and Operations\\\\Terrorism and Fake News Project\\\\Pipeline_FNT\\\\0.2 Data Collection using GTD\\\\h5files_2015_2018\\\\201504060066_7100.h5',\n",
       " 'D:\\\\PACK\\\\HTBSC Project\\\\Information Disorder and Operations\\\\Terrorism and Fake News Project\\\\Pipeline_FNT\\\\0.2 Data Collection using GTD\\\\h5files_2015_2018\\\\201504060066_7101.h5',\n",
       " 'D:\\\\PACK\\\\HTBSC Project\\\\Information Disorder and Operations\\\\Terrorism and Fake News Project\\\\Pipeline_FNT\\\\0.2 Data Collection using GTD\\\\h5files_2015_2018\\\\201504080015_13329.h5',\n",
       " 'D:\\\\PACK\\\\HTBSC Project\\\\Information Disorder and Operations\\\\Terrorism and Fake News Project\\\\Pipeline_FNT\\\\0.2 Data Collection using GTD\\\\h5files_2015_2018\\\\201504080015_13330.h5',\n",
       " 'D:\\\\PACK\\\\HTBSC Project\\\\Information Disorder and Operations\\\\Terrorism and Fake News Project\\\\Pipeline_FNT\\\\0.2 Data Collection using GTD\\\\h5files_2015_2018\\\\201504080015_13331.h5',\n",
       " 'D:\\\\PACK\\\\HTBSC Project\\\\Information Disorder and Operations\\\\Terrorism and Fake News Project\\\\Pipeline_FNT\\\\0.2 Data Collection using GTD\\\\h5files_2015_2018\\\\201504080015_13332.h5',\n",
       " 'D:\\\\PACK\\\\HTBSC Project\\\\Information Disorder and Operations\\\\Terrorism and Fake News Project\\\\Pipeline_FNT\\\\0.2 Data Collection using GTD\\\\h5files_2015_2018\\\\201504080015_13333.h5',\n",
       " 'D:\\\\PACK\\\\HTBSC Project\\\\Information Disorder and Operations\\\\Terrorism and Fake News Project\\\\Pipeline_FNT\\\\0.2 Data Collection using GTD\\\\h5files_2015_2018\\\\201504080015_7096.h5',\n",
       " 'D:\\\\PACK\\\\HTBSC Project\\\\Information Disorder and Operations\\\\Terrorism and Fake News Project\\\\Pipeline_FNT\\\\0.2 Data Collection using GTD\\\\h5files_2015_2018\\\\201504080016_11080.h5',\n",
       " 'D:\\\\PACK\\\\HTBSC Project\\\\Information Disorder and Operations\\\\Terrorism and Fake News Project\\\\Pipeline_FNT\\\\0.2 Data Collection using GTD\\\\h5files_2015_2018\\\\201504080016_11081.h5',\n",
       " 'D:\\\\PACK\\\\HTBSC Project\\\\Information Disorder and Operations\\\\Terrorism and Fake News Project\\\\Pipeline_FNT\\\\0.2 Data Collection using GTD\\\\h5files_2015_2018\\\\201504080016_7095.h5',\n",
       " 'D:\\\\PACK\\\\HTBSC Project\\\\Information Disorder and Operations\\\\Terrorism and Fake News Project\\\\Pipeline_FNT\\\\0.2 Data Collection using GTD\\\\h5files_2015_2018\\\\201504090005_7089.h5',\n",
       " 'D:\\\\PACK\\\\HTBSC Project\\\\Information Disorder and Operations\\\\Terrorism and Fake News Project\\\\Pipeline_FNT\\\\0.2 Data Collection using GTD\\\\h5files_2015_2018\\\\201504090005_7090.h5',\n",
       " 'D:\\\\PACK\\\\HTBSC Project\\\\Information Disorder and Operations\\\\Terrorism and Fake News Project\\\\Pipeline_FNT\\\\0.2 Data Collection using GTD\\\\h5files_2015_2018\\\\201504090005_7091.h5',\n",
       " 'D:\\\\PACK\\\\HTBSC Project\\\\Information Disorder and Operations\\\\Terrorism and Fake News Project\\\\Pipeline_FNT\\\\0.2 Data Collection using GTD\\\\h5files_2015_2018\\\\201504090005_7092.h5',\n",
       " 'D:\\\\PACK\\\\HTBSC Project\\\\Information Disorder and Operations\\\\Terrorism and Fake News Project\\\\Pipeline_FNT\\\\0.2 Data Collection using GTD\\\\h5files_2015_2018\\\\201504090005_7093.h5',\n",
       " 'D:\\\\PACK\\\\HTBSC Project\\\\Information Disorder and Operations\\\\Terrorism and Fake News Project\\\\Pipeline_FNT\\\\0.2 Data Collection using GTD\\\\h5files_2015_2018\\\\201504090005_7094.h5',\n",
       " 'D:\\\\PACK\\\\HTBSC Project\\\\Information Disorder and Operations\\\\Terrorism and Fake News Project\\\\Pipeline_FNT\\\\0.2 Data Collection using GTD\\\\h5files_2015_2018\\\\201504100013_11079.h5',\n",
       " 'D:\\\\PACK\\\\HTBSC Project\\\\Information Disorder and Operations\\\\Terrorism and Fake News Project\\\\Pipeline_FNT\\\\0.2 Data Collection using GTD\\\\h5files_2015_2018\\\\201504100013_13322.h5',\n",
       " 'D:\\\\PACK\\\\HTBSC Project\\\\Information Disorder and Operations\\\\Terrorism and Fake News Project\\\\Pipeline_FNT\\\\0.2 Data Collection using GTD\\\\h5files_2015_2018\\\\201504100013_13323.h5',\n",
       " 'D:\\\\PACK\\\\HTBSC Project\\\\Information Disorder and Operations\\\\Terrorism and Fake News Project\\\\Pipeline_FNT\\\\0.2 Data Collection using GTD\\\\h5files_2015_2018\\\\201504100013_13324.h5',\n",
       " 'D:\\\\PACK\\\\HTBSC Project\\\\Information Disorder and Operations\\\\Terrorism and Fake News Project\\\\Pipeline_FNT\\\\0.2 Data Collection using GTD\\\\h5files_2015_2018\\\\201504100013_13325.h5',\n",
       " 'D:\\\\PACK\\\\HTBSC Project\\\\Information Disorder and Operations\\\\Terrorism and Fake News Project\\\\Pipeline_FNT\\\\0.2 Data Collection using GTD\\\\h5files_2015_2018\\\\201504100013_13326.h5',\n",
       " 'D:\\\\PACK\\\\HTBSC Project\\\\Information Disorder and Operations\\\\Terrorism and Fake News Project\\\\Pipeline_FNT\\\\0.2 Data Collection using GTD\\\\h5files_2015_2018\\\\201504100013_13327.h5',\n",
       " 'D:\\\\PACK\\\\HTBSC Project\\\\Information Disorder and Operations\\\\Terrorism and Fake News Project\\\\Pipeline_FNT\\\\0.2 Data Collection using GTD\\\\h5files_2015_2018\\\\201504100013_13328.h5',\n",
       " 'D:\\\\PACK\\\\HTBSC Project\\\\Information Disorder and Operations\\\\Terrorism and Fake News Project\\\\Pipeline_FNT\\\\0.2 Data Collection using GTD\\\\h5files_2015_2018\\\\201504100013_7088.h5',\n",
       " 'D:\\\\PACK\\\\HTBSC Project\\\\Information Disorder and Operations\\\\Terrorism and Fake News Project\\\\Pipeline_FNT\\\\0.2 Data Collection using GTD\\\\h5files_2015_2018\\\\201504100048_11078.h5',\n",
       " 'D:\\\\PACK\\\\HTBSC Project\\\\Information Disorder and Operations\\\\Terrorism and Fake News Project\\\\Pipeline_FNT\\\\0.2 Data Collection using GTD\\\\h5files_2015_2018\\\\201504100048_13320.h5',\n",
       " 'D:\\\\PACK\\\\HTBSC Project\\\\Information Disorder and Operations\\\\Terrorism and Fake News Project\\\\Pipeline_FNT\\\\0.2 Data Collection using GTD\\\\h5files_2015_2018\\\\201504100048_13321.h5',\n",
       " 'D:\\\\PACK\\\\HTBSC Project\\\\Information Disorder and Operations\\\\Terrorism and Fake News Project\\\\Pipeline_FNT\\\\0.2 Data Collection using GTD\\\\h5files_2015_2018\\\\201504100048_7082.h5',\n",
       " 'D:\\\\PACK\\\\HTBSC Project\\\\Information Disorder and Operations\\\\Terrorism and Fake News Project\\\\Pipeline_FNT\\\\0.2 Data Collection using GTD\\\\h5files_2015_2018\\\\201504100048_7083.h5',\n",
       " 'D:\\\\PACK\\\\HTBSC Project\\\\Information Disorder and Operations\\\\Terrorism and Fake News Project\\\\Pipeline_FNT\\\\0.2 Data Collection using GTD\\\\h5files_2015_2018\\\\201504100048_7084.h5',\n",
       " 'D:\\\\PACK\\\\HTBSC Project\\\\Information Disorder and Operations\\\\Terrorism and Fake News Project\\\\Pipeline_FNT\\\\0.2 Data Collection using GTD\\\\h5files_2015_2018\\\\201504100048_7085.h5',\n",
       " 'D:\\\\PACK\\\\HTBSC Project\\\\Information Disorder and Operations\\\\Terrorism and Fake News Project\\\\Pipeline_FNT\\\\0.2 Data Collection using GTD\\\\h5files_2015_2018\\\\201504100048_7086.h5',\n",
       " 'D:\\\\PACK\\\\HTBSC Project\\\\Information Disorder and Operations\\\\Terrorism and Fake News Project\\\\Pipeline_FNT\\\\0.2 Data Collection using GTD\\\\h5files_2015_2018\\\\201504100048_7087.h5',\n",
       " 'D:\\\\PACK\\\\HTBSC Project\\\\Information Disorder and Operations\\\\Terrorism and Fake News Project\\\\Pipeline_FNT\\\\0.2 Data Collection using GTD\\\\h5files_2015_2018\\\\201504100051_11076.h5',\n",
       " 'D:\\\\PACK\\\\HTBSC Project\\\\Information Disorder and Operations\\\\Terrorism and Fake News Project\\\\Pipeline_FNT\\\\0.2 Data Collection using GTD\\\\h5files_2015_2018\\\\201504100051_11077.h5',\n",
       " 'D:\\\\PACK\\\\HTBSC Project\\\\Information Disorder and Operations\\\\Terrorism and Fake News Project\\\\Pipeline_FNT\\\\0.2 Data Collection using GTD\\\\h5files_2015_2018\\\\201504100051_13318.h5',\n",
       " 'D:\\\\PACK\\\\HTBSC Project\\\\Information Disorder and Operations\\\\Terrorism and Fake News Project\\\\Pipeline_FNT\\\\0.2 Data Collection using GTD\\\\h5files_2015_2018\\\\201504100051_13319.h5',\n",
       " 'D:\\\\PACK\\\\HTBSC Project\\\\Information Disorder and Operations\\\\Terrorism and Fake News Project\\\\Pipeline_FNT\\\\0.2 Data Collection using GTD\\\\h5files_2015_2018\\\\201504100051_7078.h5',\n",
       " 'D:\\\\PACK\\\\HTBSC Project\\\\Information Disorder and Operations\\\\Terrorism and Fake News Project\\\\Pipeline_FNT\\\\0.2 Data Collection using GTD\\\\h5files_2015_2018\\\\201504100051_7079.h5',\n",
       " 'D:\\\\PACK\\\\HTBSC Project\\\\Information Disorder and Operations\\\\Terrorism and Fake News Project\\\\Pipeline_FNT\\\\0.2 Data Collection using GTD\\\\h5files_2015_2018\\\\201504100051_7080.h5',\n",
       " 'D:\\\\PACK\\\\HTBSC Project\\\\Information Disorder and Operations\\\\Terrorism and Fake News Project\\\\Pipeline_FNT\\\\0.2 Data Collection using GTD\\\\h5files_2015_2018\\\\201504100051_7081.h5',\n",
       " 'D:\\\\PACK\\\\HTBSC Project\\\\Information Disorder and Operations\\\\Terrorism and Fake News Project\\\\Pipeline_FNT\\\\0.2 Data Collection using GTD\\\\h5files_2015_2018\\\\201504110017_7073.h5',\n",
       " 'D:\\\\PACK\\\\HTBSC Project\\\\Information Disorder and Operations\\\\Terrorism and Fake News Project\\\\Pipeline_FNT\\\\0.2 Data Collection using GTD\\\\h5files_2015_2018\\\\201504110017_7074.h5',\n",
       " 'D:\\\\PACK\\\\HTBSC Project\\\\Information Disorder and Operations\\\\Terrorism and Fake News Project\\\\Pipeline_FNT\\\\0.2 Data Collection using GTD\\\\h5files_2015_2018\\\\201504110017_7075.h5',\n",
       " 'D:\\\\PACK\\\\HTBSC Project\\\\Information Disorder and Operations\\\\Terrorism and Fake News Project\\\\Pipeline_FNT\\\\0.2 Data Collection using GTD\\\\h5files_2015_2018\\\\201504110017_7076.h5',\n",
       " 'D:\\\\PACK\\\\HTBSC Project\\\\Information Disorder and Operations\\\\Terrorism and Fake News Project\\\\Pipeline_FNT\\\\0.2 Data Collection using GTD\\\\h5files_2015_2018\\\\201504110017_7077.h5',\n",
       " 'D:\\\\PACK\\\\HTBSC Project\\\\Information Disorder and Operations\\\\Terrorism and Fake News Project\\\\Pipeline_FNT\\\\0.2 Data Collection using GTD\\\\h5files_2015_2018\\\\201504110057_11074.h5',\n",
       " 'D:\\\\PACK\\\\HTBSC Project\\\\Information Disorder and Operations\\\\Terrorism and Fake News Project\\\\Pipeline_FNT\\\\0.2 Data Collection using GTD\\\\h5files_2015_2018\\\\201504110057_11075.h5',\n",
       " 'D:\\\\PACK\\\\HTBSC Project\\\\Information Disorder and Operations\\\\Terrorism and Fake News Project\\\\Pipeline_FNT\\\\0.2 Data Collection using GTD\\\\h5files_2015_2018\\\\201504110057_7069.h5',\n",
       " 'D:\\\\PACK\\\\HTBSC Project\\\\Information Disorder and Operations\\\\Terrorism and Fake News Project\\\\Pipeline_FNT\\\\0.2 Data Collection using GTD\\\\h5files_2015_2018\\\\201504110057_7070.h5',\n",
       " 'D:\\\\PACK\\\\HTBSC Project\\\\Information Disorder and Operations\\\\Terrorism and Fake News Project\\\\Pipeline_FNT\\\\0.2 Data Collection using GTD\\\\h5files_2015_2018\\\\201504110057_7071.h5',\n",
       " 'D:\\\\PACK\\\\HTBSC Project\\\\Information Disorder and Operations\\\\Terrorism and Fake News Project\\\\Pipeline_FNT\\\\0.2 Data Collection using GTD\\\\h5files_2015_2018\\\\201504110057_7072.h5',\n",
       " 'D:\\\\PACK\\\\HTBSC Project\\\\Information Disorder and Operations\\\\Terrorism and Fake News Project\\\\Pipeline_FNT\\\\0.2 Data Collection using GTD\\\\h5files_2015_2018\\\\201504110066_7063.h5',\n",
       " 'D:\\\\PACK\\\\HTBSC Project\\\\Information Disorder and Operations\\\\Terrorism and Fake News Project\\\\Pipeline_FNT\\\\0.2 Data Collection using GTD\\\\h5files_2015_2018\\\\201504110066_7064.h5',\n",
       " 'D:\\\\PACK\\\\HTBSC Project\\\\Information Disorder and Operations\\\\Terrorism and Fake News Project\\\\Pipeline_FNT\\\\0.2 Data Collection using GTD\\\\h5files_2015_2018\\\\201504110066_7065.h5',\n",
       " 'D:\\\\PACK\\\\HTBSC Project\\\\Information Disorder and Operations\\\\Terrorism and Fake News Project\\\\Pipeline_FNT\\\\0.2 Data Collection using GTD\\\\h5files_2015_2018\\\\201504110066_7066.h5',\n",
       " 'D:\\\\PACK\\\\HTBSC Project\\\\Information Disorder and Operations\\\\Terrorism and Fake News Project\\\\Pipeline_FNT\\\\0.2 Data Collection using GTD\\\\h5files_2015_2018\\\\201504110066_7067.h5',\n",
       " 'D:\\\\PACK\\\\HTBSC Project\\\\Information Disorder and Operations\\\\Terrorism and Fake News Project\\\\Pipeline_FNT\\\\0.2 Data Collection using GTD\\\\h5files_2015_2018\\\\201504110066_7068.h5',\n",
       " 'D:\\\\PACK\\\\HTBSC Project\\\\Information Disorder and Operations\\\\Terrorism and Fake News Project\\\\Pipeline_FNT\\\\0.2 Data Collection using GTD\\\\h5files_2015_2018\\\\201504110068_11068.h5',\n",
       " 'D:\\\\PACK\\\\HTBSC Project\\\\Information Disorder and Operations\\\\Terrorism and Fake News Project\\\\Pipeline_FNT\\\\0.2 Data Collection using GTD\\\\h5files_2015_2018\\\\201504110068_11069.h5',\n",
       " 'D:\\\\PACK\\\\HTBSC Project\\\\Information Disorder and Operations\\\\Terrorism and Fake News Project\\\\Pipeline_FNT\\\\0.2 Data Collection using GTD\\\\h5files_2015_2018\\\\201504110068_11070.h5',\n",
       " 'D:\\\\PACK\\\\HTBSC Project\\\\Information Disorder and Operations\\\\Terrorism and Fake News Project\\\\Pipeline_FNT\\\\0.2 Data Collection using GTD\\\\h5files_2015_2018\\\\201504110068_11071.h5',\n",
       " 'D:\\\\PACK\\\\HTBSC Project\\\\Information Disorder and Operations\\\\Terrorism and Fake News Project\\\\Pipeline_FNT\\\\0.2 Data Collection using GTD\\\\h5files_2015_2018\\\\201504110068_11072.h5',\n",
       " 'D:\\\\PACK\\\\HTBSC Project\\\\Information Disorder and Operations\\\\Terrorism and Fake News Project\\\\Pipeline_FNT\\\\0.2 Data Collection using GTD\\\\h5files_2015_2018\\\\201504110068_11073.h5',\n",
       " 'D:\\\\PACK\\\\HTBSC Project\\\\Information Disorder and Operations\\\\Terrorism and Fake News Project\\\\Pipeline_FNT\\\\0.2 Data Collection using GTD\\\\h5files_2015_2018\\\\201504110068_7062.h5',\n",
       " 'D:\\\\PACK\\\\HTBSC Project\\\\Information Disorder and Operations\\\\Terrorism and Fake News Project\\\\Pipeline_FNT\\\\0.2 Data Collection using GTD\\\\h5files_2015_2018\\\\201504120027_11067.h5',\n",
       " 'D:\\\\PACK\\\\HTBSC Project\\\\Information Disorder and Operations\\\\Terrorism and Fake News Project\\\\Pipeline_FNT\\\\0.2 Data Collection using GTD\\\\h5files_2015_2018\\\\201504120027_13315.h5',\n",
       " ...]"
      ]
     },
     "execution_count": 61,
     "metadata": {},
     "output_type": "execute_result"
    }
   ],
   "source": [
    "import glob\n",
    "\n",
    "path = r'D:\\PACK\\HTBSC Project\\Information Disorder and Operations\\Terrorism and Fake News Project\\Pipeline_FNT\\0.2 Data Collection using GTD\\h5files_2015_2018'\n",
    "\n",
    "all_files = glob.glob(path + \"/*.h5\")\n",
    "\n",
    "li = []\n",
    "\n",
    "for filename in all_files:\n",
    "    li.append(filename)\n",
    "li"
   ]
  },
  {
   "cell_type": "code",
   "execution_count": 62,
   "metadata": {},
   "outputs": [
    {
     "data": {
      "text/plain": [
       "0    https://www.heraldsun.com.au/news/breaking-new...\n",
       "1                                         201501010014\n",
       "2    [var exodus = {};\\nexodus.campaigns = [{\"exodu...\n",
       "Name: 0, dtype: object"
      ]
     },
     "execution_count": 62,
     "metadata": {},
     "output_type": "execute_result"
    }
   ],
   "source": [
    "pd.read_pickle(li[0])"
   ]
  },
  {
   "cell_type": "code",
   "execution_count": 63,
   "metadata": {},
   "outputs": [
    {
     "data": {
      "text/html": [
       "<div>\n",
       "<style scoped>\n",
       "    .dataframe tbody tr th:only-of-type {\n",
       "        vertical-align: middle;\n",
       "    }\n",
       "\n",
       "    .dataframe tbody tr th {\n",
       "        vertical-align: top;\n",
       "    }\n",
       "\n",
       "    .dataframe thead th {\n",
       "        text-align: right;\n",
       "    }\n",
       "</style>\n",
       "<table border=\"1\" class=\"dataframe\">\n",
       "  <thead>\n",
       "    <tr style=\"text-align: right;\">\n",
       "      <th></th>\n",
       "      <th>index</th>\n",
       "      <th>link</th>\n",
       "      <th>gtd_id</th>\n",
       "      <th>txt</th>\n",
       "      <th>txt</th>\n",
       "      <th>sent_pred</th>\n",
       "      <th>sent_pred_prob</th>\n",
       "      <th>sent_prob_range</th>\n",
       "    </tr>\n",
       "  </thead>\n",
       "  <tbody>\n",
       "    <tr>\n",
       "      <th>64</th>\n",
       "      <td>85</td>\n",
       "      <td>https://www.heraldsun.com.au/news/breaking-new...</td>\n",
       "      <td>201501010014</td>\n",
       "      <td>world breaking newstwo police guard killed pap...</td>\n",
       "      <td>world breaking newstwo police guard killed pap...</td>\n",
       "      <td>ID</td>\n",
       "      <td>0.991948</td>\n",
       "      <td>[(ID, 0.9919481873512268)]</td>\n",
       "    </tr>\n",
       "    <tr>\n",
       "      <th>70</th>\n",
       "      <td>99</td>\n",
       "      <td>https://www.heraldsun.com.au/news/breaking-new...</td>\n",
       "      <td>201501010014</td>\n",
       "      <td>two policemen security guard working usowned m...</td>\n",
       "      <td>two policemen security guard working usowned m...</td>\n",
       "      <td>ID</td>\n",
       "      <td>0.987700</td>\n",
       "      <td>[(ID, 0.9876998662948608)]</td>\n",
       "    </tr>\n",
       "    <tr>\n",
       "      <th>71</th>\n",
       "      <td>100</td>\n",
       "      <td>https://www.heraldsun.com.au/news/breaking-new...</td>\n",
       "      <td>201501010014</td>\n",
       "      <td>two policemen security guard working usowned m...</td>\n",
       "      <td>two policemen security guard working usowned m...</td>\n",
       "      <td>ID</td>\n",
       "      <td>0.987700</td>\n",
       "      <td>[(ID, 0.9876998662948608)]</td>\n",
       "    </tr>\n",
       "  </tbody>\n",
       "</table>\n",
       "</div>"
      ],
      "text/plain": [
       "    index                                               link        gtd_id  \\\n",
       "64     85  https://www.heraldsun.com.au/news/breaking-new...  201501010014   \n",
       "70     99  https://www.heraldsun.com.au/news/breaking-new...  201501010014   \n",
       "71    100  https://www.heraldsun.com.au/news/breaking-new...  201501010014   \n",
       "\n",
       "                                                  txt  \\\n",
       "64  world breaking newstwo police guard killed pap...   \n",
       "70  two policemen security guard working usowned m...   \n",
       "71  two policemen security guard working usowned m...   \n",
       "\n",
       "                                                  txt sent_pred  \\\n",
       "64  world breaking newstwo police guard killed pap...        ID   \n",
       "70  two policemen security guard working usowned m...        ID   \n",
       "71  two policemen security guard working usowned m...        ID   \n",
       "\n",
       "    sent_pred_prob             sent_prob_range  \n",
       "64        0.991948  [(ID, 0.9919481873512268)]  \n",
       "70        0.987700  [(ID, 0.9876998662948608)]  \n",
       "71        0.987700  [(ID, 0.9876998662948608)]  "
      ]
     },
     "execution_count": 63,
     "metadata": {},
     "output_type": "execute_result"
    }
   ],
   "source": [
    "#takes a series and processes the text\n",
    "\n",
    "from nltk.corpus import stopwords\n",
    "import re\n",
    "\n",
    "stop = stopwords.words('english')\n",
    "\n",
    "from nltk import word_tokenize\n",
    "from nltk.stem import WordNetLemmatizer\n",
    "from nltk.stem.snowball import SnowballStemmer\n",
    "stemmer = SnowballStemmer(\"english\")\n",
    "lemmatizer = WordNetLemmatizer() \n",
    "\n",
    "#this is done so that i can apply lambda function without too much for loops by mapping the stem function to the words\n",
    "def mapstem(lst):\n",
    "    return [stemmer.stem(i) for i in lst]\n",
    "\n",
    "def maplem(lst):\n",
    "    return [lemmatizer.lemmatize(i) for i in lst]\n",
    "\n",
    "\n",
    "def txt_preprocess(series):\n",
    "    #convert to df\n",
    "    df = series.to_frame().transpose()\n",
    "    df.columns=['link','gtd_id','txts']\n",
    "    #melting list\n",
    "    df = df.txts.apply(pd.Series)\\\n",
    "    .merge(df, right_index = True, left_index = True)\\\n",
    "    .drop([\"txts\"], axis = 1)\\\n",
    "    .melt(id_vars = ['link','gtd_id'], value_name = \"txt\") \\\n",
    "    .drop(\"variable\", axis = 1) \\\n",
    "    .drop_duplicates()\\\n",
    "    .dropna()\n",
    "    #display(df.tail())\n",
    "    #display(type(df['txt'][0]))\n",
    "    \n",
    "    col = 'txt'\n",
    "    #lower case\n",
    "    df[col] = df[col].apply(lambda x: \" \".join(x.lower() for x in x.split()))\n",
    "    #remove \"\\n\"\n",
    "    df = df.replace('\\n',' ', regex=True)\n",
    "    #remove punctuation\n",
    "    df[col] = df[col].str.replace('[^\\w\\s]','')\n",
    "    #remove stopwords\n",
    "    df[col] = df[col].apply(lambda x: \" \".join(x for x in x.split() if x not in stop))\n",
    "    \n",
    "    #tokenize words\n",
    "    df[col] = df[col].apply(word_tokenize)\n",
    "    #stem words\n",
    "#     df[col] = df[col].apply(lambda x: maplem(x))\n",
    "    #stitching\n",
    "    df[col] = df[col].apply(lambda x: ' '.join(x))\n",
    "    \n",
    "    return df\n",
    "\n",
    "#this method quite computationally expensive cos you are running things at o(n^2)\n",
    "class NothingToAnalyse(Exception):\n",
    "    pass\n",
    "\n",
    "\n",
    "#gives the maximum value of h5\n",
    "def label_h5(h5):\n",
    "    series=pd.read_pickle(h5)\n",
    "    #print(series[2])\n",
    "    #print(type(series[2]))\n",
    "    if series[2] == []:\n",
    "        raise NothingToAnalyse\n",
    "        print('Nothing to analyse!')\n",
    "    else:\n",
    "        frame = txt_preprocess(series).reset_index()\n",
    "        #print('frame len:' + str(len(frame)))\n",
    "        #display(frame.drop_duplicates())\n",
    "    \n",
    "    _  = []\n",
    "    for i in range(len(frame)):\n",
    "        #display(label_text(frame['txt'].iloc[i],class_names,verbose=True))\n",
    "        _ = _ + label_text(frame['txt'].iloc[i],class_names)\n",
    "        \n",
    "    #display(pd.DataFrame(_))\n",
    "    \n",
    "    frame = pd.concat([frame,pd.DataFrame(_)],axis=1)\n",
    "    return (frame[frame.sent_pred == 'ID'])\n",
    "\n",
    "label_h5(li[0])"
   ]
  },
  {
   "cell_type": "code",
   "execution_count": 61,
   "metadata": {},
   "outputs": [],
   "source": [
    "# _ = pd.DataFrame()\n",
    "\n",
    "_ = pd.read_pickle('filtered_url.h5')"
   ]
  },
  {
   "cell_type": "code",
   "execution_count": 62,
   "metadata": {},
   "outputs": [
    {
     "data": {
      "text/plain": [
       "1333221326"
      ]
     },
     "execution_count": 62,
     "metadata": {},
     "output_type": "execute_result"
    }
   ],
   "source": [
    "os.path.getsize(li[1319])"
   ]
  },
  {
   "cell_type": "code",
   "execution_count": 70,
   "metadata": {},
   "outputs": [
    {
     "data": {
      "text/plain": [
       "'http://docshare.tips/list-of-programs-broadcast-by-intercontinental-broadcasting-corporation_5827f10ab6d87f24b08b4a00.html'"
      ]
     },
     "execution_count": 70,
     "metadata": {},
     "output_type": "execute_result"
    }
   ],
   "source": [
    "pd.read_pickle(li[11888])[0]"
   ]
  },
  {
   "cell_type": "code",
   "execution_count": 64,
   "metadata": {},
   "outputs": [
    {
     "data": {
      "text/plain": [
       "21679348"
      ]
     },
     "execution_count": 64,
     "metadata": {},
     "output_type": "execute_result"
    }
   ],
   "source": [
    "os.path.getsize(li[13673])"
   ]
  },
  {
   "cell_type": "code",
   "execution_count": 67,
   "metadata": {},
   "outputs": [
    {
     "data": {
      "text/plain": [
       "'D:\\\\PACK\\\\HTBSC Project\\\\Information Disorder and Operations\\\\Terrorism and Fake News Project\\\\Pipeline_FNT\\\\0.2 Data Collection using GTD\\\\h5files_2015_2018\\\\201505190077_6867.h5'"
      ]
     },
     "execution_count": 67,
     "metadata": {},
     "output_type": "execute_result"
    }
   ],
   "source": [
    "li[1319]"
   ]
  },
  {
   "cell_type": "code",
   "execution_count": 65,
   "metadata": {},
   "outputs": [
    {
     "data": {
      "text/plain": [
       "43364683"
      ]
     },
     "execution_count": 65,
     "metadata": {},
     "output_type": "execute_result"
    }
   ],
   "source": [
    "os.path.getsize(li[13674])"
   ]
  },
  {
   "cell_type": "code",
   "execution_count": 64,
   "metadata": {},
   "outputs": [
    {
     "name": "stdout",
     "output_type": "stream",
     "text": [
      "10023 is too large, skipping\n",
      "10311 is too large, skipping\n",
      "11888 is too large, skipping\n",
      "12399 is too large, skipping\n",
      "12736 is too large, skipping\n",
      "12919 is too large, skipping\n",
      "13166 is too large, skipping\n",
      "13399 is too large, skipping\n",
      "13564 is too large, skipping\n",
      "13646 is too large, skipping\n",
      "13672 is too large, skipping\n",
      "13673 is too large, skipping\n",
      "13674 is too large, skipping\n",
      "13676 is too large, skipping\n",
      "13678 is too large, skipping\n",
      "13680 is too large, skipping\n",
      "13687 is too large, skipping\n",
      "13688 is too large, skipping\n",
      "14034 is too large, skipping\n",
      "14670 is too large, skipping\n",
      "14712 is too large, skipping\n",
      "15015 is too large, skipping\n",
      "15101 is too large, skipping\n",
      "15118 is too large, skipping\n",
      "16078 is too large, skipping\n",
      "16161 is too large, skipping\n",
      "16192 is too large, skipping\n",
      "16193 is too large, skipping\n",
      "16249\r"
     ]
    },
    {
     "ename": "IndexError",
     "evalue": "list index out of range",
     "output_type": "error",
     "traceback": [
      "\u001b[1;31m---------------------------------------------------------------------------\u001b[0m",
      "\u001b[1;31mIndexError\u001b[0m                                Traceback (most recent call last)",
      "\u001b[1;32m<ipython-input-64-43e88aa3ecce>\u001b[0m in \u001b[0;36m<module>\u001b[1;34m\u001b[0m\n\u001b[0;32m      5\u001b[0m \u001b[1;32mfor\u001b[0m \u001b[0mi\u001b[0m \u001b[1;32min\u001b[0m \u001b[0mrange\u001b[0m\u001b[1;33m(\u001b[0m\u001b[1;36m10000\u001b[0m\u001b[1;33m,\u001b[0m\u001b[1;36m16251\u001b[0m\u001b[1;33m)\u001b[0m\u001b[1;33m:\u001b[0m\u001b[1;33m\u001b[0m\u001b[1;33m\u001b[0m\u001b[0m\n\u001b[0;32m      6\u001b[0m     \u001b[1;32mtry\u001b[0m\u001b[1;33m:\u001b[0m\u001b[1;33m\u001b[0m\u001b[1;33m\u001b[0m\u001b[0m\n\u001b[1;32m----> 7\u001b[1;33m         \u001b[1;32mif\u001b[0m \u001b[0mos\u001b[0m\u001b[1;33m.\u001b[0m\u001b[0mpath\u001b[0m\u001b[1;33m.\u001b[0m\u001b[0mgetsize\u001b[0m\u001b[1;33m(\u001b[0m\u001b[0mli\u001b[0m\u001b[1;33m[\u001b[0m\u001b[0mi\u001b[0m\u001b[1;33m]\u001b[0m\u001b[1;33m)\u001b[0m \u001b[1;33m>\u001b[0m \u001b[1;36m10000000\u001b[0m\u001b[1;33m:\u001b[0m \u001b[1;31m#for files bigger than 20Mb\u001b[0m\u001b[1;33m\u001b[0m\u001b[1;33m\u001b[0m\u001b[0m\n\u001b[0m\u001b[0;32m      8\u001b[0m             \u001b[0mcapture_later\u001b[0m\u001b[1;33m.\u001b[0m\u001b[0mappend\u001b[0m\u001b[1;33m(\u001b[0m\u001b[0mli\u001b[0m\u001b[1;33m[\u001b[0m\u001b[0mi\u001b[0m\u001b[1;33m]\u001b[0m\u001b[1;33m)\u001b[0m\u001b[1;33m\u001b[0m\u001b[1;33m\u001b[0m\u001b[0m\n\u001b[0;32m      9\u001b[0m             \u001b[0mprint\u001b[0m\u001b[1;33m(\u001b[0m\u001b[1;34mf'{i} is too large, skipping'\u001b[0m\u001b[1;33m)\u001b[0m\u001b[1;33m\u001b[0m\u001b[1;33m\u001b[0m\u001b[0m\n",
      "\u001b[1;31mIndexError\u001b[0m: list index out of range"
     ]
    }
   ],
   "source": [
    "capture_later = []\n",
    "\n",
    "_ = pd.DataFrame()\n",
    "\n",
    "for i in range(10000,16251):\n",
    "    try:\n",
    "        if os.path.getsize(li[i]) > 10000000: #for files bigger than 10Mb\n",
    "            capture_later.append(li[i])\n",
    "            print(f'{i} is too large, skipping')\n",
    "        else:\n",
    "            print(i,end='\\r')\n",
    "            _2 = label_h5(li[i])\n",
    "            _ = pd.concat([_,_2])\n",
    "            _.to_pickle('filtered_url3.h5')\n",
    "    except NothingToAnalyse:\n",
    "        continue"
   ]
  },
  {
   "cell_type": "code",
   "execution_count": 66,
   "metadata": {},
   "outputs": [
    {
     "name": "stdout",
     "output_type": "stream",
     "text": [
      "16250\n"
     ]
    }
   ],
   "source": [
    "print(len(li))"
   ]
  },
  {
   "cell_type": "code",
   "execution_count": 74,
   "metadata": {},
   "outputs": [
    {
     "name": "stdout",
     "output_type": "stream",
     "text": [
      "https://www.researchgate.net/publication/282357871_Alert_2015_Report_on_conflicts_human_rights_and_peacebuilding\n",
      "http://docshare.tips/list-of-programs-broadcast-by-intercontinental-broadcasting-corporation_5827f10ab6d87f24b08b4a00.html\n",
      "https://www.law.georgetown.edu/faculty-staff/faculty-in-the-news/\n",
      "https://www.lowyinstitute.org/the-interpreter/debate/coronavirus-pandemic\n",
      "http://whc.unesco.org/en/news/date=2006-04-9&mode=day&index=1&maxrows=1726\n",
      "https://nowbotmilliondollar.netlify.app/dorsch-friedrich-diccionario-de-psicologia-pdf-printer.html\n",
      "https://coastguard.gov.ph/component/content/archive/2016/8?Itemid=101\n",
      "https://www.researchgate.net/publication/40102144_Legitimacy_in_European_nature_conservation_policy_case-studies_in_multilevel_governance\n",
      "http://www.coastguard.gov.ph/index.php/component/content/archive\n",
      "https://quod.lib.umich.edu/p/philamer/ACP1475.1904.003?rgn=main;view=fulltext\n",
      "http://doczz.net/doc/838941/philippinescertified\n",
      "https://baixardoc.com/documents/indonesian-idf-5dcc6805e1bb2\n",
      "https://idoc.pub/documents/indonesian-idf-2nv8e8emjrlk\n",
      "http://opcionesbinariasduitama.blogspot.com/2016/12/hess-forex-711.html\n",
      "http://149.202.144.254/secure/ViewerFrame?Mode=Refresh\n",
      "http://andrew.korobov.com/andrew/noscript.aspx?dec=1&url=uh4QwhlWmOZFtgZ9mDbRs8ZAvS0RvqpKxhlLuqVAvSVBwSB7v8RFtgsJlCVS1goUtqRGwCNHB6X!\n",
      "http://commercialtelevisionsystems.com/wordpress/wp-content/add.php?azliecfmw=juliana-paradela-clemente\n",
      "https://pinpdf.com/ahora-opciones-binarias-paya-en-espaaol-hess-forex-711.html\n",
      "https://www.thailandmedical.news/trending_news\n",
      "https://quod.lib.umich.edu/p/philamer/AAJ0523.1939.001?rgn=main;view=fulltext\n",
      "https://coastguard.gov.ph/index.php/component/content/archive/2016/9?Itemid=101\n",
      "http://coastguard.gov.ph/index.php/component/content/archive/2016/9?Itemid=101\n",
      "https://www.history.navy.mil/research/library/online-reading-room/title-list-alphabetically/i/interrogations-japanese-officials-voli.html\n",
      "https://www.ncbi.nlm.nih.gov/pmc/articles/PMC6033956/\n",
      "https://www.lowyinstitute.org/the-interpreter/debate/coronavirus-pandemic\n",
      "https://ideas.repec.org/j/R00.html\n",
      "https://adventistdigitallibrary.org/islandora/search?page=585&type=dismax&f%255B0%255D=mods_subject_name_personal_namePart_ms%253AJensen%252C%255C%2520Eva%255C%2520Grace%255C%2520Wood%255C%25201859%255C-1940\n",
      "https://adventistdigitallibrary.org/islandora/search?page=172&type=dismax...\n"
     ]
    }
   ],
   "source": [
    "for i in capture_later:\n",
    "    print(pd.read_pickle(i)[0])"
   ]
  },
  {
   "cell_type": "code",
   "execution_count": null,
   "metadata": {},
   "outputs": [],
   "source": []
  },
  {
   "cell_type": "code",
   "execution_count": 65,
   "metadata": {},
   "outputs": [],
   "source": [
    "_ = pd.read_pickle('filtered_url.h5')\n",
    "\n",
    "_2 = pd.read_pickle('filtered_url3.h5')\n",
    "\n",
    "_ = pd.concat([_,_2])"
   ]
  },
  {
   "cell_type": "code",
   "execution_count": 68,
   "metadata": {},
   "outputs": [
    {
     "data": {
      "text/plain": [
       "4936"
      ]
     },
     "execution_count": 68,
     "metadata": {},
     "output_type": "execute_result"
    }
   ],
   "source": [
    "len(_.link.value_counts().index.tolist())"
   ]
  },
  {
   "cell_type": "code",
   "execution_count": null,
   "metadata": {},
   "outputs": [],
   "source": []
  }
 ],
 "metadata": {
  "accelerator": "GPU",
  "colab": {
   "collapsed_sections": [],
   "name": "text-classification-with-bert-v1.1.ipynb",
   "provenance": []
  },
  "kernelspec": {
   "display_name": "Python 3",
   "language": "python",
   "name": "python3"
  },
  "language_info": {
   "codemirror_mode": {
    "name": "ipython",
    "version": 3
   },
   "file_extension": ".py",
   "mimetype": "text/x-python",
   "name": "python",
   "nbconvert_exporter": "python",
   "pygments_lexer": "ipython3",
   "version": "3.8.5"
  }
 },
 "nbformat": 4,
 "nbformat_minor": 1
}
